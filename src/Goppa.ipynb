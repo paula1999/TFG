{
 "cells": [
  {
   "cell_type": "code",
   "execution_count": 1,
   "metadata": {},
   "outputs": [],
   "source": [
    "from sage.rings.finite_rings.hom_finite_field import FiniteFieldHomomorphism_generic"
   ]
  },
  {
   "cell_type": "code",
   "execution_count": 2,
   "metadata": {},
   "outputs": [],
   "source": [
    "def get_defining_set(n, pol, field):\n",
    "    #defining_set = [field(0)]\n",
    "    defining_set = []\n",
    "    \n",
    "    while len(defining_set) != n:\n",
    "        aux = field.random_element()\n",
    "        if pol(aux) != 0 and aux not in defining_set:\n",
    "            defining_set = defining_set + [aux]\n",
    "    \n",
    "    return defining_set"
   ]
  },
  {
   "cell_type": "code",
   "execution_count": 3,
   "metadata": {},
   "outputs": [],
   "source": [
    "def random_word(n, field):\n",
    "    v = []\n",
    "\n",
    "    while len(v) != n:\n",
    "        v = v + [choice(field.list())]\n",
    "\n",
    "    word = vector(field, v)\n",
    "    \n",
    "    return word"
   ]
  },
  {
   "cell_type": "code",
   "execution_count": 4,
   "metadata": {},
   "outputs": [],
   "source": [
    "def random_error(n, num_errors, field):\n",
    "    v = [0] * n\n",
    "    i = 0\n",
    "    \n",
    "    while i < num_errors:\n",
    "        m = randint(0, len(v)-1)\n",
    "        v[m] = choice(field.list())\n",
    "        i += 1\n",
    "\n",
    "    e = vector(field, v)\n",
    "    \n",
    "    return e"
   ]
  },
  {
   "cell_type": "markdown",
   "metadata": {},
   "source": [
    "# Goppa code"
   ]
  },
  {
   "cell_type": "code",
   "execution_count": 5,
   "metadata": {},
   "outputs": [],
   "source": [
    "from sage.coding.linear_code import AbstractLinearCode\n",
    "from sage.coding.encoder import Encoder\n",
    "from sage.coding.decoder import Decoder\n",
    "\n",
    "class Goppa(AbstractLinearCode):\n",
    "    r\"\"\"\n",
    "    Implementation of Goppa codes.\n",
    "    \n",
    "    INPUT:\n",
    "    - ``field`` -- finite field on which `self` is defined.\n",
    "    - ``generating_pol`` -- a monic polynomial with coefficients in\n",
    "    a finite field `\\GF{p^m}` extending from `field`.\n",
    "    \n",
    "    - ``defining_set`` -- tuple of n distinct elements of `\\GF{p^m}`\n",
    "    that are not roots of `generating_pol`\n",
    "    \"\"\"\n",
    "    def __init__(self, defining_set, generating_pol, field):\n",
    "        \"\"\"\n",
    "        Initialize.\n",
    "        \"\"\"\n",
    "        if not generating_pol.is_monic():\n",
    "            raise ValueError(\"ERROR. Generating polynomial isn't monic\")\n",
    "        \n",
    "        for gamma in defining_set:\n",
    "            if generating_pol(gamma) == 0:\n",
    "                raise ValueError(\"ERROR. Defining elements are roots of generating polynomial\")\n",
    "        \n",
    "        self._field = field\n",
    "        self._field_L = generating_pol.base_ring()\n",
    "\n",
    "        if not self._field.is_field() or not self._field.is_finite():\n",
    "            raise ValueError(\"ERROR. Generating polynomial isn't definied over a finite field\")\n",
    "        \n",
    "        self._length = len(defining_set)\n",
    "        self._generating_pol = generating_pol\n",
    "        self._defining_set = defining_set\n",
    "        \n",
    "        super(Goppa, self).__init__(self._field, self._length, \"GoppaEncoder\", \"GoppaDecoder\")\n",
    "        \n",
    "        if self.get_dimension() == 0:\n",
    "            raise ValueError(\"ERROR. Code dimension is null\")\n",
    "    \n",
    "    def _repr_(self):\n",
    "        \"\"\"\n",
    "        Representation of a Goppa code.\n",
    "        \"\"\"\n",
    "        return \"[{}, {}] Goppa code\".format(self._length, self.get_dimension())\n",
    "    \n",
    "    def get_generating_pol(self):\n",
    "        \"\"\"\n",
    "        Return the generating polynomial of ``self``.\n",
    "        \"\"\" \n",
    "        return self._generating_pol\n",
    "    \n",
    "    def get_defining_set(self):\n",
    "        \"\"\"\n",
    "        Return the defining set of ``self``.\n",
    "        \"\"\" \n",
    "        return self._defining_set\n",
    "    \n",
    "    def get_parity_pol(self):\n",
    "        \"\"\"\n",
    "        Return the parity polynomial of ``self``.\n",
    "        \"\"\"\n",
    "        parity_pol = list()\n",
    "        \n",
    "        for elem in self._defining_set:\n",
    "            parity_pol.append((self._generating_pol.parent().gen() - elem).inverse_mod(self._generating_pol))\n",
    "        \n",
    "        return parity_pol\n",
    "    \n",
    "    def get_parity_check_matrix(self):\n",
    "        \"\"\"\n",
    "        Return a parity check matrix of ``self``.\n",
    "        \"\"\"\n",
    "        V, from_V, to_V = self._field_L.vector_space(self._field, map = True)\n",
    "\n",
    "        parity = self.get_parity_pol()\n",
    "\n",
    "        vector_L = []\n",
    "        for i in range(len(parity)):\n",
    "            vector_L = vector_L + parity[i].list()\n",
    "\n",
    "        vector_F = []\n",
    "        for i in range(len(vector_L)):\n",
    "            vector_F = vector_F + to_V(vector_L[i]).list()\n",
    "\n",
    "        matriz_F = matrix(self._length, vector_F)\n",
    "        matriz_F = matriz_F.T\n",
    "        \n",
    "        return matriz_F\n",
    "    \n",
    "    def get_generator_matrix(self):\n",
    "        \"\"\"\n",
    "        Return a generador matrix of ``self``.\n",
    "        \"\"\"\n",
    "        H = self.get_parity_check_matrix()\n",
    "        G = transpose(H).left_kernel().basis_matrix()\n",
    "        \n",
    "        return G\n",
    "    \n",
    "    def get_dimension(self):\n",
    "        \"\"\"\n",
    "        Return the dimension of the code.\n",
    "        \"\"\"\n",
    "        \n",
    "        return rank(self.get_generator_matrix())\n",
    "    \n",
    "    "
   ]
  },
  {
   "cell_type": "markdown",
   "metadata": {},
   "source": [
    "# Goppa encoder"
   ]
  },
  {
   "cell_type": "code",
   "execution_count": 6,
   "metadata": {},
   "outputs": [],
   "source": [
    "class GoppaEncoder(Encoder):\n",
    "    r\"\"\"\n",
    "    Encoder for Goppa codes\n",
    "    \n",
    "    INPUT:\n",
    "    - ``code`` -- code associated with the encoder\n",
    "    \"\"\"\n",
    "    def __init__(self, code):\n",
    "        \"\"\"\n",
    "        Initialize.\n",
    "        \"\"\"\n",
    "        super(GoppaEncoder, self).__init__(code)\n",
    "        \n",
    "    def _repr_(self):\n",
    "        \"\"\"\n",
    "        Representation of a encoder for a Goppa code\n",
    "        \"\"\"\n",
    "        return \"Encoder for {}\".format(self.code())\n",
    "    \n",
    "    def get_generator_matrix(self):\n",
    "        \"\"\"\n",
    "        Return a generador matrix of the code\n",
    "        \"\"\"\n",
    "        return self.code().get_generator_matrix()\n",
    "    \n",
    "    def encode (self, m):\n",
    "        \"\"\"\n",
    "        Return a codeword\n",
    "        \n",
    "        INPUT:\n",
    "        - ``m``: a vector to encode\n",
    "        \"\"\"\n",
    "        return m * self.get_generator_matrix()\n",
    "    \n",
    "Goppa._registered_encoders[\"GoppaEncoder\"] = GoppaEncoder"
   ]
  },
  {
   "cell_type": "markdown",
   "metadata": {},
   "source": [
    "# Goppa decoder"
   ]
  },
  {
   "cell_type": "code",
   "execution_count": 7,
   "metadata": {},
   "outputs": [],
   "source": [
    "class GoppaDecoder(Decoder):\n",
    "    r\"\"\"\n",
    "    Decoder for Goppa codes\n",
    "    \n",
    "    INPUT:\n",
    "    - ``code``: code associated with the decoder\n",
    "    \"\"\"\n",
    "    \n",
    "    def __init__(self, code):\n",
    "        \"\"\"\n",
    "        Initialize\n",
    "        \"\"\"\n",
    "        super(GoppaDecoder, self).__init__(code, code.ambient_space(), \"GoppaDecoder\")\n",
    "                \n",
    "        self._generating_pol = self.code().get_generating_pol()\n",
    "        self._defining_set = self.code().get_defining_set()\n",
    "    \n",
    "    def _repr_(self):\n",
    "        \"\"\"\n",
    "        Representation of a decoder for a Goppa code\n",
    "        \"\"\"\n",
    "        return \"Decoder for {}\".format(self.code())\n",
    "    \n",
    "    def get_syndrome(self, c):\n",
    "        \"\"\"\n",
    "        Return the syndrome polynomial\n",
    "        \n",
    "        INPUT:\n",
    "        - ``c``: a element of the input space of ``self``.\n",
    "        \"\"\"\n",
    "        field = self.code()._field\n",
    "        field_L = self.code()._field_L\n",
    "        \n",
    "        embFL = FiniteFieldHomomorphism_generic(Hom(field,field_L))\n",
    "        \n",
    "        h = self.code().get_parity_pol()\n",
    "        \n",
    "        syndrome = 0\n",
    "        \n",
    "        for i in range(len(h)):    \n",
    "            syndrome = syndrome + embFL(c[i])*h[i]\n",
    "            \n",
    "        return syndrome\n",
    "    \n",
    "    def get_generating_pol(self):\n",
    "        \"\"\"\n",
    "        Return the generating polynomial\n",
    "        \"\"\"\n",
    "        return self._generating_pol\n",
    "    \n",
    "    def decode_to_code(self, word):\n",
    "        r\"\"\"\n",
    "        Corrects the errors in ``word`` and returns a codeword.\n",
    "        INPUT:\n",
    "        - ``word`` -- a codeword of ``self``\n",
    "        \"\"\"\n",
    "        i = 1\n",
    "        field = self.code()._field\n",
    "        field_L = self.code()._field_L\n",
    "        \n",
    "        embFL = FiniteFieldHomomorphism_generic(Hom(field,field_L))\n",
    "        secLF = embFL.section()\n",
    "\n",
    "        # Step 1\n",
    "        S = self.get_syndrome(word)\n",
    "        \n",
    "        if S == 0:\n",
    "            return word\n",
    "\n",
    "        # Step 2\n",
    "        r_prev = self.get_generating_pol()\n",
    "        t = floor(self.get_generating_pol().degree()/2)\n",
    "        r_i = S\n",
    "        U_prev = 0\n",
    "        U_i = 1\n",
    "        \n",
    "        # Steps 3 and 4\n",
    "        while r_i.degree() >= t:\n",
    "            (q, r) = r_prev.quo_rem(r_i)\n",
    "            aux_r_i = r_i\n",
    "            aux_U_i = U_i\n",
    "            r_i = r\n",
    "            U_i = q * U_i + U_prev\n",
    "            r_prev = aux_r_i\n",
    "            U_prev = aux_U_i  \n",
    "            i += 1\n",
    "            \n",
    "        # Step 5\n",
    "        # make sigma monic     \n",
    "        sigma = U_i/U_i.coefficients()[-1]\n",
    "        eta = (-1)^i * r_i / U_i.coefficients()[-1]\n",
    "        \n",
    "        # roots of sigma are the locations of the errors\n",
    "        roots_loc = []\n",
    "        \n",
    "        for root in sigma.roots():\n",
    "            roots_loc = roots_loc + [self._defining_set.index(root[0])]\n",
    "        \n",
    "        error = [0] * len(self._defining_set)\n",
    "        x = self.get_generating_pol().parent().gen()\n",
    "        sigma_diff = sigma.diff(x)\n",
    "        \n",
    "        for i in range(0, len(sigma.roots())):\n",
    "            error[roots_loc[i]] = secLF(eta.subs(x=sigma.roots()[i][0])/(sigma_diff.subs(x=sigma.roots()[i][0])))\n",
    "        \n",
    "        x = word - vector(self.code()._field, error)\n",
    "        \n",
    "        return x\n",
    "\n",
    "    def decode_to_message(self, word):\n",
    "        word = self.decode_to_code(word)\n",
    "        return self.code().get_generator_matrix().solve_left(word)\n",
    "        #return self.code().unencode(self.decode_to_code(word))\n",
    "\n",
    "Goppa._registered_decoders[\"GoppaDecoder\"] = GoppaDecoder"
   ]
  },
  {
   "cell_type": "markdown",
   "metadata": {},
   "source": [
    "# Examples"
   ]
  },
  {
   "cell_type": "markdown",
   "metadata": {},
   "source": [
    "#### Example 1"
   ]
  },
  {
   "cell_type": "code",
   "execution_count": 8,
   "metadata": {},
   "outputs": [],
   "source": [
    "F = GF(2^2)\n",
    "L = GF(2^6)\n",
    "a = L.gen()\n",
    "b = F.gen()\n",
    "R.<x> = L[]\n",
    "g = x^5 + a*x^2 + 1\n",
    "n = 30\n",
    "defining_set = get_defining_set(n, g, L)"
   ]
  },
  {
   "cell_type": "code",
   "execution_count": 9,
   "metadata": {},
   "outputs": [
    {
     "name": "stdout",
     "output_type": "stream",
     "text": [
      "Goppa code:\n",
      "[30, 15] Goppa code\n",
      "\n",
      "Parity matrix:\n"
     ]
    },
    {
     "data": {
      "text/html": [
       "<html><script type=\"math/tex; mode=display\">\\newcommand{\\Bold}[1]{\\mathbf{#1}}\\left(\\begin{array}{rrrrrrrrrrrrrrrrrrrrrrrrrrrrrr}\n",
       "1 & 1 & 0 & 0 & 1 & z_{2} + 1 & 1 & z_{2} + 1 & 1 & z_{2} + 1 & 0 & 0 & z_{2} + 1 & 1 & z_{2} + 1 & z_{2} + 1 & 1 & 0 & 1 & 1 & 1 & z_{2} & z_{2} + 1 & 1 & z_{2} + 1 & z_{2} & z_{2} & z_{2} & 1 & z_{2} \\\\\n",
       "z_{2} + 1 & z_{2} & 0 & 0 & 1 & 1 & 0 & 1 & 1 & 0 & z_{2} + 1 & 1 & z_{2} + 1 & z_{2} + 1 & z_{2} + 1 & 0 & 1 & 1 & z_{2} + 1 & 1 & 0 & 0 & z_{2} & 1 & 0 & z_{2} & z_{2} & 1 & z_{2} & z_{2} + 1 \\\\\n",
       "z_{2} & 1 & z_{2} & 1 & z_{2} + 1 & z_{2} + 1 & 0 & 0 & 1 & z_{2} + 1 & z_{2} + 1 & 1 & 0 & 1 & 0 & z_{2} + 1 & z_{2} + 1 & 1 & 0 & 0 & z_{2} & 0 & 0 & z_{2} + 1 & z_{2} + 1 & 0 & z_{2} + 1 & 0 & 0 & 1 \\\\\n",
       "0 & z_{2} & 1 & z_{2} + 1 & z_{2} & z_{2} & z_{2} & 0 & 1 & z_{2} + 1 & z_{2} + 1 & 0 & 0 & 0 & 1 & 0 & z_{2} + 1 & z_{2} & z_{2} + 1 & z_{2} + 1 & 1 & z_{2} + 1 & z_{2} + 1 & 1 & z_{2} & 0 & z_{2} + 1 & 0 & z_{2} + 1 & 0 \\\\\n",
       "0 & 0 & z_{2} & z_{2} + 1 & z_{2} + 1 & z_{2} + 1 & z_{2} + 1 & z_{2} & z_{2} + 1 & 1 & z_{2} & z_{2} + 1 & z_{2} + 1 & z_{2} & 1 & z_{2} + 1 & 0 & z_{2} & z_{2} & z_{2} & z_{2} & z_{2} + 1 & z_{2} & z_{2} + 1 & 0 & 1 & z_{2} + 1 & 0 & z_{2} & z_{2} + 1 \\\\\n",
       "1 & z_{2} & z_{2} & 0 & z_{2} + 1 & z_{2} & z_{2} & z_{2} + 1 & 0 & z_{2} + 1 & z_{2} & z_{2} & 0 & z_{2} & 1 & 0 & 1 & z_{2} + 1 & z_{2} & z_{2} & z_{2} + 1 & z_{2} & 1 & z_{2} & z_{2} + 1 & z_{2} + 1 & 1 & 1 & 1 & 0 \\\\\n",
       "z_{2} & 0 & 1 & z_{2} + 1 & z_{2} + 1 & 0 & 1 & z_{2} + 1 & z_{2} + 1 & z_{2} & 0 & z_{2} & 1 & z_{2} & 1 & 0 & 0 & z_{2} & z_{2} + 1 & 0 & z_{2} + 1 & 0 & z_{2} + 1 & z_{2} & 1 & 0 & 0 & 0 & z_{2} + 1 & 0 \\\\\n",
       "z_{2} & 1 & z_{2} & 1 & 0 & 1 & z_{2} + 1 & 1 & 0 & 1 & z_{2} + 1 & 0 & 1 & z_{2} + 1 & 1 & z_{2} + 1 & z_{2} + 1 & z_{2} & z_{2} & z_{2} & z_{2} & 0 & z_{2} + 1 & 1 & 1 & 0 & z_{2} & z_{2} + 1 & z_{2} & 1 \\\\\n",
       "0 & z_{2} & z_{2} + 1 & 0 & 0 & z_{2} + 1 & z_{2} + 1 & 1 & 0 & 0 & 0 & z_{2} + 1 & 0 & z_{2} + 1 & 1 & z_{2} + 1 & 1 & z_{2} & 0 & 1 & z_{2} & z_{2} & z_{2} & z_{2} + 1 & z_{2} + 1 & 1 & z_{2} + 1 & 1 & 0 & z_{2} \\\\\n",
       "z_{2} + 1 & 0 & z_{2} & z_{2} & 0 & 0 & 1 & 1 & 0 & z_{2} + 1 & 1 & z_{2} & 0 & 0 & 0 & z_{2} & 1 & z_{2} & z_{2} & z_{2} & 0 & z_{2} & z_{2} & z_{2} & 1 & 0 & 0 & 1 & z_{2} & 1 \\\\\n",
       "z_{2} + 1 & 0 & z_{2} & 1 & 1 & z_{2} + 1 & z_{2} & 1 & z_{2} & z_{2} + 1 & z_{2} & z_{2} + 1 & 1 & 1 & z_{2} & z_{2} + 1 & z_{2} & 1 & 1 & 1 & z_{2} + 1 & z_{2} & z_{2} & 1 & z_{2} + 1 & z_{2} + 1 & z_{2} + 1 & 1 & z_{2} + 1 & z_{2} + 1 \\\\\n",
       "1 & z_{2} & z_{2} & 0 & 0 & z_{2} & z_{2} & 0 & 1 & 1 & 1 & z_{2} + 1 & 0 & 0 & z_{2} + 1 & 1 & 0 & 1 & 1 & z_{2} & 0 & 0 & 0 & 1 & 0 & 1 & 1 & z_{2} + 1 & 1 & z_{2} \\\\\n",
       "z_{2} & z_{2} + 1 & z_{2} & z_{2} + 1 & 0 & 0 & 0 & 0 & z_{2} + 1 & 0 & z_{2} & 0 & z_{2} + 1 & z_{2} + 1 & z_{2} + 1 & z_{2} & z_{2} & z_{2} + 1 & z_{2} + 1 & z_{2} & z_{2} + 1 & 0 & z_{2} + 1 & z_{2} + 1 & z_{2} & z_{2} & 0 & z_{2} + 1 & 0 & 1 \\\\\n",
       "1 & z_{2} + 1 & z_{2} + 1 & 0 & 0 & z_{2} & 0 & z_{2} + 1 & 1 & z_{2} & z_{2} & z_{2} & 1 & 1 & 0 & 1 & 1 & 0 & 0 & 1 & z_{2} + 1 & z_{2} & z_{2} & 1 & z_{2} & 0 & 1 & z_{2} + 1 & 0 & z_{2} \\\\\n",
       "1 & z_{2} + 1 & z_{2} & z_{2} + 1 & z_{2} & 1 & z_{2} & z_{2} + 1 & 1 & 0 & z_{2} + 1 & z_{2} & z_{2} & z_{2} + 1 & 1 & 1 & 1 & z_{2} + 1 & 1 & 0 & z_{2} + 1 & z_{2} + 1 & 0 & z_{2} & z_{2} & 1 & z_{2} & 1 & z_{2} & 1\n",
       "\\end{array}\\right)</script></html>"
      ],
      "text/latex": [
       "$$\\newcommand{\\Bold}[1]{\\mathbf{#1}}\\left(\\begin{array}{rrrrrrrrrrrrrrrrrrrrrrrrrrrrrr}\n",
       "1 & 1 & 0 & 0 & 1 & z_{2} + 1 & 1 & z_{2} + 1 & 1 & z_{2} + 1 & 0 & 0 & z_{2} + 1 & 1 & z_{2} + 1 & z_{2} + 1 & 1 & 0 & 1 & 1 & 1 & z_{2} & z_{2} + 1 & 1 & z_{2} + 1 & z_{2} & z_{2} & z_{2} & 1 & z_{2} \\\\\n",
       "z_{2} + 1 & z_{2} & 0 & 0 & 1 & 1 & 0 & 1 & 1 & 0 & z_{2} + 1 & 1 & z_{2} + 1 & z_{2} + 1 & z_{2} + 1 & 0 & 1 & 1 & z_{2} + 1 & 1 & 0 & 0 & z_{2} & 1 & 0 & z_{2} & z_{2} & 1 & z_{2} & z_{2} + 1 \\\\\n",
       "z_{2} & 1 & z_{2} & 1 & z_{2} + 1 & z_{2} + 1 & 0 & 0 & 1 & z_{2} + 1 & z_{2} + 1 & 1 & 0 & 1 & 0 & z_{2} + 1 & z_{2} + 1 & 1 & 0 & 0 & z_{2} & 0 & 0 & z_{2} + 1 & z_{2} + 1 & 0 & z_{2} + 1 & 0 & 0 & 1 \\\\\n",
       "0 & z_{2} & 1 & z_{2} + 1 & z_{2} & z_{2} & z_{2} & 0 & 1 & z_{2} + 1 & z_{2} + 1 & 0 & 0 & 0 & 1 & 0 & z_{2} + 1 & z_{2} & z_{2} + 1 & z_{2} + 1 & 1 & z_{2} + 1 & z_{2} + 1 & 1 & z_{2} & 0 & z_{2} + 1 & 0 & z_{2} + 1 & 0 \\\\\n",
       "0 & 0 & z_{2} & z_{2} + 1 & z_{2} + 1 & z_{2} + 1 & z_{2} + 1 & z_{2} & z_{2} + 1 & 1 & z_{2} & z_{2} + 1 & z_{2} + 1 & z_{2} & 1 & z_{2} + 1 & 0 & z_{2} & z_{2} & z_{2} & z_{2} & z_{2} + 1 & z_{2} & z_{2} + 1 & 0 & 1 & z_{2} + 1 & 0 & z_{2} & z_{2} + 1 \\\\\n",
       "1 & z_{2} & z_{2} & 0 & z_{2} + 1 & z_{2} & z_{2} & z_{2} + 1 & 0 & z_{2} + 1 & z_{2} & z_{2} & 0 & z_{2} & 1 & 0 & 1 & z_{2} + 1 & z_{2} & z_{2} & z_{2} + 1 & z_{2} & 1 & z_{2} & z_{2} + 1 & z_{2} + 1 & 1 & 1 & 1 & 0 \\\\\n",
       "z_{2} & 0 & 1 & z_{2} + 1 & z_{2} + 1 & 0 & 1 & z_{2} + 1 & z_{2} + 1 & z_{2} & 0 & z_{2} & 1 & z_{2} & 1 & 0 & 0 & z_{2} & z_{2} + 1 & 0 & z_{2} + 1 & 0 & z_{2} + 1 & z_{2} & 1 & 0 & 0 & 0 & z_{2} + 1 & 0 \\\\\n",
       "z_{2} & 1 & z_{2} & 1 & 0 & 1 & z_{2} + 1 & 1 & 0 & 1 & z_{2} + 1 & 0 & 1 & z_{2} + 1 & 1 & z_{2} + 1 & z_{2} + 1 & z_{2} & z_{2} & z_{2} & z_{2} & 0 & z_{2} + 1 & 1 & 1 & 0 & z_{2} & z_{2} + 1 & z_{2} & 1 \\\\\n",
       "0 & z_{2} & z_{2} + 1 & 0 & 0 & z_{2} + 1 & z_{2} + 1 & 1 & 0 & 0 & 0 & z_{2} + 1 & 0 & z_{2} + 1 & 1 & z_{2} + 1 & 1 & z_{2} & 0 & 1 & z_{2} & z_{2} & z_{2} & z_{2} + 1 & z_{2} + 1 & 1 & z_{2} + 1 & 1 & 0 & z_{2} \\\\\n",
       "z_{2} + 1 & 0 & z_{2} & z_{2} & 0 & 0 & 1 & 1 & 0 & z_{2} + 1 & 1 & z_{2} & 0 & 0 & 0 & z_{2} & 1 & z_{2} & z_{2} & z_{2} & 0 & z_{2} & z_{2} & z_{2} & 1 & 0 & 0 & 1 & z_{2} & 1 \\\\\n",
       "z_{2} + 1 & 0 & z_{2} & 1 & 1 & z_{2} + 1 & z_{2} & 1 & z_{2} & z_{2} + 1 & z_{2} & z_{2} + 1 & 1 & 1 & z_{2} & z_{2} + 1 & z_{2} & 1 & 1 & 1 & z_{2} + 1 & z_{2} & z_{2} & 1 & z_{2} + 1 & z_{2} + 1 & z_{2} + 1 & 1 & z_{2} + 1 & z_{2} + 1 \\\\\n",
       "1 & z_{2} & z_{2} & 0 & 0 & z_{2} & z_{2} & 0 & 1 & 1 & 1 & z_{2} + 1 & 0 & 0 & z_{2} + 1 & 1 & 0 & 1 & 1 & z_{2} & 0 & 0 & 0 & 1 & 0 & 1 & 1 & z_{2} + 1 & 1 & z_{2} \\\\\n",
       "z_{2} & z_{2} + 1 & z_{2} & z_{2} + 1 & 0 & 0 & 0 & 0 & z_{2} + 1 & 0 & z_{2} & 0 & z_{2} + 1 & z_{2} + 1 & z_{2} + 1 & z_{2} & z_{2} & z_{2} + 1 & z_{2} + 1 & z_{2} & z_{2} + 1 & 0 & z_{2} + 1 & z_{2} + 1 & z_{2} & z_{2} & 0 & z_{2} + 1 & 0 & 1 \\\\\n",
       "1 & z_{2} + 1 & z_{2} + 1 & 0 & 0 & z_{2} & 0 & z_{2} + 1 & 1 & z_{2} & z_{2} & z_{2} & 1 & 1 & 0 & 1 & 1 & 0 & 0 & 1 & z_{2} + 1 & z_{2} & z_{2} & 1 & z_{2} & 0 & 1 & z_{2} + 1 & 0 & z_{2} \\\\\n",
       "1 & z_{2} + 1 & z_{2} & z_{2} + 1 & z_{2} & 1 & z_{2} & z_{2} + 1 & 1 & 0 & z_{2} + 1 & z_{2} & z_{2} & z_{2} + 1 & 1 & 1 & 1 & z_{2} + 1 & 1 & 0 & z_{2} + 1 & z_{2} + 1 & 0 & z_{2} & z_{2} & 1 & z_{2} & 1 & z_{2} & 1\n",
       "\\end{array}\\right)$$"
      ],
      "text/plain": [
       "[     1      1      0      0      1 z2 + 1      1 z2 + 1      1 z2 + 1      0      0 z2 + 1      1 z2 + 1 z2 + 1      1      0      1      1      1     z2 z2 + 1      1 z2 + 1     z2     z2     z2      1     z2]\n",
       "[z2 + 1     z2      0      0      1      1      0      1      1      0 z2 + 1      1 z2 + 1 z2 + 1 z2 + 1      0      1      1 z2 + 1      1      0      0     z2      1      0     z2     z2      1     z2 z2 + 1]\n",
       "[    z2      1     z2      1 z2 + 1 z2 + 1      0      0      1 z2 + 1 z2 + 1      1      0      1      0 z2 + 1 z2 + 1      1      0      0     z2      0      0 z2 + 1 z2 + 1      0 z2 + 1      0      0      1]\n",
       "[     0     z2      1 z2 + 1     z2     z2     z2      0      1 z2 + 1 z2 + 1      0      0      0      1      0 z2 + 1     z2 z2 + 1 z2 + 1      1 z2 + 1 z2 + 1      1     z2      0 z2 + 1      0 z2 + 1      0]\n",
       "[     0      0     z2 z2 + 1 z2 + 1 z2 + 1 z2 + 1     z2 z2 + 1      1     z2 z2 + 1 z2 + 1     z2      1 z2 + 1      0     z2     z2     z2     z2 z2 + 1     z2 z2 + 1      0      1 z2 + 1      0     z2 z2 + 1]\n",
       "[     1     z2     z2      0 z2 + 1     z2     z2 z2 + 1      0 z2 + 1     z2     z2      0     z2      1      0      1 z2 + 1     z2     z2 z2 + 1     z2      1     z2 z2 + 1 z2 + 1      1      1      1      0]\n",
       "[    z2      0      1 z2 + 1 z2 + 1      0      1 z2 + 1 z2 + 1     z2      0     z2      1     z2      1      0      0     z2 z2 + 1      0 z2 + 1      0 z2 + 1     z2      1      0      0      0 z2 + 1      0]\n",
       "[    z2      1     z2      1      0      1 z2 + 1      1      0      1 z2 + 1      0      1 z2 + 1      1 z2 + 1 z2 + 1     z2     z2     z2     z2      0 z2 + 1      1      1      0     z2 z2 + 1     z2      1]\n",
       "[     0     z2 z2 + 1      0      0 z2 + 1 z2 + 1      1      0      0      0 z2 + 1      0 z2 + 1      1 z2 + 1      1     z2      0      1     z2     z2     z2 z2 + 1 z2 + 1      1 z2 + 1      1      0     z2]\n",
       "[z2 + 1      0     z2     z2      0      0      1      1      0 z2 + 1      1     z2      0      0      0     z2      1     z2     z2     z2      0     z2     z2     z2      1      0      0      1     z2      1]\n",
       "[z2 + 1      0     z2      1      1 z2 + 1     z2      1     z2 z2 + 1     z2 z2 + 1      1      1     z2 z2 + 1     z2      1      1      1 z2 + 1     z2     z2      1 z2 + 1 z2 + 1 z2 + 1      1 z2 + 1 z2 + 1]\n",
       "[     1     z2     z2      0      0     z2     z2      0      1      1      1 z2 + 1      0      0 z2 + 1      1      0      1      1     z2      0      0      0      1      0      1      1 z2 + 1      1     z2]\n",
       "[    z2 z2 + 1     z2 z2 + 1      0      0      0      0 z2 + 1      0     z2      0 z2 + 1 z2 + 1 z2 + 1     z2     z2 z2 + 1 z2 + 1     z2 z2 + 1      0 z2 + 1 z2 + 1     z2     z2      0 z2 + 1      0      1]\n",
       "[     1 z2 + 1 z2 + 1      0      0     z2      0 z2 + 1      1     z2     z2     z2      1      1      0      1      1      0      0      1 z2 + 1     z2     z2      1     z2      0      1 z2 + 1      0     z2]\n",
       "[     1 z2 + 1     z2 z2 + 1     z2      1     z2 z2 + 1      1      0 z2 + 1     z2     z2 z2 + 1      1      1      1 z2 + 1      1      0 z2 + 1 z2 + 1      0     z2     z2      1     z2      1     z2      1]"
      ]
     },
     "metadata": {},
     "output_type": "display_data"
    },
    {
     "name": "stdout",
     "output_type": "stream",
     "text": [
      "\n",
      "Generator matrix:\n"
     ]
    },
    {
     "data": {
      "text/html": [
       "<html><script type=\"math/tex; mode=display\">\\newcommand{\\Bold}[1]{\\mathbf{#1}}\\left(\\begin{array}{rrrrrrrrrrrrrrrrrrrrrrrrrrrrrr}\n",
       "1 & 0 & 0 & 0 & 0 & 0 & 0 & 0 & 0 & 0 & 0 & 0 & 0 & 0 & 0 & 0 & z_{2} + 1 & 1 & 0 & 0 & z_{2} & z_{2} + 1 & 0 & z_{2} & 0 & 1 & 0 & z_{2} & z_{2} + 1 & z_{2} + 1 \\\\\n",
       "0 & 1 & 0 & 0 & 0 & 0 & 0 & 0 & 0 & 0 & 0 & z_{2} & 0 & 0 & 0 & 0 & z_{2} & 1 & z_{2} & z_{2} & 1 & 1 & z_{2} & z_{2} + 1 & 0 & 0 & z_{2} + 1 & 0 & 1 & 1 \\\\\n",
       "0 & 0 & 1 & 0 & 0 & 0 & 0 & 0 & 0 & 0 & 0 & z_{2} & 0 & 0 & 0 & 0 & z_{2} + 1 & 0 & 0 & 1 & z_{2} + 1 & 0 & z_{2} & z_{2} & z_{2} + 1 & 1 & 0 & 0 & z_{2} & 0 \\\\\n",
       "0 & 0 & 0 & 1 & 0 & 0 & 0 & 0 & 0 & 0 & 0 & 0 & 0 & 0 & 0 & 0 & 0 & z_{2} & z_{2} + 1 & 0 & z_{2} + 1 & z_{2} + 1 & z_{2} + 1 & 1 & z_{2} & z_{2} + 1 & z_{2} & 0 & z_{2} + 1 & 1 \\\\\n",
       "0 & 0 & 0 & 0 & 1 & 0 & 0 & 0 & 0 & 0 & 0 & z_{2} & 0 & 0 & 0 & 0 & 0 & 0 & z_{2} & 0 & 1 & 0 & 1 & z_{2} & z_{2} + 1 & z_{2} & 1 & z_{2} & z_{2} & z_{2} + 1 \\\\\n",
       "0 & 0 & 0 & 0 & 0 & 1 & 0 & 0 & 0 & 0 & 0 & 0 & 0 & 0 & 0 & 0 & z_{2} & z_{2} & z_{2} & z_{2} & 0 & 1 & 1 & z_{2} + 1 & z_{2} + 1 & z_{2} + 1 & z_{2} & 0 & 1 & 1 \\\\\n",
       "0 & 0 & 0 & 0 & 0 & 0 & 1 & 0 & 0 & 0 & 0 & 1 & 0 & 0 & 0 & 0 & 1 & z_{2} + 1 & 0 & z_{2} & 0 & z_{2} + 1 & 0 & 1 & 0 & 1 & z_{2} + 1 & z_{2} + 1 & 0 & 0 \\\\\n",
       "0 & 0 & 0 & 0 & 0 & 0 & 0 & 1 & 0 & 0 & 0 & 1 & 0 & 0 & 0 & 0 & 1 & 0 & z_{2} + 1 & z_{2} & 1 & 0 & z_{2} + 1 & z_{2} & 0 & 1 & 0 & 0 & z_{2} & 1 \\\\\n",
       "0 & 0 & 0 & 0 & 0 & 0 & 0 & 0 & 1 & 0 & 0 & z_{2} + 1 & 0 & 0 & 0 & 0 & z_{2} + 1 & z_{2} + 1 & 1 & 1 & 1 & z_{2} + 1 & z_{2} & z_{2} + 1 & 1 & 1 & 1 & z_{2} + 1 & z_{2} + 1 & z_{2} + 1 \\\\\n",
       "0 & 0 & 0 & 0 & 0 & 0 & 0 & 0 & 0 & 1 & 0 & z_{2} + 1 & 0 & 0 & 0 & 0 & z_{2} + 1 & 0 & z_{2} + 1 & z_{2} & z_{2} + 1 & 0 & 1 & 1 & z_{2} + 1 & z_{2} & 1 & z_{2} & z_{2} & 1 \\\\\n",
       "0 & 0 & 0 & 0 & 0 & 0 & 0 & 0 & 0 & 0 & 1 & z_{2} & 0 & 0 & 0 & 0 & 0 & 0 & z_{2} + 1 & z_{2} + 1 & z_{2} & 0 & 0 & 1 & z_{2} + 1 & z_{2} & 0 & z_{2} + 1 & z_{2} & z_{2} + 1 \\\\\n",
       "0 & 0 & 0 & 0 & 0 & 0 & 0 & 0 & 0 & 0 & 0 & 0 & 1 & 0 & 0 & 0 & 1 & 0 & 0 & z_{2} + 1 & 0 & 1 & z_{2} + 1 & z_{2} + 1 & z_{2} & z_{2} & 0 & 0 & 0 & 0 \\\\\n",
       "0 & 0 & 0 & 0 & 0 & 0 & 0 & 0 & 0 & 0 & 0 & 0 & 0 & 1 & 0 & 0 & 0 & z_{2} & 0 & z_{2} & 0 & 0 & z_{2} + 1 & 0 & z_{2} + 1 & z_{2} & z_{2} & z_{2} & 0 & 0 \\\\\n",
       "0 & 0 & 0 & 0 & 0 & 0 & 0 & 0 & 0 & 0 & 0 & 0 & 0 & 0 & 1 & 0 & z_{2} & 1 & z_{2} + 1 & 1 & z_{2} & z_{2} & z_{2} & z_{2} & 1 & z_{2} & z_{2} + 1 & 0 & 1 & z_{2} + 1 \\\\\n",
       "0 & 0 & 0 & 0 & 0 & 0 & 0 & 0 & 0 & 0 & 0 & 0 & 0 & 0 & 0 & 1 & 0 & z_{2} & z_{2} + 1 & 1 & z_{2} & 1 & z_{2} & z_{2} & z_{2} & 1 & 1 & z_{2} + 1 & 0 & 1\n",
       "\\end{array}\\right)</script></html>"
      ],
      "text/latex": [
       "$$\\newcommand{\\Bold}[1]{\\mathbf{#1}}\\left(\\begin{array}{rrrrrrrrrrrrrrrrrrrrrrrrrrrrrr}\n",
       "1 & 0 & 0 & 0 & 0 & 0 & 0 & 0 & 0 & 0 & 0 & 0 & 0 & 0 & 0 & 0 & z_{2} + 1 & 1 & 0 & 0 & z_{2} & z_{2} + 1 & 0 & z_{2} & 0 & 1 & 0 & z_{2} & z_{2} + 1 & z_{2} + 1 \\\\\n",
       "0 & 1 & 0 & 0 & 0 & 0 & 0 & 0 & 0 & 0 & 0 & z_{2} & 0 & 0 & 0 & 0 & z_{2} & 1 & z_{2} & z_{2} & 1 & 1 & z_{2} & z_{2} + 1 & 0 & 0 & z_{2} + 1 & 0 & 1 & 1 \\\\\n",
       "0 & 0 & 1 & 0 & 0 & 0 & 0 & 0 & 0 & 0 & 0 & z_{2} & 0 & 0 & 0 & 0 & z_{2} + 1 & 0 & 0 & 1 & z_{2} + 1 & 0 & z_{2} & z_{2} & z_{2} + 1 & 1 & 0 & 0 & z_{2} & 0 \\\\\n",
       "0 & 0 & 0 & 1 & 0 & 0 & 0 & 0 & 0 & 0 & 0 & 0 & 0 & 0 & 0 & 0 & 0 & z_{2} & z_{2} + 1 & 0 & z_{2} + 1 & z_{2} + 1 & z_{2} + 1 & 1 & z_{2} & z_{2} + 1 & z_{2} & 0 & z_{2} + 1 & 1 \\\\\n",
       "0 & 0 & 0 & 0 & 1 & 0 & 0 & 0 & 0 & 0 & 0 & z_{2} & 0 & 0 & 0 & 0 & 0 & 0 & z_{2} & 0 & 1 & 0 & 1 & z_{2} & z_{2} + 1 & z_{2} & 1 & z_{2} & z_{2} & z_{2} + 1 \\\\\n",
       "0 & 0 & 0 & 0 & 0 & 1 & 0 & 0 & 0 & 0 & 0 & 0 & 0 & 0 & 0 & 0 & z_{2} & z_{2} & z_{2} & z_{2} & 0 & 1 & 1 & z_{2} + 1 & z_{2} + 1 & z_{2} + 1 & z_{2} & 0 & 1 & 1 \\\\\n",
       "0 & 0 & 0 & 0 & 0 & 0 & 1 & 0 & 0 & 0 & 0 & 1 & 0 & 0 & 0 & 0 & 1 & z_{2} + 1 & 0 & z_{2} & 0 & z_{2} + 1 & 0 & 1 & 0 & 1 & z_{2} + 1 & z_{2} + 1 & 0 & 0 \\\\\n",
       "0 & 0 & 0 & 0 & 0 & 0 & 0 & 1 & 0 & 0 & 0 & 1 & 0 & 0 & 0 & 0 & 1 & 0 & z_{2} + 1 & z_{2} & 1 & 0 & z_{2} + 1 & z_{2} & 0 & 1 & 0 & 0 & z_{2} & 1 \\\\\n",
       "0 & 0 & 0 & 0 & 0 & 0 & 0 & 0 & 1 & 0 & 0 & z_{2} + 1 & 0 & 0 & 0 & 0 & z_{2} + 1 & z_{2} + 1 & 1 & 1 & 1 & z_{2} + 1 & z_{2} & z_{2} + 1 & 1 & 1 & 1 & z_{2} + 1 & z_{2} + 1 & z_{2} + 1 \\\\\n",
       "0 & 0 & 0 & 0 & 0 & 0 & 0 & 0 & 0 & 1 & 0 & z_{2} + 1 & 0 & 0 & 0 & 0 & z_{2} + 1 & 0 & z_{2} + 1 & z_{2} & z_{2} + 1 & 0 & 1 & 1 & z_{2} + 1 & z_{2} & 1 & z_{2} & z_{2} & 1 \\\\\n",
       "0 & 0 & 0 & 0 & 0 & 0 & 0 & 0 & 0 & 0 & 1 & z_{2} & 0 & 0 & 0 & 0 & 0 & 0 & z_{2} + 1 & z_{2} + 1 & z_{2} & 0 & 0 & 1 & z_{2} + 1 & z_{2} & 0 & z_{2} + 1 & z_{2} & z_{2} + 1 \\\\\n",
       "0 & 0 & 0 & 0 & 0 & 0 & 0 & 0 & 0 & 0 & 0 & 0 & 1 & 0 & 0 & 0 & 1 & 0 & 0 & z_{2} + 1 & 0 & 1 & z_{2} + 1 & z_{2} + 1 & z_{2} & z_{2} & 0 & 0 & 0 & 0 \\\\\n",
       "0 & 0 & 0 & 0 & 0 & 0 & 0 & 0 & 0 & 0 & 0 & 0 & 0 & 1 & 0 & 0 & 0 & z_{2} & 0 & z_{2} & 0 & 0 & z_{2} + 1 & 0 & z_{2} + 1 & z_{2} & z_{2} & z_{2} & 0 & 0 \\\\\n",
       "0 & 0 & 0 & 0 & 0 & 0 & 0 & 0 & 0 & 0 & 0 & 0 & 0 & 0 & 1 & 0 & z_{2} & 1 & z_{2} + 1 & 1 & z_{2} & z_{2} & z_{2} & z_{2} & 1 & z_{2} & z_{2} + 1 & 0 & 1 & z_{2} + 1 \\\\\n",
       "0 & 0 & 0 & 0 & 0 & 0 & 0 & 0 & 0 & 0 & 0 & 0 & 0 & 0 & 0 & 1 & 0 & z_{2} & z_{2} + 1 & 1 & z_{2} & 1 & z_{2} & z_{2} & z_{2} & 1 & 1 & z_{2} + 1 & 0 & 1\n",
       "\\end{array}\\right)$$"
      ],
      "text/plain": [
       "[     1      0      0      0      0      0      0      0      0      0      0      0      0      0      0      0 z2 + 1      1      0      0     z2 z2 + 1      0     z2      0      1      0     z2 z2 + 1 z2 + 1]\n",
       "[     0      1      0      0      0      0      0      0      0      0      0     z2      0      0      0      0     z2      1     z2     z2      1      1     z2 z2 + 1      0      0 z2 + 1      0      1      1]\n",
       "[     0      0      1      0      0      0      0      0      0      0      0     z2      0      0      0      0 z2 + 1      0      0      1 z2 + 1      0     z2     z2 z2 + 1      1      0      0     z2      0]\n",
       "[     0      0      0      1      0      0      0      0      0      0      0      0      0      0      0      0      0     z2 z2 + 1      0 z2 + 1 z2 + 1 z2 + 1      1     z2 z2 + 1     z2      0 z2 + 1      1]\n",
       "[     0      0      0      0      1      0      0      0      0      0      0     z2      0      0      0      0      0      0     z2      0      1      0      1     z2 z2 + 1     z2      1     z2     z2 z2 + 1]\n",
       "[     0      0      0      0      0      1      0      0      0      0      0      0      0      0      0      0     z2     z2     z2     z2      0      1      1 z2 + 1 z2 + 1 z2 + 1     z2      0      1      1]\n",
       "[     0      0      0      0      0      0      1      0      0      0      0      1      0      0      0      0      1 z2 + 1      0     z2      0 z2 + 1      0      1      0      1 z2 + 1 z2 + 1      0      0]\n",
       "[     0      0      0      0      0      0      0      1      0      0      0      1      0      0      0      0      1      0 z2 + 1     z2      1      0 z2 + 1     z2      0      1      0      0     z2      1]\n",
       "[     0      0      0      0      0      0      0      0      1      0      0 z2 + 1      0      0      0      0 z2 + 1 z2 + 1      1      1      1 z2 + 1     z2 z2 + 1      1      1      1 z2 + 1 z2 + 1 z2 + 1]\n",
       "[     0      0      0      0      0      0      0      0      0      1      0 z2 + 1      0      0      0      0 z2 + 1      0 z2 + 1     z2 z2 + 1      0      1      1 z2 + 1     z2      1     z2     z2      1]\n",
       "[     0      0      0      0      0      0      0      0      0      0      1     z2      0      0      0      0      0      0 z2 + 1 z2 + 1     z2      0      0      1 z2 + 1     z2      0 z2 + 1     z2 z2 + 1]\n",
       "[     0      0      0      0      0      0      0      0      0      0      0      0      1      0      0      0      1      0      0 z2 + 1      0      1 z2 + 1 z2 + 1     z2     z2      0      0      0      0]\n",
       "[     0      0      0      0      0      0      0      0      0      0      0      0      0      1      0      0      0     z2      0     z2      0      0 z2 + 1      0 z2 + 1     z2     z2     z2      0      0]\n",
       "[     0      0      0      0      0      0      0      0      0      0      0      0      0      0      1      0     z2      1 z2 + 1      1     z2     z2     z2     z2      1     z2 z2 + 1      0      1 z2 + 1]\n",
       "[     0      0      0      0      0      0      0      0      0      0      0      0      0      0      0      1      0     z2 z2 + 1      1     z2      1     z2     z2     z2      1      1 z2 + 1      0      1]"
      ]
     },
     "metadata": {},
     "output_type": "display_data"
    }
   ],
   "source": [
    "# Goppa code\n",
    "C = Goppa(defining_set, g, F)\n",
    "\n",
    "print(\"Goppa code:\")\n",
    "print(C)\n",
    "\n",
    "print(\"\\nParity matrix:\")\n",
    "H = C.get_parity_check_matrix()\n",
    "show(H)\n",
    "#print(latex(H))\n",
    "\n",
    "print(\"\\nGenerator matrix:\")\n",
    "G = C.get_generator_matrix()\n",
    "show(G)"
   ]
  },
  {
   "cell_type": "code",
   "execution_count": 10,
   "metadata": {},
   "outputs": [
    {
     "data": {
      "text/plain": [
       "(z2, z2 + 1, z2, 0, z2 + 1, 0, 1, z2 + 1, z2, z2 + 1, z2 + 1, z2 + 1, z2, 1, 0, z2 + 1, z2, 0, z2, 1, 1, 1, 0, z2, 0, z2 + 1, z2, z2 + 1, 0, 0)"
      ]
     },
     "execution_count": 10,
     "metadata": {},
     "output_type": "execute_result"
    }
   ],
   "source": [
    "# Encoder of C\n",
    "E = GoppaEncoder(C)\n",
    "word = vector(F, (b, b + 1, b, 0, b + 1, 0, 1, b + 1, b, b + 1, b + 1, b, 1, 0, b + 1))\n",
    "E.encode(word)"
   ]
  },
  {
   "cell_type": "code",
   "execution_count": 11,
   "metadata": {},
   "outputs": [
    {
     "name": "stdout",
     "output_type": "stream",
     "text": [
      "\n",
      "Goppa encoder:\n",
      "Encoder for [30, 15] Goppa code\n",
      "\n",
      "Word to encode:\n",
      "(z2, z2 + 1, 0, z2, 1, 0, 1, 0, 0, 1, 0, 1, 1, z2 + 1, z2)\n",
      "\n",
      "Word encoded:\n",
      "x = (z2, z2 + 1, 0, z2, 1, 0, 1, 0, 0, 1, 0, 1, 1, 1, z2 + 1, z2, z2, z2 + 1, z2, 1, 1, z2, z2, 0, z2, 1, 0, z2 + 1, 0, z2)\n",
      "\n",
      "Errors added to x:\n",
      "e = (0, 0, 0, 0, 0, 0, 0, 0, 0, 0, 0, 0, 0, z2, 0, 0, 0, 0, 0, 0, 0, 0, 0, 0, 0, 0, 0, 0, 0, 0)\n",
      "\n",
      "Word encoded with errors (y = x + e):\n",
      "y = (z2, z2 + 1, 0, z2, 1, 0, 1, 0, 0, 1, 0, 1, 1, z2 + 1, z2 + 1, z2, z2, z2 + 1, z2, 1, 1, z2, z2, 0, z2, 1, 0, z2 + 1, 0, z2)\n"
     ]
    }
   ],
   "source": [
    "# Encoder of C\n",
    "E = GoppaEncoder(C)\n",
    "\n",
    "print(\"\\nGoppa encoder:\")\n",
    "print(E)\n",
    "\n",
    "print(\"\\nWord to encode:\")\n",
    "word = random_word(G.nrows(), F)\n",
    "print(word)\n",
    "\n",
    "print(\"\\nWord encoded:\")\n",
    "x = E.encode(word)\n",
    "print(\"x = \" + str(x))\n",
    "\n",
    "print(\"\\nErrors added to x:\")\n",
    "num_errors = floor(g.degree()/2)\n",
    "e = random_error(len(x), num_errors, F)\n",
    "print(\"e = \" + str(e))\n",
    "\n",
    "print(\"\\nWord encoded with errors (y = x + e):\")\n",
    "y = x + e\n",
    "print(\"y = \" + str(y))"
   ]
  },
  {
   "cell_type": "code",
   "execution_count": 12,
   "metadata": {},
   "outputs": [
    {
     "name": "stdout",
     "output_type": "stream",
     "text": [
      "\n",
      "Decode to code `y`:\n",
      "x = (z2, z2 + 1, 0, z2, 1, 0, 1, 0, 0, 1, 0, 1, 1, 1, z2 + 1, z2, z2, z2 + 1, z2, 1, 1, z2, z2, 0, z2, 1, 0, z2 + 1, 0, z2)\n",
      "\n",
      "Decode to message `y`:\n",
      "(z2, z2 + 1, 0, z2, 1, 0, 1, 0, 0, 1, 0, 1, 1, z2 + 1, z2)\n"
     ]
    }
   ],
   "source": [
    "# Decoder of C\n",
    "D = GoppaDecoder(C)\n",
    "\n",
    "print(\"\\nDecode to code `y`:\")\n",
    "x2 = D.decode_to_code(y)\n",
    "print(\"x = \" + str(x2))\n",
    "\n",
    "print(\"\\nDecode to message `y`:\")\n",
    "word2 = D.decode_to_message(y)\n",
    "print(word2)"
   ]
  },
  {
   "cell_type": "code",
   "execution_count": 13,
   "metadata": {
    "scrolled": true
   },
   "outputs": [
    {
     "data": {
      "text/plain": [
       "True"
      ]
     },
     "execution_count": 13,
     "metadata": {},
     "output_type": "execute_result"
    }
   ],
   "source": [
    "x == x2"
   ]
  },
  {
   "cell_type": "code",
   "execution_count": 14,
   "metadata": {},
   "outputs": [
    {
     "data": {
      "text/plain": [
       "True"
      ]
     },
     "execution_count": 14,
     "metadata": {},
     "output_type": "execute_result"
    }
   ],
   "source": [
    "word == word2"
   ]
  },
  {
   "cell_type": "markdown",
   "metadata": {},
   "source": [
    "#### Example 2"
   ]
  },
  {
   "cell_type": "code",
   "execution_count": 15,
   "metadata": {},
   "outputs": [],
   "source": [
    "F = GF(2^2)\n",
    "L = GF(2^8)\n",
    "a = L.gen()\n",
    "b = F.gen()\n",
    "R.<x> = L[]\n",
    "g = x^5 + a*x^2 + x + a^2\n",
    "n = 30\n",
    "defining_set = get_defining_set(n, g, L)"
   ]
  },
  {
   "cell_type": "code",
   "execution_count": 16,
   "metadata": {},
   "outputs": [
    {
     "name": "stdout",
     "output_type": "stream",
     "text": [
      "Goppa code:\n",
      "[30, 10] Goppa code\n",
      "\n",
      "Parity matrix:\n"
     ]
    },
    {
     "data": {
      "text/html": [
       "<html><script type=\"math/tex; mode=display\">\\newcommand{\\Bold}[1]{\\mathbf{#1}}\\left(\\begin{array}{rrrrrrrrrrrrrrrrrrrrrrrrrrrrrr}\n",
       "z_{2} & z_{2} + 1 & z_{2} + 1 & z_{2} + 1 & 1 & z_{2} & 0 & 0 & z_{2} + 1 & 0 & 0 & z_{2} + 1 & 1 & z_{2} + 1 & z_{2} & z_{2} + 1 & 0 & z_{2} & 0 & 0 & z_{2} + 1 & z_{2} & 1 & z_{2} + 1 & z_{2} + 1 & z_{2} & 1 & 0 & 1 & z_{2} \\\\\n",
       "z_{2} & z_{2} & z_{2} & 1 & z_{2} + 1 & 0 & 1 & 1 & 1 & z_{2} + 1 & 0 & z_{2} + 1 & 0 & z_{2} & 1 & z_{2} + 1 & 1 & z_{2} & z_{2} + 1 & 1 & 0 & z_{2} & 1 & 1 & z_{2} & 1 & z_{2} & 0 & 1 & z_{2} + 1 \\\\\n",
       "1 & 0 & z_{2} & z_{2} & 0 & 0 & 1 & z_{2} + 1 & 1 & 1 & 0 & z_{2} + 1 & z_{2} & 0 & 0 & 1 & 0 & z_{2} + 1 & z_{2} + 1 & z_{2} + 1 & z_{2} + 1 & 0 & 0 & 0 & 0 & z_{2} & 0 & z_{2} & 1 & z_{2} \\\\\n",
       "1 & z_{2} + 1 & 1 & z_{2} + 1 & z_{2} + 1 & 1 & 1 & z_{2} + 1 & 1 & z_{2} + 1 & 1 & z_{2} & z_{2} + 1 & z_{2} + 1 & 0 & 0 & z_{2} + 1 & z_{2} + 1 & 0 & z_{2} + 1 & z_{2} & z_{2} & 1 & z_{2} & z_{2} & z_{2} & 0 & 1 & z_{2} + 1 & 1 \\\\\n",
       "1 & z_{2} & 0 & z_{2} & 1 & z_{2} & 1 & z_{2} & z_{2} + 1 & z_{2} + 1 & 0 & z_{2} + 1 & z_{2} & 1 & z_{2} + 1 & 0 & 1 & z_{2} & 1 & 1 & z_{2} & z_{2} & 0 & 0 & 0 & z_{2} + 1 & z_{2} + 1 & 0 & z_{2} & z_{2} \\\\\n",
       "z_{2} & z_{2} + 1 & 0 & z_{2} + 1 & z_{2} + 1 & 0 & 1 & z_{2} + 1 & 1 & 0 & z_{2} + 1 & 1 & 0 & 0 & 1 & z_{2} & 1 & 1 & z_{2} & z_{2} + 1 & z_{2} & z_{2} & z_{2} & z_{2} & 1 & 1 & z_{2} & z_{2} & 0 & 1 \\\\\n",
       "z_{2} + 1 & 0 & 0 & 1 & z_{2} & z_{2} + 1 & 1 & 0 & 1 & 1 & 0 & 1 & z_{2} + 1 & 0 & 0 & z_{2} + 1 & z_{2} + 1 & z_{2} & 0 & 1 & z_{2} & z_{2} + 1 & 1 & 0 & z_{2} & z_{2} + 1 & z_{2} & z_{2} + 1 & 1 & z_{2} \\\\\n",
       "z_{2} + 1 & z_{2} & z_{2} & z_{2} & 0 & z_{2} & 0 & 1 & 0 & z_{2} & 1 & z_{2} + 1 & z_{2} + 1 & 0 & 1 & z_{2} & z_{2} + 1 & 1 & 1 & 1 & z_{2} + 1 & z_{2} & 0 & z_{2} & 1 & 1 & 1 & z_{2} + 1 & 1 & z_{2} + 1 \\\\\n",
       "0 & z_{2} + 1 & z_{2} + 1 & 0 & 0 & z_{2} & z_{2} & z_{2} & z_{2} & z_{2} & z_{2} + 1 & z_{2} + 1 & 0 & 1 & z_{2} + 1 & 0 & 1 & z_{2} & z_{2} & 0 & z_{2} & z_{2} + 1 & 1 & z_{2} + 1 & z_{2} + 1 & 1 & z_{2} + 1 & z_{2} + 1 & z_{2} + 1 & 0 \\\\\n",
       "z_{2} & 0 & 1 & 0 & 1 & 1 & 1 & 0 & z_{2} + 1 & z_{2} + 1 & 1 & z_{2} + 1 & 0 & 0 & 0 & 1 & 0 & 0 & z_{2} & z_{2} & z_{2} & 1 & z_{2} & z_{2} & 1 & 0 & z_{2} + 1 & 0 & z_{2} + 1 & z_{2} + 1 \\\\\n",
       "0 & 1 & 0 & z_{2} & 0 & 1 & z_{2} + 1 & 1 & 1 & 0 & 1 & z_{2} & z_{2} & 1 & 0 & 0 & z_{2} + 1 & 0 & z_{2} & z_{2} + 1 & z_{2} & z_{2} & z_{2} & z_{2} + 1 & z_{2} + 1 & z_{2} & z_{2} & z_{2} + 1 & z_{2} + 1 & 0 \\\\\n",
       "z_{2} & z_{2} + 1 & 1 & 1 & 0 & 1 & 0 & 0 & 1 & z_{2} & z_{2} & 0 & z_{2} & 0 & z_{2} & 1 & 0 & z_{2} + 1 & z_{2} & z_{2} + 1 & 1 & z_{2} & 1 & 0 & 0 & 1 & z_{2} + 1 & 0 & z_{2} + 1 & z_{2} \\\\\n",
       "z_{2} + 1 & z_{2} & 0 & z_{2} + 1 & z_{2} & z_{2} & 1 & z_{2} + 1 & 1 & z_{2} & z_{2} + 1 & 0 & 1 & 0 & 1 & 0 & 1 & z_{2} + 1 & 1 & 0 & 0 & 0 & z_{2} + 1 & z_{2} & 0 & 0 & z_{2} + 1 & 1 & z_{2} + 1 & z_{2} \\\\\n",
       "z_{2} + 1 & z_{2} & 1 & z_{2} + 1 & z_{2} & 1 & 0 & 1 & 1 & z_{2} & z_{2} + 1 & 0 & 1 & z_{2} + 1 & z_{2} & 0 & 0 & z_{2} + 1 & 0 & 1 & 0 & z_{2} & z_{2} + 1 & 0 & 1 & z_{2} + 1 & z_{2} + 1 & 1 & z_{2} & z_{2} \\\\\n",
       "0 & z_{2} & z_{2} + 1 & 0 & 1 & z_{2} + 1 & z_{2} & z_{2} & 0 & 0 & z_{2} & 1 & z_{2} + 1 & 0 & z_{2} + 1 & 0 & z_{2} + 1 & 1 & z_{2} & z_{2} + 1 & z_{2} + 1 & z_{2} + 1 & z_{2} & 0 & 0 & z_{2} & z_{2} + 1 & z_{2} + 1 & z_{2} & 0 \\\\\n",
       "0 & 0 & 1 & z_{2} + 1 & 0 & 1 & 0 & z_{2} + 1 & z_{2} + 1 & z_{2} + 1 & 0 & 1 & 0 & 0 & z_{2} & 1 & 0 & z_{2} & z_{2} + 1 & z_{2} + 1 & z_{2} & 0 & 1 & 1 & 1 & 0 & 0 & 1 & z_{2} + 1 & z_{2} + 1 \\\\\n",
       "1 & 1 & z_{2} & z_{2} + 1 & z_{2} + 1 & 0 & 0 & z_{2} & z_{2} + 1 & z_{2} + 1 & 0 & z_{2} & z_{2} & 1 & z_{2} + 1 & z_{2} & 1 & z_{2} + 1 & z_{2} & 1 & z_{2} & 0 & z_{2} & 0 & 1 & z_{2} & 0 & z_{2} & 1 & 1 \\\\\n",
       "1 & z_{2} & z_{2} + 1 & z_{2} & 0 & 0 & 1 & z_{2} + 1 & 0 & z_{2} + 1 & 0 & z_{2} & z_{2} & z_{2} & z_{2} & 1 & 0 & z_{2} + 1 & z_{2} + 1 & z_{2} + 1 & 0 & 0 & z_{2} & 1 & 0 & z_{2} + 1 & z_{2} & z_{2} & z_{2} + 1 & z_{2} + 1 \\\\\n",
       "z_{2} + 1 & 1 & z_{2} + 1 & z_{2} + 1 & z_{2} & z_{2} + 1 & z_{2} & z_{2} + 1 & z_{2} + 1 & z_{2} + 1 & z_{2} + 1 & 0 & z_{2} & 1 & 0 & z_{2} + 1 & z_{2} + 1 & z_{2} & 1 & 1 & z_{2} + 1 & 0 & 0 & 1 & z_{2} & 0 & 1 & 1 & z_{2} + 1 & z_{2} + 1 \\\\\n",
       "z_{2} + 1 & 0 & 1 & 0 & z_{2} + 1 & 1 & z_{2} + 1 & z_{2} & 1 & 0 & 0 & 1 & z_{2} + 1 & z_{2} & 1 & z_{2} + 1 & 0 & 1 & z_{2} & z_{2} & 0 & 1 & z_{2} + 1 & z_{2} & 0 & 1 & 1 & z_{2} + 1 & z_{2} & z_{2}\n",
       "\\end{array}\\right)</script></html>"
      ],
      "text/latex": [
       "$$\\newcommand{\\Bold}[1]{\\mathbf{#1}}\\left(\\begin{array}{rrrrrrrrrrrrrrrrrrrrrrrrrrrrrr}\n",
       "z_{2} & z_{2} + 1 & z_{2} + 1 & z_{2} + 1 & 1 & z_{2} & 0 & 0 & z_{2} + 1 & 0 & 0 & z_{2} + 1 & 1 & z_{2} + 1 & z_{2} & z_{2} + 1 & 0 & z_{2} & 0 & 0 & z_{2} + 1 & z_{2} & 1 & z_{2} + 1 & z_{2} + 1 & z_{2} & 1 & 0 & 1 & z_{2} \\\\\n",
       "z_{2} & z_{2} & z_{2} & 1 & z_{2} + 1 & 0 & 1 & 1 & 1 & z_{2} + 1 & 0 & z_{2} + 1 & 0 & z_{2} & 1 & z_{2} + 1 & 1 & z_{2} & z_{2} + 1 & 1 & 0 & z_{2} & 1 & 1 & z_{2} & 1 & z_{2} & 0 & 1 & z_{2} + 1 \\\\\n",
       "1 & 0 & z_{2} & z_{2} & 0 & 0 & 1 & z_{2} + 1 & 1 & 1 & 0 & z_{2} + 1 & z_{2} & 0 & 0 & 1 & 0 & z_{2} + 1 & z_{2} + 1 & z_{2} + 1 & z_{2} + 1 & 0 & 0 & 0 & 0 & z_{2} & 0 & z_{2} & 1 & z_{2} \\\\\n",
       "1 & z_{2} + 1 & 1 & z_{2} + 1 & z_{2} + 1 & 1 & 1 & z_{2} + 1 & 1 & z_{2} + 1 & 1 & z_{2} & z_{2} + 1 & z_{2} + 1 & 0 & 0 & z_{2} + 1 & z_{2} + 1 & 0 & z_{2} + 1 & z_{2} & z_{2} & 1 & z_{2} & z_{2} & z_{2} & 0 & 1 & z_{2} + 1 & 1 \\\\\n",
       "1 & z_{2} & 0 & z_{2} & 1 & z_{2} & 1 & z_{2} & z_{2} + 1 & z_{2} + 1 & 0 & z_{2} + 1 & z_{2} & 1 & z_{2} + 1 & 0 & 1 & z_{2} & 1 & 1 & z_{2} & z_{2} & 0 & 0 & 0 & z_{2} + 1 & z_{2} + 1 & 0 & z_{2} & z_{2} \\\\\n",
       "z_{2} & z_{2} + 1 & 0 & z_{2} + 1 & z_{2} + 1 & 0 & 1 & z_{2} + 1 & 1 & 0 & z_{2} + 1 & 1 & 0 & 0 & 1 & z_{2} & 1 & 1 & z_{2} & z_{2} + 1 & z_{2} & z_{2} & z_{2} & z_{2} & 1 & 1 & z_{2} & z_{2} & 0 & 1 \\\\\n",
       "z_{2} + 1 & 0 & 0 & 1 & z_{2} & z_{2} + 1 & 1 & 0 & 1 & 1 & 0 & 1 & z_{2} + 1 & 0 & 0 & z_{2} + 1 & z_{2} + 1 & z_{2} & 0 & 1 & z_{2} & z_{2} + 1 & 1 & 0 & z_{2} & z_{2} + 1 & z_{2} & z_{2} + 1 & 1 & z_{2} \\\\\n",
       "z_{2} + 1 & z_{2} & z_{2} & z_{2} & 0 & z_{2} & 0 & 1 & 0 & z_{2} & 1 & z_{2} + 1 & z_{2} + 1 & 0 & 1 & z_{2} & z_{2} + 1 & 1 & 1 & 1 & z_{2} + 1 & z_{2} & 0 & z_{2} & 1 & 1 & 1 & z_{2} + 1 & 1 & z_{2} + 1 \\\\\n",
       "0 & z_{2} + 1 & z_{2} + 1 & 0 & 0 & z_{2} & z_{2} & z_{2} & z_{2} & z_{2} & z_{2} + 1 & z_{2} + 1 & 0 & 1 & z_{2} + 1 & 0 & 1 & z_{2} & z_{2} & 0 & z_{2} & z_{2} + 1 & 1 & z_{2} + 1 & z_{2} + 1 & 1 & z_{2} + 1 & z_{2} + 1 & z_{2} + 1 & 0 \\\\\n",
       "z_{2} & 0 & 1 & 0 & 1 & 1 & 1 & 0 & z_{2} + 1 & z_{2} + 1 & 1 & z_{2} + 1 & 0 & 0 & 0 & 1 & 0 & 0 & z_{2} & z_{2} & z_{2} & 1 & z_{2} & z_{2} & 1 & 0 & z_{2} + 1 & 0 & z_{2} + 1 & z_{2} + 1 \\\\\n",
       "0 & 1 & 0 & z_{2} & 0 & 1 & z_{2} + 1 & 1 & 1 & 0 & 1 & z_{2} & z_{2} & 1 & 0 & 0 & z_{2} + 1 & 0 & z_{2} & z_{2} + 1 & z_{2} & z_{2} & z_{2} & z_{2} + 1 & z_{2} + 1 & z_{2} & z_{2} & z_{2} + 1 & z_{2} + 1 & 0 \\\\\n",
       "z_{2} & z_{2} + 1 & 1 & 1 & 0 & 1 & 0 & 0 & 1 & z_{2} & z_{2} & 0 & z_{2} & 0 & z_{2} & 1 & 0 & z_{2} + 1 & z_{2} & z_{2} + 1 & 1 & z_{2} & 1 & 0 & 0 & 1 & z_{2} + 1 & 0 & z_{2} + 1 & z_{2} \\\\\n",
       "z_{2} + 1 & z_{2} & 0 & z_{2} + 1 & z_{2} & z_{2} & 1 & z_{2} + 1 & 1 & z_{2} & z_{2} + 1 & 0 & 1 & 0 & 1 & 0 & 1 & z_{2} + 1 & 1 & 0 & 0 & 0 & z_{2} + 1 & z_{2} & 0 & 0 & z_{2} + 1 & 1 & z_{2} + 1 & z_{2} \\\\\n",
       "z_{2} + 1 & z_{2} & 1 & z_{2} + 1 & z_{2} & 1 & 0 & 1 & 1 & z_{2} & z_{2} + 1 & 0 & 1 & z_{2} + 1 & z_{2} & 0 & 0 & z_{2} + 1 & 0 & 1 & 0 & z_{2} & z_{2} + 1 & 0 & 1 & z_{2} + 1 & z_{2} + 1 & 1 & z_{2} & z_{2} \\\\\n",
       "0 & z_{2} & z_{2} + 1 & 0 & 1 & z_{2} + 1 & z_{2} & z_{2} & 0 & 0 & z_{2} & 1 & z_{2} + 1 & 0 & z_{2} + 1 & 0 & z_{2} + 1 & 1 & z_{2} & z_{2} + 1 & z_{2} + 1 & z_{2} + 1 & z_{2} & 0 & 0 & z_{2} & z_{2} + 1 & z_{2} + 1 & z_{2} & 0 \\\\\n",
       "0 & 0 & 1 & z_{2} + 1 & 0 & 1 & 0 & z_{2} + 1 & z_{2} + 1 & z_{2} + 1 & 0 & 1 & 0 & 0 & z_{2} & 1 & 0 & z_{2} & z_{2} + 1 & z_{2} + 1 & z_{2} & 0 & 1 & 1 & 1 & 0 & 0 & 1 & z_{2} + 1 & z_{2} + 1 \\\\\n",
       "1 & 1 & z_{2} & z_{2} + 1 & z_{2} + 1 & 0 & 0 & z_{2} & z_{2} + 1 & z_{2} + 1 & 0 & z_{2} & z_{2} & 1 & z_{2} + 1 & z_{2} & 1 & z_{2} + 1 & z_{2} & 1 & z_{2} & 0 & z_{2} & 0 & 1 & z_{2} & 0 & z_{2} & 1 & 1 \\\\\n",
       "1 & z_{2} & z_{2} + 1 & z_{2} & 0 & 0 & 1 & z_{2} + 1 & 0 & z_{2} + 1 & 0 & z_{2} & z_{2} & z_{2} & z_{2} & 1 & 0 & z_{2} + 1 & z_{2} + 1 & z_{2} + 1 & 0 & 0 & z_{2} & 1 & 0 & z_{2} + 1 & z_{2} & z_{2} & z_{2} + 1 & z_{2} + 1 \\\\\n",
       "z_{2} + 1 & 1 & z_{2} + 1 & z_{2} + 1 & z_{2} & z_{2} + 1 & z_{2} & z_{2} + 1 & z_{2} + 1 & z_{2} + 1 & z_{2} + 1 & 0 & z_{2} & 1 & 0 & z_{2} + 1 & z_{2} + 1 & z_{2} & 1 & 1 & z_{2} + 1 & 0 & 0 & 1 & z_{2} & 0 & 1 & 1 & z_{2} + 1 & z_{2} + 1 \\\\\n",
       "z_{2} + 1 & 0 & 1 & 0 & z_{2} + 1 & 1 & z_{2} + 1 & z_{2} & 1 & 0 & 0 & 1 & z_{2} + 1 & z_{2} & 1 & z_{2} + 1 & 0 & 1 & z_{2} & z_{2} & 0 & 1 & z_{2} + 1 & z_{2} & 0 & 1 & 1 & z_{2} + 1 & z_{2} & z_{2}\n",
       "\\end{array}\\right)$$"
      ],
      "text/plain": [
       "20 x 30 dense matrix over Finite Field in z2 of size 2^2 (use the '.str()' method to see the entries)"
      ]
     },
     "metadata": {},
     "output_type": "display_data"
    },
    {
     "name": "stdout",
     "output_type": "stream",
     "text": [
      "\n",
      "Generator matrix:\n"
     ]
    },
    {
     "data": {
      "text/html": [
       "<html><script type=\"math/tex; mode=display\">\\newcommand{\\Bold}[1]{\\mathbf{#1}}\\left(\\begin{array}{rrrrrrrrrrrrrrrrrrrrrrrrrrrrrr}\n",
       "1 & 0 & 0 & 0 & 0 & 0 & 0 & 0 & 0 & 0 & z_{2} & 1 & z_{2} & 1 & 1 & 0 & 0 & z_{2} & 1 & 0 & 1 & z_{2} & z_{2} & z_{2} + 1 & 0 & 0 & z_{2} & z_{2} & z_{2} + 1 & 0 \\\\\n",
       "0 & 1 & 0 & 0 & 0 & 0 & 0 & 0 & 0 & 0 & 0 & 0 & 0 & z_{2} + 1 & 0 & z_{2} + 1 & 1 & 0 & 1 & z_{2} & 0 & z_{2} & 0 & 0 & 1 & z_{2} & z_{2} & 0 & z_{2} + 1 & z_{2} + 1 \\\\\n",
       "0 & 0 & 1 & 0 & 0 & 0 & 0 & 0 & 0 & 0 & 1 & 0 & z_{2} & 0 & z_{2} + 1 & z_{2} & z_{2} & z_{2} & 0 & 1 & z_{2} + 1 & z_{2} + 1 & 1 & z_{2} + 1 & z_{2} & 1 & 0 & 0 & 1 & 0 \\\\\n",
       "0 & 0 & 0 & 1 & 0 & 0 & 0 & 0 & 0 & 0 & z_{2} & z_{2} + 1 & z_{2} & 1 & z_{2} & 1 & 0 & 0 & 1 & z_{2} & z_{2} & 0 & z_{2} & 1 & z_{2} + 1 & z_{2} + 1 & z_{2} & z_{2} + 1 & z_{2} & z_{2} \\\\\n",
       "0 & 0 & 0 & 0 & 1 & 0 & 0 & 0 & 0 & 0 & 0 & z_{2} + 1 & z_{2} + 1 & z_{2} & z_{2} & z_{2} + 1 & 0 & 1 & 0 & 1 & 1 & 1 & 1 & z_{2} + 1 & 1 & z_{2} & 1 & z_{2} + 1 & z_{2} & z_{2} \\\\\n",
       "0 & 0 & 0 & 0 & 0 & 1 & 0 & 0 & 0 & 0 & 1 & z_{2} + 1 & z_{2} + 1 & 0 & z_{2} & 0 & 1 & 1 & 1 & 0 & 0 & z_{2} + 1 & z_{2} + 1 & 0 & z_{2} & 0 & z_{2} + 1 & z_{2} + 1 & 1 & z_{2} \\\\\n",
       "0 & 0 & 0 & 0 & 0 & 0 & 1 & 0 & 0 & 0 & 1 & 1 & 1 & 1 & 0 & z_{2} + 1 & z_{2} + 1 & 0 & z_{2} + 1 & z_{2} & z_{2} & 0 & z_{2} + 1 & 0 & z_{2} + 1 & 1 & 1 & z_{2} & 0 & 0 \\\\\n",
       "0 & 0 & 0 & 0 & 0 & 0 & 0 & 1 & 0 & 0 & 1 & z_{2} + 1 & 0 & z_{2} + 1 & z_{2} + 1 & 1 & z_{2} & z_{2} & z_{2} & z_{2} + 1 & z_{2} + 1 & z_{2} + 1 & z_{2} + 1 & 1 & z_{2} & z_{2} & z_{2} & z_{2} + 1 & 1 & z_{2} \\\\\n",
       "0 & 0 & 0 & 0 & 0 & 0 & 0 & 0 & 1 & 0 & 1 & z_{2} + 1 & 0 & z_{2} + 1 & z_{2} & z_{2} & z_{2} + 1 & z_{2} & 0 & 0 & 0 & z_{2} & 1 & 1 & 0 & 0 & 0 & z_{2} & 1 & 1 \\\\\n",
       "0 & 0 & 0 & 0 & 0 & 0 & 0 & 0 & 0 & 1 & z_{2} + 1 & z_{2} + 1 & z_{2} & 0 & 1 & z_{2} + 1 & z_{2} & 1 & z_{2} + 1 & 0 & z_{2} & z_{2} + 1 & z_{2} & 1 & 0 & z_{2} + 1 & 1 & z_{2} + 1 & z_{2} + 1 & 0\n",
       "\\end{array}\\right)</script></html>"
      ],
      "text/latex": [
       "$$\\newcommand{\\Bold}[1]{\\mathbf{#1}}\\left(\\begin{array}{rrrrrrrrrrrrrrrrrrrrrrrrrrrrrr}\n",
       "1 & 0 & 0 & 0 & 0 & 0 & 0 & 0 & 0 & 0 & z_{2} & 1 & z_{2} & 1 & 1 & 0 & 0 & z_{2} & 1 & 0 & 1 & z_{2} & z_{2} & z_{2} + 1 & 0 & 0 & z_{2} & z_{2} & z_{2} + 1 & 0 \\\\\n",
       "0 & 1 & 0 & 0 & 0 & 0 & 0 & 0 & 0 & 0 & 0 & 0 & 0 & z_{2} + 1 & 0 & z_{2} + 1 & 1 & 0 & 1 & z_{2} & 0 & z_{2} & 0 & 0 & 1 & z_{2} & z_{2} & 0 & z_{2} + 1 & z_{2} + 1 \\\\\n",
       "0 & 0 & 1 & 0 & 0 & 0 & 0 & 0 & 0 & 0 & 1 & 0 & z_{2} & 0 & z_{2} + 1 & z_{2} & z_{2} & z_{2} & 0 & 1 & z_{2} + 1 & z_{2} + 1 & 1 & z_{2} + 1 & z_{2} & 1 & 0 & 0 & 1 & 0 \\\\\n",
       "0 & 0 & 0 & 1 & 0 & 0 & 0 & 0 & 0 & 0 & z_{2} & z_{2} + 1 & z_{2} & 1 & z_{2} & 1 & 0 & 0 & 1 & z_{2} & z_{2} & 0 & z_{2} & 1 & z_{2} + 1 & z_{2} + 1 & z_{2} & z_{2} + 1 & z_{2} & z_{2} \\\\\n",
       "0 & 0 & 0 & 0 & 1 & 0 & 0 & 0 & 0 & 0 & 0 & z_{2} + 1 & z_{2} + 1 & z_{2} & z_{2} & z_{2} + 1 & 0 & 1 & 0 & 1 & 1 & 1 & 1 & z_{2} + 1 & 1 & z_{2} & 1 & z_{2} + 1 & z_{2} & z_{2} \\\\\n",
       "0 & 0 & 0 & 0 & 0 & 1 & 0 & 0 & 0 & 0 & 1 & z_{2} + 1 & z_{2} + 1 & 0 & z_{2} & 0 & 1 & 1 & 1 & 0 & 0 & z_{2} + 1 & z_{2} + 1 & 0 & z_{2} & 0 & z_{2} + 1 & z_{2} + 1 & 1 & z_{2} \\\\\n",
       "0 & 0 & 0 & 0 & 0 & 0 & 1 & 0 & 0 & 0 & 1 & 1 & 1 & 1 & 0 & z_{2} + 1 & z_{2} + 1 & 0 & z_{2} + 1 & z_{2} & z_{2} & 0 & z_{2} + 1 & 0 & z_{2} + 1 & 1 & 1 & z_{2} & 0 & 0 \\\\\n",
       "0 & 0 & 0 & 0 & 0 & 0 & 0 & 1 & 0 & 0 & 1 & z_{2} + 1 & 0 & z_{2} + 1 & z_{2} + 1 & 1 & z_{2} & z_{2} & z_{2} & z_{2} + 1 & z_{2} + 1 & z_{2} + 1 & z_{2} + 1 & 1 & z_{2} & z_{2} & z_{2} & z_{2} + 1 & 1 & z_{2} \\\\\n",
       "0 & 0 & 0 & 0 & 0 & 0 & 0 & 0 & 1 & 0 & 1 & z_{2} + 1 & 0 & z_{2} + 1 & z_{2} & z_{2} & z_{2} + 1 & z_{2} & 0 & 0 & 0 & z_{2} & 1 & 1 & 0 & 0 & 0 & z_{2} & 1 & 1 \\\\\n",
       "0 & 0 & 0 & 0 & 0 & 0 & 0 & 0 & 0 & 1 & z_{2} + 1 & z_{2} + 1 & z_{2} & 0 & 1 & z_{2} + 1 & z_{2} & 1 & z_{2} + 1 & 0 & z_{2} & z_{2} + 1 & z_{2} & 1 & 0 & z_{2} + 1 & 1 & z_{2} + 1 & z_{2} + 1 & 0\n",
       "\\end{array}\\right)$$"
      ],
      "text/plain": [
       "[     1      0      0      0      0      0      0      0      0      0     z2      1     z2      1      1      0      0     z2      1      0      1     z2     z2 z2 + 1      0      0     z2     z2 z2 + 1      0]\n",
       "[     0      1      0      0      0      0      0      0      0      0      0      0      0 z2 + 1      0 z2 + 1      1      0      1     z2      0     z2      0      0      1     z2     z2      0 z2 + 1 z2 + 1]\n",
       "[     0      0      1      0      0      0      0      0      0      0      1      0     z2      0 z2 + 1     z2     z2     z2      0      1 z2 + 1 z2 + 1      1 z2 + 1     z2      1      0      0      1      0]\n",
       "[     0      0      0      1      0      0      0      0      0      0     z2 z2 + 1     z2      1     z2      1      0      0      1     z2     z2      0     z2      1 z2 + 1 z2 + 1     z2 z2 + 1     z2     z2]\n",
       "[     0      0      0      0      1      0      0      0      0      0      0 z2 + 1 z2 + 1     z2     z2 z2 + 1      0      1      0      1      1      1      1 z2 + 1      1     z2      1 z2 + 1     z2     z2]\n",
       "[     0      0      0      0      0      1      0      0      0      0      1 z2 + 1 z2 + 1      0     z2      0      1      1      1      0      0 z2 + 1 z2 + 1      0     z2      0 z2 + 1 z2 + 1      1     z2]\n",
       "[     0      0      0      0      0      0      1      0      0      0      1      1      1      1      0 z2 + 1 z2 + 1      0 z2 + 1     z2     z2      0 z2 + 1      0 z2 + 1      1      1     z2      0      0]\n",
       "[     0      0      0      0      0      0      0      1      0      0      1 z2 + 1      0 z2 + 1 z2 + 1      1     z2     z2     z2 z2 + 1 z2 + 1 z2 + 1 z2 + 1      1     z2     z2     z2 z2 + 1      1     z2]\n",
       "[     0      0      0      0      0      0      0      0      1      0      1 z2 + 1      0 z2 + 1     z2     z2 z2 + 1     z2      0      0      0     z2      1      1      0      0      0     z2      1      1]\n",
       "[     0      0      0      0      0      0      0      0      0      1 z2 + 1 z2 + 1     z2      0      1 z2 + 1     z2      1 z2 + 1      0     z2 z2 + 1     z2      1      0 z2 + 1      1 z2 + 1 z2 + 1      0]"
      ]
     },
     "metadata": {},
     "output_type": "display_data"
    }
   ],
   "source": [
    "# Goppa code\n",
    "C = Goppa(defining_set, g, F)\n",
    "\n",
    "print(\"Goppa code:\")\n",
    "print(C)\n",
    "\n",
    "print(\"\\nParity matrix:\")\n",
    "H = C.get_parity_check_matrix()\n",
    "show(H)\n",
    "#print(latex(H))\n",
    "\n",
    "print(\"\\nGenerator matrix:\")\n",
    "G = C.get_generator_matrix()\n",
    "show(G)\n",
    "#print(latex(G))"
   ]
  },
  {
   "cell_type": "code",
   "execution_count": 17,
   "metadata": {},
   "outputs": [
    {
     "name": "stdout",
     "output_type": "stream",
     "text": [
      "\n",
      "Goppa encoder:\n",
      "Encoder for [30, 10] Goppa code\n",
      "\n",
      "Word to encode:\n",
      "(0, 1, 0, z2 + 1, 1, z2, z2 + 1, 0, 0, z2)\n",
      "\n",
      "Word encoded:\n",
      "x = (0, 1, 0, z2 + 1, 1, z2, z2 + 1, 0, 0, z2, 1, z2, z2 + 1, 1, z2, 0, z2, 1, z2 + 1, z2 + 1, z2, z2 + 1, 0, z2, z2 + 1, 0, z2, 0, z2 + 1, z2 + 1)\n",
      "\n",
      "Errors added to x:\n",
      "e = (z2, 0, 0, 0, 0, 0, 0, 0, 0, 0, 0, 0, 0, 0, 0, 0, 0, 0, 0, 0, 1, 0, 0, 0, 0, 0, 0, 0, 0, 0)\n",
      "\n",
      "Word encoded with errors (y = x + e):\n",
      "y = (z2, 1, 0, z2 + 1, 1, z2, z2 + 1, 0, 0, z2, 1, z2, z2 + 1, 1, z2, 0, z2, 1, z2 + 1, z2 + 1, z2 + 1, z2 + 1, 0, z2, z2 + 1, 0, z2, 0, z2 + 1, z2 + 1)\n"
     ]
    }
   ],
   "source": [
    "# Encoder of C\n",
    "E = GoppaEncoder(C)\n",
    "\n",
    "print(\"\\nGoppa encoder:\")\n",
    "print(E)\n",
    "\n",
    "print(\"\\nWord to encode:\")\n",
    "word = random_word(G.nrows(), F)\n",
    "print(word)\n",
    "\n",
    "print(\"\\nWord encoded:\")\n",
    "x = E.encode(word)\n",
    "print(\"x = \" + str(x))\n",
    "\n",
    "print(\"\\nErrors added to x:\")\n",
    "num_errors = floor(g.degree()/2)\n",
    "e = random_error(len(x), num_errors, F)\n",
    "print(\"e = \" + str(e))\n",
    "\n",
    "print(\"\\nWord encoded with errors (y = x + e):\")\n",
    "y = x + e\n",
    "print(\"y = \" + str(y))"
   ]
  },
  {
   "cell_type": "code",
   "execution_count": 18,
   "metadata": {},
   "outputs": [
    {
     "name": "stdout",
     "output_type": "stream",
     "text": [
      "\n",
      "Decode to code `y`:\n",
      "x = (0, 1, 0, z2 + 1, 1, z2, z2 + 1, 0, 0, z2, 1, z2, z2 + 1, 1, z2, 0, z2, 1, z2 + 1, z2 + 1, z2, z2 + 1, 0, z2, z2 + 1, 0, z2, 0, z2 + 1, z2 + 1)\n",
      "\n",
      "Decode to message `y`:\n",
      "(0, 1, 0, z2 + 1, 1, z2, z2 + 1, 0, 0, z2)\n"
     ]
    }
   ],
   "source": [
    "# Decoder of C\n",
    "D = GoppaDecoder(C)\n",
    "\n",
    "print(\"\\nDecode to code `y`:\")\n",
    "x2 = D.decode_to_code(y)\n",
    "print(\"x = \" + str(x2))\n",
    "\n",
    "print(\"\\nDecode to message `y`:\")\n",
    "word2 = D.decode_to_message(y)\n",
    "print(word2)"
   ]
  },
  {
   "cell_type": "code",
   "execution_count": 19,
   "metadata": {},
   "outputs": [
    {
     "data": {
      "text/plain": [
       "True"
      ]
     },
     "execution_count": 19,
     "metadata": {},
     "output_type": "execute_result"
    }
   ],
   "source": [
    "x == x2"
   ]
  },
  {
   "cell_type": "code",
   "execution_count": 20,
   "metadata": {},
   "outputs": [
    {
     "data": {
      "text/plain": [
       "True"
      ]
     },
     "execution_count": 20,
     "metadata": {},
     "output_type": "execute_result"
    }
   ],
   "source": [
    "word == word2"
   ]
  },
  {
   "cell_type": "markdown",
   "metadata": {},
   "source": [
    " #### Example 3"
   ]
  },
  {
   "cell_type": "code",
   "execution_count": 21,
   "metadata": {},
   "outputs": [],
   "source": [
    "F = GF(3)\n",
    "L = GF(3^6)\n",
    "a = L.gen()\n",
    "b = F.gen()\n",
    "R.<x> = L[]      \n",
    "g = x^4 + a*x + 1 + a^2\n",
    "n = 35\n",
    "defining_set = get_defining_set(n, g, L)"
   ]
  },
  {
   "cell_type": "code",
   "execution_count": 22,
   "metadata": {},
   "outputs": [
    {
     "name": "stdout",
     "output_type": "stream",
     "text": [
      "Goppa code:\n",
      "[35, 11] Goppa code\n",
      "\n",
      "Parity matrix:\n"
     ]
    },
    {
     "data": {
      "text/html": [
       "<html><script type=\"math/tex; mode=display\">\\newcommand{\\Bold}[1]{\\mathbf{#1}}\\left(\\begin{array}{rrrrrrrrrrrrrrrrrrrrrrrrrrrrrrrrrrr}\n",
       "0 & 1 & 2 & 0 & 0 & 1 & 0 & 1 & 0 & 0 & 0 & 2 & 2 & 2 & 0 & 0 & 0 & 0 & 1 & 1 & 0 & 2 & 2 & 0 & 1 & 2 & 2 & 2 & 2 & 2 & 0 & 2 & 2 & 0 & 0 \\\\\n",
       "2 & 1 & 1 & 1 & 0 & 2 & 2 & 0 & 1 & 1 & 2 & 1 & 0 & 2 & 2 & 0 & 0 & 0 & 2 & 2 & 0 & 0 & 2 & 2 & 1 & 0 & 0 & 2 & 0 & 2 & 0 & 1 & 0 & 2 & 2 \\\\\n",
       "1 & 1 & 2 & 1 & 2 & 0 & 2 & 2 & 2 & 1 & 0 & 1 & 0 & 0 & 2 & 1 & 2 & 2 & 0 & 2 & 1 & 2 & 0 & 0 & 0 & 1 & 0 & 2 & 1 & 1 & 1 & 1 & 0 & 1 & 1 \\\\\n",
       "0 & 0 & 2 & 0 & 1 & 2 & 1 & 0 & 1 & 2 & 0 & 1 & 1 & 0 & 1 & 0 & 0 & 2 & 0 & 1 & 1 & 1 & 2 & 2 & 1 & 2 & 0 & 1 & 0 & 1 & 1 & 1 & 2 & 2 & 2 \\\\\n",
       "2 & 2 & 1 & 0 & 1 & 1 & 1 & 2 & 1 & 0 & 0 & 1 & 2 & 0 & 0 & 2 & 1 & 2 & 2 & 0 & 0 & 2 & 2 & 1 & 1 & 1 & 1 & 0 & 2 & 0 & 0 & 1 & 1 & 2 & 1 \\\\\n",
       "2 & 0 & 2 & 2 & 1 & 2 & 2 & 0 & 0 & 0 & 0 & 2 & 0 & 0 & 1 & 0 & 0 & 2 & 2 & 2 & 0 & 0 & 2 & 2 & 2 & 1 & 1 & 0 & 0 & 2 & 0 & 2 & 1 & 0 & 1 \\\\\n",
       "1 & 2 & 1 & 1 & 0 & 2 & 0 & 1 & 1 & 2 & 0 & 2 & 0 & 0 & 1 & 0 & 2 & 1 & 1 & 0 & 2 & 1 & 2 & 2 & 0 & 1 & 2 & 1 & 1 & 2 & 1 & 1 & 0 & 0 & 0 \\\\\n",
       "1 & 2 & 0 & 2 & 1 & 2 & 0 & 0 & 0 & 0 & 2 & 2 & 2 & 0 & 2 & 1 & 1 & 0 & 0 & 1 & 0 & 0 & 1 & 1 & 0 & 2 & 1 & 0 & 1 & 0 & 0 & 2 & 2 & 2 & 1 \\\\\n",
       "2 & 0 & 0 & 2 & 1 & 1 & 0 & 2 & 2 & 2 & 2 & 1 & 2 & 2 & 1 & 2 & 0 & 0 & 2 & 1 & 2 & 0 & 2 & 0 & 2 & 1 & 0 & 1 & 0 & 2 & 0 & 0 & 1 & 1 & 2 \\\\\n",
       "1 & 1 & 1 & 1 & 1 & 2 & 0 & 2 & 1 & 1 & 2 & 0 & 1 & 2 & 0 & 2 & 1 & 1 & 2 & 2 & 1 & 0 & 1 & 1 & 0 & 2 & 1 & 2 & 0 & 0 & 0 & 0 & 2 & 1 & 2 \\\\\n",
       "2 & 2 & 2 & 1 & 0 & 0 & 1 & 2 & 0 & 0 & 0 & 1 & 0 & 1 & 1 & 2 & 1 & 0 & 0 & 2 & 0 & 1 & 1 & 2 & 1 & 0 & 1 & 1 & 0 & 0 & 0 & 0 & 0 & 2 & 0 \\\\\n",
       "1 & 0 & 0 & 1 & 1 & 2 & 2 & 1 & 2 & 2 & 0 & 2 & 1 & 1 & 1 & 2 & 1 & 1 & 2 & 2 & 1 & 2 & 0 & 2 & 2 & 2 & 2 & 0 & 1 & 0 & 2 & 2 & 2 & 1 & 0 \\\\\n",
       "2 & 0 & 2 & 2 & 0 & 2 & 0 & 2 & 1 & 1 & 0 & 2 & 0 & 0 & 0 & 1 & 1 & 0 & 2 & 2 & 0 & 1 & 0 & 0 & 0 & 1 & 1 & 2 & 0 & 1 & 0 & 2 & 1 & 2 & 0 \\\\\n",
       "2 & 1 & 2 & 0 & 0 & 1 & 2 & 2 & 0 & 2 & 2 & 1 & 0 & 0 & 2 & 0 & 1 & 1 & 1 & 2 & 2 & 1 & 1 & 1 & 2 & 1 & 0 & 0 & 0 & 2 & 2 & 2 & 2 & 1 & 1 \\\\\n",
       "0 & 0 & 2 & 1 & 2 & 2 & 0 & 0 & 1 & 0 & 0 & 1 & 1 & 1 & 0 & 2 & 0 & 0 & 0 & 2 & 0 & 2 & 1 & 1 & 1 & 1 & 2 & 1 & 0 & 1 & 0 & 0 & 0 & 1 & 0 \\\\\n",
       "2 & 0 & 1 & 1 & 2 & 2 & 1 & 1 & 2 & 0 & 0 & 2 & 1 & 2 & 2 & 1 & 2 & 2 & 1 & 0 & 1 & 2 & 2 & 1 & 2 & 2 & 2 & 0 & 1 & 1 & 1 & 1 & 2 & 1 & 0 \\\\\n",
       "1 & 1 & 2 & 1 & 2 & 2 & 0 & 1 & 0 & 1 & 1 & 0 & 1 & 1 & 0 & 2 & 1 & 2 & 2 & 1 & 0 & 0 & 0 & 2 & 2 & 2 & 1 & 2 & 1 & 2 & 2 & 2 & 1 & 1 & 1 \\\\\n",
       "2 & 1 & 1 & 1 & 0 & 2 & 2 & 1 & 0 & 2 & 1 & 2 & 0 & 1 & 1 & 1 & 0 & 0 & 2 & 0 & 2 & 2 & 1 & 0 & 0 & 1 & 0 & 2 & 0 & 0 & 0 & 2 & 0 & 1 & 0 \\\\\n",
       "0 & 2 & 1 & 0 & 0 & 2 & 2 & 1 & 2 & 2 & 0 & 0 & 1 & 1 & 1 & 2 & 0 & 1 & 2 & 1 & 2 & 2 & 1 & 0 & 2 & 2 & 0 & 0 & 2 & 0 & 0 & 1 & 2 & 2 & 2 \\\\\n",
       "0 & 1 & 1 & 2 & 0 & 2 & 0 & 2 & 2 & 1 & 0 & 1 & 1 & 1 & 1 & 0 & 1 & 2 & 0 & 1 & 1 & 2 & 1 & 2 & 0 & 1 & 0 & 1 & 2 & 2 & 1 & 2 & 2 & 2 & 0 \\\\\n",
       "0 & 0 & 1 & 1 & 1 & 0 & 0 & 1 & 2 & 2 & 2 & 1 & 1 & 1 & 0 & 0 & 1 & 1 & 0 & 0 & 0 & 2 & 0 & 2 & 1 & 2 & 2 & 0 & 1 & 0 & 0 & 1 & 1 & 1 & 1 \\\\\n",
       "1 & 1 & 0 & 2 & 1 & 1 & 1 & 1 & 1 & 1 & 0 & 2 & 2 & 1 & 1 & 2 & 0 & 1 & 1 & 1 & 1 & 2 & 0 & 1 & 1 & 1 & 2 & 2 & 1 & 1 & 0 & 2 & 1 & 1 & 0 \\\\\n",
       "2 & 2 & 1 & 0 & 2 & 2 & 2 & 2 & 0 & 0 & 1 & 1 & 1 & 0 & 0 & 2 & 0 & 0 & 0 & 1 & 2 & 2 & 1 & 2 & 1 & 0 & 2 & 2 & 2 & 2 & 0 & 1 & 2 & 1 & 2 \\\\\n",
       "0 & 1 & 0 & 1 & 0 & 0 & 1 & 1 & 2 & 1 & 0 & 1 & 0 & 0 & 0 & 0 & 2 & 0 & 1 & 2 & 2 & 2 & 1 & 0 & 2 & 2 & 0 & 2 & 0 & 0 & 0 & 0 & 2 & 1 & 0\n",
       "\\end{array}\\right)</script></html>"
      ],
      "text/latex": [
       "$$\\newcommand{\\Bold}[1]{\\mathbf{#1}}\\left(\\begin{array}{rrrrrrrrrrrrrrrrrrrrrrrrrrrrrrrrrrr}\n",
       "0 & 1 & 2 & 0 & 0 & 1 & 0 & 1 & 0 & 0 & 0 & 2 & 2 & 2 & 0 & 0 & 0 & 0 & 1 & 1 & 0 & 2 & 2 & 0 & 1 & 2 & 2 & 2 & 2 & 2 & 0 & 2 & 2 & 0 & 0 \\\\\n",
       "2 & 1 & 1 & 1 & 0 & 2 & 2 & 0 & 1 & 1 & 2 & 1 & 0 & 2 & 2 & 0 & 0 & 0 & 2 & 2 & 0 & 0 & 2 & 2 & 1 & 0 & 0 & 2 & 0 & 2 & 0 & 1 & 0 & 2 & 2 \\\\\n",
       "1 & 1 & 2 & 1 & 2 & 0 & 2 & 2 & 2 & 1 & 0 & 1 & 0 & 0 & 2 & 1 & 2 & 2 & 0 & 2 & 1 & 2 & 0 & 0 & 0 & 1 & 0 & 2 & 1 & 1 & 1 & 1 & 0 & 1 & 1 \\\\\n",
       "0 & 0 & 2 & 0 & 1 & 2 & 1 & 0 & 1 & 2 & 0 & 1 & 1 & 0 & 1 & 0 & 0 & 2 & 0 & 1 & 1 & 1 & 2 & 2 & 1 & 2 & 0 & 1 & 0 & 1 & 1 & 1 & 2 & 2 & 2 \\\\\n",
       "2 & 2 & 1 & 0 & 1 & 1 & 1 & 2 & 1 & 0 & 0 & 1 & 2 & 0 & 0 & 2 & 1 & 2 & 2 & 0 & 0 & 2 & 2 & 1 & 1 & 1 & 1 & 0 & 2 & 0 & 0 & 1 & 1 & 2 & 1 \\\\\n",
       "2 & 0 & 2 & 2 & 1 & 2 & 2 & 0 & 0 & 0 & 0 & 2 & 0 & 0 & 1 & 0 & 0 & 2 & 2 & 2 & 0 & 0 & 2 & 2 & 2 & 1 & 1 & 0 & 0 & 2 & 0 & 2 & 1 & 0 & 1 \\\\\n",
       "1 & 2 & 1 & 1 & 0 & 2 & 0 & 1 & 1 & 2 & 0 & 2 & 0 & 0 & 1 & 0 & 2 & 1 & 1 & 0 & 2 & 1 & 2 & 2 & 0 & 1 & 2 & 1 & 1 & 2 & 1 & 1 & 0 & 0 & 0 \\\\\n",
       "1 & 2 & 0 & 2 & 1 & 2 & 0 & 0 & 0 & 0 & 2 & 2 & 2 & 0 & 2 & 1 & 1 & 0 & 0 & 1 & 0 & 0 & 1 & 1 & 0 & 2 & 1 & 0 & 1 & 0 & 0 & 2 & 2 & 2 & 1 \\\\\n",
       "2 & 0 & 0 & 2 & 1 & 1 & 0 & 2 & 2 & 2 & 2 & 1 & 2 & 2 & 1 & 2 & 0 & 0 & 2 & 1 & 2 & 0 & 2 & 0 & 2 & 1 & 0 & 1 & 0 & 2 & 0 & 0 & 1 & 1 & 2 \\\\\n",
       "1 & 1 & 1 & 1 & 1 & 2 & 0 & 2 & 1 & 1 & 2 & 0 & 1 & 2 & 0 & 2 & 1 & 1 & 2 & 2 & 1 & 0 & 1 & 1 & 0 & 2 & 1 & 2 & 0 & 0 & 0 & 0 & 2 & 1 & 2 \\\\\n",
       "2 & 2 & 2 & 1 & 0 & 0 & 1 & 2 & 0 & 0 & 0 & 1 & 0 & 1 & 1 & 2 & 1 & 0 & 0 & 2 & 0 & 1 & 1 & 2 & 1 & 0 & 1 & 1 & 0 & 0 & 0 & 0 & 0 & 2 & 0 \\\\\n",
       "1 & 0 & 0 & 1 & 1 & 2 & 2 & 1 & 2 & 2 & 0 & 2 & 1 & 1 & 1 & 2 & 1 & 1 & 2 & 2 & 1 & 2 & 0 & 2 & 2 & 2 & 2 & 0 & 1 & 0 & 2 & 2 & 2 & 1 & 0 \\\\\n",
       "2 & 0 & 2 & 2 & 0 & 2 & 0 & 2 & 1 & 1 & 0 & 2 & 0 & 0 & 0 & 1 & 1 & 0 & 2 & 2 & 0 & 1 & 0 & 0 & 0 & 1 & 1 & 2 & 0 & 1 & 0 & 2 & 1 & 2 & 0 \\\\\n",
       "2 & 1 & 2 & 0 & 0 & 1 & 2 & 2 & 0 & 2 & 2 & 1 & 0 & 0 & 2 & 0 & 1 & 1 & 1 & 2 & 2 & 1 & 1 & 1 & 2 & 1 & 0 & 0 & 0 & 2 & 2 & 2 & 2 & 1 & 1 \\\\\n",
       "0 & 0 & 2 & 1 & 2 & 2 & 0 & 0 & 1 & 0 & 0 & 1 & 1 & 1 & 0 & 2 & 0 & 0 & 0 & 2 & 0 & 2 & 1 & 1 & 1 & 1 & 2 & 1 & 0 & 1 & 0 & 0 & 0 & 1 & 0 \\\\\n",
       "2 & 0 & 1 & 1 & 2 & 2 & 1 & 1 & 2 & 0 & 0 & 2 & 1 & 2 & 2 & 1 & 2 & 2 & 1 & 0 & 1 & 2 & 2 & 1 & 2 & 2 & 2 & 0 & 1 & 1 & 1 & 1 & 2 & 1 & 0 \\\\\n",
       "1 & 1 & 2 & 1 & 2 & 2 & 0 & 1 & 0 & 1 & 1 & 0 & 1 & 1 & 0 & 2 & 1 & 2 & 2 & 1 & 0 & 0 & 0 & 2 & 2 & 2 & 1 & 2 & 1 & 2 & 2 & 2 & 1 & 1 & 1 \\\\\n",
       "2 & 1 & 1 & 1 & 0 & 2 & 2 & 1 & 0 & 2 & 1 & 2 & 0 & 1 & 1 & 1 & 0 & 0 & 2 & 0 & 2 & 2 & 1 & 0 & 0 & 1 & 0 & 2 & 0 & 0 & 0 & 2 & 0 & 1 & 0 \\\\\n",
       "0 & 2 & 1 & 0 & 0 & 2 & 2 & 1 & 2 & 2 & 0 & 0 & 1 & 1 & 1 & 2 & 0 & 1 & 2 & 1 & 2 & 2 & 1 & 0 & 2 & 2 & 0 & 0 & 2 & 0 & 0 & 1 & 2 & 2 & 2 \\\\\n",
       "0 & 1 & 1 & 2 & 0 & 2 & 0 & 2 & 2 & 1 & 0 & 1 & 1 & 1 & 1 & 0 & 1 & 2 & 0 & 1 & 1 & 2 & 1 & 2 & 0 & 1 & 0 & 1 & 2 & 2 & 1 & 2 & 2 & 2 & 0 \\\\\n",
       "0 & 0 & 1 & 1 & 1 & 0 & 0 & 1 & 2 & 2 & 2 & 1 & 1 & 1 & 0 & 0 & 1 & 1 & 0 & 0 & 0 & 2 & 0 & 2 & 1 & 2 & 2 & 0 & 1 & 0 & 0 & 1 & 1 & 1 & 1 \\\\\n",
       "1 & 1 & 0 & 2 & 1 & 1 & 1 & 1 & 1 & 1 & 0 & 2 & 2 & 1 & 1 & 2 & 0 & 1 & 1 & 1 & 1 & 2 & 0 & 1 & 1 & 1 & 2 & 2 & 1 & 1 & 0 & 2 & 1 & 1 & 0 \\\\\n",
       "2 & 2 & 1 & 0 & 2 & 2 & 2 & 2 & 0 & 0 & 1 & 1 & 1 & 0 & 0 & 2 & 0 & 0 & 0 & 1 & 2 & 2 & 1 & 2 & 1 & 0 & 2 & 2 & 2 & 2 & 0 & 1 & 2 & 1 & 2 \\\\\n",
       "0 & 1 & 0 & 1 & 0 & 0 & 1 & 1 & 2 & 1 & 0 & 1 & 0 & 0 & 0 & 0 & 2 & 0 & 1 & 2 & 2 & 2 & 1 & 0 & 2 & 2 & 0 & 2 & 0 & 0 & 0 & 0 & 2 & 1 & 0\n",
       "\\end{array}\\right)$$"
      ],
      "text/plain": [
       "24 x 35 dense matrix over Finite Field of size 3 (use the '.str()' method to see the entries)"
      ]
     },
     "metadata": {},
     "output_type": "display_data"
    },
    {
     "name": "stdout",
     "output_type": "stream",
     "text": [
      "\n",
      "Generator matrix:\n"
     ]
    },
    {
     "data": {
      "text/html": [
       "<html><script type=\"math/tex; mode=display\">\\newcommand{\\Bold}[1]{\\mathbf{#1}}\\left(\\begin{array}{rrrrrrrrrrrrrrrrrrrrrrrrrrrrrrrrrrr}\n",
       "1 & 0 & 0 & 0 & 0 & 0 & 0 & 0 & 0 & 0 & 0 & 0 & 2 & 2 & 0 & 2 & 2 & 2 & 1 & 0 & 1 & 1 & 0 & 1 & 2 & 2 & 2 & 2 & 0 & 2 & 1 & 1 & 1 & 1 & 2 \\\\\n",
       "0 & 1 & 0 & 0 & 0 & 0 & 0 & 0 & 0 & 0 & 0 & 1 & 2 & 1 & 2 & 2 & 1 & 2 & 0 & 0 & 1 & 1 & 0 & 1 & 0 & 1 & 1 & 0 & 0 & 1 & 0 & 1 & 1 & 0 & 1 \\\\\n",
       "0 & 0 & 1 & 0 & 0 & 0 & 0 & 0 & 0 & 0 & 0 & 1 & 1 & 0 & 2 & 2 & 0 & 2 & 2 & 2 & 0 & 2 & 2 & 0 & 0 & 2 & 0 & 1 & 2 & 0 & 1 & 0 & 1 & 0 & 2 \\\\\n",
       "0 & 0 & 0 & 1 & 0 & 0 & 0 & 0 & 0 & 0 & 0 & 1 & 2 & 2 & 1 & 1 & 2 & 2 & 2 & 0 & 1 & 0 & 1 & 0 & 0 & 2 & 1 & 2 & 2 & 2 & 2 & 0 & 2 & 1 & 0 \\\\\n",
       "0 & 0 & 0 & 0 & 1 & 0 & 0 & 0 & 0 & 0 & 0 & 0 & 0 & 1 & 0 & 1 & 1 & 2 & 2 & 1 & 0 & 1 & 0 & 0 & 0 & 0 & 2 & 1 & 0 & 0 & 1 & 2 & 2 & 1 & 2 \\\\\n",
       "0 & 0 & 0 & 0 & 0 & 1 & 0 & 0 & 0 & 0 & 0 & 1 & 0 & 2 & 1 & 2 & 2 & 2 & 0 & 2 & 1 & 0 & 2 & 1 & 1 & 2 & 0 & 0 & 2 & 1 & 1 & 1 & 2 & 1 & 1 \\\\\n",
       "0 & 0 & 0 & 0 & 0 & 0 & 1 & 0 & 0 & 0 & 0 & 0 & 1 & 2 & 1 & 2 & 1 & 1 & 2 & 1 & 1 & 1 & 2 & 2 & 0 & 1 & 2 & 1 & 1 & 0 & 1 & 2 & 2 & 0 & 2 \\\\\n",
       "0 & 0 & 0 & 0 & 0 & 0 & 0 & 1 & 0 & 0 & 0 & 0 & 1 & 1 & 2 & 2 & 1 & 0 & 0 & 1 & 0 & 1 & 2 & 0 & 1 & 1 & 0 & 1 & 2 & 1 & 2 & 0 & 2 & 2 & 0 \\\\\n",
       "0 & 0 & 0 & 0 & 0 & 0 & 0 & 0 & 1 & 0 & 0 & 0 & 1 & 1 & 0 & 0 & 0 & 2 & 2 & 1 & 1 & 0 & 1 & 2 & 1 & 2 & 2 & 0 & 0 & 1 & 0 & 0 & 2 & 2 & 1 \\\\\n",
       "0 & 0 & 0 & 0 & 0 & 0 & 0 & 0 & 0 & 1 & 0 & 2 & 1 & 0 & 0 & 1 & 1 & 0 & 2 & 0 & 2 & 0 & 0 & 1 & 1 & 0 & 2 & 1 & 2 & 1 & 1 & 1 & 2 & 2 & 1 \\\\\n",
       "0 & 0 & 0 & 0 & 0 & 0 & 0 & 0 & 0 & 0 & 1 & 1 & 0 & 2 & 1 & 1 & 0 & 1 & 1 & 2 & 0 & 2 & 1 & 0 & 0 & 0 & 2 & 1 & 1 & 1 & 2 & 2 & 2 & 1 & 1\n",
       "\\end{array}\\right)</script></html>"
      ],
      "text/latex": [
       "$$\\newcommand{\\Bold}[1]{\\mathbf{#1}}\\left(\\begin{array}{rrrrrrrrrrrrrrrrrrrrrrrrrrrrrrrrrrr}\n",
       "1 & 0 & 0 & 0 & 0 & 0 & 0 & 0 & 0 & 0 & 0 & 0 & 2 & 2 & 0 & 2 & 2 & 2 & 1 & 0 & 1 & 1 & 0 & 1 & 2 & 2 & 2 & 2 & 0 & 2 & 1 & 1 & 1 & 1 & 2 \\\\\n",
       "0 & 1 & 0 & 0 & 0 & 0 & 0 & 0 & 0 & 0 & 0 & 1 & 2 & 1 & 2 & 2 & 1 & 2 & 0 & 0 & 1 & 1 & 0 & 1 & 0 & 1 & 1 & 0 & 0 & 1 & 0 & 1 & 1 & 0 & 1 \\\\\n",
       "0 & 0 & 1 & 0 & 0 & 0 & 0 & 0 & 0 & 0 & 0 & 1 & 1 & 0 & 2 & 2 & 0 & 2 & 2 & 2 & 0 & 2 & 2 & 0 & 0 & 2 & 0 & 1 & 2 & 0 & 1 & 0 & 1 & 0 & 2 \\\\\n",
       "0 & 0 & 0 & 1 & 0 & 0 & 0 & 0 & 0 & 0 & 0 & 1 & 2 & 2 & 1 & 1 & 2 & 2 & 2 & 0 & 1 & 0 & 1 & 0 & 0 & 2 & 1 & 2 & 2 & 2 & 2 & 0 & 2 & 1 & 0 \\\\\n",
       "0 & 0 & 0 & 0 & 1 & 0 & 0 & 0 & 0 & 0 & 0 & 0 & 0 & 1 & 0 & 1 & 1 & 2 & 2 & 1 & 0 & 1 & 0 & 0 & 0 & 0 & 2 & 1 & 0 & 0 & 1 & 2 & 2 & 1 & 2 \\\\\n",
       "0 & 0 & 0 & 0 & 0 & 1 & 0 & 0 & 0 & 0 & 0 & 1 & 0 & 2 & 1 & 2 & 2 & 2 & 0 & 2 & 1 & 0 & 2 & 1 & 1 & 2 & 0 & 0 & 2 & 1 & 1 & 1 & 2 & 1 & 1 \\\\\n",
       "0 & 0 & 0 & 0 & 0 & 0 & 1 & 0 & 0 & 0 & 0 & 0 & 1 & 2 & 1 & 2 & 1 & 1 & 2 & 1 & 1 & 1 & 2 & 2 & 0 & 1 & 2 & 1 & 1 & 0 & 1 & 2 & 2 & 0 & 2 \\\\\n",
       "0 & 0 & 0 & 0 & 0 & 0 & 0 & 1 & 0 & 0 & 0 & 0 & 1 & 1 & 2 & 2 & 1 & 0 & 0 & 1 & 0 & 1 & 2 & 0 & 1 & 1 & 0 & 1 & 2 & 1 & 2 & 0 & 2 & 2 & 0 \\\\\n",
       "0 & 0 & 0 & 0 & 0 & 0 & 0 & 0 & 1 & 0 & 0 & 0 & 1 & 1 & 0 & 0 & 0 & 2 & 2 & 1 & 1 & 0 & 1 & 2 & 1 & 2 & 2 & 0 & 0 & 1 & 0 & 0 & 2 & 2 & 1 \\\\\n",
       "0 & 0 & 0 & 0 & 0 & 0 & 0 & 0 & 0 & 1 & 0 & 2 & 1 & 0 & 0 & 1 & 1 & 0 & 2 & 0 & 2 & 0 & 0 & 1 & 1 & 0 & 2 & 1 & 2 & 1 & 1 & 1 & 2 & 2 & 1 \\\\\n",
       "0 & 0 & 0 & 0 & 0 & 0 & 0 & 0 & 0 & 0 & 1 & 1 & 0 & 2 & 1 & 1 & 0 & 1 & 1 & 2 & 0 & 2 & 1 & 0 & 0 & 0 & 2 & 1 & 1 & 1 & 2 & 2 & 2 & 1 & 1\n",
       "\\end{array}\\right)$$"
      ],
      "text/plain": [
       "[1 0 0 0 0 0 0 0 0 0 0 0 2 2 0 2 2 2 1 0 1 1 0 1 2 2 2 2 0 2 1 1 1 1 2]\n",
       "[0 1 0 0 0 0 0 0 0 0 0 1 2 1 2 2 1 2 0 0 1 1 0 1 0 1 1 0 0 1 0 1 1 0 1]\n",
       "[0 0 1 0 0 0 0 0 0 0 0 1 1 0 2 2 0 2 2 2 0 2 2 0 0 2 0 1 2 0 1 0 1 0 2]\n",
       "[0 0 0 1 0 0 0 0 0 0 0 1 2 2 1 1 2 2 2 0 1 0 1 0 0 2 1 2 2 2 2 0 2 1 0]\n",
       "[0 0 0 0 1 0 0 0 0 0 0 0 0 1 0 1 1 2 2 1 0 1 0 0 0 0 2 1 0 0 1 2 2 1 2]\n",
       "[0 0 0 0 0 1 0 0 0 0 0 1 0 2 1 2 2 2 0 2 1 0 2 1 1 2 0 0 2 1 1 1 2 1 1]\n",
       "[0 0 0 0 0 0 1 0 0 0 0 0 1 2 1 2 1 1 2 1 1 1 2 2 0 1 2 1 1 0 1 2 2 0 2]\n",
       "[0 0 0 0 0 0 0 1 0 0 0 0 1 1 2 2 1 0 0 1 0 1 2 0 1 1 0 1 2 1 2 0 2 2 0]\n",
       "[0 0 0 0 0 0 0 0 1 0 0 0 1 1 0 0 0 2 2 1 1 0 1 2 1 2 2 0 0 1 0 0 2 2 1]\n",
       "[0 0 0 0 0 0 0 0 0 1 0 2 1 0 0 1 1 0 2 0 2 0 0 1 1 0 2 1 2 1 1 1 2 2 1]\n",
       "[0 0 0 0 0 0 0 0 0 0 1 1 0 2 1 1 0 1 1 2 0 2 1 0 0 0 2 1 1 1 2 2 2 1 1]"
      ]
     },
     "metadata": {},
     "output_type": "display_data"
    }
   ],
   "source": [
    "# Goppa code\n",
    "C = Goppa(defining_set, g, F)\n",
    "\n",
    "print(\"Goppa code:\")\n",
    "print(C)\n",
    "\n",
    "print(\"\\nParity matrix:\")\n",
    "H = C.get_parity_check_matrix()\n",
    "show(H)\n",
    "#print(latex(H))\n",
    "\n",
    "print(\"\\nGenerator matrix:\")\n",
    "G = C.get_generator_matrix()\n",
    "show(G)\n",
    "#print(latex(G))"
   ]
  },
  {
   "cell_type": "code",
   "execution_count": 23,
   "metadata": {},
   "outputs": [
    {
     "name": "stdout",
     "output_type": "stream",
     "text": [
      "\n",
      "Goppa encoder:\n",
      "Encoder for [35, 11] Goppa code\n",
      "\n",
      "Word to encode:\n",
      "(0, 0, 0, 1, 2, 1, 0, 0, 0, 1, 1)\n",
      "\n",
      "Word encoded:\n",
      "x = (0, 0, 0, 1, 2, 1, 0, 0, 0, 1, 1, 2, 0, 2, 0, 1, 1, 0, 0, 0, 1, 1, 1, 2, 2, 1, 0, 0, 1, 2, 2, 2, 0, 1, 1)\n",
      "\n",
      "Errors added to x:\n",
      "e = (0, 0, 0, 0, 0, 0, 1, 0, 0, 0, 0, 0, 0, 0, 0, 0, 0, 0, 0, 0, 0, 0, 0, 0, 0, 0, 0, 0, 1, 0, 0, 0, 0, 0, 0)\n",
      "\n",
      "Word encoded with errors (y = x + e):\n",
      "y = (0, 0, 0, 1, 2, 1, 1, 0, 0, 1, 1, 2, 0, 2, 0, 1, 1, 0, 0, 0, 1, 1, 1, 2, 2, 1, 0, 0, 2, 2, 2, 2, 0, 1, 1)\n"
     ]
    }
   ],
   "source": [
    "# Encoder of C\n",
    "E = GoppaEncoder(C)\n",
    "\n",
    "print(\"\\nGoppa encoder:\")\n",
    "print(E)\n",
    "\n",
    "print(\"\\nWord to encode:\")\n",
    "word = random_word(G.nrows(), F)\n",
    "print(word)\n",
    "\n",
    "print(\"\\nWord encoded:\")\n",
    "x = E.encode(word)\n",
    "print(\"x = \" + str(x))\n",
    "\n",
    "print(\"\\nErrors added to x:\")\n",
    "num_errors = floor(g.degree()/2)\n",
    "e = random_error(len(x), num_errors, F)\n",
    "print(\"e = \" + str(e))\n",
    "\n",
    "print(\"\\nWord encoded with errors (y = x + e):\")\n",
    "y = x + e\n",
    "print(\"y = \" + str(y))"
   ]
  },
  {
   "cell_type": "code",
   "execution_count": 24,
   "metadata": {},
   "outputs": [
    {
     "name": "stdout",
     "output_type": "stream",
     "text": [
      "\n",
      "Decode to code `y`:\n",
      "x = (0, 0, 0, 1, 2, 1, 2, 0, 0, 1, 1, 2, 0, 2, 0, 1, 1, 0, 0, 0, 1, 1, 1, 2, 2, 1, 0, 0, 0, 2, 2, 2, 0, 1, 1)\n",
      "\n",
      "Decode to message `y`:\n"
     ]
    },
    {
     "ename": "ValueError",
     "evalue": "matrix equation has no solutions",
     "output_type": "error",
     "traceback": [
      "\u001b[0;31m---------------------------------------------------------------------------\u001b[0m",
      "\u001b[0;31mValueError\u001b[0m                                Traceback (most recent call last)",
      "\u001b[0;32m/opt/sagemath-9.3/local/lib/python3.7/site-packages/sage/matrix/matrix2.pyx\u001b[0m in \u001b[0;36msage.matrix.matrix2.Matrix.solve_left (build/cythonized/sage/matrix/matrix2.c:6298)\u001b[0;34m()\u001b[0m\n\u001b[1;32m    404\u001b[0m             \u001b[0;32mtry\u001b[0m\u001b[0;34m:\u001b[0m\u001b[0;34m\u001b[0m\u001b[0;34m\u001b[0m\u001b[0m\n\u001b[0;32m--> 405\u001b[0;31m                 \u001b[0;32mreturn\u001b[0m \u001b[0mself\u001b[0m\u001b[0;34m.\u001b[0m\u001b[0mtranspose\u001b[0m\u001b[0;34m(\u001b[0m\u001b[0;34m)\u001b[0m\u001b[0;34m.\u001b[0m\u001b[0msolve_right\u001b[0m\u001b[0;34m(\u001b[0m\u001b[0mB\u001b[0m\u001b[0;34m,\u001b[0m \u001b[0mcheck\u001b[0m\u001b[0;34m=\u001b[0m\u001b[0mcheck\u001b[0m\u001b[0;34m)\u001b[0m\u001b[0;34m\u001b[0m\u001b[0;34m\u001b[0m\u001b[0m\n\u001b[0m\u001b[1;32m    406\u001b[0m             \u001b[0;32mexcept\u001b[0m \u001b[0mValueError\u001b[0m \u001b[0;32mas\u001b[0m \u001b[0me\u001b[0m\u001b[0;34m:\u001b[0m\u001b[0;34m\u001b[0m\u001b[0;34m\u001b[0m\u001b[0m\n",
      "\u001b[0;32m/opt/sagemath-9.3/local/lib/python3.7/site-packages/sage/matrix/matrix2.pyx\u001b[0m in \u001b[0;36msage.matrix.matrix2.Matrix.solve_right (build/cythonized/sage/matrix/matrix2.c:8505)\u001b[0;34m()\u001b[0m\n\u001b[1;32m    850\u001b[0m         \u001b[0;32mif\u001b[0m \u001b[0;32mnot\u001b[0m \u001b[0mself\u001b[0m\u001b[0;34m.\u001b[0m\u001b[0mis_square\u001b[0m\u001b[0;34m(\u001b[0m\u001b[0;34m)\u001b[0m\u001b[0;34m:\u001b[0m\u001b[0;34m\u001b[0m\u001b[0;34m\u001b[0m\u001b[0m\n\u001b[0;32m--> 851\u001b[0;31m             \u001b[0mX\u001b[0m \u001b[0;34m=\u001b[0m \u001b[0mself\u001b[0m\u001b[0;34m.\u001b[0m\u001b[0m_solve_right_general\u001b[0m\u001b[0;34m(\u001b[0m\u001b[0mC\u001b[0m\u001b[0;34m,\u001b[0m \u001b[0mcheck\u001b[0m\u001b[0;34m=\u001b[0m\u001b[0mcheck\u001b[0m\u001b[0;34m)\u001b[0m\u001b[0;34m\u001b[0m\u001b[0;34m\u001b[0m\u001b[0m\n\u001b[0m\u001b[1;32m    852\u001b[0m         \u001b[0;32melse\u001b[0m\u001b[0;34m:\u001b[0m\u001b[0;34m\u001b[0m\u001b[0;34m\u001b[0m\u001b[0m\n",
      "\u001b[0;32m/opt/sagemath-9.3/local/lib/python3.7/site-packages/sage/matrix/matrix2.pyx\u001b[0m in \u001b[0;36msage.matrix.matrix2.Matrix._solve_right_general (build/cythonized/sage/matrix/matrix2.c:9845)\u001b[0;34m()\u001b[0m\n\u001b[1;32m    973\u001b[0m             \u001b[0;32mif\u001b[0m \u001b[0mself\u001b[0m\u001b[0;34m*\u001b[0m\u001b[0mX\u001b[0m \u001b[0;34m!=\u001b[0m \u001b[0mB\u001b[0m\u001b[0;34m:\u001b[0m\u001b[0;34m\u001b[0m\u001b[0;34m\u001b[0m\u001b[0m\n\u001b[0;32m--> 974\u001b[0;31m                 \u001b[0;32mraise\u001b[0m \u001b[0mValueError\u001b[0m\u001b[0;34m(\u001b[0m\u001b[0;34m\"matrix equation has no solutions\"\u001b[0m\u001b[0;34m)\u001b[0m\u001b[0;34m\u001b[0m\u001b[0;34m\u001b[0m\u001b[0m\n\u001b[0m\u001b[1;32m    975\u001b[0m         \u001b[0;32mreturn\u001b[0m \u001b[0mX\u001b[0m\u001b[0;34m\u001b[0m\u001b[0;34m\u001b[0m\u001b[0m\n",
      "\u001b[0;31mValueError\u001b[0m: matrix equation has no solutions",
      "\nDuring handling of the above exception, another exception occurred:\n",
      "\u001b[0;31mValueError\u001b[0m                                Traceback (most recent call last)",
      "\u001b[0;32m<ipython-input-24-f696ed7704f8>\u001b[0m in \u001b[0;36m<module>\u001b[0;34m\u001b[0m\n\u001b[1;32m      7\u001b[0m \u001b[0;34m\u001b[0m\u001b[0m\n\u001b[1;32m      8\u001b[0m \u001b[0mprint\u001b[0m\u001b[0;34m(\u001b[0m\u001b[0;34m\"\\nDecode to message `y`:\"\u001b[0m\u001b[0;34m)\u001b[0m\u001b[0;34m\u001b[0m\u001b[0;34m\u001b[0m\u001b[0m\n\u001b[0;32m----> 9\u001b[0;31m \u001b[0mword2\u001b[0m \u001b[0;34m=\u001b[0m \u001b[0mD\u001b[0m\u001b[0;34m.\u001b[0m\u001b[0mdecode_to_message\u001b[0m\u001b[0;34m(\u001b[0m\u001b[0my\u001b[0m\u001b[0;34m)\u001b[0m\u001b[0;34m\u001b[0m\u001b[0;34m\u001b[0m\u001b[0m\n\u001b[0m\u001b[1;32m     10\u001b[0m \u001b[0mprint\u001b[0m\u001b[0;34m(\u001b[0m\u001b[0mword2\u001b[0m\u001b[0;34m)\u001b[0m\u001b[0;34m\u001b[0m\u001b[0;34m\u001b[0m\u001b[0m\n",
      "\u001b[0;32m<ipython-input-7-3993974cd479>\u001b[0m in \u001b[0;36mdecode_to_message\u001b[0;34m(self, word)\u001b[0m\n\u001b[1;32m    110\u001b[0m     \u001b[0;32mdef\u001b[0m \u001b[0mdecode_to_message\u001b[0m\u001b[0;34m(\u001b[0m\u001b[0mself\u001b[0m\u001b[0;34m,\u001b[0m \u001b[0mword\u001b[0m\u001b[0;34m)\u001b[0m\u001b[0;34m:\u001b[0m\u001b[0;34m\u001b[0m\u001b[0;34m\u001b[0m\u001b[0m\n\u001b[1;32m    111\u001b[0m         \u001b[0mword\u001b[0m \u001b[0;34m=\u001b[0m \u001b[0mself\u001b[0m\u001b[0;34m.\u001b[0m\u001b[0mdecode_to_code\u001b[0m\u001b[0;34m(\u001b[0m\u001b[0mword\u001b[0m\u001b[0;34m)\u001b[0m\u001b[0;34m\u001b[0m\u001b[0;34m\u001b[0m\u001b[0m\n\u001b[0;32m--> 112\u001b[0;31m         \u001b[0;32mreturn\u001b[0m \u001b[0mself\u001b[0m\u001b[0;34m.\u001b[0m\u001b[0mcode\u001b[0m\u001b[0;34m(\u001b[0m\u001b[0;34m)\u001b[0m\u001b[0;34m.\u001b[0m\u001b[0mget_generator_matrix\u001b[0m\u001b[0;34m(\u001b[0m\u001b[0;34m)\u001b[0m\u001b[0;34m.\u001b[0m\u001b[0msolve_left\u001b[0m\u001b[0;34m(\u001b[0m\u001b[0mword\u001b[0m\u001b[0;34m)\u001b[0m\u001b[0;34m\u001b[0m\u001b[0;34m\u001b[0m\u001b[0m\n\u001b[0m\u001b[1;32m    113\u001b[0m         \u001b[0;31m#return self.code().unencode(self.decode_to_code(word))\u001b[0m\u001b[0;34m\u001b[0m\u001b[0;34m\u001b[0m\u001b[0;34m\u001b[0m\u001b[0m\n\u001b[1;32m    114\u001b[0m \u001b[0;34m\u001b[0m\u001b[0m\n",
      "\u001b[0;32m/opt/sagemath-9.3/local/lib/python3.7/site-packages/sage/matrix/matrix2.pyx\u001b[0m in \u001b[0;36msage.matrix.matrix2.Matrix.solve_left (build/cythonized/sage/matrix/matrix2.c:6359)\u001b[0;34m()\u001b[0m\n\u001b[1;32m    405\u001b[0m                 \u001b[0;32mreturn\u001b[0m \u001b[0mself\u001b[0m\u001b[0;34m.\u001b[0m\u001b[0mtranspose\u001b[0m\u001b[0;34m(\u001b[0m\u001b[0;34m)\u001b[0m\u001b[0;34m.\u001b[0m\u001b[0msolve_right\u001b[0m\u001b[0;34m(\u001b[0m\u001b[0mB\u001b[0m\u001b[0;34m,\u001b[0m \u001b[0mcheck\u001b[0m\u001b[0;34m=\u001b[0m\u001b[0mcheck\u001b[0m\u001b[0;34m)\u001b[0m\u001b[0;34m\u001b[0m\u001b[0;34m\u001b[0m\u001b[0m\n\u001b[1;32m    406\u001b[0m             \u001b[0;32mexcept\u001b[0m \u001b[0mValueError\u001b[0m \u001b[0;32mas\u001b[0m \u001b[0me\u001b[0m\u001b[0;34m:\u001b[0m\u001b[0;34m\u001b[0m\u001b[0;34m\u001b[0m\u001b[0m\n\u001b[0;32m--> 407\u001b[0;31m                 \u001b[0;32mraise\u001b[0m \u001b[0mValueError\u001b[0m\u001b[0;34m(\u001b[0m\u001b[0mstr\u001b[0m\u001b[0;34m(\u001b[0m\u001b[0me\u001b[0m\u001b[0;34m)\u001b[0m\u001b[0;34m.\u001b[0m\u001b[0mreplace\u001b[0m\u001b[0;34m(\u001b[0m\u001b[0;34m'row'\u001b[0m\u001b[0;34m,\u001b[0m \u001b[0;34m'column'\u001b[0m\u001b[0;34m)\u001b[0m\u001b[0;34m)\u001b[0m\u001b[0;34m\u001b[0m\u001b[0;34m\u001b[0m\u001b[0m\n\u001b[0m\u001b[1;32m    408\u001b[0m         \u001b[0;32melse\u001b[0m\u001b[0;34m:\u001b[0m\u001b[0;34m\u001b[0m\u001b[0;34m\u001b[0m\u001b[0m\n\u001b[1;32m    409\u001b[0m             \u001b[0;32mtry\u001b[0m\u001b[0;34m:\u001b[0m\u001b[0;34m\u001b[0m\u001b[0;34m\u001b[0m\u001b[0m\n",
      "\u001b[0;31mValueError\u001b[0m: matrix equation has no solutions"
     ]
    }
   ],
   "source": [
    "# Decoder of C\n",
    "D = GoppaDecoder(C)\n",
    "\n",
    "print(\"\\nDecode to code `y`:\")\n",
    "x2 = D.decode_to_code(y)\n",
    "print(\"x = \" + str(x2))\n",
    "\n",
    "print(\"\\nDecode to message `y`:\")\n",
    "word2 = D.decode_to_message(y)\n",
    "print(word2)"
   ]
  },
  {
   "cell_type": "code",
   "execution_count": null,
   "metadata": {},
   "outputs": [],
   "source": [
    "x == x2"
   ]
  },
  {
   "cell_type": "code",
   "execution_count": null,
   "metadata": {},
   "outputs": [],
   "source": [
    "word == word2"
   ]
  },
  {
   "cell_type": "markdown",
   "metadata": {},
   "source": [
    "#### Example 4"
   ]
  },
  {
   "cell_type": "code",
   "execution_count": null,
   "metadata": {},
   "outputs": [],
   "source": [
    "F = GF(2)\n",
    "L = GF(2^6)\n",
    "a = L.gen()\n",
    "b = F.gen()\n",
    "R.<x> = L[]\n",
    "g = x^5 + a*x^3\n",
    "n = 30\n",
    "defining_set = get_defining_set(n, g, L)"
   ]
  },
  {
   "cell_type": "code",
   "execution_count": null,
   "metadata": {},
   "outputs": [],
   "source": [
    "# Goppa code\n",
    "C = Goppa(defining_set, g, F)\n",
    "\n",
    "print(\"Goppa code:\")\n",
    "print(C)\n",
    "\n",
    "print(\"\\nParity matrix:\")\n",
    "H = C.get_parity_check_matrix()\n",
    "show(H)\n",
    "#print(latex(H))\n",
    "\n",
    "print(\"\\nGenerator matrix:\")\n",
    "G = C.get_generator_matrix()\n",
    "show(G)\n",
    "#print(latex(G))"
   ]
  },
  {
   "cell_type": "code",
   "execution_count": null,
   "metadata": {
    "scrolled": false
   },
   "outputs": [],
   "source": [
    "# Encoder of C\n",
    "E = GoppaEncoder(C)\n",
    "\n",
    "print(\"\\nGoppa encoder:\")\n",
    "print(E)\n",
    "\n",
    "print(\"\\nWord to encode:\")\n",
    "word = random_word(G.nrows(), F)\n",
    "print(word)\n",
    "\n",
    "print(\"\\nWord encoded:\")\n",
    "x = E.encode(word)\n",
    "print(\"x = \" + str(x))\n",
    "\n",
    "print(\"\\nErrors added to x:\")\n",
    "num_errors = floor(g.degree()/2)\n",
    "e = random_error(len(x), num_errors, F)\n",
    "print(\"e = \" + str(e))\n",
    "\n",
    "print(\"\\nWord encoded with errors (y = x + e):\")\n",
    "y = x + e\n",
    "print(\"y = \" + str(y))"
   ]
  },
  {
   "cell_type": "code",
   "execution_count": null,
   "metadata": {},
   "outputs": [],
   "source": [
    "# Decoder of C\n",
    "D = GoppaDecoder(C)\n",
    "\n",
    "print(\"\\nDecode to code `y`:\")\n",
    "x2 = D.decode_to_code(y)\n",
    "print(\"x = \" + str(x2))\n",
    "\n",
    "print(\"\\nDecode to message `y`:\")\n",
    "word2 = D.decode_to_message(y)\n",
    "print(word2)"
   ]
  },
  {
   "cell_type": "code",
   "execution_count": null,
   "metadata": {},
   "outputs": [],
   "source": [
    "x == x2"
   ]
  },
  {
   "cell_type": "code",
   "execution_count": null,
   "metadata": {},
   "outputs": [],
   "source": [
    "word == word2"
   ]
  },
  {
   "cell_type": "markdown",
   "metadata": {},
   "source": [
    "# **ALGORITMO DE SUGIYAMA**"
   ]
  },
  {
   "cell_type": "markdown",
   "metadata": {},
   "source": [
    "1. Calcular el síndrome $S(x)$.\n",
    "2. Sean $r_{-1}(x) = g(x)$, $r_0(x) = S(x)$, $U_{-1}(x) = 0$ y $U_0(x) = 1$.\n",
    "3. Buscar $q_i(x)$ y $r_i(x)$ aplicando el algoritmo de Euclides para encontrar el máximo común divisor de $r_{i-2}(x)$ y $r_{i-1}(x)$ para $i = 1,..., k$, hasta que $k$ cumpla que $gr(r_{k-1}(x)) \\geq t$ y $gr(r_k(x)) < t$:\n",
    "\n",
    "$$r_{i-2}(x) = r_{i-1}(x) q_i(x) + r_i(x), \\qquad gr(r_i(x)) < gr(r_{i-1})(x)$$\n",
    "    \n",
    "4. Calcular $U_k(x)$, donde\n",
    "    \n",
    "$$U_i(x) = q_i(x) U_{i-1}(x) + U_{i-2}(x)$$\n",
    "\n",
    "5. La solución viene dada por:\n",
    "$$\\eta(x) = (-1)^k \\delta r_k(x)$$\n",
    "$$\\sigma(x) = \\delta U_k(x)$$"
   ]
  },
  {
   "cell_type": "code",
   "execution_count": null,
   "metadata": {},
   "outputs": [],
   "source": [
    "F = GF(2^2)\n",
    "L = GF(2^4)\n",
    "a = L.gen()\n",
    "b = F.gen()\n",
    "R.<x> = L[]\n",
    "g = x^3 + a*x^2 + 1\n",
    "n = 10\n",
    "defining_set = get_defining_set(n, g, L)\n",
    "C = Goppa(defining_set, g, F)\n",
    "G = C.get_generator_matrix()\n",
    "E = GoppaEncoder(C)\n",
    "D = GoppaDecoder(C)\n",
    "word = random_word(G.nrows(), F)\n",
    "print(word)\n",
    "x = E.encode(word)\n",
    "print(x)\n",
    "num_errors = floor(g.degree()/2)\n",
    "e = random_error(len(x), num_errors, F)\n",
    "y = x + e\n",
    "D.decode_to_message(y)"
   ]
  },
  {
   "cell_type": "code",
   "execution_count": null,
   "metadata": {},
   "outputs": [],
   "source": [
    "D.get_syndrome(word)"
   ]
  },
  {
   "cell_type": "code",
   "execution_count": 34,
   "metadata": {},
   "outputs": [
    {
     "name": "stdout",
     "output_type": "stream",
     "text": [
      "[10, 6] Goppa code\n",
      "6\n",
      "(1, 0, z3 + 1, z3, 0, z3 + 1, 2*z3, z3^2, z3 + 1, 0)\n"
     ]
    }
   ],
   "source": [
    "F = GF(3^3)\n",
    "L = GF(3^6)\n",
    "a = L.gen()\n",
    "b = F.gen()\n",
    "R.<x> = L[]\n",
    "g = x^2 + a*x + 1 + a^2\n",
    "n = 10\n",
    "defining_set = get_defining_set(n, g, L)\n",
    "C = Goppa(defining_set, g, F)\n",
    "print(C)\n",
    "print(C.get_generator_matrix().nrows())\n",
    "E = GoppaEncoder(C)\n",
    "word = vector(F, (1, 0, b + 1, b, 0, b + 1))\n",
    "x = E.encode(word)\n",
    "print(x)"
   ]
  },
  {
   "cell_type": "code",
   "execution_count": null,
   "metadata": {},
   "outputs": [],
   "source": []
  }
 ],
 "metadata": {
  "kernelspec": {
   "display_name": "SageMath 9.3",
   "language": "sage",
   "name": "sagemath"
  }
 },
 "nbformat": 4,
 "nbformat_minor": 4
}

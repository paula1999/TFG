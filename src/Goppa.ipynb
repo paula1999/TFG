{
 "cells": [
  {
   "cell_type": "code",
   "execution_count": 1,
   "metadata": {},
   "outputs": [],
   "source": [
    "from sage.rings.finite_rings.hom_finite_field import FiniteFieldHomomorphism_generic"
   ]
  },
  {
   "cell_type": "markdown",
   "metadata": {},
   "source": [
    "# Goppa code"
   ]
  },
  {
   "cell_type": "code",
   "execution_count": 2,
   "metadata": {},
   "outputs": [],
   "source": [
    "from sage.coding.linear_code import AbstractLinearCode\n",
    "from sage.coding.encoder import Encoder\n",
    "from sage.coding.decoder import Decoder\n",
    "\n",
    "class Goppa(AbstractLinearCode):\n",
    "    r\"\"\"\n",
    "    Implementation of Goppa codes.\n",
    "    \n",
    "    INPUT:\n",
    "    - ``field`` -- finite field on which `self` is defined.\n",
    "    - ``generating_pol`` -- a monic polynomial with coefficients in\n",
    "    a finite field `\\GF{p^m}` extending from `field`.\n",
    "    \n",
    "    - ``defining_set`` -- tuple of n distinct elements of `\\GF{p^m}`\n",
    "    that are not roots of `generating_pol`\n",
    "    \"\"\"\n",
    "    def __init__(self, defining_set, generating_pol, field):\n",
    "        \"\"\"\n",
    "        Initialize.\n",
    "        \"\"\"\n",
    "        if not generating_pol.is_monic():\n",
    "            raise ValueError(\"ERROR. Generating polynomial isn't monic\")\n",
    "        \n",
    "        for gamma in defining_set:\n",
    "            if generating_pol(gamma) == 0:\n",
    "                raise ValueError(\"ERROR. Defining elements are roots of generating polynomial\")\n",
    "        \n",
    "        self._field = field\n",
    "        self._field_L = generating_pol.base_ring()\n",
    "        \n",
    "        if (not self._field.is_field() or not self._field.is_finite()):\n",
    "            raise ValueError(\"ERROR. Generating polynomial isn't definied over a finite field\")\n",
    "        \n",
    "        self._length = len(defining_set)\n",
    "        self._generating_pol = generating_pol\n",
    "        self._defining_set = defining_set\n",
    "        \n",
    "        super(Goppa, self).__init__(self._field, self._length, \"GoppaEncoder\", \"GoppaDecoder\")\n",
    "    \n",
    "    def _repr_(self):\n",
    "        \"\"\"\n",
    "        Representation of a Goppa code.\n",
    "        \"\"\"\n",
    "        return \"[{}, {}] Goppa code\".format(self._length, self.get_dimension())\n",
    "    \n",
    "    def get_generating_pol(self):\n",
    "        \"\"\"\n",
    "        Return the generating polynomial of ``self``.\n",
    "        \"\"\" \n",
    "        return self._generating_pol\n",
    "    \n",
    "    def get_defining_set(self):\n",
    "        \"\"\"\n",
    "        Return the defining set of ``self``.\n",
    "        \"\"\" \n",
    "        return self._defining_set\n",
    "    \n",
    "    def get_parity_pol(self):\n",
    "        \"\"\"\n",
    "        Return the parity polynomial of ``self``.\n",
    "        \"\"\"\n",
    "        parity_pol = list()\n",
    "        \n",
    "        for elem in self._defining_set:\n",
    "            parity_pol.append((self._generating_pol.parent().gen() - elem).inverse_mod(self._generating_pol))\n",
    "        \n",
    "        return parity_pol\n",
    "    \n",
    "    def get_parity_check_matrix(self):\n",
    "        \"\"\"\n",
    "        Return a parity check matrix of ``self``.\n",
    "        \"\"\"\n",
    "        V, from_V, to_V = self._field_L.vector_space(self._field, map = True)\n",
    "\n",
    "        parity = self.get_parity_pol()\n",
    "\n",
    "        vector_L = []\n",
    "        for i in range(len(parity)):\n",
    "            vector_L = vector_L + parity[i].list()\n",
    "\n",
    "        vector_F = []\n",
    "        for i in range(len(vector_L)):\n",
    "            vector_F = vector_F + to_V(vector_L[i]).list()\n",
    "\n",
    "        matriz_F = matrix(self._length, vector_F)\n",
    "        matriz_F = matriz_F.T\n",
    "        \n",
    "        return matriz_F\n",
    "    \n",
    "    def get_generator_matrix(self):\n",
    "        \"\"\"\n",
    "        Return a generador matrix of ``self``.\n",
    "        \"\"\"\n",
    "        H = self.get_parity_check_matrix()\n",
    "        G = transpose(H).left_kernel().basis_matrix()\n",
    "        \n",
    "        return G\n",
    "    \n",
    "    def get_dimension(self):\n",
    "        \"\"\"\n",
    "        Return the dimension of the code.\n",
    "        \"\"\"\n",
    "        \n",
    "        return rank(self.get_generator_matrix())\n",
    "    \n",
    "    "
   ]
  },
  {
   "cell_type": "markdown",
   "metadata": {},
   "source": [
    "# Goppa encoder"
   ]
  },
  {
   "cell_type": "code",
   "execution_count": 3,
   "metadata": {},
   "outputs": [],
   "source": [
    "class GoppaEncoder(Encoder):\n",
    "    r\"\"\"\n",
    "    Encoder for Goppa codes\n",
    "    \n",
    "    INPUT:\n",
    "    - ``code`` -- code associated with the encoder\n",
    "    \"\"\"\n",
    "    def __init__(self, code):\n",
    "        \"\"\"\n",
    "        Initialize.\n",
    "        \"\"\"\n",
    "        super(GoppaEncoder, self).__init__(code)\n",
    "        \n",
    "    def _repr_(self):\n",
    "        \"\"\"\n",
    "        Representation of a encoder for a Goppa code\n",
    "        \"\"\"\n",
    "        return \"Encoder for {}\".format(self.code())\n",
    "    \n",
    "    def get_generator_matrix(self):\n",
    "        \"\"\"\n",
    "        Return a generador matrix of the code\n",
    "        \"\"\"\n",
    "        return self.code().get_generator_matrix()\n",
    "    \n",
    "    def encode (self, m):\n",
    "        \"\"\"\n",
    "        Return a codeword\n",
    "        \n",
    "        INPUT:\n",
    "        - ``m``: a vector to encode\n",
    "        \"\"\"\n",
    "        return m * self.get_generator_matrix()\n",
    "    \n",
    "Goppa._registered_encoders[\"GoppaEncoder\"] = GoppaEncoder"
   ]
  },
  {
   "cell_type": "markdown",
   "metadata": {},
   "source": [
    "# Goppa decoder"
   ]
  },
  {
   "cell_type": "code",
   "execution_count": 4,
   "metadata": {},
   "outputs": [],
   "source": [
    "class GoppaDecoder(Decoder):\n",
    "    r\"\"\"\n",
    "    Decoder for Goppa codes\n",
    "    \n",
    "    INPUT:\n",
    "    - ``code``: code associated with the decoder\n",
    "    \"\"\"\n",
    "    \n",
    "    def __init__(self, code):\n",
    "        \"\"\"\n",
    "        Initialize\n",
    "        \"\"\"\n",
    "        super(GoppaDecoder, self).__init__(code, code.ambient_space(), \"GoppaDecoder\")\n",
    "                \n",
    "        self._generating_pol = self.code().get_generating_pol()\n",
    "        self._defining_set = self.code().get_defining_set()\n",
    "        \n",
    "    def get_syndrome(self, c):\n",
    "        \"\"\"\n",
    "        Return the syndrome polynomial\n",
    "        \n",
    "        INPUT:\n",
    "        - ``c``: a element of the input space of ``self``.\n",
    "        \"\"\"\n",
    "        field = self.code()._field\n",
    "        field_L = self.code()._field_L\n",
    "        \n",
    "        embFL = FiniteFieldHomomorphism_generic(Hom(field,field_L))\n",
    "        \n",
    "        h = self.code().get_parity_pol()\n",
    "        \n",
    "        syndrome = 0\n",
    "        \n",
    "        for i in range(len(h)):    \n",
    "            syndrome = syndrome + embFL(c[i])*h[i]\n",
    "            \n",
    "        return syndrome\n",
    "    \n",
    "    def get_generating_pol(self):\n",
    "        \"\"\"\n",
    "        Return the generating polynomial\n",
    "        \"\"\"\n",
    "        return self._generating_pol\n",
    "    \n",
    "    def decode_to_code(self, word):\n",
    "        r\"\"\"\n",
    "        Corrects the errors in ``word`` and returns a codeword.\n",
    "        INPUT:\n",
    "        - ``word`` -- a codeword of ``self``\n",
    "        \"\"\"\n",
    "        i = 1\n",
    "        field = self.code()._field\n",
    "        field_L = self.code()._field_L\n",
    "        \n",
    "        embFL = FiniteFieldHomomorphism_generic(Hom(field,field_L))\n",
    "        secLF = embFL.section()\n",
    "\n",
    "        # Step 1\n",
    "        S = self.get_syndrome(word)\n",
    "        \n",
    "        if S == 0:\n",
    "            return word\n",
    "\n",
    "        # Step 2\n",
    "        r_prev = self.get_generating_pol()\n",
    "        t = floor(self.get_generating_pol().degree()/2)\n",
    "        r_i = S\n",
    "        U_prev = 0\n",
    "        U_i = 1\n",
    "        \n",
    "        # Steps 3 and 4\n",
    "        while r_i.degree() >= t:\n",
    "            (q, r) = r_prev.quo_rem(r_i)\n",
    "            aux_r_i = r_i\n",
    "            aux_U_i = U_i\n",
    "            r_i = r\n",
    "            U_i = q * U_i + U_prev\n",
    "            r_prev = aux_r_i\n",
    "            U_prev = aux_U_i  \n",
    "            i += 1\n",
    "            \n",
    "\n",
    "        # Step 5\n",
    "        # make sigma monic     \n",
    "        sigma = U_i/U_i.coefficients()[-1];\n",
    "        eta = (-1)^i * r_i / U_i.coefficients()[-1];\n",
    "        \n",
    "        # roots of sigma are the locations of the errors\n",
    "        roots_loc = []\n",
    "\n",
    "        for root in sigma.roots():\n",
    "            roots_loc = roots_loc + [self._defining_set.index(root[0])]\n",
    "        \n",
    "        error = [0] * len(self._defining_set)\n",
    "        x = self.get_generating_pol().parent().gen()\n",
    "        sigma_diff = sigma.diff(x)\n",
    "        \n",
    "        for i in range(0, len(sigma.roots())):\n",
    "            error[roots_loc[i]] = secLF(eta.subs(x=sigma.roots()[i][0])/(sigma_diff.subs(x=sigma.roots()[i][0])))\n",
    "        \n",
    "        x = word - vector(self.code()._field, error)\n",
    "        \n",
    "        return x\n",
    "\n",
    "Goppa._registered_decoders[\"GoppaDecoder\"] = GoppaDecoder"
   ]
  },
  {
   "cell_type": "markdown",
   "metadata": {},
   "source": [
    "# Examples"
   ]
  },
  {
   "cell_type": "markdown",
   "metadata": {},
   "source": [
    "#### Example 1"
   ]
  },
  {
   "cell_type": "code",
   "execution_count": 5,
   "metadata": {},
   "outputs": [],
   "source": [
    "F = GF(2^2)\n",
    "L = GF(2^6)\n",
    "a = L.gen()\n",
    "b = F.gen()\n",
    "R.<x> = L[]\n",
    "g = x^5 + a*x^2 + 1\n",
    "n = 30\n",
    "\n",
    "defining_set = []\n",
    "while len(defining_set) != n:\n",
    "    aux = L.random_element()\n",
    "    if g(aux) != 0 and aux not in defining_set:\n",
    "        defining_set = defining_set + [aux]"
   ]
  },
  {
   "cell_type": "code",
   "execution_count": 7,
   "metadata": {},
   "outputs": [
    {
     "name": "stdout",
     "output_type": "stream",
     "text": [
      "Goppa code:\n",
      "[30, 15] Goppa code\n",
      "\n",
      "Parity matrix:\n"
     ]
    },
    {
     "data": {
      "text/html": [
       "<html><script type=\"math/tex; mode=display\">\\newcommand{\\Bold}[1]{\\mathbf{#1}}\\left(\\begin{array}{rrrrrrrrrrrrrrrrrrrrrrrrrrrrrr}\n",
       "0 & 1 & z_{2} + 1 & z_{2} & z_{2} + 1 & 1 & z_{2} & 1 & 1 & z_{2} & z_{2} & z_{2} + 1 & 0 & z_{2} + 1 & 1 & 1 & z_{2} & 0 & 0 & 0 & z_{2} + 1 & z_{2} + 1 & z_{2} + 1 & 1 & 1 & z_{2} & z_{2} & z_{2} & 0 & z_{2} \\\\\n",
       "z_{2} + 1 & 1 & 0 & 1 & 0 & z_{2} & z_{2} & 1 & z_{2} & z_{2} + 1 & z_{2} & 0 & 1 & z_{2} + 1 & z_{2} + 1 & z_{2} & z_{2} + 1 & z_{2} + 1 & 0 & 0 & 1 & 1 & 1 & z_{2} + 1 & z_{2} + 1 & z_{2} + 1 & z_{2} & 0 & 1 & z_{2} + 1 \\\\\n",
       "z_{2} & 0 & z_{2} + 1 & 0 & z_{2} + 1 & 0 & z_{2} + 1 & z_{2} + 1 & 1 & z_{2} + 1 & 0 & z_{2} + 1 & 1 & 0 & z_{2} + 1 & z_{2} & 1 & z_{2} + 1 & 0 & 1 & 0 & 1 & 1 & z_{2} & 1 & z_{2} & z_{2} + 1 & 0 & z_{2} & 1 \\\\\n",
       "z_{2} & z_{2} + 1 & z_{2} & 0 & 0 & z_{2} + 1 & z_{2} & z_{2} & 1 & 0 & 0 & z_{2} + 1 & z_{2} & 1 & 1 & z_{2} + 1 & 0 & z_{2} + 1 & 0 & z_{2} + 1 & 0 & z_{2} + 1 & 0 & z_{2} + 1 & 0 & 0 & z_{2} + 1 & z_{2} + 1 & z_{2} + 1 & 0 \\\\\n",
       "z_{2} & z_{2} & 0 & 0 & z_{2} + 1 & z_{2} & 1 & z_{2} + 1 & 1 & 0 & 1 & 1 & z_{2} & 1 & 1 & 0 & z_{2} + 1 & z_{2} & 1 & z_{2} + 1 & z_{2} & 0 & z_{2} & 0 & z_{2} & 1 & z_{2} + 1 & z_{2} + 1 & z_{2} & z_{2} + 1 \\\\\n",
       "1 & z_{2} & z_{2} + 1 & 1 & 0 & 1 & 1 & 0 & z_{2} & 1 & z_{2} + 1 & z_{2} + 1 & z_{2} + 1 & 1 & z_{2} & z_{2} + 1 & z_{2} & z_{2} & 0 & 0 & z_{2} + 1 & z_{2} & 1 & 1 & 1 & z_{2} + 1 & 1 & z_{2} & 0 & 0 \\\\\n",
       "0 & 0 & 1 & 0 & 0 & z_{2} + 1 & 0 & z_{2} & 0 & z_{2} + 1 & 0 & z_{2} & z_{2} & 1 & z_{2} + 1 & 1 & z_{2} & 0 & 0 & z_{2} + 1 & z_{2} + 1 & 0 & 1 & 1 & 1 & z_{2} & 0 & 0 & 1 & 0 \\\\\n",
       "z_{2} + 1 & z_{2} & 1 & z_{2} + 1 & z_{2} + 1 & z_{2} & z_{2} + 1 & 0 & z_{2} & z_{2} & 0 & 1 & z_{2} & 1 & z_{2} + 1 & 0 & z_{2} + 1 & z_{2} + 1 & 0 & 1 & 1 & 1 & z_{2} + 1 & z_{2} & z_{2} & z_{2} & z_{2} & 0 & 1 & 1 \\\\\n",
       "1 & 1 & z_{2} + 1 & 1 & z_{2} + 1 & 0 & z_{2} + 1 & 1 & 1 & 0 & 1 & 0 & z_{2} & 1 & z_{2} & 0 & 1 & 0 & 0 & 0 & 1 & 0 & z_{2} & z_{2} + 1 & z_{2} & z_{2} & z_{2} + 1 & z_{2} & z_{2} + 1 & z_{2} \\\\\n",
       "1 & z_{2} & 1 & 1 & z_{2} & z_{2} & 1 & z_{2} & 0 & 0 & 0 & z_{2} + 1 & z_{2} & 0 & z_{2} + 1 & 0 & 0 & 1 & 0 & z_{2} & 1 & 0 & 0 & 0 & z_{2} + 1 & z_{2} & 0 & z_{2} & 0 & 1 \\\\\n",
       "0 & 1 & z_{2} + 1 & 1 & z_{2} + 1 & z_{2} + 1 & 1 & 0 & z_{2} + 1 & z_{2} + 1 & z_{2} + 1 & z_{2} + 1 & 1 & z_{2} & 0 & 1 & z_{2} + 1 & z_{2} & 0 & 1 & 1 & z_{2} & z_{2} & 0 & z_{2} & 1 & z_{2} + 1 & z_{2} & 0 & z_{2} + 1 \\\\\n",
       "0 & z_{2} & 0 & z_{2} + 1 & 1 & 1 & 1 & 0 & 1 & 1 & 1 & 1 & 1 & z_{2} + 1 & z_{2} + 1 & 1 & z_{2} & 1 & 0 & 0 & 0 & 1 & 0 & z_{2} + 1 & z_{2} & z_{2} & 1 & 0 & 1 & z_{2} \\\\\n",
       "1 & z_{2} & z_{2} & z_{2} + 1 & z_{2} & 0 & z_{2} & z_{2} & 1 & 0 & z_{2} & 0 & z_{2} + 1 & z_{2} + 1 & 0 & z_{2} & 1 & z_{2} & 1 & z_{2} + 1 & 0 & z_{2} & 0 & z_{2} & z_{2} & z_{2} + 1 & 0 & 0 & 1 & 1 \\\\\n",
       "z_{2} + 1 & 1 & z_{2} & z_{2} + 1 & 1 & 0 & z_{2} + 1 & z_{2} + 1 & 1 & z_{2} + 1 & 0 & z_{2} & 0 & 0 & 0 & z_{2} + 1 & z_{2} & z_{2} & 0 & 0 & z_{2} + 1 & z_{2} & z_{2} & 1 & z_{2} & 1 & 1 & z_{2} & z_{2} & z_{2} \\\\\n",
       "0 & 0 & z_{2} & 1 & 1 & z_{2} & 0 & z_{2} + 1 & 0 & z_{2} + 1 & 1 & 0 & z_{2} + 1 & 1 & z_{2} + 1 & 1 & 0 & z_{2} + 1 & 0 & z_{2} + 1 & z_{2} + 1 & 1 & z_{2} + 1 & 0 & 0 & 1 & z_{2} & z_{2} + 1 & z_{2} & 1\n",
       "\\end{array}\\right)</script></html>"
      ],
      "text/latex": [
       "$$\\newcommand{\\Bold}[1]{\\mathbf{#1}}\\left(\\begin{array}{rrrrrrrrrrrrrrrrrrrrrrrrrrrrrr}\n",
       "0 & 1 & z_{2} + 1 & z_{2} & z_{2} + 1 & 1 & z_{2} & 1 & 1 & z_{2} & z_{2} & z_{2} + 1 & 0 & z_{2} + 1 & 1 & 1 & z_{2} & 0 & 0 & 0 & z_{2} + 1 & z_{2} + 1 & z_{2} + 1 & 1 & 1 & z_{2} & z_{2} & z_{2} & 0 & z_{2} \\\\\n",
       "z_{2} + 1 & 1 & 0 & 1 & 0 & z_{2} & z_{2} & 1 & z_{2} & z_{2} + 1 & z_{2} & 0 & 1 & z_{2} + 1 & z_{2} + 1 & z_{2} & z_{2} + 1 & z_{2} + 1 & 0 & 0 & 1 & 1 & 1 & z_{2} + 1 & z_{2} + 1 & z_{2} + 1 & z_{2} & 0 & 1 & z_{2} + 1 \\\\\n",
       "z_{2} & 0 & z_{2} + 1 & 0 & z_{2} + 1 & 0 & z_{2} + 1 & z_{2} + 1 & 1 & z_{2} + 1 & 0 & z_{2} + 1 & 1 & 0 & z_{2} + 1 & z_{2} & 1 & z_{2} + 1 & 0 & 1 & 0 & 1 & 1 & z_{2} & 1 & z_{2} & z_{2} + 1 & 0 & z_{2} & 1 \\\\\n",
       "z_{2} & z_{2} + 1 & z_{2} & 0 & 0 & z_{2} + 1 & z_{2} & z_{2} & 1 & 0 & 0 & z_{2} + 1 & z_{2} & 1 & 1 & z_{2} + 1 & 0 & z_{2} + 1 & 0 & z_{2} + 1 & 0 & z_{2} + 1 & 0 & z_{2} + 1 & 0 & 0 & z_{2} + 1 & z_{2} + 1 & z_{2} + 1 & 0 \\\\\n",
       "z_{2} & z_{2} & 0 & 0 & z_{2} + 1 & z_{2} & 1 & z_{2} + 1 & 1 & 0 & 1 & 1 & z_{2} & 1 & 1 & 0 & z_{2} + 1 & z_{2} & 1 & z_{2} + 1 & z_{2} & 0 & z_{2} & 0 & z_{2} & 1 & z_{2} + 1 & z_{2} + 1 & z_{2} & z_{2} + 1 \\\\\n",
       "1 & z_{2} & z_{2} + 1 & 1 & 0 & 1 & 1 & 0 & z_{2} & 1 & z_{2} + 1 & z_{2} + 1 & z_{2} + 1 & 1 & z_{2} & z_{2} + 1 & z_{2} & z_{2} & 0 & 0 & z_{2} + 1 & z_{2} & 1 & 1 & 1 & z_{2} + 1 & 1 & z_{2} & 0 & 0 \\\\\n",
       "0 & 0 & 1 & 0 & 0 & z_{2} + 1 & 0 & z_{2} & 0 & z_{2} + 1 & 0 & z_{2} & z_{2} & 1 & z_{2} + 1 & 1 & z_{2} & 0 & 0 & z_{2} + 1 & z_{2} + 1 & 0 & 1 & 1 & 1 & z_{2} & 0 & 0 & 1 & 0 \\\\\n",
       "z_{2} + 1 & z_{2} & 1 & z_{2} + 1 & z_{2} + 1 & z_{2} & z_{2} + 1 & 0 & z_{2} & z_{2} & 0 & 1 & z_{2} & 1 & z_{2} + 1 & 0 & z_{2} + 1 & z_{2} + 1 & 0 & 1 & 1 & 1 & z_{2} + 1 & z_{2} & z_{2} & z_{2} & z_{2} & 0 & 1 & 1 \\\\\n",
       "1 & 1 & z_{2} + 1 & 1 & z_{2} + 1 & 0 & z_{2} + 1 & 1 & 1 & 0 & 1 & 0 & z_{2} & 1 & z_{2} & 0 & 1 & 0 & 0 & 0 & 1 & 0 & z_{2} & z_{2} + 1 & z_{2} & z_{2} & z_{2} + 1 & z_{2} & z_{2} + 1 & z_{2} \\\\\n",
       "1 & z_{2} & 1 & 1 & z_{2} & z_{2} & 1 & z_{2} & 0 & 0 & 0 & z_{2} + 1 & z_{2} & 0 & z_{2} + 1 & 0 & 0 & 1 & 0 & z_{2} & 1 & 0 & 0 & 0 & z_{2} + 1 & z_{2} & 0 & z_{2} & 0 & 1 \\\\\n",
       "0 & 1 & z_{2} + 1 & 1 & z_{2} + 1 & z_{2} + 1 & 1 & 0 & z_{2} + 1 & z_{2} + 1 & z_{2} + 1 & z_{2} + 1 & 1 & z_{2} & 0 & 1 & z_{2} + 1 & z_{2} & 0 & 1 & 1 & z_{2} & z_{2} & 0 & z_{2} & 1 & z_{2} + 1 & z_{2} & 0 & z_{2} + 1 \\\\\n",
       "0 & z_{2} & 0 & z_{2} + 1 & 1 & 1 & 1 & 0 & 1 & 1 & 1 & 1 & 1 & z_{2} + 1 & z_{2} + 1 & 1 & z_{2} & 1 & 0 & 0 & 0 & 1 & 0 & z_{2} + 1 & z_{2} & z_{2} & 1 & 0 & 1 & z_{2} \\\\\n",
       "1 & z_{2} & z_{2} & z_{2} + 1 & z_{2} & 0 & z_{2} & z_{2} & 1 & 0 & z_{2} & 0 & z_{2} + 1 & z_{2} + 1 & 0 & z_{2} & 1 & z_{2} & 1 & z_{2} + 1 & 0 & z_{2} & 0 & z_{2} & z_{2} & z_{2} + 1 & 0 & 0 & 1 & 1 \\\\\n",
       "z_{2} + 1 & 1 & z_{2} & z_{2} + 1 & 1 & 0 & z_{2} + 1 & z_{2} + 1 & 1 & z_{2} + 1 & 0 & z_{2} & 0 & 0 & 0 & z_{2} + 1 & z_{2} & z_{2} & 0 & 0 & z_{2} + 1 & z_{2} & z_{2} & 1 & z_{2} & 1 & 1 & z_{2} & z_{2} & z_{2} \\\\\n",
       "0 & 0 & z_{2} & 1 & 1 & z_{2} & 0 & z_{2} + 1 & 0 & z_{2} + 1 & 1 & 0 & z_{2} + 1 & 1 & z_{2} + 1 & 1 & 0 & z_{2} + 1 & 0 & z_{2} + 1 & z_{2} + 1 & 1 & z_{2} + 1 & 0 & 0 & 1 & z_{2} & z_{2} + 1 & z_{2} & 1\n",
       "\\end{array}\\right)$$"
      ],
      "text/plain": [
       "[     0      1 z2 + 1     z2 z2 + 1      1     z2      1      1     z2     z2 z2 + 1      0 z2 + 1      1      1     z2      0      0      0 z2 + 1 z2 + 1 z2 + 1      1      1     z2     z2     z2      0     z2]\n",
       "[z2 + 1      1      0      1      0     z2     z2      1     z2 z2 + 1     z2      0      1 z2 + 1 z2 + 1     z2 z2 + 1 z2 + 1      0      0      1      1      1 z2 + 1 z2 + 1 z2 + 1     z2      0      1 z2 + 1]\n",
       "[    z2      0 z2 + 1      0 z2 + 1      0 z2 + 1 z2 + 1      1 z2 + 1      0 z2 + 1      1      0 z2 + 1     z2      1 z2 + 1      0      1      0      1      1     z2      1     z2 z2 + 1      0     z2      1]\n",
       "[    z2 z2 + 1     z2      0      0 z2 + 1     z2     z2      1      0      0 z2 + 1     z2      1      1 z2 + 1      0 z2 + 1      0 z2 + 1      0 z2 + 1      0 z2 + 1      0      0 z2 + 1 z2 + 1 z2 + 1      0]\n",
       "[    z2     z2      0      0 z2 + 1     z2      1 z2 + 1      1      0      1      1     z2      1      1      0 z2 + 1     z2      1 z2 + 1     z2      0     z2      0     z2      1 z2 + 1 z2 + 1     z2 z2 + 1]\n",
       "[     1     z2 z2 + 1      1      0      1      1      0     z2      1 z2 + 1 z2 + 1 z2 + 1      1     z2 z2 + 1     z2     z2      0      0 z2 + 1     z2      1      1      1 z2 + 1      1     z2      0      0]\n",
       "[     0      0      1      0      0 z2 + 1      0     z2      0 z2 + 1      0     z2     z2      1 z2 + 1      1     z2      0      0 z2 + 1 z2 + 1      0      1      1      1     z2      0      0      1      0]\n",
       "[z2 + 1     z2      1 z2 + 1 z2 + 1     z2 z2 + 1      0     z2     z2      0      1     z2      1 z2 + 1      0 z2 + 1 z2 + 1      0      1      1      1 z2 + 1     z2     z2     z2     z2      0      1      1]\n",
       "[     1      1 z2 + 1      1 z2 + 1      0 z2 + 1      1      1      0      1      0     z2      1     z2      0      1      0      0      0      1      0     z2 z2 + 1     z2     z2 z2 + 1     z2 z2 + 1     z2]\n",
       "[     1     z2      1      1     z2     z2      1     z2      0      0      0 z2 + 1     z2      0 z2 + 1      0      0      1      0     z2      1      0      0      0 z2 + 1     z2      0     z2      0      1]\n",
       "[     0      1 z2 + 1      1 z2 + 1 z2 + 1      1      0 z2 + 1 z2 + 1 z2 + 1 z2 + 1      1     z2      0      1 z2 + 1     z2      0      1      1     z2     z2      0     z2      1 z2 + 1     z2      0 z2 + 1]\n",
       "[     0     z2      0 z2 + 1      1      1      1      0      1      1      1      1      1 z2 + 1 z2 + 1      1     z2      1      0      0      0      1      0 z2 + 1     z2     z2      1      0      1     z2]\n",
       "[     1     z2     z2 z2 + 1     z2      0     z2     z2      1      0     z2      0 z2 + 1 z2 + 1      0     z2      1     z2      1 z2 + 1      0     z2      0     z2     z2 z2 + 1      0      0      1      1]\n",
       "[z2 + 1      1     z2 z2 + 1      1      0 z2 + 1 z2 + 1      1 z2 + 1      0     z2      0      0      0 z2 + 1     z2     z2      0      0 z2 + 1     z2     z2      1     z2      1      1     z2     z2     z2]\n",
       "[     0      0     z2      1      1     z2      0 z2 + 1      0 z2 + 1      1      0 z2 + 1      1 z2 + 1      1      0 z2 + 1      0 z2 + 1 z2 + 1      1 z2 + 1      0      0      1     z2 z2 + 1     z2      1]"
      ]
     },
     "metadata": {},
     "output_type": "display_data"
    },
    {
     "name": "stdout",
     "output_type": "stream",
     "text": [
      "\n",
      "Generator matrix:\n"
     ]
    },
    {
     "ename": "TypeError",
     "evalue": "'NotImplementedType' object is not callable",
     "output_type": "error",
     "traceback": [
      "\u001b[0;31m---------------------------------------------------------------------------\u001b[0m",
      "\u001b[0;31mTypeError\u001b[0m                                 Traceback (most recent call last)",
      "\u001b[0;32m<ipython-input-7-8d1602050b33>\u001b[0m in \u001b[0;36m<module>\u001b[0;34m\u001b[0m\n\u001b[1;32m      9\u001b[0m \u001b[0;34m\u001b[0m\u001b[0m\n\u001b[1;32m     10\u001b[0m \u001b[0mprint\u001b[0m\u001b[0;34m(\u001b[0m\u001b[0;34m\"\\nGenerator matrix:\"\u001b[0m\u001b[0;34m)\u001b[0m\u001b[0;34m\u001b[0m\u001b[0;34m\u001b[0m\u001b[0m\n\u001b[0;32m---> 11\u001b[0;31m \u001b[0mG\u001b[0m \u001b[0;34m=\u001b[0m \u001b[0mC\u001b[0m\u001b[0;34m.\u001b[0m\u001b[0mgenerator_matrix\u001b[0m\u001b[0;34m(\u001b[0m\u001b[0;34m)\u001b[0m\u001b[0;34m\u001b[0m\u001b[0;34m\u001b[0m\u001b[0m\n\u001b[0m\u001b[1;32m     12\u001b[0m \u001b[0mshow\u001b[0m\u001b[0;34m(\u001b[0m\u001b[0mG\u001b[0m\u001b[0;34m)\u001b[0m\u001b[0;34m\u001b[0m\u001b[0;34m\u001b[0m\u001b[0m\n",
      "\u001b[0;32m/opt/sagemath-9.3/local/lib/python3.7/site-packages/sage/coding/linear_code_no_metric.py\u001b[0m in \u001b[0;36mgenerator_matrix\u001b[0;34m(self, encoder_name, **kwargs)\u001b[0m\n\u001b[1;32m    241\u001b[0m         \"\"\"\n\u001b[1;32m    242\u001b[0m         \u001b[0mE\u001b[0m \u001b[0;34m=\u001b[0m \u001b[0mself\u001b[0m\u001b[0;34m.\u001b[0m\u001b[0mencoder\u001b[0m\u001b[0;34m(\u001b[0m\u001b[0mencoder_name\u001b[0m\u001b[0;34m,\u001b[0m \u001b[0;34m**\u001b[0m\u001b[0mkwargs\u001b[0m\u001b[0;34m)\u001b[0m\u001b[0;34m\u001b[0m\u001b[0;34m\u001b[0m\u001b[0m\n\u001b[0;32m--> 243\u001b[0;31m         \u001b[0;32mreturn\u001b[0m \u001b[0mE\u001b[0m\u001b[0;34m.\u001b[0m\u001b[0mgenerator_matrix\u001b[0m\u001b[0;34m(\u001b[0m\u001b[0;34m)\u001b[0m\u001b[0;34m\u001b[0m\u001b[0;34m\u001b[0m\u001b[0m\n\u001b[0m\u001b[1;32m    244\u001b[0m \u001b[0;34m\u001b[0m\u001b[0m\n\u001b[1;32m    245\u001b[0m     \u001b[0;32mdef\u001b[0m \u001b[0m__eq__\u001b[0m\u001b[0;34m(\u001b[0m\u001b[0mself\u001b[0m\u001b[0;34m,\u001b[0m \u001b[0mother\u001b[0m\u001b[0;34m)\u001b[0m\u001b[0;34m:\u001b[0m\u001b[0;34m\u001b[0m\u001b[0;34m\u001b[0m\u001b[0m\n",
      "\u001b[0;31mTypeError\u001b[0m: 'NotImplementedType' object is not callable"
     ]
    }
   ],
   "source": [
    "# Goppa code\n",
    "C = Goppa(defining_set, g, F)\n",
    "\n",
    "print(\"Goppa code:\")\n",
    "print(C)\n",
    "\n",
    "print(\"\\nParity matrix:\")\n",
    "show(C.get_parity_check_matrix())\n",
    "\n",
    "print(\"\\nGenerator matrix:\")\n",
    "G = C.generator_matrix()\n",
    "show(G)"
   ]
  },
  {
   "cell_type": "code",
   "execution_count": 7,
   "metadata": {},
   "outputs": [
    {
     "name": "stdout",
     "output_type": "stream",
     "text": [
      "\n",
      "Goppa encoder:\n",
      "Encoder for [30, 15] Goppa code\n",
      "\n",
      "Generator matrix:\n",
      "\n",
      "Word to encode:\n",
      "(0, 0, z2, 1, 0, 1, z2, z2 + 1, 0, 1, 0, 0, z2, z2, 0)\n",
      "\n",
      "Word encoded:\n",
      "x = (0, 0, z2, 1, 0, 1, z2, z2 + 1, 0, 1, 0, 0, z2, z2, 0, z2 + 1, z2, z2, 0, z2 + 1, z2 + 1, 0, z2 + 1, 1, z2, z2 + 1, 0, 1, z2, z2 + 1)\n",
      "e = (0, 0, 0, 0, 0, 0, 0, 0, 0, 1, 0, 0, 0, 0, 0, 0, 0, 0, 0, 0, 0, 0, 0, 0, 0, 0, 0, 0, 0, 0)\n",
      "\n",
      "Word encoded with errors (y = x + e):\n",
      "y = (0, 0, z2, 1, 0, 1, z2, z2 + 1, 0, 0, 0, 0, z2, z2, 0, z2 + 1, z2, z2, 0, z2 + 1, z2 + 1, 0, z2 + 1, 1, z2, z2 + 1, 0, 1, z2, z2 + 1)\n"
     ]
    }
   ],
   "source": [
    "# Encoder of C\n",
    "E = GoppaEncoder(C)\n",
    "\n",
    "print(\"\\nGoppa encoder:\")\n",
    "print(E)\n",
    "\n",
    "v = []\n",
    "\n",
    "while len(v) != G.nrows():\n",
    "    v = v + [choice(F.list())]\n",
    "\n",
    "word = vector(F, v)\n",
    "\n",
    "print(\"\\nWord to encode:\")\n",
    "print(word)\n",
    "\n",
    "x = E.encode(word)\n",
    "\n",
    "print(\"\\nWord encoded:\")\n",
    "print(\"x = \" + str(x))\n",
    "\n",
    "# add errors to y\n",
    "v = [0] * len(x)\n",
    "num_errors = floor(g.degree()/2)\n",
    "i = 0\n",
    "while i < num_errors:\n",
    "    m = randint(0, len(v)-1)\n",
    "    v[m] = choice(F.list())\n",
    "    i += 1\n",
    "\n",
    "e = vector(F, v)\n",
    "print(\"e = \" + str(e))\n",
    "\n",
    "y = x + e\n",
    "print(\"\\nWord encoded with errors (y = x + e):\")\n",
    "print(\"y = \" + str(y))"
   ]
  },
  {
   "cell_type": "code",
   "execution_count": 8,
   "metadata": {},
   "outputs": [
    {
     "name": "stdout",
     "output_type": "stream",
     "text": [
      "\n",
      "Decode to code `y`:\n",
      "x = (0, 0, z2, 1, 0, 1, z2, z2 + 1, 0, 1, 0, 0, z2, z2, 0, z2 + 1, z2, z2, 0, z2 + 1, z2 + 1, 0, z2 + 1, 1, z2, z2 + 1, 0, 1, z2, z2 + 1)\n"
     ]
    }
   ],
   "source": [
    "# Decoder of C\n",
    "D = GoppaDecoder(C)\n",
    "\n",
    "print(\"\\nDecode to code `y`:\")\n",
    "x2 = D.decode_to_code(y)\n",
    "print(\"x = \" + str(x2))"
   ]
  },
  {
   "cell_type": "code",
   "execution_count": 9,
   "metadata": {
    "scrolled": true
   },
   "outputs": [
    {
     "data": {
      "text/plain": [
       "True"
      ]
     },
     "execution_count": 9,
     "metadata": {},
     "output_type": "execute_result"
    }
   ],
   "source": [
    "x == x2"
   ]
  },
  {
   "cell_type": "markdown",
   "metadata": {},
   "source": [
    "#### Example 2"
   ]
  },
  {
   "cell_type": "code",
   "execution_count": 10,
   "metadata": {},
   "outputs": [],
   "source": [
    "F = GF(2^2)\n",
    "L = GF(2^8)\n",
    "a = L.gen()\n",
    "b = F.gen()\n",
    "R.<x> = L[]\n",
    "g = x^5 + a*x^2 + x + a^2\n",
    "n = 30\n",
    "\n",
    "defining_set = []\n",
    "while len(defining_set) != n:\n",
    "    aux = L.random_element()\n",
    "    if g(aux) != 0 and aux not in defining_set:\n",
    "        defining_set = defining_set + [aux]"
   ]
  },
  {
   "cell_type": "code",
   "execution_count": 11,
   "metadata": {},
   "outputs": [
    {
     "name": "stdout",
     "output_type": "stream",
     "text": [
      "Goppa code:\n",
      "[30, 10] Goppa code\n",
      "\n",
      "Parity matrix:\n"
     ]
    },
    {
     "data": {
      "text/html": [
       "<html><script type=\"math/tex; mode=display\">\\newcommand{\\Bold}[1]{\\mathbf{#1}}\\left(\\begin{array}{rrrrrrrrrrrrrrrrrrrrrrrrrrrrrr}\n",
       "z_{2} + 1 & 0 & 0 & z_{2} + 1 & 0 & z_{2} & z_{2} + 1 & z_{2} + 1 & z_{2} & 0 & 1 & 0 & z_{2} & z_{2} + 1 & 1 & z_{2} & z_{2} + 1 & z_{2} & z_{2} & 1 & z_{2} + 1 & z_{2} + 1 & z_{2} + 1 & z_{2} + 1 & z_{2} & 1 & 0 & 1 & 1 & z_{2} \\\\\n",
       "0 & z_{2} + 1 & 0 & z_{2} + 1 & z_{2} + 1 & 0 & 1 & 1 & 0 & 1 & z_{2} + 1 & 1 & z_{2} & z_{2} + 1 & 1 & z_{2} & 0 & z_{2} & z_{2} + 1 & 0 & 0 & z_{2} + 1 & 1 & 1 & 0 & z_{2} & z_{2} & z_{2} & 1 & z_{2} + 1 \\\\\n",
       "z_{2} & z_{2} + 1 & z_{2} & 0 & 1 & 0 & 1 & 0 & z_{2} + 1 & 1 & 0 & z_{2} + 1 & 1 & 0 & 0 & z_{2} & 0 & 0 & z_{2} + 1 & 1 & 1 & z_{2} + 1 & z_{2} + 1 & 0 & 1 & 0 & 1 & z_{2} + 1 & 1 & z_{2} + 1 \\\\\n",
       "1 & 0 & z_{2} & 0 & z_{2} & 1 & z_{2} + 1 & z_{2} + 1 & z_{2} + 1 & z_{2} & z_{2} + 1 & 1 & z_{2} + 1 & z_{2} + 1 & 0 & z_{2} & 1 & z_{2} + 1 & z_{2} + 1 & 0 & z_{2} + 1 & 0 & 0 & z_{2} & z_{2} & z_{2} & 1 & z_{2} & 0 & z_{2} + 1 \\\\\n",
       "0 & 1 & 0 & 0 & z_{2} + 1 & z_{2} & z_{2} & z_{2} & z_{2} & 1 & 1 & 1 & z_{2} + 1 & z_{2} & z_{2} + 1 & 0 & 0 & z_{2} + 1 & z_{2} + 1 & z_{2} & 1 & 1 & 0 & 1 & 1 & 1 & z_{2} + 1 & z_{2} & 1 & z_{2} + 1 \\\\\n",
       "0 & z_{2} & 0 & z_{2} & z_{2} + 1 & 0 & 1 & z_{2} + 1 & z_{2} + 1 & z_{2} & z_{2} + 1 & 0 & z_{2} & z_{2} & 1 & z_{2} + 1 & z_{2} & 1 & z_{2} & z_{2} & 0 & 1 & 1 & z_{2} & 0 & 0 & z_{2} + 1 & 1 & 1 & 1 \\\\\n",
       "z_{2} & 0 & 0 & z_{2} & 1 & z_{2} + 1 & 0 & 1 & 1 & 0 & z_{2} & z_{2} + 1 & z_{2} & z_{2} + 1 & 1 & z_{2} + 1 & 1 & 1 & z_{2} + 1 & z_{2} & 1 & z_{2} + 1 & z_{2} + 1 & 1 & 1 & z_{2} & 0 & z_{2} + 1 & z_{2} & 0 \\\\\n",
       "0 & 1 & z_{2} & 1 & z_{2} & z_{2} & 1 & 0 & z_{2} + 1 & z_{2} & 0 & z_{2} + 1 & 0 & 1 & z_{2} + 1 & 0 & 1 & 0 & z_{2} & 1 & 0 & z_{2} & z_{2} & z_{2} + 1 & z_{2} & 1 & z_{2} & z_{2} + 1 & 0 & 1 \\\\\n",
       "z_{2} + 1 & z_{2} & 0 & z_{2} + 1 & 1 & z_{2} & 0 & z_{2} + 1 & 1 & 0 & 0 & z_{2} & 0 & z_{2} + 1 & 0 & z_{2} & 1 & z_{2} + 1 & 0 & z_{2} + 1 & z_{2} & 0 & z_{2} & z_{2} & z_{2} + 1 & z_{2} + 1 & z_{2} & z_{2} + 1 & z_{2} + 1 & z_{2} \\\\\n",
       "1 & z_{2} & 0 & 0 & 0 & 1 & z_{2} & z_{2} & 1 & z_{2} + 1 & 1 & z_{2} + 1 & z_{2} & z_{2} & z_{2} + 1 & z_{2} + 1 & z_{2} + 1 & z_{2} + 1 & z_{2} + 1 & z_{2} + 1 & z_{2} & 1 & 1 & z_{2} + 1 & 0 & 1 & 0 & 0 & z_{2} & 0 \\\\\n",
       "z_{2} & z_{2} & 1 & 0 & z_{2} & 1 & z_{2} + 1 & 0 & 0 & z_{2} + 1 & 0 & 0 & 0 & z_{2} & 0 & z_{2} + 1 & 0 & 1 & z_{2} & z_{2} + 1 & 0 & 0 & z_{2} + 1 & 1 & z_{2} + 1 & z_{2} & z_{2} + 1 & z_{2} + 1 & z_{2} + 1 & 1 \\\\\n",
       "z_{2} + 1 & z_{2} & z_{2} & z_{2} + 1 & 0 & 1 & z_{2} + 1 & z_{2} + 1 & z_{2} + 1 & 1 & 0 & 1 & z_{2} & 0 & 0 & 1 & 0 & 1 & 0 & 1 & 0 & z_{2} & 1 & 0 & z_{2} + 1 & 1 & 1 & 1 & 0 & 1 \\\\\n",
       "z_{2} & 1 & z_{2} + 1 & 1 & z_{2} + 1 & z_{2} & 0 & 0 & 0 & 1 & z_{2} & z_{2} + 1 & 0 & z_{2} & z_{2} + 1 & z_{2} + 1 & 1 & 1 & z_{2} + 1 & z_{2} + 1 & z_{2} + 1 & z_{2} + 1 & z_{2} & 0 & z_{2} + 1 & 0 & z_{2} + 1 & z_{2} + 1 & z_{2} & 1 \\\\\n",
       "z_{2} + 1 & 0 & 0 & z_{2} & 1 & 1 & 1 & 0 & 0 & z_{2} & z_{2} & 1 & z_{2} + 1 & 1 & z_{2} + 1 & z_{2} & z_{2} & 0 & z_{2} & 1 & z_{2} + 1 & z_{2} + 1 & z_{2} & z_{2} + 1 & z_{2} + 1 & z_{2} + 1 & 1 & z_{2} & z_{2} & z_{2} \\\\\n",
       "z_{2} + 1 & z_{2} & z_{2} + 1 & z_{2} & 0 & z_{2} + 1 & z_{2} & z_{2} & 1 & 1 & 1 & z_{2} + 1 & z_{2} + 1 & 0 & z_{2} + 1 & z_{2} + 1 & 1 & 1 & 0 & z_{2} & 1 & 0 & 0 & z_{2} & z_{2} & 0 & 0 & z_{2} + 1 & z_{2} + 1 & z_{2} \\\\\n",
       "1 & z_{2} + 1 & z_{2} & z_{2} & 1 & 1 & z_{2} & 0 & 0 & 1 & 0 & z_{2} & z_{2} & z_{2} + 1 & 0 & 0 & z_{2} & z_{2} + 1 & 0 & 1 & 1 & z_{2} + 1 & 1 & 1 & 1 & z_{2} + 1 & 0 & 0 & z_{2} + 1 & 1 \\\\\n",
       "z_{2} & z_{2} & z_{2} & z_{2} & z_{2} + 1 & 0 & 0 & 1 & z_{2} & 0 & z_{2} + 1 & 0 & z_{2} + 1 & 0 & z_{2} + 1 & z_{2} & 1 & 1 & 1 & 1 & 1 & z_{2} + 1 & 0 & 1 & 0 & 1 & z_{2} + 1 & z_{2} & z_{2} + 1 & 1 \\\\\n",
       "0 & z_{2} + 1 & z_{2} & z_{2} + 1 & 1 & 0 & z_{2} + 1 & 1 & z_{2} & z_{2} & 0 & 1 & z_{2} + 1 & z_{2} + 1 & 0 & z_{2} & z_{2} & 0 & z_{2} + 1 & z_{2} & 0 & 0 & 0 & z_{2} + 1 & z_{2} + 1 & 0 & z_{2} & z_{2} + 1 & 0 & z_{2} + 1 \\\\\n",
       "z_{2} + 1 & 1 & z_{2} + 1 & z_{2} & z_{2} + 1 & z_{2} + 1 & 1 & z_{2} + 1 & z_{2} & z_{2} & z_{2} & 0 & 1 & z_{2} & z_{2} & 1 & z_{2} & 1 & z_{2} & 0 & 1 & 0 & z_{2} + 1 & z_{2} + 1 & z_{2} & 1 & 0 & z_{2} & 1 & 0 \\\\\n",
       "z_{2} + 1 & z_{2} & 1 & 1 & z_{2} + 1 & 1 & 1 & 1 & 0 & 0 & z_{2} + 1 & z_{2} + 1 & 1 & z_{2} + 1 & 1 & z_{2} & 1 & 1 & z_{2} & z_{2} & 1 & z_{2} + 1 & 0 & 1 & z_{2} + 1 & z_{2} + 1 & 0 & z_{2} + 1 & z_{2} + 1 & z_{2} + 1\n",
       "\\end{array}\\right)</script></html>"
      ],
      "text/latex": [
       "$$\\newcommand{\\Bold}[1]{\\mathbf{#1}}\\left(\\begin{array}{rrrrrrrrrrrrrrrrrrrrrrrrrrrrrr}\n",
       "z_{2} + 1 & 0 & 0 & z_{2} + 1 & 0 & z_{2} & z_{2} + 1 & z_{2} + 1 & z_{2} & 0 & 1 & 0 & z_{2} & z_{2} + 1 & 1 & z_{2} & z_{2} + 1 & z_{2} & z_{2} & 1 & z_{2} + 1 & z_{2} + 1 & z_{2} + 1 & z_{2} + 1 & z_{2} & 1 & 0 & 1 & 1 & z_{2} \\\\\n",
       "0 & z_{2} + 1 & 0 & z_{2} + 1 & z_{2} + 1 & 0 & 1 & 1 & 0 & 1 & z_{2} + 1 & 1 & z_{2} & z_{2} + 1 & 1 & z_{2} & 0 & z_{2} & z_{2} + 1 & 0 & 0 & z_{2} + 1 & 1 & 1 & 0 & z_{2} & z_{2} & z_{2} & 1 & z_{2} + 1 \\\\\n",
       "z_{2} & z_{2} + 1 & z_{2} & 0 & 1 & 0 & 1 & 0 & z_{2} + 1 & 1 & 0 & z_{2} + 1 & 1 & 0 & 0 & z_{2} & 0 & 0 & z_{2} + 1 & 1 & 1 & z_{2} + 1 & z_{2} + 1 & 0 & 1 & 0 & 1 & z_{2} + 1 & 1 & z_{2} + 1 \\\\\n",
       "1 & 0 & z_{2} & 0 & z_{2} & 1 & z_{2} + 1 & z_{2} + 1 & z_{2} + 1 & z_{2} & z_{2} + 1 & 1 & z_{2} + 1 & z_{2} + 1 & 0 & z_{2} & 1 & z_{2} + 1 & z_{2} + 1 & 0 & z_{2} + 1 & 0 & 0 & z_{2} & z_{2} & z_{2} & 1 & z_{2} & 0 & z_{2} + 1 \\\\\n",
       "0 & 1 & 0 & 0 & z_{2} + 1 & z_{2} & z_{2} & z_{2} & z_{2} & 1 & 1 & 1 & z_{2} + 1 & z_{2} & z_{2} + 1 & 0 & 0 & z_{2} + 1 & z_{2} + 1 & z_{2} & 1 & 1 & 0 & 1 & 1 & 1 & z_{2} + 1 & z_{2} & 1 & z_{2} + 1 \\\\\n",
       "0 & z_{2} & 0 & z_{2} & z_{2} + 1 & 0 & 1 & z_{2} + 1 & z_{2} + 1 & z_{2} & z_{2} + 1 & 0 & z_{2} & z_{2} & 1 & z_{2} + 1 & z_{2} & 1 & z_{2} & z_{2} & 0 & 1 & 1 & z_{2} & 0 & 0 & z_{2} + 1 & 1 & 1 & 1 \\\\\n",
       "z_{2} & 0 & 0 & z_{2} & 1 & z_{2} + 1 & 0 & 1 & 1 & 0 & z_{2} & z_{2} + 1 & z_{2} & z_{2} + 1 & 1 & z_{2} + 1 & 1 & 1 & z_{2} + 1 & z_{2} & 1 & z_{2} + 1 & z_{2} + 1 & 1 & 1 & z_{2} & 0 & z_{2} + 1 & z_{2} & 0 \\\\\n",
       "0 & 1 & z_{2} & 1 & z_{2} & z_{2} & 1 & 0 & z_{2} + 1 & z_{2} & 0 & z_{2} + 1 & 0 & 1 & z_{2} + 1 & 0 & 1 & 0 & z_{2} & 1 & 0 & z_{2} & z_{2} & z_{2} + 1 & z_{2} & 1 & z_{2} & z_{2} + 1 & 0 & 1 \\\\\n",
       "z_{2} + 1 & z_{2} & 0 & z_{2} + 1 & 1 & z_{2} & 0 & z_{2} + 1 & 1 & 0 & 0 & z_{2} & 0 & z_{2} + 1 & 0 & z_{2} & 1 & z_{2} + 1 & 0 & z_{2} + 1 & z_{2} & 0 & z_{2} & z_{2} & z_{2} + 1 & z_{2} + 1 & z_{2} & z_{2} + 1 & z_{2} + 1 & z_{2} \\\\\n",
       "1 & z_{2} & 0 & 0 & 0 & 1 & z_{2} & z_{2} & 1 & z_{2} + 1 & 1 & z_{2} + 1 & z_{2} & z_{2} & z_{2} + 1 & z_{2} + 1 & z_{2} + 1 & z_{2} + 1 & z_{2} + 1 & z_{2} + 1 & z_{2} & 1 & 1 & z_{2} + 1 & 0 & 1 & 0 & 0 & z_{2} & 0 \\\\\n",
       "z_{2} & z_{2} & 1 & 0 & z_{2} & 1 & z_{2} + 1 & 0 & 0 & z_{2} + 1 & 0 & 0 & 0 & z_{2} & 0 & z_{2} + 1 & 0 & 1 & z_{2} & z_{2} + 1 & 0 & 0 & z_{2} + 1 & 1 & z_{2} + 1 & z_{2} & z_{2} + 1 & z_{2} + 1 & z_{2} + 1 & 1 \\\\\n",
       "z_{2} + 1 & z_{2} & z_{2} & z_{2} + 1 & 0 & 1 & z_{2} + 1 & z_{2} + 1 & z_{2} + 1 & 1 & 0 & 1 & z_{2} & 0 & 0 & 1 & 0 & 1 & 0 & 1 & 0 & z_{2} & 1 & 0 & z_{2} + 1 & 1 & 1 & 1 & 0 & 1 \\\\\n",
       "z_{2} & 1 & z_{2} + 1 & 1 & z_{2} + 1 & z_{2} & 0 & 0 & 0 & 1 & z_{2} & z_{2} + 1 & 0 & z_{2} & z_{2} + 1 & z_{2} + 1 & 1 & 1 & z_{2} + 1 & z_{2} + 1 & z_{2} + 1 & z_{2} + 1 & z_{2} & 0 & z_{2} + 1 & 0 & z_{2} + 1 & z_{2} + 1 & z_{2} & 1 \\\\\n",
       "z_{2} + 1 & 0 & 0 & z_{2} & 1 & 1 & 1 & 0 & 0 & z_{2} & z_{2} & 1 & z_{2} + 1 & 1 & z_{2} + 1 & z_{2} & z_{2} & 0 & z_{2} & 1 & z_{2} + 1 & z_{2} + 1 & z_{2} & z_{2} + 1 & z_{2} + 1 & z_{2} + 1 & 1 & z_{2} & z_{2} & z_{2} \\\\\n",
       "z_{2} + 1 & z_{2} & z_{2} + 1 & z_{2} & 0 & z_{2} + 1 & z_{2} & z_{2} & 1 & 1 & 1 & z_{2} + 1 & z_{2} + 1 & 0 & z_{2} + 1 & z_{2} + 1 & 1 & 1 & 0 & z_{2} & 1 & 0 & 0 & z_{2} & z_{2} & 0 & 0 & z_{2} + 1 & z_{2} + 1 & z_{2} \\\\\n",
       "1 & z_{2} + 1 & z_{2} & z_{2} & 1 & 1 & z_{2} & 0 & 0 & 1 & 0 & z_{2} & z_{2} & z_{2} + 1 & 0 & 0 & z_{2} & z_{2} + 1 & 0 & 1 & 1 & z_{2} + 1 & 1 & 1 & 1 & z_{2} + 1 & 0 & 0 & z_{2} + 1 & 1 \\\\\n",
       "z_{2} & z_{2} & z_{2} & z_{2} & z_{2} + 1 & 0 & 0 & 1 & z_{2} & 0 & z_{2} + 1 & 0 & z_{2} + 1 & 0 & z_{2} + 1 & z_{2} & 1 & 1 & 1 & 1 & 1 & z_{2} + 1 & 0 & 1 & 0 & 1 & z_{2} + 1 & z_{2} & z_{2} + 1 & 1 \\\\\n",
       "0 & z_{2} + 1 & z_{2} & z_{2} + 1 & 1 & 0 & z_{2} + 1 & 1 & z_{2} & z_{2} & 0 & 1 & z_{2} + 1 & z_{2} + 1 & 0 & z_{2} & z_{2} & 0 & z_{2} + 1 & z_{2} & 0 & 0 & 0 & z_{2} + 1 & z_{2} + 1 & 0 & z_{2} & z_{2} + 1 & 0 & z_{2} + 1 \\\\\n",
       "z_{2} + 1 & 1 & z_{2} + 1 & z_{2} & z_{2} + 1 & z_{2} + 1 & 1 & z_{2} + 1 & z_{2} & z_{2} & z_{2} & 0 & 1 & z_{2} & z_{2} & 1 & z_{2} & 1 & z_{2} & 0 & 1 & 0 & z_{2} + 1 & z_{2} + 1 & z_{2} & 1 & 0 & z_{2} & 1 & 0 \\\\\n",
       "z_{2} + 1 & z_{2} & 1 & 1 & z_{2} + 1 & 1 & 1 & 1 & 0 & 0 & z_{2} + 1 & z_{2} + 1 & 1 & z_{2} + 1 & 1 & z_{2} & 1 & 1 & z_{2} & z_{2} & 1 & z_{2} + 1 & 0 & 1 & z_{2} + 1 & z_{2} + 1 & 0 & z_{2} + 1 & z_{2} + 1 & z_{2} + 1\n",
       "\\end{array}\\right)$$"
      ],
      "text/plain": [
       "20 x 30 dense matrix over Finite Field in z2 of size 2^2 (use the '.str()' method to see the entries)"
      ]
     },
     "metadata": {},
     "output_type": "display_data"
    }
   ],
   "source": [
    "# Goppa code\n",
    "C = Goppa(defining_set, g, F)\n",
    "\n",
    "print(\"Goppa code:\")\n",
    "print(C)\n",
    "\n",
    "print(\"\\nParity matrix:\")\n",
    "show(C.get_parity_check_matrix())"
   ]
  },
  {
   "cell_type": "code",
   "execution_count": 12,
   "metadata": {},
   "outputs": [
    {
     "name": "stdout",
     "output_type": "stream",
     "text": [
      "\n",
      "Goppa encoder:\n",
      "Encoder for [30, 10] Goppa code\n",
      "\n",
      "Generator matrix:\n"
     ]
    },
    {
     "data": {
      "text/html": [
       "<html><script type=\"math/tex; mode=display\">\\newcommand{\\Bold}[1]{\\mathbf{#1}}\\left(\\begin{array}{rrrrrrrrrrrrrrrrrrrrrrrrrrrrrr}\n",
       "1 & 0 & 0 & 0 & 0 & 0 & 0 & 0 & 0 & 0 & z_{2} & z_{2} + 1 & z_{2} + 1 & 0 & 0 & 1 & 0 & z_{2} + 1 & z_{2} + 1 & z_{2} & z_{2} + 1 & z_{2} & z_{2} & z_{2} + 1 & z_{2} & z_{2} + 1 & 0 & z_{2} + 1 & 1 & 1 \\\\\n",
       "0 & 1 & 0 & 0 & 0 & 0 & 0 & 0 & 0 & 0 & 0 & z_{2} + 1 & 1 & 0 & 1 & z_{2} + 1 & 0 & z_{2} + 1 & z_{2} & 1 & z_{2} + 1 & 0 & z_{2} + 1 & 1 & 1 & 1 & z_{2} + 1 & 1 & z_{2} & 1 \\\\\n",
       "0 & 0 & 1 & 0 & 0 & 0 & 0 & 0 & 0 & 0 & 0 & z_{2} + 1 & z_{2} + 1 & 1 & 0 & z_{2} + 1 & 0 & z_{2} & z_{2} & z_{2} & z_{2} & z_{2} + 1 & 1 & z_{2} & z_{2} & z_{2} + 1 & 0 & z_{2} & z_{2} + 1 & z_{2} + 1 \\\\\n",
       "0 & 0 & 0 & 1 & 0 & 0 & 0 & 0 & 0 & 0 & z_{2} + 1 & 1 & 0 & z_{2} & z_{2} & 0 & 0 & z_{2} & z_{2} + 1 & z_{2} + 1 & 0 & 0 & z_{2} + 1 & 1 & z_{2} & 1 & z_{2} & 1 & 1 & z_{2} + 1 \\\\\n",
       "0 & 0 & 0 & 0 & 1 & 0 & 0 & 0 & 0 & 0 & 1 & 0 & z_{2} & 1 & z_{2} & 0 & z_{2} + 1 & 0 & 1 & z_{2} & 0 & z_{2} & 1 & 1 & z_{2} & z_{2} & 0 & 1 & z_{2} & 1 \\\\\n",
       "0 & 0 & 0 & 0 & 0 & 1 & 0 & 0 & 0 & 0 & 0 & 0 & 0 & z_{2} & z_{2} & 0 & z_{2} + 1 & z_{2} & z_{2} & z_{2} & 0 & z_{2} & z_{2} & z_{2} & 0 & 1 & 0 & 1 & 0 & 0 \\\\\n",
       "0 & 0 & 0 & 0 & 0 & 0 & 1 & 0 & 0 & 0 & z_{2} & z_{2} + 1 & z_{2} & 0 & z_{2} & 0 & z_{2} & z_{2} & 0 & 0 & z_{2} + 1 & z_{2} + 1 & 0 & 1 & z_{2} & z_{2} + 1 & 1 & z_{2} & 1 & 1 \\\\\n",
       "0 & 0 & 0 & 0 & 0 & 0 & 0 & 1 & 0 & 0 & z_{2} + 1 & z_{2} & 0 & z_{2} + 1 & z_{2} & 0 & 1 & z_{2} & z_{2} & 0 & 0 & z_{2} & z_{2} + 1 & 0 & 1 & 1 & z_{2} & 0 & z_{2} & z_{2} + 1 \\\\\n",
       "0 & 0 & 0 & 0 & 0 & 0 & 0 & 0 & 1 & 0 & z_{2} + 1 & z_{2} & z_{2} + 1 & 0 & 0 & 1 & 1 & 1 & 1 & z_{2} & 1 & 1 & 1 & 1 & z_{2} + 1 & 1 & z_{2} & z_{2} & z_{2} & z_{2} \\\\\n",
       "0 & 0 & 0 & 0 & 0 & 0 & 0 & 0 & 0 & 1 & z_{2} & 1 & z_{2} & z_{2} & 1 & z_{2} & 1 & z_{2} + 1 & 0 & z_{2} & 0 & 1 & 1 & z_{2} + 1 & 0 & 0 & 1 & z_{2} + 1 & 1 & 1\n",
       "\\end{array}\\right)</script></html>"
      ],
      "text/latex": [
       "$$\\newcommand{\\Bold}[1]{\\mathbf{#1}}\\left(\\begin{array}{rrrrrrrrrrrrrrrrrrrrrrrrrrrrrr}\n",
       "1 & 0 & 0 & 0 & 0 & 0 & 0 & 0 & 0 & 0 & z_{2} & z_{2} + 1 & z_{2} + 1 & 0 & 0 & 1 & 0 & z_{2} + 1 & z_{2} + 1 & z_{2} & z_{2} + 1 & z_{2} & z_{2} & z_{2} + 1 & z_{2} & z_{2} + 1 & 0 & z_{2} + 1 & 1 & 1 \\\\\n",
       "0 & 1 & 0 & 0 & 0 & 0 & 0 & 0 & 0 & 0 & 0 & z_{2} + 1 & 1 & 0 & 1 & z_{2} + 1 & 0 & z_{2} + 1 & z_{2} & 1 & z_{2} + 1 & 0 & z_{2} + 1 & 1 & 1 & 1 & z_{2} + 1 & 1 & z_{2} & 1 \\\\\n",
       "0 & 0 & 1 & 0 & 0 & 0 & 0 & 0 & 0 & 0 & 0 & z_{2} + 1 & z_{2} + 1 & 1 & 0 & z_{2} + 1 & 0 & z_{2} & z_{2} & z_{2} & z_{2} & z_{2} + 1 & 1 & z_{2} & z_{2} & z_{2} + 1 & 0 & z_{2} & z_{2} + 1 & z_{2} + 1 \\\\\n",
       "0 & 0 & 0 & 1 & 0 & 0 & 0 & 0 & 0 & 0 & z_{2} + 1 & 1 & 0 & z_{2} & z_{2} & 0 & 0 & z_{2} & z_{2} + 1 & z_{2} + 1 & 0 & 0 & z_{2} + 1 & 1 & z_{2} & 1 & z_{2} & 1 & 1 & z_{2} + 1 \\\\\n",
       "0 & 0 & 0 & 0 & 1 & 0 & 0 & 0 & 0 & 0 & 1 & 0 & z_{2} & 1 & z_{2} & 0 & z_{2} + 1 & 0 & 1 & z_{2} & 0 & z_{2} & 1 & 1 & z_{2} & z_{2} & 0 & 1 & z_{2} & 1 \\\\\n",
       "0 & 0 & 0 & 0 & 0 & 1 & 0 & 0 & 0 & 0 & 0 & 0 & 0 & z_{2} & z_{2} & 0 & z_{2} + 1 & z_{2} & z_{2} & z_{2} & 0 & z_{2} & z_{2} & z_{2} & 0 & 1 & 0 & 1 & 0 & 0 \\\\\n",
       "0 & 0 & 0 & 0 & 0 & 0 & 1 & 0 & 0 & 0 & z_{2} & z_{2} + 1 & z_{2} & 0 & z_{2} & 0 & z_{2} & z_{2} & 0 & 0 & z_{2} + 1 & z_{2} + 1 & 0 & 1 & z_{2} & z_{2} + 1 & 1 & z_{2} & 1 & 1 \\\\\n",
       "0 & 0 & 0 & 0 & 0 & 0 & 0 & 1 & 0 & 0 & z_{2} + 1 & z_{2} & 0 & z_{2} + 1 & z_{2} & 0 & 1 & z_{2} & z_{2} & 0 & 0 & z_{2} & z_{2} + 1 & 0 & 1 & 1 & z_{2} & 0 & z_{2} & z_{2} + 1 \\\\\n",
       "0 & 0 & 0 & 0 & 0 & 0 & 0 & 0 & 1 & 0 & z_{2} + 1 & z_{2} & z_{2} + 1 & 0 & 0 & 1 & 1 & 1 & 1 & z_{2} & 1 & 1 & 1 & 1 & z_{2} + 1 & 1 & z_{2} & z_{2} & z_{2} & z_{2} \\\\\n",
       "0 & 0 & 0 & 0 & 0 & 0 & 0 & 0 & 0 & 1 & z_{2} & 1 & z_{2} & z_{2} & 1 & z_{2} & 1 & z_{2} + 1 & 0 & z_{2} & 0 & 1 & 1 & z_{2} + 1 & 0 & 0 & 1 & z_{2} + 1 & 1 & 1\n",
       "\\end{array}\\right)$$"
      ],
      "text/plain": [
       "[     1      0      0      0      0      0      0      0      0      0     z2 z2 + 1 z2 + 1      0      0      1      0 z2 + 1 z2 + 1     z2 z2 + 1     z2     z2 z2 + 1     z2 z2 + 1      0 z2 + 1      1      1]\n",
       "[     0      1      0      0      0      0      0      0      0      0      0 z2 + 1      1      0      1 z2 + 1      0 z2 + 1     z2      1 z2 + 1      0 z2 + 1      1      1      1 z2 + 1      1     z2      1]\n",
       "[     0      0      1      0      0      0      0      0      0      0      0 z2 + 1 z2 + 1      1      0 z2 + 1      0     z2     z2     z2     z2 z2 + 1      1     z2     z2 z2 + 1      0     z2 z2 + 1 z2 + 1]\n",
       "[     0      0      0      1      0      0      0      0      0      0 z2 + 1      1      0     z2     z2      0      0     z2 z2 + 1 z2 + 1      0      0 z2 + 1      1     z2      1     z2      1      1 z2 + 1]\n",
       "[     0      0      0      0      1      0      0      0      0      0      1      0     z2      1     z2      0 z2 + 1      0      1     z2      0     z2      1      1     z2     z2      0      1     z2      1]\n",
       "[     0      0      0      0      0      1      0      0      0      0      0      0      0     z2     z2      0 z2 + 1     z2     z2     z2      0     z2     z2     z2      0      1      0      1      0      0]\n",
       "[     0      0      0      0      0      0      1      0      0      0     z2 z2 + 1     z2      0     z2      0     z2     z2      0      0 z2 + 1 z2 + 1      0      1     z2 z2 + 1      1     z2      1      1]\n",
       "[     0      0      0      0      0      0      0      1      0      0 z2 + 1     z2      0 z2 + 1     z2      0      1     z2     z2      0      0     z2 z2 + 1      0      1      1     z2      0     z2 z2 + 1]\n",
       "[     0      0      0      0      0      0      0      0      1      0 z2 + 1     z2 z2 + 1      0      0      1      1      1      1     z2      1      1      1      1 z2 + 1      1     z2     z2     z2     z2]\n",
       "[     0      0      0      0      0      0      0      0      0      1     z2      1     z2     z2      1     z2      1 z2 + 1      0     z2      0      1      1 z2 + 1      0      0      1 z2 + 1      1      1]"
      ]
     },
     "metadata": {},
     "output_type": "display_data"
    },
    {
     "name": "stdout",
     "output_type": "stream",
     "text": [
      "\n",
      "Word to encode:\n",
      "(1, z2, z2 + 1, 0, z2 + 1, 0, z2, 1, 0, 1)\n",
      "\n",
      "Word encoded:\n",
      "x = (1, z2, z2 + 1, 0, z2 + 1, 0, z2, 1, 0, 1, z2 + 1, z2, z2 + 1, 1, z2 + 1, 0, 1, 1, 0, z2, z2, z2 + 1, 1, z2, z2, z2, 0, z2 + 1, 0, z2)\n",
      "e = (0, 0, 0, 0, 0, 0, 0, z2 + 1, 0, 0, 0, 0, 0, 0, 0, 0, 0, 0, 0, 0, 0, 0, 0, 0, 0, 0, 0, 0, 0, 0)\n",
      "\n",
      "Word encoded with errors (y = x + e):\n",
      "y = (1, z2, z2 + 1, 0, z2 + 1, 0, z2, z2, 0, 1, z2 + 1, z2, z2 + 1, 1, z2 + 1, 0, 1, 1, 0, z2, z2, z2 + 1, 1, z2, z2, z2, 0, z2 + 1, 0, z2)\n"
     ]
    }
   ],
   "source": [
    "# Encoder of C\n",
    "E = GoppaEncoder(C)\n",
    "\n",
    "print(\"\\nGoppa encoder:\")\n",
    "print(E)\n",
    "\n",
    "print(\"\\nGenerator matrix:\")\n",
    "G = E.get_generator_matrix()\n",
    "show(G)\n",
    "\n",
    "v = []\n",
    "\n",
    "while len(v) != G.nrows():\n",
    "    v = v + [choice(F.list())]\n",
    "\n",
    "word = vector(F, v)\n",
    "\n",
    "print(\"\\nWord to encode:\")\n",
    "print(word)\n",
    "\n",
    "x = E.encode(word)\n",
    "\n",
    "print(\"\\nWord encoded:\")\n",
    "print(\"x = \" + str(x))\n",
    "\n",
    "# add errors to y\n",
    "v = [0] * len(x)\n",
    "num_errors = floor(g.degree()/2)\n",
    "i = 0\n",
    "while i < num_errors:\n",
    "    m = randint(0, len(v)-1)\n",
    "    v[m] = choice(F.list())\n",
    "    i += 1\n",
    "\n",
    "e = vector(F, v)\n",
    "print(\"e = \" + str(e))\n",
    "\n",
    "y = x + e\n",
    "print(\"\\nWord encoded with errors (y = x + e):\")\n",
    "print(\"y = \" + str(y))"
   ]
  },
  {
   "cell_type": "code",
   "execution_count": 13,
   "metadata": {},
   "outputs": [
    {
     "name": "stdout",
     "output_type": "stream",
     "text": [
      "\n",
      "Decode to code `y`:\n",
      "x = (1, z2, z2 + 1, 0, z2 + 1, 0, z2, 1, 0, 1, z2 + 1, z2, z2 + 1, 1, z2 + 1, 0, 1, 1, 0, z2, z2, z2 + 1, 1, z2, z2, z2, 0, z2 + 1, 0, z2)\n"
     ]
    }
   ],
   "source": [
    "# Decoder of C\n",
    "D = GoppaDecoder(C)\n",
    "\n",
    "print(\"\\nDecode to code `y`:\")\n",
    "x2 = D.decode_to_code(y)\n",
    "print(\"x = \" + str(x2))"
   ]
  },
  {
   "cell_type": "code",
   "execution_count": 14,
   "metadata": {},
   "outputs": [
    {
     "data": {
      "text/plain": [
       "True"
      ]
     },
     "execution_count": 14,
     "metadata": {},
     "output_type": "execute_result"
    }
   ],
   "source": [
    "x == x2"
   ]
  },
  {
   "cell_type": "markdown",
   "metadata": {},
   "source": [
    " #### Example 3"
   ]
  },
  {
   "cell_type": "code",
   "execution_count": 15,
   "metadata": {},
   "outputs": [],
   "source": [
    "F = GF(3^3)\n",
    "L = GF(3^6)\n",
    "a = L.gen()\n",
    "b = F.gen()\n",
    "R.<x> = L[]\n",
    "g = x^2 + a*x + 1 + a^2\n",
    "n = 20\n",
    "\n",
    "defining_set = []\n",
    "while len(defining_set) != n:\n",
    "    aux = L.random_element()\n",
    "    if g(aux) != 0 and aux not in defining_set:\n",
    "        defining_set = defining_set + [aux]"
   ]
  },
  {
   "cell_type": "code",
   "execution_count": 16,
   "metadata": {},
   "outputs": [
    {
     "name": "stdout",
     "output_type": "stream",
     "text": [
      "Goppa code:\n",
      "[20, 16] Goppa code\n",
      "\n",
      "Parity matrix:\n"
     ]
    },
    {
     "data": {
      "text/html": [
       "<html><script type=\"math/tex; mode=display\">\\newcommand{\\Bold}[1]{\\mathbf{#1}}\\left(\\begin{array}{rrrrrrrrrrrrrrrrrrrr}\n",
       "z_{3}^{2} + 2 z_{3} & z_{3}^{2} + z_{3} + 2 & 2 z_{3} & 2 & 2 z_{3} + 1 & z_{3}^{2} + 1 & z_{3}^{2} & z_{3}^{2} + 2 & 2 z_{3}^{2} + 2 & 2 z_{3}^{2} + z_{3} & z_{3}^{2} + z_{3} + 1 & z_{3}^{2} + 2 z_{3} + 2 & z_{3}^{2} + z_{3} + 2 & 1 & 2 z_{3} + 2 & z_{3}^{2} + z_{3} + 1 & 2 z_{3}^{2} + 2 & 2 z_{3}^{2} + 2 z_{3} & 2 z_{3} + 2 & z_{3}^{2} + z_{3} + 2 \\\\\n",
       "2 & 2 z_{3}^{2} & 2 z_{3}^{2} & 2 z_{3}^{2} & 2 z_{3}^{2} + 2 z_{3} + 2 & 2 z_{3}^{2} + 2 & 2 z_{3}^{2} + 1 & z_{3}^{2} + 2 z_{3} & 2 z_{3}^{2} + 1 & 2 & 2 z_{3}^{2} + 2 & 2 z_{3}^{2} + z_{3} + 2 & 0 & 2 z_{3}^{2} + 2 z_{3} + 2 & z_{3} + 2 & z_{3}^{2} + 2 & 2 z_{3}^{2} & 2 z_{3}^{2} + 2 & 2 z_{3}^{2} + z_{3} + 1 & 0 \\\\\n",
       "z_{3}^{2} + 2 & z_{3}^{2} + z_{3} + 2 & 2 z_{3} + 2 & z_{3}^{2} + 2 z_{3} + 1 & z_{3} + 2 & 2 z_{3}^{2} + 2 z_{3} + 1 & z_{3} & 2 z_{3} + 1 & 2 z_{3}^{2} + 2 & 2 z_{3}^{2} & 2 z_{3}^{2} + z_{3} & z_{3}^{2} + 2 z_{3} + 1 & z_{3}^{2} + z_{3} & 2 z_{3}^{2} + z_{3} + 1 & 2 z_{3}^{2} + z_{3} + 1 & 2 & 2 z_{3} + 1 & z_{3}^{2} + 1 & 2 z_{3}^{2} + z_{3} & 2 z_{3} \\\\\n",
       "2 z_{3}^{2} & 2 z_{3} + 2 & 2 z_{3} + 2 & 2 z_{3}^{2} + 2 z_{3} + 2 & z_{3}^{2} + z_{3} + 1 & 2 & z_{3}^{2} & z_{3}^{2} + z_{3} + 1 & 2 z_{3}^{2} + 2 z_{3} & z_{3}^{2} & z_{3} + 2 & 2 z_{3}^{2} + z_{3} + 2 & z_{3}^{2} + 1 & 2 z_{3} + 1 & z_{3}^{2} + z_{3} & 2 z_{3}^{2} + z_{3} & 2 z_{3} + 1 & 0 & z_{3}^{2} & 2 z_{3}^{2} + z_{3} + 1\n",
       "\\end{array}\\right)</script></html>"
      ],
      "text/latex": [
       "$$\\newcommand{\\Bold}[1]{\\mathbf{#1}}\\left(\\begin{array}{rrrrrrrrrrrrrrrrrrrr}\n",
       "z_{3}^{2} + 2 z_{3} & z_{3}^{2} + z_{3} + 2 & 2 z_{3} & 2 & 2 z_{3} + 1 & z_{3}^{2} + 1 & z_{3}^{2} & z_{3}^{2} + 2 & 2 z_{3}^{2} + 2 & 2 z_{3}^{2} + z_{3} & z_{3}^{2} + z_{3} + 1 & z_{3}^{2} + 2 z_{3} + 2 & z_{3}^{2} + z_{3} + 2 & 1 & 2 z_{3} + 2 & z_{3}^{2} + z_{3} + 1 & 2 z_{3}^{2} + 2 & 2 z_{3}^{2} + 2 z_{3} & 2 z_{3} + 2 & z_{3}^{2} + z_{3} + 2 \\\\\n",
       "2 & 2 z_{3}^{2} & 2 z_{3}^{2} & 2 z_{3}^{2} & 2 z_{3}^{2} + 2 z_{3} + 2 & 2 z_{3}^{2} + 2 & 2 z_{3}^{2} + 1 & z_{3}^{2} + 2 z_{3} & 2 z_{3}^{2} + 1 & 2 & 2 z_{3}^{2} + 2 & 2 z_{3}^{2} + z_{3} + 2 & 0 & 2 z_{3}^{2} + 2 z_{3} + 2 & z_{3} + 2 & z_{3}^{2} + 2 & 2 z_{3}^{2} & 2 z_{3}^{2} + 2 & 2 z_{3}^{2} + z_{3} + 1 & 0 \\\\\n",
       "z_{3}^{2} + 2 & z_{3}^{2} + z_{3} + 2 & 2 z_{3} + 2 & z_{3}^{2} + 2 z_{3} + 1 & z_{3} + 2 & 2 z_{3}^{2} + 2 z_{3} + 1 & z_{3} & 2 z_{3} + 1 & 2 z_{3}^{2} + 2 & 2 z_{3}^{2} & 2 z_{3}^{2} + z_{3} & z_{3}^{2} + 2 z_{3} + 1 & z_{3}^{2} + z_{3} & 2 z_{3}^{2} + z_{3} + 1 & 2 z_{3}^{2} + z_{3} + 1 & 2 & 2 z_{3} + 1 & z_{3}^{2} + 1 & 2 z_{3}^{2} + z_{3} & 2 z_{3} \\\\\n",
       "2 z_{3}^{2} & 2 z_{3} + 2 & 2 z_{3} + 2 & 2 z_{3}^{2} + 2 z_{3} + 2 & z_{3}^{2} + z_{3} + 1 & 2 & z_{3}^{2} & z_{3}^{2} + z_{3} + 1 & 2 z_{3}^{2} + 2 z_{3} & z_{3}^{2} & z_{3} + 2 & 2 z_{3}^{2} + z_{3} + 2 & z_{3}^{2} + 1 & 2 z_{3} + 1 & z_{3}^{2} + z_{3} & 2 z_{3}^{2} + z_{3} & 2 z_{3} + 1 & 0 & z_{3}^{2} & 2 z_{3}^{2} + z_{3} + 1\n",
       "\\end{array}\\right)$$"
      ],
      "text/plain": [
       "[      z3^2 + 2*z3     z3^2 + z3 + 2              2*z3                 2          2*z3 + 1          z3^2 + 1              z3^2          z3^2 + 2        2*z3^2 + 2       2*z3^2 + z3     z3^2 + z3 + 1   z3^2 + 2*z3 + 2     z3^2 + z3 + 2                 1          2*z3 + 2     z3^2 + z3 + 1        2*z3^2 + 2     2*z3^2 + 2*z3          2*z3 + 2     z3^2 + z3 + 2]\n",
       "[                2            2*z3^2            2*z3^2            2*z3^2 2*z3^2 + 2*z3 + 2        2*z3^2 + 2        2*z3^2 + 1       z3^2 + 2*z3        2*z3^2 + 1                 2        2*z3^2 + 2   2*z3^2 + z3 + 2                 0 2*z3^2 + 2*z3 + 2            z3 + 2          z3^2 + 2            2*z3^2        2*z3^2 + 2   2*z3^2 + z3 + 1                 0]\n",
       "[         z3^2 + 2     z3^2 + z3 + 2          2*z3 + 2   z3^2 + 2*z3 + 1            z3 + 2 2*z3^2 + 2*z3 + 1                z3          2*z3 + 1        2*z3^2 + 2            2*z3^2       2*z3^2 + z3   z3^2 + 2*z3 + 1         z3^2 + z3   2*z3^2 + z3 + 1   2*z3^2 + z3 + 1                 2          2*z3 + 1          z3^2 + 1       2*z3^2 + z3              2*z3]\n",
       "[           2*z3^2          2*z3 + 2          2*z3 + 2 2*z3^2 + 2*z3 + 2     z3^2 + z3 + 1                 2              z3^2     z3^2 + z3 + 1     2*z3^2 + 2*z3              z3^2            z3 + 2   2*z3^2 + z3 + 2          z3^2 + 1          2*z3 + 1         z3^2 + z3       2*z3^2 + z3          2*z3 + 1                 0              z3^2   2*z3^2 + z3 + 1]"
      ]
     },
     "metadata": {},
     "output_type": "display_data"
    }
   ],
   "source": [
    "# Goppa code\n",
    "C = Goppa(defining_set, g, F)\n",
    "\n",
    "print(\"Goppa code:\")\n",
    "print(C)\n",
    "\n",
    "print(\"\\nParity matrix:\")\n",
    "show(C.get_parity_check_matrix())"
   ]
  },
  {
   "cell_type": "code",
   "execution_count": 17,
   "metadata": {},
   "outputs": [
    {
     "name": "stdout",
     "output_type": "stream",
     "text": [
      "\n",
      "Goppa encoder:\n",
      "Encoder for [20, 16] Goppa code\n",
      "\n",
      "Generator matrix:\n",
      "\n",
      "Word to encode:\n",
      "(2*z3^2 + 2, z3^2, 2*z3 + 1, 2*z3^2 + 1, z3^2, z3, 2*z3^2 + 2*z3 + 2, z3^2 + 2*z3 + 2, z3 + 2, z3^2 + z3 + 1, z3^2 + 2, z3^2 + 2*z3 + 2, z3^2 + z3, 2*z3^2 + z3 + 1, z3^2 + z3 + 2, 2*z3 + 1)\n",
      "\n",
      "Word encoded:\n",
      "x = (2*z3^2 + 2, z3^2, 2*z3 + 1, 2*z3^2 + 1, z3^2, z3, 2*z3^2 + 2*z3 + 2, z3^2 + 2*z3 + 2, z3 + 2, z3^2 + z3 + 1, z3^2 + 2, z3^2 + 2*z3 + 2, z3^2 + z3, 2*z3^2 + z3 + 1, z3^2 + z3 + 2, 2*z3 + 1, 2*z3, z3, 0, 2*z3^2 + z3)\n",
      "e = (0, 0, 0, 0, 0, 0, 0, 2*z3 + 2, 0, 0, 0, 0, 0, 0, 0, 0, 0, 0, 0, 0)\n",
      "\n",
      "Word encoded with errors (y = x + e):\n",
      "y = (2*z3^2 + 2, z3^2, 2*z3 + 1, 2*z3^2 + 1, z3^2, z3, 2*z3^2 + 2*z3 + 2, z3^2 + z3 + 1, z3 + 2, z3^2 + z3 + 1, z3^2 + 2, z3^2 + 2*z3 + 2, z3^2 + z3, 2*z3^2 + z3 + 1, z3^2 + z3 + 2, 2*z3 + 1, 2*z3, z3, 0, 2*z3^2 + z3)\n"
     ]
    }
   ],
   "source": [
    "# Encoder of C\n",
    "E = GoppaEncoder(C)\n",
    "\n",
    "print(\"\\nGoppa encoder:\")\n",
    "print(E)\n",
    "\n",
    "print(\"\\nGenerator matrix:\")\n",
    "G = E.get_generator_matrix()\n",
    "show(G)\n",
    "\n",
    "v = []\n",
    "\n",
    "while len(v) != G.nrows():\n",
    "    v = v + [choice(F.list())]\n",
    "\n",
    "word = vector(F, v)\n",
    "\n",
    "print(\"\\nWord to encode:\")\n",
    "print(word)\n",
    "\n",
    "x = E.encode(word)\n",
    "\n",
    "print(\"\\nWord encoded:\")\n",
    "print(\"x = \" + str(x))\n",
    "\n",
    "# add errors to y\n",
    "v = [0] * len(x)\n",
    "num_errors = floor(g.degree()/2)\n",
    "i = 0\n",
    "while i < num_errors:\n",
    "    m = randint(0, len(v)-1)\n",
    "    v[m] = choice(F.list())\n",
    "    i += 1\n",
    "\n",
    "e = vector(F, v)\n",
    "print(\"e = \" + str(e))\n",
    "\n",
    "y = x + e\n",
    "print(\"\\nWord encoded with errors (y = x + e):\")\n",
    "print(\"y = \" + str(y))"
   ]
  },
  {
   "cell_type": "code",
   "execution_count": 18,
   "metadata": {},
   "outputs": [
    {
     "name": "stdout",
     "output_type": "stream",
     "text": [
      "\n",
      "Decode to code `y`:\n"
     ]
    },
    {
     "ename": "ValueError",
     "evalue": "z6^5 + 2*z6^3 + 2*z6^2 + z6 + 1 is not in list",
     "output_type": "error",
     "traceback": [
      "\u001b[0;31m---------------------------------------------------------------------------\u001b[0m",
      "\u001b[0;31mValueError\u001b[0m                                Traceback (most recent call last)",
      "\u001b[0;32m<ipython-input-18-fbab106e5c67>\u001b[0m in \u001b[0;36m<module>\u001b[0;34m\u001b[0m\n\u001b[1;32m      4\u001b[0m \u001b[0mprint\u001b[0m\u001b[0;34m(\u001b[0m\u001b[0;34m\"\\nDecode to code `y`:\"\u001b[0m\u001b[0;34m)\u001b[0m\u001b[0;34m\u001b[0m\u001b[0;34m\u001b[0m\u001b[0m\n\u001b[1;32m      5\u001b[0m \u001b[0;34m\u001b[0m\u001b[0m\n\u001b[0;32m----> 6\u001b[0;31m \u001b[0mx2\u001b[0m \u001b[0;34m=\u001b[0m \u001b[0mD\u001b[0m\u001b[0;34m.\u001b[0m\u001b[0mdecode_to_code\u001b[0m\u001b[0;34m(\u001b[0m\u001b[0my\u001b[0m\u001b[0;34m)\u001b[0m\u001b[0;34m\u001b[0m\u001b[0;34m\u001b[0m\u001b[0m\n\u001b[0m\u001b[1;32m      7\u001b[0m \u001b[0mprint\u001b[0m\u001b[0;34m(\u001b[0m\u001b[0;34m\"x = \"\u001b[0m \u001b[0;34m+\u001b[0m \u001b[0mstr\u001b[0m\u001b[0;34m(\u001b[0m\u001b[0mx2\u001b[0m\u001b[0;34m)\u001b[0m\u001b[0;34m)\u001b[0m\u001b[0;34m\u001b[0m\u001b[0;34m\u001b[0m\u001b[0m\n",
      "\u001b[0;32m<ipython-input-4-53dc6c1bf1e6>\u001b[0m in \u001b[0;36mdecode_to_code\u001b[0;34m(self, word)\u001b[0m\n\u001b[1;32m     90\u001b[0m \u001b[0;34m\u001b[0m\u001b[0m\n\u001b[1;32m     91\u001b[0m         \u001b[0;32mfor\u001b[0m \u001b[0mroot\u001b[0m \u001b[0;32min\u001b[0m \u001b[0msigma\u001b[0m\u001b[0;34m.\u001b[0m\u001b[0mroots\u001b[0m\u001b[0;34m(\u001b[0m\u001b[0;34m)\u001b[0m\u001b[0;34m:\u001b[0m\u001b[0;34m\u001b[0m\u001b[0;34m\u001b[0m\u001b[0m\n\u001b[0;32m---> 92\u001b[0;31m             \u001b[0mroots_loc\u001b[0m \u001b[0;34m=\u001b[0m \u001b[0mroots_loc\u001b[0m \u001b[0;34m+\u001b[0m \u001b[0;34m[\u001b[0m\u001b[0mself\u001b[0m\u001b[0;34m.\u001b[0m\u001b[0m_defining_set\u001b[0m\u001b[0;34m.\u001b[0m\u001b[0mindex\u001b[0m\u001b[0;34m(\u001b[0m\u001b[0mroot\u001b[0m\u001b[0;34m[\u001b[0m\u001b[0mInteger\u001b[0m\u001b[0;34m(\u001b[0m\u001b[0;36m0\u001b[0m\u001b[0;34m)\u001b[0m\u001b[0;34m]\u001b[0m\u001b[0;34m)\u001b[0m\u001b[0;34m]\u001b[0m\u001b[0;34m\u001b[0m\u001b[0;34m\u001b[0m\u001b[0m\n\u001b[0m\u001b[1;32m     93\u001b[0m \u001b[0;34m\u001b[0m\u001b[0m\n\u001b[1;32m     94\u001b[0m         \u001b[0merror\u001b[0m \u001b[0;34m=\u001b[0m \u001b[0;34m[\u001b[0m\u001b[0mInteger\u001b[0m\u001b[0;34m(\u001b[0m\u001b[0;36m0\u001b[0m\u001b[0;34m)\u001b[0m\u001b[0;34m]\u001b[0m \u001b[0;34m*\u001b[0m \u001b[0mlen\u001b[0m\u001b[0;34m(\u001b[0m\u001b[0mself\u001b[0m\u001b[0;34m.\u001b[0m\u001b[0m_defining_set\u001b[0m\u001b[0;34m)\u001b[0m\u001b[0;34m\u001b[0m\u001b[0;34m\u001b[0m\u001b[0m\n",
      "\u001b[0;31mValueError\u001b[0m: z6^5 + 2*z6^3 + 2*z6^2 + z6 + 1 is not in list"
     ]
    }
   ],
   "source": [
    "# Decoder of C\n",
    "D = GoppaDecoder(C)\n",
    "\n",
    "print(\"\\nDecode to code `y`:\")\n",
    "\n",
    "x2 = D.decode_to_code(y)\n",
    "print(\"x = \" + str(x2))"
   ]
  },
  {
   "cell_type": "code",
   "execution_count": null,
   "metadata": {},
   "outputs": [],
   "source": [
    "x == x2"
   ]
  },
  {
   "cell_type": "markdown",
   "metadata": {},
   "source": [
    "#### Example 4"
   ]
  },
  {
   "cell_type": "code",
   "execution_count": 36,
   "metadata": {},
   "outputs": [
    {
     "data": {
      "text/html": [
       "<html><script type=\"math/tex; mode=display\">\\newcommand{\\Bold}[1]{\\mathbf{#1}}\\left[z_{6}^{5} + 1, z_{6}^{5} + z_{6}^{3} + z_{6}^{2}, z_{6}^{3}, z_{6} + 1, z_{6}^{4} + z_{6}^{3}, z_{6}^{5} + z_{6}^{3} + z_{6}, z_{6}^{4} + z_{6} + 1, z_{6}^{5} + z_{6}^{4} + z_{6}^{3} + z_{6}^{2} + 1, z_{6}^{5} + z_{6}^{4} + z_{6}^{3} + 1, z_{6}^{5} + z_{6}^{4} + z_{6}^{3} + z_{6}, z_{6}^{5} + z_{6}^{4} + z_{6}^{2}, z_{6}^{4}, z_{6}^{5} + z_{6}^{4} + z_{6}^{2} + z_{6}, z_{6}^{5} + z_{6}^{4} + z_{6}^{3} + z_{6} + 1, z_{6}^{5} + z_{6}^{3} + z_{6}^{2} + z_{6} + 1, z_{6}, z_{6}^{5} + z_{6}^{3}, z_{6}^{5} + z_{6}, z_{6}^{5} + z_{6}^{4} + z_{6}^{3} + z_{6}^{2}, z_{6}^{3} + 1, z_{6}^{4} + z_{6}, z_{6}^{5} + z_{6}^{4} + z_{6}^{2} + z_{6} + 1, z_{6}^{3} + z_{6}^{2} + 1, z_{6}^{3} + z_{6} + 1, z_{6}^{5} + z_{6}^{2} + 1, 1, z_{6}^{5} + z_{6}^{4} + z_{6}, z_{6}^{4} + z_{6}^{2}, z_{6}^{5} + z_{6}^{3} + 1, z_{6}^{5} + z_{6}^{2} + z_{6}, z_{6}^{5} + z_{6}^{4} + z_{6} + 1, z_{6}^{5} + z_{6} + 1, z_{6}^{3} + z_{6}^{2}, z_{6}^{2} + z_{6}, z_{6}^{4} + z_{6}^{3} + z_{6}^{2}, z_{6}^{2} + z_{6} + 1, z_{6}^{4} + z_{6}^{3} + z_{6}^{2} + 1, 0, z_{6}^{2}, z_{6}^{4} + z_{6}^{2} + z_{6}, z_{6}^{5} + z_{6}^{3} + z_{6} + 1, z_{6}^{3} + z_{6}^{2} + z_{6}, z_{6}^{5} + z_{6}^{2} + z_{6} + 1, z_{6}^{4} + z_{6}^{3} + z_{6}^{2} + z_{6}, z_{6}^{4} + z_{6}^{2} + 1, z_{6}^{5} + z_{6}^{4}, z_{6}^{4} + z_{6}^{3} + 1, z_{6}^{4} + z_{6}^{3} + z_{6} + 1, z_{6}^{4} + 1, z_{6}^{3} + z_{6}, z_{6}^{5} + z_{6}^{4} + z_{6}^{3}, z_{6}^{5} + z_{6}^{3} + z_{6}^{2} + 1, z_{6}^{5} + z_{6}^{3} + z_{6}^{2} + z_{6}, z_{6}^{5} + z_{6}^{4} + z_{6}^{2} + 1, z_{6}^{5}\\right]</script></html>"
      ],
      "text/latex": [
       "$$\\newcommand{\\Bold}[1]{\\mathbf{#1}}\\left[z_{6}^{5} + 1, z_{6}^{5} + z_{6}^{3} + z_{6}^{2}, z_{6}^{3}, z_{6} + 1, z_{6}^{4} + z_{6}^{3}, z_{6}^{5} + z_{6}^{3} + z_{6}, z_{6}^{4} + z_{6} + 1, z_{6}^{5} + z_{6}^{4} + z_{6}^{3} + z_{6}^{2} + 1, z_{6}^{5} + z_{6}^{4} + z_{6}^{3} + 1, z_{6}^{5} + z_{6}^{4} + z_{6}^{3} + z_{6}, z_{6}^{5} + z_{6}^{4} + z_{6}^{2}, z_{6}^{4}, z_{6}^{5} + z_{6}^{4} + z_{6}^{2} + z_{6}, z_{6}^{5} + z_{6}^{4} + z_{6}^{3} + z_{6} + 1, z_{6}^{5} + z_{6}^{3} + z_{6}^{2} + z_{6} + 1, z_{6}, z_{6}^{5} + z_{6}^{3}, z_{6}^{5} + z_{6}, z_{6}^{5} + z_{6}^{4} + z_{6}^{3} + z_{6}^{2}, z_{6}^{3} + 1, z_{6}^{4} + z_{6}, z_{6}^{5} + z_{6}^{4} + z_{6}^{2} + z_{6} + 1, z_{6}^{3} + z_{6}^{2} + 1, z_{6}^{3} + z_{6} + 1, z_{6}^{5} + z_{6}^{2} + 1, 1, z_{6}^{5} + z_{6}^{4} + z_{6}, z_{6}^{4} + z_{6}^{2}, z_{6}^{5} + z_{6}^{3} + 1, z_{6}^{5} + z_{6}^{2} + z_{6}, z_{6}^{5} + z_{6}^{4} + z_{6} + 1, z_{6}^{5} + z_{6} + 1, z_{6}^{3} + z_{6}^{2}, z_{6}^{2} + z_{6}, z_{6}^{4} + z_{6}^{3} + z_{6}^{2}, z_{6}^{2} + z_{6} + 1, z_{6}^{4} + z_{6}^{3} + z_{6}^{2} + 1, 0, z_{6}^{2}, z_{6}^{4} + z_{6}^{2} + z_{6}, z_{6}^{5} + z_{6}^{3} + z_{6} + 1, z_{6}^{3} + z_{6}^{2} + z_{6}, z_{6}^{5} + z_{6}^{2} + z_{6} + 1, z_{6}^{4} + z_{6}^{3} + z_{6}^{2} + z_{6}, z_{6}^{4} + z_{6}^{2} + 1, z_{6}^{5} + z_{6}^{4}, z_{6}^{4} + z_{6}^{3} + 1, z_{6}^{4} + z_{6}^{3} + z_{6} + 1, z_{6}^{4} + 1, z_{6}^{3} + z_{6}, z_{6}^{5} + z_{6}^{4} + z_{6}^{3}, z_{6}^{5} + z_{6}^{3} + z_{6}^{2} + 1, z_{6}^{5} + z_{6}^{3} + z_{6}^{2} + z_{6}, z_{6}^{5} + z_{6}^{4} + z_{6}^{2} + 1, z_{6}^{5}\\right]$$"
      ],
      "text/plain": [
       "[z6^5 + 1,\n",
       " z6^5 + z6^3 + z6^2,\n",
       " z6^3,\n",
       " z6 + 1,\n",
       " z6^4 + z6^3,\n",
       " z6^5 + z6^3 + z6,\n",
       " z6^4 + z6 + 1,\n",
       " z6^5 + z6^4 + z6^3 + z6^2 + 1,\n",
       " z6^5 + z6^4 + z6^3 + 1,\n",
       " z6^5 + z6^4 + z6^3 + z6,\n",
       " z6^5 + z6^4 + z6^2,\n",
       " z6^4,\n",
       " z6^5 + z6^4 + z6^2 + z6,\n",
       " z6^5 + z6^4 + z6^3 + z6 + 1,\n",
       " z6^5 + z6^3 + z6^2 + z6 + 1,\n",
       " z6,\n",
       " z6^5 + z6^3,\n",
       " z6^5 + z6,\n",
       " z6^5 + z6^4 + z6^3 + z6^2,\n",
       " z6^3 + 1,\n",
       " z6^4 + z6,\n",
       " z6^5 + z6^4 + z6^2 + z6 + 1,\n",
       " z6^3 + z6^2 + 1,\n",
       " z6^3 + z6 + 1,\n",
       " z6^5 + z6^2 + 1,\n",
       " 1,\n",
       " z6^5 + z6^4 + z6,\n",
       " z6^4 + z6^2,\n",
       " z6^5 + z6^3 + 1,\n",
       " z6^5 + z6^2 + z6,\n",
       " z6^5 + z6^4 + z6 + 1,\n",
       " z6^5 + z6 + 1,\n",
       " z6^3 + z6^2,\n",
       " z6^2 + z6,\n",
       " z6^4 + z6^3 + z6^2,\n",
       " z6^2 + z6 + 1,\n",
       " z6^4 + z6^3 + z6^2 + 1,\n",
       " 0,\n",
       " z6^2,\n",
       " z6^4 + z6^2 + z6,\n",
       " z6^5 + z6^3 + z6 + 1,\n",
       " z6^3 + z6^2 + z6,\n",
       " z6^5 + z6^2 + z6 + 1,\n",
       " z6^4 + z6^3 + z6^2 + z6,\n",
       " z6^4 + z6^2 + 1,\n",
       " z6^5 + z6^4,\n",
       " z6^4 + z6^3 + 1,\n",
       " z6^4 + z6^3 + z6 + 1,\n",
       " z6^4 + 1,\n",
       " z6^3 + z6,\n",
       " z6^5 + z6^4 + z6^3,\n",
       " z6^5 + z6^3 + z6^2 + 1,\n",
       " z6^5 + z6^3 + z6^2 + z6,\n",
       " z6^5 + z6^4 + z6^2 + 1,\n",
       " z6^5]"
      ]
     },
     "metadata": {},
     "output_type": "display_data"
    }
   ],
   "source": [
    "F = GF(2)\n",
    "L = GF(2^6)\n",
    "a = L.gen()\n",
    "b = F.gen()\n",
    "R.<x> = L[]\n",
    "g = x^5 + a*x + 1\n",
    "n = 55\n",
    "defining_set = []\n",
    "while len(defining_set) != n:\n",
    "    aux = L.random_element()\n",
    "    if g(aux) != 0 and aux not in defining_set:\n",
    "        defining_set = defining_set + [aux]\n",
    "show(defining_set)"
   ]
  },
  {
   "cell_type": "code",
   "execution_count": 37,
   "metadata": {},
   "outputs": [
    {
     "name": "stdout",
     "output_type": "stream",
     "text": [
      "Goppa code:\n",
      "[55, 25] Goppa code\n",
      "\n",
      "Parity matrix:\n"
     ]
    },
    {
     "data": {
      "text/html": [
       "<html><script type=\"math/tex; mode=display\">\\newcommand{\\Bold}[1]{\\mathbf{#1}}\\left(\\begin{array}{rrrrrrrrrrrrrrrrrrrrrrrrrrrrrrrrrrrrrrrrrrrrrrrrrrrrrrr}\n",
       "1 & 0 & 0 & 0 & 0 & 1 & 0 & 0 & 0 & 1 & 1 & 1 & 1 & 0 & 1 & 0 & 0 & 1 & 0 & 0 & 0 & 1 & 1 & 0 & 0 & 0 & 0 & 0 & 1 & 1 & 0 & 1 & 1 & 0 & 1 & 1 & 1 & 0 & 1 & 0 & 1 & 0 & 0 & 1 & 1 & 0 & 1 & 0 & 0 & 1 & 0 & 1 & 0 & 0 & 1 \\\\\n",
       "1 & 0 & 0 & 0 & 1 & 1 & 0 & 0 & 1 & 1 & 0 & 1 & 0 & 1 & 0 & 1 & 1 & 1 & 0 & 0 & 1 & 0 & 1 & 0 & 1 & 0 & 0 & 1 & 1 & 0 & 1 & 0 & 0 & 0 & 0 & 0 & 0 & 1 & 0 & 0 & 1 & 0 & 0 & 1 & 0 & 1 & 1 & 1 & 1 & 1 & 1 & 0 & 1 & 0 & 0 \\\\\n",
       "1 & 1 & 1 & 0 & 1 & 0 & 0 & 1 & 0 & 1 & 0 & 1 & 1 & 1 & 1 & 1 & 0 & 1 & 0 & 0 & 0 & 0 & 1 & 0 & 0 & 1 & 1 & 0 & 1 & 1 & 0 & 0 & 1 & 1 & 1 & 0 & 1 & 0 & 1 & 0 & 1 & 1 & 0 & 0 & 1 & 0 & 0 & 1 & 0 & 1 & 0 & 0 & 0 & 0 & 0 \\\\\n",
       "1 & 1 & 0 & 1 & 1 & 1 & 0 & 1 & 0 & 0 & 0 & 0 & 0 & 1 & 1 & 1 & 1 & 1 & 0 & 1 & 1 & 0 & 0 & 0 & 0 & 1 & 0 & 1 & 0 & 0 & 0 & 1 & 1 & 0 & 0 & 1 & 0 & 0 & 0 & 1 & 1 & 1 & 1 & 1 & 1 & 0 & 1 & 1 & 1 & 1 & 0 & 1 & 1 & 1 & 1 \\\\\n",
       "1 & 1 & 0 & 0 & 1 & 1 & 0 & 0 & 0 & 0 & 1 & 1 & 0 & 1 & 1 & 1 & 1 & 1 & 0 & 1 & 1 & 0 & 0 & 1 & 0 & 0 & 1 & 0 & 0 & 0 & 0 & 0 & 1 & 0 & 0 & 1 & 0 & 0 & 0 & 1 & 0 & 1 & 0 & 1 & 0 & 1 & 0 & 0 & 0 & 0 & 1 & 1 & 1 & 0 & 1 \\\\\n",
       "0 & 0 & 1 & 1 & 1 & 1 & 0 & 1 & 1 & 0 & 1 & 0 & 1 & 0 & 0 & 0 & 0 & 0 & 1 & 1 & 1 & 1 & 1 & 0 & 1 & 1 & 0 & 0 & 1 & 0 & 0 & 0 & 0 & 0 & 0 & 1 & 0 & 0 & 0 & 1 & 0 & 1 & 0 & 1 & 0 & 0 & 0 & 0 & 0 & 0 & 1 & 0 & 0 & 1 & 0 \\\\\n",
       "1 & 0 & 1 & 0 & 0 & 0 & 1 & 0 & 1 & 0 & 1 & 0 & 1 & 1 & 0 & 0 & 0 & 1 & 1 & 0 & 0 & 0 & 0 & 1 & 0 & 1 & 0 & 0 & 1 & 0 & 0 & 1 & 1 & 1 & 1 & 1 & 1 & 0 & 1 & 0 & 0 & 1 & 1 & 0 & 0 & 0 & 1 & 0 & 1 & 0 & 0 & 0 & 1 & 1 & 0 \\\\\n",
       "0 & 0 & 0 & 0 & 0 & 1 & 1 & 0 & 0 & 1 & 1 & 0 & 1 & 1 & 1 & 1 & 1 & 1 & 1 & 1 & 1 & 1 & 0 & 1 & 1 & 0 & 0 & 0 & 0 & 1 & 0 & 0 & 0 & 0 & 0 & 1 & 0 & 0 & 0 & 0 & 0 & 0 & 0 & 0 & 1 & 1 & 0 & 0 & 0 & 0 & 0 & 0 & 0 & 0 & 0 \\\\\n",
       "1 & 1 & 0 & 1 & 0 & 0 & 1 & 0 & 0 & 0 & 0 & 1 & 0 & 1 & 0 & 0 & 0 & 1 & 1 & 1 & 0 & 1 & 0 & 0 & 0 & 1 & 1 & 0 & 0 & 0 & 1 & 1 & 1 & 0 & 0 & 0 & 1 & 0 & 1 & 0 & 1 & 1 & 0 & 1 & 1 & 0 & 1 & 1 & 1 & 0 & 0 & 1 & 0 & 0 & 0 \\\\\n",
       "1 & 1 & 0 & 0 & 1 & 0 & 1 & 1 & 1 & 1 & 1 & 1 & 0 & 0 & 0 & 0 & 0 & 1 & 0 & 1 & 1 & 0 & 0 & 1 & 1 & 1 & 0 & 0 & 1 & 0 & 0 & 0 & 0 & 1 & 0 & 0 & 0 & 0 & 1 & 1 & 1 & 0 & 1 & 0 & 1 & 0 & 0 & 0 & 1 & 0 & 0 & 0 & 0 & 1 & 0 \\\\\n",
       "0 & 0 & 0 & 0 & 0 & 1 & 0 & 0 & 1 & 0 & 1 & 0 & 0 & 1 & 1 & 1 & 0 & 0 & 1 & 0 & 1 & 0 & 0 & 0 & 1 & 0 & 1 & 1 & 0 & 0 & 0 & 0 & 1 & 0 & 1 & 0 & 1 & 0 & 1 & 0 & 1 & 0 & 0 & 1 & 1 & 1 & 1 & 1 & 0 & 0 & 0 & 0 & 0 & 1 & 1 \\\\\n",
       "1 & 1 & 0 & 1 & 0 & 0 & 1 & 0 & 0 & 0 & 1 & 0 & 1 & 0 & 0 & 1 & 0 & 0 & 1 & 0 & 0 & 0 & 1 & 0 & 1 & 1 & 1 & 1 & 0 & 0 & 0 & 1 & 1 & 0 & 1 & 0 & 0 & 0 & 0 & 1 & 0 & 0 & 1 & 1 & 0 & 0 & 1 & 1 & 0 & 1 & 1 & 0 & 1 & 1 & 1 \\\\\n",
       "0 & 1 & 0 & 0 & 0 & 0 & 0 & 1 & 1 & 0 & 1 & 0 & 0 & 1 & 1 & 1 & 1 & 1 & 0 & 1 & 1 & 1 & 0 & 1 & 1 & 1 & 0 & 1 & 0 & 0 & 1 & 0 & 0 & 0 & 0 & 0 & 0 & 0 & 0 & 1 & 1 & 1 & 0 & 0 & 0 & 0 & 0 & 0 & 1 & 1 & 1 & 0 & 1 & 0 & 0 \\\\\n",
       "1 & 0 & 0 & 0 & 1 & 1 & 1 & 1 & 1 & 0 & 0 & 1 & 1 & 1 & 0 & 0 & 0 & 1 & 0 & 1 & 0 & 0 & 1 & 0 & 0 & 0 & 0 & 0 & 1 & 1 & 1 & 0 & 1 & 1 & 0 & 1 & 1 & 0 & 0 & 1 & 1 & 1 & 1 & 1 & 0 & 1 & 1 & 1 & 1 & 1 & 1 & 0 & 0 & 0 & 0 \\\\\n",
       "0 & 0 & 0 & 1 & 1 & 0 & 0 & 1 & 1 & 0 & 1 & 1 & 1 & 1 & 1 & 0 & 0 & 0 & 1 & 1 & 0 & 1 & 1 & 0 & 0 & 1 & 1 & 1 & 0 & 0 & 1 & 0 & 0 & 1 & 1 & 0 & 1 & 0 & 1 & 0 & 0 & 0 & 0 & 0 & 0 & 1 & 0 & 1 & 0 & 1 & 0 & 0 & 0 & 1 & 1 \\\\\n",
       "0 & 0 & 0 & 1 & 0 & 0 & 0 & 1 & 0 & 1 & 0 & 0 & 1 & 0 & 1 & 1 & 1 & 1 & 0 & 0 & 1 & 0 & 1 & 0 & 1 & 1 & 1 & 0 & 0 & 1 & 1 & 1 & 0 & 1 & 0 & 0 & 0 & 0 & 1 & 1 & 1 & 0 & 0 & 1 & 1 & 0 & 1 & 1 & 1 & 0 & 0 & 1 & 1 & 0 & 1 \\\\\n",
       "1 & 0 & 1 & 1 & 1 & 0 & 1 & 1 & 0 & 0 & 0 & 1 & 1 & 0 & 1 & 1 & 0 & 1 & 1 & 1 & 0 & 0 & 1 & 0 & 0 & 0 & 0 & 1 & 0 & 1 & 1 & 0 & 1 & 0 & 1 & 0 & 0 & 0 & 1 & 1 & 1 & 1 & 0 & 1 & 0 & 0 & 0 & 0 & 0 & 1 & 0 & 0 & 1 & 0 & 0 \\\\\n",
       "1 & 0 & 1 & 0 & 1 & 1 & 1 & 0 & 0 & 0 & 1 & 0 & 1 & 0 & 1 & 0 & 1 & 0 & 1 & 1 & 1 & 0 & 0 & 0 & 0 & 1 & 0 & 1 & 0 & 1 & 0 & 1 & 0 & 1 & 0 & 1 & 0 & 0 & 1 & 1 & 1 & 1 & 1 & 1 & 0 & 1 & 1 & 0 & 0 & 0 & 1 & 0 & 1 & 0 & 1 \\\\\n",
       "0 & 1 & 0 & 1 & 1 & 0 & 1 & 1 & 1 & 0 & 0 & 0 & 1 & 0 & 0 & 1 & 0 & 1 & 1 & 0 & 1 & 0 & 1 & 1 & 1 & 1 & 0 & 0 & 0 & 1 & 1 & 0 & 0 & 1 & 1 & 1 & 1 & 0 & 1 & 0 & 1 & 0 & 0 & 0 & 0 & 1 & 1 & 0 & 1 & 1 & 0 & 0 & 0 & 1 & 0 \\\\\n",
       "0 & 1 & 1 & 0 & 0 & 0 & 1 & 1 & 0 & 1 & 1 & 1 & 0 & 0 & 0 & 0 & 0 & 1 & 0 & 0 & 1 & 1 & 1 & 0 & 1 & 0 & 1 & 1 & 0 & 0 & 0 & 1 & 1 & 0 & 0 & 1 & 0 & 0 & 1 & 1 & 1 & 1 & 0 & 0 & 1 & 1 & 0 & 0 & 1 & 0 & 0 & 0 & 0 & 1 & 1 \\\\\n",
       "1 & 1 & 1 & 1 & 0 & 1 & 0 & 1 & 1 & 1 & 1 & 0 & 0 & 1 & 1 & 0 & 0 & 1 & 1 & 1 & 0 & 0 & 1 & 0 & 1 & 1 & 0 & 1 & 0 & 0 & 1 & 1 & 1 & 1 & 1 & 0 & 0 & 0 & 1 & 1 & 1 & 1 & 0 & 0 & 0 & 1 & 0 & 1 & 1 & 0 & 1 & 0 & 1 & 0 & 0 \\\\\n",
       "0 & 0 & 0 & 1 & 1 & 1 & 0 & 0 & 0 & 1 & 0 & 1 & 1 & 1 & 1 & 0 & 1 & 1 & 1 & 1 & 1 & 1 & 0 & 0 & 1 & 1 & 1 & 1 & 1 & 0 & 0 & 0 & 1 & 1 & 1 & 0 & 1 & 0 & 1 & 0 & 1 & 0 & 0 & 0 & 1 & 0 & 0 & 0 & 0 & 1 & 1 & 0 & 1 & 0 & 1 \\\\\n",
       "0 & 1 & 0 & 1 & 1 & 0 & 1 & 1 & 1 & 0 & 1 & 0 & 1 & 1 & 1 & 0 & 1 & 1 & 1 & 0 & 1 & 0 & 1 & 1 & 0 & 0 & 1 & 0 & 0 & 0 & 1 & 1 & 0 & 0 & 1 & 1 & 1 & 0 & 0 & 1 & 1 & 1 & 1 & 1 & 1 & 0 & 1 & 0 & 1 & 1 & 1 & 1 & 0 & 0 & 0 \\\\\n",
       "0 & 1 & 0 & 1 & 1 & 0 & 0 & 1 & 1 & 1 & 1 & 0 & 0 & 0 & 1 & 1 & 1 & 1 & 0 & 0 & 1 & 1 & 0 & 1 & 0 & 1 & 0 & 0 & 1 & 1 & 1 & 1 & 1 & 0 & 1 & 0 & 1 & 0 & 0 & 1 & 0 & 1 & 1 & 0 & 0 & 0 & 1 & 1 & 0 & 0 & 0 & 0 & 1 & 0 & 0 \\\\\n",
       "1 & 1 & 0 & 0 & 0 & 0 & 1 & 1 & 1 & 1 & 0 & 1 & 1 & 1 & 0 & 1 & 1 & 0 & 0 & 1 & 0 & 1 & 1 & 1 & 1 & 1 & 0 & 1 & 1 & 1 & 0 & 1 & 1 & 1 & 0 & 0 & 1 & 1 & 1 & 1 & 1 & 1 & 0 & 1 & 1 & 0 & 1 & 1 & 1 & 0 & 1 & 0 & 0 & 0 & 1 \\\\\n",
       "0 & 1 & 1 & 1 & 0 & 1 & 0 & 1 & 1 & 0 & 1 & 0 & 1 & 1 & 0 & 0 & 0 & 0 & 0 & 1 & 1 & 1 & 1 & 1 & 1 & 0 & 1 & 1 & 0 & 0 & 0 & 0 & 1 & 0 & 1 & 0 & 1 & 0 & 0 & 1 & 0 & 0 & 1 & 1 & 0 & 0 & 1 & 0 & 0 & 0 & 0 & 0 & 1 & 1 & 1 \\\\\n",
       "0 & 0 & 1 & 0 & 1 & 1 & 0 & 1 & 0 & 0 & 1 & 1 & 0 & 0 & 0 & 1 & 1 & 0 & 1 & 0 & 0 & 1 & 0 & 1 & 1 & 1 & 1 & 1 & 1 & 0 & 1 & 1 & 0 & 0 & 1 & 0 & 0 & 0 & 1 & 0 & 0 & 1 & 1 & 0 & 1 & 0 & 1 & 1 & 1 & 1 & 1 & 0 & 0 & 0 & 0 \\\\\n",
       "0 & 0 & 0 & 0 & 0 & 0 & 0 & 1 & 1 & 0 & 1 & 1 & 1 & 1 & 1 & 1 & 0 & 0 & 0 & 0 & 1 & 1 & 0 & 0 & 0 & 1 & 0 & 1 & 0 & 1 & 1 & 1 & 1 & 1 & 0 & 1 & 0 & 0 & 0 & 0 & 1 & 0 & 1 & 1 & 0 & 1 & 1 & 0 & 1 & 1 & 1 & 0 & 0 & 1 & 0 \\\\\n",
       "1 & 1 & 1 & 0 & 0 & 0 & 0 & 0 & 1 & 1 & 1 & 1 & 0 & 0 & 1 & 1 & 0 & 1 & 0 & 0 & 1 & 1 & 0 & 0 & 1 & 0 & 0 & 1 & 1 & 0 & 1 & 0 & 0 & 1 & 1 & 1 & 1 & 0 & 1 & 1 & 0 & 0 & 0 & 0 & 0 & 1 & 0 & 1 & 1 & 1 & 0 & 0 & 0 & 1 & 0 \\\\\n",
       "0 & 0 & 0 & 1 & 1 & 1 & 0 & 0 & 1 & 0 & 0 & 0 & 1 & 1 & 0 & 1 & 1 & 1 & 0 & 1 & 1 & 1 & 0 & 0 & 1 & 1 & 0 & 1 & 0 & 0 & 1 & 0 & 1 & 0 & 1 & 0 & 1 & 0 & 0 & 0 & 0 & 0 & 0 & 1 & 0 & 1 & 0 & 1 & 0 & 1 & 1 & 1 & 1 & 1 & 1\n",
       "\\end{array}\\right)</script></html>"
      ],
      "text/latex": [
       "$$\\newcommand{\\Bold}[1]{\\mathbf{#1}}\\left(\\begin{array}{rrrrrrrrrrrrrrrrrrrrrrrrrrrrrrrrrrrrrrrrrrrrrrrrrrrrrrr}\n",
       "1 & 0 & 0 & 0 & 0 & 1 & 0 & 0 & 0 & 1 & 1 & 1 & 1 & 0 & 1 & 0 & 0 & 1 & 0 & 0 & 0 & 1 & 1 & 0 & 0 & 0 & 0 & 0 & 1 & 1 & 0 & 1 & 1 & 0 & 1 & 1 & 1 & 0 & 1 & 0 & 1 & 0 & 0 & 1 & 1 & 0 & 1 & 0 & 0 & 1 & 0 & 1 & 0 & 0 & 1 \\\\\n",
       "1 & 0 & 0 & 0 & 1 & 1 & 0 & 0 & 1 & 1 & 0 & 1 & 0 & 1 & 0 & 1 & 1 & 1 & 0 & 0 & 1 & 0 & 1 & 0 & 1 & 0 & 0 & 1 & 1 & 0 & 1 & 0 & 0 & 0 & 0 & 0 & 0 & 1 & 0 & 0 & 1 & 0 & 0 & 1 & 0 & 1 & 1 & 1 & 1 & 1 & 1 & 0 & 1 & 0 & 0 \\\\\n",
       "1 & 1 & 1 & 0 & 1 & 0 & 0 & 1 & 0 & 1 & 0 & 1 & 1 & 1 & 1 & 1 & 0 & 1 & 0 & 0 & 0 & 0 & 1 & 0 & 0 & 1 & 1 & 0 & 1 & 1 & 0 & 0 & 1 & 1 & 1 & 0 & 1 & 0 & 1 & 0 & 1 & 1 & 0 & 0 & 1 & 0 & 0 & 1 & 0 & 1 & 0 & 0 & 0 & 0 & 0 \\\\\n",
       "1 & 1 & 0 & 1 & 1 & 1 & 0 & 1 & 0 & 0 & 0 & 0 & 0 & 1 & 1 & 1 & 1 & 1 & 0 & 1 & 1 & 0 & 0 & 0 & 0 & 1 & 0 & 1 & 0 & 0 & 0 & 1 & 1 & 0 & 0 & 1 & 0 & 0 & 0 & 1 & 1 & 1 & 1 & 1 & 1 & 0 & 1 & 1 & 1 & 1 & 0 & 1 & 1 & 1 & 1 \\\\\n",
       "1 & 1 & 0 & 0 & 1 & 1 & 0 & 0 & 0 & 0 & 1 & 1 & 0 & 1 & 1 & 1 & 1 & 1 & 0 & 1 & 1 & 0 & 0 & 1 & 0 & 0 & 1 & 0 & 0 & 0 & 0 & 0 & 1 & 0 & 0 & 1 & 0 & 0 & 0 & 1 & 0 & 1 & 0 & 1 & 0 & 1 & 0 & 0 & 0 & 0 & 1 & 1 & 1 & 0 & 1 \\\\\n",
       "0 & 0 & 1 & 1 & 1 & 1 & 0 & 1 & 1 & 0 & 1 & 0 & 1 & 0 & 0 & 0 & 0 & 0 & 1 & 1 & 1 & 1 & 1 & 0 & 1 & 1 & 0 & 0 & 1 & 0 & 0 & 0 & 0 & 0 & 0 & 1 & 0 & 0 & 0 & 1 & 0 & 1 & 0 & 1 & 0 & 0 & 0 & 0 & 0 & 0 & 1 & 0 & 0 & 1 & 0 \\\\\n",
       "1 & 0 & 1 & 0 & 0 & 0 & 1 & 0 & 1 & 0 & 1 & 0 & 1 & 1 & 0 & 0 & 0 & 1 & 1 & 0 & 0 & 0 & 0 & 1 & 0 & 1 & 0 & 0 & 1 & 0 & 0 & 1 & 1 & 1 & 1 & 1 & 1 & 0 & 1 & 0 & 0 & 1 & 1 & 0 & 0 & 0 & 1 & 0 & 1 & 0 & 0 & 0 & 1 & 1 & 0 \\\\\n",
       "0 & 0 & 0 & 0 & 0 & 1 & 1 & 0 & 0 & 1 & 1 & 0 & 1 & 1 & 1 & 1 & 1 & 1 & 1 & 1 & 1 & 1 & 0 & 1 & 1 & 0 & 0 & 0 & 0 & 1 & 0 & 0 & 0 & 0 & 0 & 1 & 0 & 0 & 0 & 0 & 0 & 0 & 0 & 0 & 1 & 1 & 0 & 0 & 0 & 0 & 0 & 0 & 0 & 0 & 0 \\\\\n",
       "1 & 1 & 0 & 1 & 0 & 0 & 1 & 0 & 0 & 0 & 0 & 1 & 0 & 1 & 0 & 0 & 0 & 1 & 1 & 1 & 0 & 1 & 0 & 0 & 0 & 1 & 1 & 0 & 0 & 0 & 1 & 1 & 1 & 0 & 0 & 0 & 1 & 0 & 1 & 0 & 1 & 1 & 0 & 1 & 1 & 0 & 1 & 1 & 1 & 0 & 0 & 1 & 0 & 0 & 0 \\\\\n",
       "1 & 1 & 0 & 0 & 1 & 0 & 1 & 1 & 1 & 1 & 1 & 1 & 0 & 0 & 0 & 0 & 0 & 1 & 0 & 1 & 1 & 0 & 0 & 1 & 1 & 1 & 0 & 0 & 1 & 0 & 0 & 0 & 0 & 1 & 0 & 0 & 0 & 0 & 1 & 1 & 1 & 0 & 1 & 0 & 1 & 0 & 0 & 0 & 1 & 0 & 0 & 0 & 0 & 1 & 0 \\\\\n",
       "0 & 0 & 0 & 0 & 0 & 1 & 0 & 0 & 1 & 0 & 1 & 0 & 0 & 1 & 1 & 1 & 0 & 0 & 1 & 0 & 1 & 0 & 0 & 0 & 1 & 0 & 1 & 1 & 0 & 0 & 0 & 0 & 1 & 0 & 1 & 0 & 1 & 0 & 1 & 0 & 1 & 0 & 0 & 1 & 1 & 1 & 1 & 1 & 0 & 0 & 0 & 0 & 0 & 1 & 1 \\\\\n",
       "1 & 1 & 0 & 1 & 0 & 0 & 1 & 0 & 0 & 0 & 1 & 0 & 1 & 0 & 0 & 1 & 0 & 0 & 1 & 0 & 0 & 0 & 1 & 0 & 1 & 1 & 1 & 1 & 0 & 0 & 0 & 1 & 1 & 0 & 1 & 0 & 0 & 0 & 0 & 1 & 0 & 0 & 1 & 1 & 0 & 0 & 1 & 1 & 0 & 1 & 1 & 0 & 1 & 1 & 1 \\\\\n",
       "0 & 1 & 0 & 0 & 0 & 0 & 0 & 1 & 1 & 0 & 1 & 0 & 0 & 1 & 1 & 1 & 1 & 1 & 0 & 1 & 1 & 1 & 0 & 1 & 1 & 1 & 0 & 1 & 0 & 0 & 1 & 0 & 0 & 0 & 0 & 0 & 0 & 0 & 0 & 1 & 1 & 1 & 0 & 0 & 0 & 0 & 0 & 0 & 1 & 1 & 1 & 0 & 1 & 0 & 0 \\\\\n",
       "1 & 0 & 0 & 0 & 1 & 1 & 1 & 1 & 1 & 0 & 0 & 1 & 1 & 1 & 0 & 0 & 0 & 1 & 0 & 1 & 0 & 0 & 1 & 0 & 0 & 0 & 0 & 0 & 1 & 1 & 1 & 0 & 1 & 1 & 0 & 1 & 1 & 0 & 0 & 1 & 1 & 1 & 1 & 1 & 0 & 1 & 1 & 1 & 1 & 1 & 1 & 0 & 0 & 0 & 0 \\\\\n",
       "0 & 0 & 0 & 1 & 1 & 0 & 0 & 1 & 1 & 0 & 1 & 1 & 1 & 1 & 1 & 0 & 0 & 0 & 1 & 1 & 0 & 1 & 1 & 0 & 0 & 1 & 1 & 1 & 0 & 0 & 1 & 0 & 0 & 1 & 1 & 0 & 1 & 0 & 1 & 0 & 0 & 0 & 0 & 0 & 0 & 1 & 0 & 1 & 0 & 1 & 0 & 0 & 0 & 1 & 1 \\\\\n",
       "0 & 0 & 0 & 1 & 0 & 0 & 0 & 1 & 0 & 1 & 0 & 0 & 1 & 0 & 1 & 1 & 1 & 1 & 0 & 0 & 1 & 0 & 1 & 0 & 1 & 1 & 1 & 0 & 0 & 1 & 1 & 1 & 0 & 1 & 0 & 0 & 0 & 0 & 1 & 1 & 1 & 0 & 0 & 1 & 1 & 0 & 1 & 1 & 1 & 0 & 0 & 1 & 1 & 0 & 1 \\\\\n",
       "1 & 0 & 1 & 1 & 1 & 0 & 1 & 1 & 0 & 0 & 0 & 1 & 1 & 0 & 1 & 1 & 0 & 1 & 1 & 1 & 0 & 0 & 1 & 0 & 0 & 0 & 0 & 1 & 0 & 1 & 1 & 0 & 1 & 0 & 1 & 0 & 0 & 0 & 1 & 1 & 1 & 1 & 0 & 1 & 0 & 0 & 0 & 0 & 0 & 1 & 0 & 0 & 1 & 0 & 0 \\\\\n",
       "1 & 0 & 1 & 0 & 1 & 1 & 1 & 0 & 0 & 0 & 1 & 0 & 1 & 0 & 1 & 0 & 1 & 0 & 1 & 1 & 1 & 0 & 0 & 0 & 0 & 1 & 0 & 1 & 0 & 1 & 0 & 1 & 0 & 1 & 0 & 1 & 0 & 0 & 1 & 1 & 1 & 1 & 1 & 1 & 0 & 1 & 1 & 0 & 0 & 0 & 1 & 0 & 1 & 0 & 1 \\\\\n",
       "0 & 1 & 0 & 1 & 1 & 0 & 1 & 1 & 1 & 0 & 0 & 0 & 1 & 0 & 0 & 1 & 0 & 1 & 1 & 0 & 1 & 0 & 1 & 1 & 1 & 1 & 0 & 0 & 0 & 1 & 1 & 0 & 0 & 1 & 1 & 1 & 1 & 0 & 1 & 0 & 1 & 0 & 0 & 0 & 0 & 1 & 1 & 0 & 1 & 1 & 0 & 0 & 0 & 1 & 0 \\\\\n",
       "0 & 1 & 1 & 0 & 0 & 0 & 1 & 1 & 0 & 1 & 1 & 1 & 0 & 0 & 0 & 0 & 0 & 1 & 0 & 0 & 1 & 1 & 1 & 0 & 1 & 0 & 1 & 1 & 0 & 0 & 0 & 1 & 1 & 0 & 0 & 1 & 0 & 0 & 1 & 1 & 1 & 1 & 0 & 0 & 1 & 1 & 0 & 0 & 1 & 0 & 0 & 0 & 0 & 1 & 1 \\\\\n",
       "1 & 1 & 1 & 1 & 0 & 1 & 0 & 1 & 1 & 1 & 1 & 0 & 0 & 1 & 1 & 0 & 0 & 1 & 1 & 1 & 0 & 0 & 1 & 0 & 1 & 1 & 0 & 1 & 0 & 0 & 1 & 1 & 1 & 1 & 1 & 0 & 0 & 0 & 1 & 1 & 1 & 1 & 0 & 0 & 0 & 1 & 0 & 1 & 1 & 0 & 1 & 0 & 1 & 0 & 0 \\\\\n",
       "0 & 0 & 0 & 1 & 1 & 1 & 0 & 0 & 0 & 1 & 0 & 1 & 1 & 1 & 1 & 0 & 1 & 1 & 1 & 1 & 1 & 1 & 0 & 0 & 1 & 1 & 1 & 1 & 1 & 0 & 0 & 0 & 1 & 1 & 1 & 0 & 1 & 0 & 1 & 0 & 1 & 0 & 0 & 0 & 1 & 0 & 0 & 0 & 0 & 1 & 1 & 0 & 1 & 0 & 1 \\\\\n",
       "0 & 1 & 0 & 1 & 1 & 0 & 1 & 1 & 1 & 0 & 1 & 0 & 1 & 1 & 1 & 0 & 1 & 1 & 1 & 0 & 1 & 0 & 1 & 1 & 0 & 0 & 1 & 0 & 0 & 0 & 1 & 1 & 0 & 0 & 1 & 1 & 1 & 0 & 0 & 1 & 1 & 1 & 1 & 1 & 1 & 0 & 1 & 0 & 1 & 1 & 1 & 1 & 0 & 0 & 0 \\\\\n",
       "0 & 1 & 0 & 1 & 1 & 0 & 0 & 1 & 1 & 1 & 1 & 0 & 0 & 0 & 1 & 1 & 1 & 1 & 0 & 0 & 1 & 1 & 0 & 1 & 0 & 1 & 0 & 0 & 1 & 1 & 1 & 1 & 1 & 0 & 1 & 0 & 1 & 0 & 0 & 1 & 0 & 1 & 1 & 0 & 0 & 0 & 1 & 1 & 0 & 0 & 0 & 0 & 1 & 0 & 0 \\\\\n",
       "1 & 1 & 0 & 0 & 0 & 0 & 1 & 1 & 1 & 1 & 0 & 1 & 1 & 1 & 0 & 1 & 1 & 0 & 0 & 1 & 0 & 1 & 1 & 1 & 1 & 1 & 0 & 1 & 1 & 1 & 0 & 1 & 1 & 1 & 0 & 0 & 1 & 1 & 1 & 1 & 1 & 1 & 0 & 1 & 1 & 0 & 1 & 1 & 1 & 0 & 1 & 0 & 0 & 0 & 1 \\\\\n",
       "0 & 1 & 1 & 1 & 0 & 1 & 0 & 1 & 1 & 0 & 1 & 0 & 1 & 1 & 0 & 0 & 0 & 0 & 0 & 1 & 1 & 1 & 1 & 1 & 1 & 0 & 1 & 1 & 0 & 0 & 0 & 0 & 1 & 0 & 1 & 0 & 1 & 0 & 0 & 1 & 0 & 0 & 1 & 1 & 0 & 0 & 1 & 0 & 0 & 0 & 0 & 0 & 1 & 1 & 1 \\\\\n",
       "0 & 0 & 1 & 0 & 1 & 1 & 0 & 1 & 0 & 0 & 1 & 1 & 0 & 0 & 0 & 1 & 1 & 0 & 1 & 0 & 0 & 1 & 0 & 1 & 1 & 1 & 1 & 1 & 1 & 0 & 1 & 1 & 0 & 0 & 1 & 0 & 0 & 0 & 1 & 0 & 0 & 1 & 1 & 0 & 1 & 0 & 1 & 1 & 1 & 1 & 1 & 0 & 0 & 0 & 0 \\\\\n",
       "0 & 0 & 0 & 0 & 0 & 0 & 0 & 1 & 1 & 0 & 1 & 1 & 1 & 1 & 1 & 1 & 0 & 0 & 0 & 0 & 1 & 1 & 0 & 0 & 0 & 1 & 0 & 1 & 0 & 1 & 1 & 1 & 1 & 1 & 0 & 1 & 0 & 0 & 0 & 0 & 1 & 0 & 1 & 1 & 0 & 1 & 1 & 0 & 1 & 1 & 1 & 0 & 0 & 1 & 0 \\\\\n",
       "1 & 1 & 1 & 0 & 0 & 0 & 0 & 0 & 1 & 1 & 1 & 1 & 0 & 0 & 1 & 1 & 0 & 1 & 0 & 0 & 1 & 1 & 0 & 0 & 1 & 0 & 0 & 1 & 1 & 0 & 1 & 0 & 0 & 1 & 1 & 1 & 1 & 0 & 1 & 1 & 0 & 0 & 0 & 0 & 0 & 1 & 0 & 1 & 1 & 1 & 0 & 0 & 0 & 1 & 0 \\\\\n",
       "0 & 0 & 0 & 1 & 1 & 1 & 0 & 0 & 1 & 0 & 0 & 0 & 1 & 1 & 0 & 1 & 1 & 1 & 0 & 1 & 1 & 1 & 0 & 0 & 1 & 1 & 0 & 1 & 0 & 0 & 1 & 0 & 1 & 0 & 1 & 0 & 1 & 0 & 0 & 0 & 0 & 0 & 0 & 1 & 0 & 1 & 0 & 1 & 0 & 1 & 1 & 1 & 1 & 1 & 1\n",
       "\\end{array}\\right)$$"
      ],
      "text/plain": [
       "30 x 55 dense matrix over Finite Field of size 2 (use the '.str()' method to see the entries)"
      ]
     },
     "metadata": {},
     "output_type": "display_data"
    }
   ],
   "source": [
    "# Goppa code\n",
    "C = Goppa(defining_set, g, F)\n",
    "\n",
    "print(\"Goppa code:\")\n",
    "print(C)\n",
    "\n",
    "#print(\"\\nParity polynomial:\")\n",
    "#print(C.get_parity_pol())\n",
    "\n",
    "print(\"\\nParity matrix:\")\n",
    "show(C.get_parity_check_matrix())"
   ]
  },
  {
   "cell_type": "code",
   "execution_count": 42,
   "metadata": {
    "scrolled": false
   },
   "outputs": [
    {
     "name": "stdout",
     "output_type": "stream",
     "text": [
      "\n",
      "Goppa encoder:\n",
      "Encoder for [55, 25] Goppa code\n",
      "\n",
      "Generator matrix:\n"
     ]
    },
    {
     "data": {
      "text/html": [
       "<html><script type=\"math/tex; mode=display\">\\newcommand{\\Bold}[1]{\\mathbf{#1}}\\left(\\begin{array}{rrrrrrrrrrrrrrrrrrrrrrrrrrrrrrrrrrrrrrrrrrrrrrrrrrrrrrr}\n",
       "1 & 0 & 0 & 0 & 0 & 0 & 0 & 0 & 0 & 0 & 0 & 0 & 0 & 0 & 0 & 0 & 0 & 0 & 0 & 0 & 0 & 0 & 0 & 0 & 1 & 1 & 0 & 1 & 0 & 1 & 1 & 0 & 1 & 1 & 1 & 0 & 0 & 1 & 1 & 0 & 1 & 1 & 1 & 0 & 1 & 1 & 0 & 1 & 1 & 1 & 0 & 0 & 0 & 1 & 0 \\\\\n",
       "0 & 1 & 0 & 0 & 0 & 0 & 0 & 0 & 0 & 0 & 0 & 0 & 0 & 0 & 0 & 0 & 0 & 0 & 0 & 0 & 0 & 0 & 0 & 0 & 1 & 1 & 0 & 1 & 0 & 0 & 0 & 1 & 0 & 1 & 0 & 0 & 0 & 1 & 1 & 1 & 0 & 0 & 1 & 0 & 0 & 1 & 0 & 1 & 0 & 1 & 0 & 1 & 0 & 1 & 0 \\\\\n",
       "0 & 0 & 1 & 0 & 0 & 0 & 0 & 0 & 0 & 0 & 0 & 0 & 0 & 0 & 0 & 0 & 0 & 0 & 0 & 0 & 0 & 0 & 0 & 0 & 1 & 1 & 0 & 1 & 0 & 1 & 0 & 0 & 1 & 0 & 0 & 0 & 1 & 1 & 1 & 0 & 0 & 1 & 0 & 0 & 1 & 1 & 1 & 1 & 1 & 1 & 1 & 1 & 1 & 1 & 0 \\\\\n",
       "0 & 0 & 0 & 1 & 0 & 0 & 0 & 0 & 0 & 0 & 0 & 0 & 0 & 0 & 0 & 0 & 0 & 0 & 0 & 0 & 0 & 0 & 0 & 0 & 1 & 0 & 0 & 1 & 0 & 0 & 1 & 0 & 1 & 1 & 1 & 1 & 0 & 1 & 1 & 1 & 1 & 0 & 1 & 1 & 1 & 1 & 1 & 1 & 0 & 1 & 0 & 1 & 0 & 1 & 0 \\\\\n",
       "0 & 0 & 0 & 0 & 1 & 0 & 0 & 0 & 0 & 0 & 0 & 0 & 0 & 0 & 0 & 0 & 0 & 0 & 0 & 0 & 0 & 0 & 0 & 0 & 0 & 0 & 0 & 1 & 0 & 0 & 0 & 1 & 0 & 1 & 1 & 0 & 1 & 1 & 1 & 0 & 0 & 1 & 1 & 0 & 1 & 1 & 0 & 0 & 0 & 1 & 1 & 1 & 0 & 1 & 1 \\\\\n",
       "0 & 0 & 0 & 0 & 0 & 1 & 0 & 0 & 0 & 0 & 0 & 0 & 0 & 0 & 0 & 0 & 0 & 0 & 0 & 0 & 0 & 0 & 0 & 0 & 1 & 0 & 0 & 0 & 1 & 1 & 0 & 1 & 0 & 0 & 0 & 0 & 1 & 0 & 0 & 1 & 0 & 0 & 0 & 0 & 1 & 0 & 1 & 0 & 1 & 0 & 1 & 1 & 0 & 1 & 0 \\\\\n",
       "0 & 0 & 0 & 0 & 0 & 0 & 1 & 0 & 0 & 0 & 0 & 0 & 0 & 0 & 0 & 0 & 0 & 0 & 0 & 0 & 0 & 0 & 0 & 0 & 0 & 1 & 0 & 0 & 0 & 1 & 1 & 1 & 1 & 0 & 0 & 0 & 0 & 0 & 0 & 0 & 1 & 0 & 1 & 0 & 1 & 1 & 0 & 0 & 0 & 1 & 0 & 1 & 0 & 1 & 1 \\\\\n",
       "0 & 0 & 0 & 0 & 0 & 0 & 0 & 1 & 0 & 0 & 0 & 0 & 0 & 0 & 0 & 0 & 0 & 0 & 0 & 0 & 0 & 0 & 0 & 0 & 0 & 1 & 0 & 0 & 0 & 1 & 1 & 0 & 0 & 0 & 1 & 0 & 1 & 1 & 1 & 0 & 1 & 0 & 1 & 1 & 1 & 0 & 0 & 0 & 0 & 0 & 1 & 1 & 1 & 0 & 0 \\\\\n",
       "0 & 0 & 0 & 0 & 0 & 0 & 0 & 0 & 1 & 0 & 0 & 0 & 0 & 0 & 0 & 0 & 0 & 0 & 0 & 0 & 0 & 0 & 0 & 0 & 0 & 0 & 0 & 0 & 0 & 0 & 0 & 1 & 0 & 0 & 1 & 1 & 1 & 1 & 0 & 0 & 1 & 0 & 0 & 1 & 0 & 1 & 0 & 1 & 1 & 0 & 0 & 0 & 1 & 1 & 0 \\\\\n",
       "0 & 0 & 0 & 0 & 0 & 0 & 0 & 0 & 0 & 1 & 0 & 0 & 0 & 0 & 0 & 0 & 0 & 0 & 0 & 0 & 0 & 0 & 0 & 0 & 0 & 0 & 0 & 1 & 0 & 1 & 1 & 0 & 1 & 0 & 1 & 1 & 1 & 1 & 0 & 0 & 0 & 1 & 0 & 1 & 0 & 1 & 0 & 1 & 1 & 1 & 1 & 1 & 0 & 0 & 1 \\\\\n",
       "0 & 0 & 0 & 0 & 0 & 0 & 0 & 0 & 0 & 0 & 1 & 0 & 0 & 0 & 0 & 0 & 0 & 0 & 0 & 0 & 0 & 0 & 0 & 0 & 1 & 0 & 0 & 0 & 0 & 0 & 0 & 0 & 0 & 1 & 0 & 1 & 1 & 1 & 0 & 1 & 1 & 1 & 0 & 0 & 0 & 1 & 1 & 0 & 1 & 0 & 1 & 1 & 1 & 0 & 0 \\\\\n",
       "0 & 0 & 0 & 0 & 0 & 0 & 0 & 0 & 0 & 0 & 0 & 1 & 0 & 0 & 0 & 0 & 0 & 0 & 0 & 0 & 0 & 0 & 0 & 0 & 1 & 0 & 0 & 0 & 0 & 0 & 0 & 1 & 1 & 0 & 1 & 0 & 1 & 1 & 0 & 1 & 0 & 0 & 0 & 1 & 1 & 0 & 1 & 1 & 0 & 0 & 1 & 0 & 1 & 0 & 0 \\\\\n",
       "0 & 0 & 0 & 0 & 0 & 0 & 0 & 0 & 0 & 0 & 0 & 0 & 1 & 0 & 0 & 0 & 0 & 0 & 0 & 0 & 0 & 0 & 0 & 0 & 0 & 0 & 0 & 0 & 0 & 1 & 0 & 1 & 0 & 0 & 1 & 1 & 1 & 1 & 0 & 0 & 1 & 0 & 1 & 0 & 1 & 0 & 1 & 0 & 1 & 0 & 0 & 0 & 0 & 0 & 1 \\\\\n",
       "0 & 0 & 0 & 0 & 0 & 0 & 0 & 0 & 0 & 0 & 0 & 0 & 0 & 1 & 0 & 0 & 0 & 0 & 0 & 0 & 0 & 0 & 0 & 0 & 1 & 0 & 0 & 1 & 1 & 1 & 1 & 0 & 0 & 1 & 1 & 0 & 0 & 1 & 0 & 0 & 0 & 0 & 0 & 1 & 1 & 0 & 1 & 0 & 0 & 0 & 1 & 1 & 1 & 0 & 1 \\\\\n",
       "0 & 0 & 0 & 0 & 0 & 0 & 0 & 0 & 0 & 0 & 0 & 0 & 0 & 0 & 1 & 0 & 0 & 0 & 0 & 0 & 0 & 0 & 0 & 0 & 0 & 1 & 0 & 0 & 1 & 0 & 1 & 1 & 1 & 1 & 1 & 0 & 0 & 1 & 1 & 1 & 0 & 1 & 0 & 0 & 1 & 0 & 1 & 1 & 1 & 0 & 1 & 0 & 1 & 1 & 0 \\\\\n",
       "0 & 0 & 0 & 0 & 0 & 0 & 0 & 0 & 0 & 0 & 0 & 0 & 0 & 0 & 0 & 1 & 0 & 0 & 0 & 0 & 0 & 0 & 0 & 0 & 1 & 0 & 0 & 1 & 0 & 1 & 0 & 0 & 0 & 1 & 0 & 1 & 0 & 1 & 1 & 0 & 1 & 0 & 1 & 0 & 0 & 0 & 1 & 0 & 1 & 1 & 0 & 0 & 0 & 0 & 0 \\\\\n",
       "0 & 0 & 0 & 0 & 0 & 0 & 0 & 0 & 0 & 0 & 0 & 0 & 0 & 0 & 0 & 0 & 1 & 0 & 0 & 0 & 0 & 0 & 0 & 0 & 1 & 1 & 0 & 0 & 1 & 0 & 0 & 1 & 1 & 0 & 1 & 1 & 0 & 0 & 0 & 0 & 0 & 1 & 1 & 0 & 0 & 1 & 0 & 0 & 0 & 1 & 1 & 0 & 0 & 0 & 0 \\\\\n",
       "0 & 0 & 0 & 0 & 0 & 0 & 0 & 0 & 0 & 0 & 0 & 0 & 0 & 0 & 0 & 0 & 0 & 1 & 0 & 0 & 0 & 0 & 0 & 0 & 0 & 1 & 0 & 0 & 0 & 1 & 0 & 1 & 0 & 1 & 1 & 1 & 1 & 0 & 0 & 1 & 1 & 1 & 1 & 1 & 1 & 0 & 1 & 1 & 0 & 0 & 0 & 0 & 1 & 1 & 0 \\\\\n",
       "0 & 0 & 0 & 0 & 0 & 0 & 0 & 0 & 0 & 0 & 0 & 0 & 0 & 0 & 0 & 0 & 0 & 0 & 1 & 0 & 0 & 0 & 0 & 0 & 1 & 0 & 0 & 1 & 1 & 1 & 1 & 0 & 0 & 1 & 0 & 1 & 0 & 0 & 1 & 1 & 1 & 0 & 0 & 1 & 1 & 1 & 0 & 0 & 0 & 0 & 1 & 0 & 0 & 1 & 1 \\\\\n",
       "0 & 0 & 0 & 0 & 0 & 0 & 0 & 0 & 0 & 0 & 0 & 0 & 0 & 0 & 0 & 0 & 0 & 0 & 0 & 1 & 0 & 0 & 0 & 0 & 0 & 1 & 0 & 0 & 1 & 0 & 0 & 0 & 1 & 0 & 0 & 1 & 1 & 1 & 0 & 0 & 1 & 0 & 1 & 0 & 1 & 1 & 0 & 1 & 1 & 1 & 1 & 0 & 0 & 1 & 1 \\\\\n",
       "0 & 0 & 0 & 0 & 0 & 0 & 0 & 0 & 0 & 0 & 0 & 0 & 0 & 0 & 0 & 0 & 0 & 0 & 0 & 0 & 1 & 0 & 0 & 0 & 0 & 1 & 0 & 0 & 1 & 0 & 0 & 1 & 1 & 1 & 0 & 0 & 0 & 0 & 0 & 0 & 0 & 1 & 0 & 1 & 1 & 0 & 1 & 1 & 1 & 1 & 1 & 1 & 0 & 0 & 0 \\\\\n",
       "0 & 0 & 0 & 0 & 0 & 0 & 0 & 0 & 0 & 0 & 0 & 0 & 0 & 0 & 0 & 0 & 0 & 0 & 0 & 0 & 0 & 1 & 0 & 0 & 1 & 1 & 0 & 1 & 1 & 0 & 0 & 0 & 1 & 0 & 1 & 0 & 0 & 0 & 1 & 1 & 1 & 0 & 0 & 1 & 1 & 1 & 0 & 0 & 0 & 1 & 1 & 1 & 0 & 1 & 0 \\\\\n",
       "0 & 0 & 0 & 0 & 0 & 0 & 0 & 0 & 0 & 0 & 0 & 0 & 0 & 0 & 0 & 0 & 0 & 0 & 0 & 0 & 0 & 0 & 1 & 0 & 1 & 1 & 0 & 1 & 1 & 0 & 0 & 0 & 1 & 0 & 1 & 0 & 0 & 1 & 0 & 1 & 1 & 0 & 0 & 1 & 1 & 0 & 1 & 1 & 0 & 0 & 0 & 1 & 1 & 0 & 1 \\\\\n",
       "0 & 0 & 0 & 0 & 0 & 0 & 0 & 0 & 0 & 0 & 0 & 0 & 0 & 0 & 0 & 0 & 0 & 0 & 0 & 0 & 0 & 0 & 0 & 1 & 1 & 0 & 0 & 1 & 1 & 0 & 1 & 1 & 1 & 1 & 0 & 0 & 1 & 0 & 1 & 0 & 0 & 0 & 0 & 0 & 1 & 1 & 0 & 1 & 1 & 1 & 1 & 0 & 1 & 1 & 1 \\\\\n",
       "0 & 0 & 0 & 0 & 0 & 0 & 0 & 0 & 0 & 0 & 0 & 0 & 0 & 0 & 0 & 0 & 0 & 0 & 0 & 0 & 0 & 0 & 0 & 0 & 0 & 0 & 1 & 1 & 0 & 1 & 0 & 0 & 1 & 0 & 1 & 0 & 1 & 1 & 1 & 0 & 1 & 1 & 0 & 1 & 1 & 0 & 0 & 1 & 1 & 0 & 0 & 0 & 0 & 0 & 0\n",
       "\\end{array}\\right)</script></html>"
      ],
      "text/latex": [
       "$$\\newcommand{\\Bold}[1]{\\mathbf{#1}}\\left(\\begin{array}{rrrrrrrrrrrrrrrrrrrrrrrrrrrrrrrrrrrrrrrrrrrrrrrrrrrrrrr}\n",
       "1 & 0 & 0 & 0 & 0 & 0 & 0 & 0 & 0 & 0 & 0 & 0 & 0 & 0 & 0 & 0 & 0 & 0 & 0 & 0 & 0 & 0 & 0 & 0 & 1 & 1 & 0 & 1 & 0 & 1 & 1 & 0 & 1 & 1 & 1 & 0 & 0 & 1 & 1 & 0 & 1 & 1 & 1 & 0 & 1 & 1 & 0 & 1 & 1 & 1 & 0 & 0 & 0 & 1 & 0 \\\\\n",
       "0 & 1 & 0 & 0 & 0 & 0 & 0 & 0 & 0 & 0 & 0 & 0 & 0 & 0 & 0 & 0 & 0 & 0 & 0 & 0 & 0 & 0 & 0 & 0 & 1 & 1 & 0 & 1 & 0 & 0 & 0 & 1 & 0 & 1 & 0 & 0 & 0 & 1 & 1 & 1 & 0 & 0 & 1 & 0 & 0 & 1 & 0 & 1 & 0 & 1 & 0 & 1 & 0 & 1 & 0 \\\\\n",
       "0 & 0 & 1 & 0 & 0 & 0 & 0 & 0 & 0 & 0 & 0 & 0 & 0 & 0 & 0 & 0 & 0 & 0 & 0 & 0 & 0 & 0 & 0 & 0 & 1 & 1 & 0 & 1 & 0 & 1 & 0 & 0 & 1 & 0 & 0 & 0 & 1 & 1 & 1 & 0 & 0 & 1 & 0 & 0 & 1 & 1 & 1 & 1 & 1 & 1 & 1 & 1 & 1 & 1 & 0 \\\\\n",
       "0 & 0 & 0 & 1 & 0 & 0 & 0 & 0 & 0 & 0 & 0 & 0 & 0 & 0 & 0 & 0 & 0 & 0 & 0 & 0 & 0 & 0 & 0 & 0 & 1 & 0 & 0 & 1 & 0 & 0 & 1 & 0 & 1 & 1 & 1 & 1 & 0 & 1 & 1 & 1 & 1 & 0 & 1 & 1 & 1 & 1 & 1 & 1 & 0 & 1 & 0 & 1 & 0 & 1 & 0 \\\\\n",
       "0 & 0 & 0 & 0 & 1 & 0 & 0 & 0 & 0 & 0 & 0 & 0 & 0 & 0 & 0 & 0 & 0 & 0 & 0 & 0 & 0 & 0 & 0 & 0 & 0 & 0 & 0 & 1 & 0 & 0 & 0 & 1 & 0 & 1 & 1 & 0 & 1 & 1 & 1 & 0 & 0 & 1 & 1 & 0 & 1 & 1 & 0 & 0 & 0 & 1 & 1 & 1 & 0 & 1 & 1 \\\\\n",
       "0 & 0 & 0 & 0 & 0 & 1 & 0 & 0 & 0 & 0 & 0 & 0 & 0 & 0 & 0 & 0 & 0 & 0 & 0 & 0 & 0 & 0 & 0 & 0 & 1 & 0 & 0 & 0 & 1 & 1 & 0 & 1 & 0 & 0 & 0 & 0 & 1 & 0 & 0 & 1 & 0 & 0 & 0 & 0 & 1 & 0 & 1 & 0 & 1 & 0 & 1 & 1 & 0 & 1 & 0 \\\\\n",
       "0 & 0 & 0 & 0 & 0 & 0 & 1 & 0 & 0 & 0 & 0 & 0 & 0 & 0 & 0 & 0 & 0 & 0 & 0 & 0 & 0 & 0 & 0 & 0 & 0 & 1 & 0 & 0 & 0 & 1 & 1 & 1 & 1 & 0 & 0 & 0 & 0 & 0 & 0 & 0 & 1 & 0 & 1 & 0 & 1 & 1 & 0 & 0 & 0 & 1 & 0 & 1 & 0 & 1 & 1 \\\\\n",
       "0 & 0 & 0 & 0 & 0 & 0 & 0 & 1 & 0 & 0 & 0 & 0 & 0 & 0 & 0 & 0 & 0 & 0 & 0 & 0 & 0 & 0 & 0 & 0 & 0 & 1 & 0 & 0 & 0 & 1 & 1 & 0 & 0 & 0 & 1 & 0 & 1 & 1 & 1 & 0 & 1 & 0 & 1 & 1 & 1 & 0 & 0 & 0 & 0 & 0 & 1 & 1 & 1 & 0 & 0 \\\\\n",
       "0 & 0 & 0 & 0 & 0 & 0 & 0 & 0 & 1 & 0 & 0 & 0 & 0 & 0 & 0 & 0 & 0 & 0 & 0 & 0 & 0 & 0 & 0 & 0 & 0 & 0 & 0 & 0 & 0 & 0 & 0 & 1 & 0 & 0 & 1 & 1 & 1 & 1 & 0 & 0 & 1 & 0 & 0 & 1 & 0 & 1 & 0 & 1 & 1 & 0 & 0 & 0 & 1 & 1 & 0 \\\\\n",
       "0 & 0 & 0 & 0 & 0 & 0 & 0 & 0 & 0 & 1 & 0 & 0 & 0 & 0 & 0 & 0 & 0 & 0 & 0 & 0 & 0 & 0 & 0 & 0 & 0 & 0 & 0 & 1 & 0 & 1 & 1 & 0 & 1 & 0 & 1 & 1 & 1 & 1 & 0 & 0 & 0 & 1 & 0 & 1 & 0 & 1 & 0 & 1 & 1 & 1 & 1 & 1 & 0 & 0 & 1 \\\\\n",
       "0 & 0 & 0 & 0 & 0 & 0 & 0 & 0 & 0 & 0 & 1 & 0 & 0 & 0 & 0 & 0 & 0 & 0 & 0 & 0 & 0 & 0 & 0 & 0 & 1 & 0 & 0 & 0 & 0 & 0 & 0 & 0 & 0 & 1 & 0 & 1 & 1 & 1 & 0 & 1 & 1 & 1 & 0 & 0 & 0 & 1 & 1 & 0 & 1 & 0 & 1 & 1 & 1 & 0 & 0 \\\\\n",
       "0 & 0 & 0 & 0 & 0 & 0 & 0 & 0 & 0 & 0 & 0 & 1 & 0 & 0 & 0 & 0 & 0 & 0 & 0 & 0 & 0 & 0 & 0 & 0 & 1 & 0 & 0 & 0 & 0 & 0 & 0 & 1 & 1 & 0 & 1 & 0 & 1 & 1 & 0 & 1 & 0 & 0 & 0 & 1 & 1 & 0 & 1 & 1 & 0 & 0 & 1 & 0 & 1 & 0 & 0 \\\\\n",
       "0 & 0 & 0 & 0 & 0 & 0 & 0 & 0 & 0 & 0 & 0 & 0 & 1 & 0 & 0 & 0 & 0 & 0 & 0 & 0 & 0 & 0 & 0 & 0 & 0 & 0 & 0 & 0 & 0 & 1 & 0 & 1 & 0 & 0 & 1 & 1 & 1 & 1 & 0 & 0 & 1 & 0 & 1 & 0 & 1 & 0 & 1 & 0 & 1 & 0 & 0 & 0 & 0 & 0 & 1 \\\\\n",
       "0 & 0 & 0 & 0 & 0 & 0 & 0 & 0 & 0 & 0 & 0 & 0 & 0 & 1 & 0 & 0 & 0 & 0 & 0 & 0 & 0 & 0 & 0 & 0 & 1 & 0 & 0 & 1 & 1 & 1 & 1 & 0 & 0 & 1 & 1 & 0 & 0 & 1 & 0 & 0 & 0 & 0 & 0 & 1 & 1 & 0 & 1 & 0 & 0 & 0 & 1 & 1 & 1 & 0 & 1 \\\\\n",
       "0 & 0 & 0 & 0 & 0 & 0 & 0 & 0 & 0 & 0 & 0 & 0 & 0 & 0 & 1 & 0 & 0 & 0 & 0 & 0 & 0 & 0 & 0 & 0 & 0 & 1 & 0 & 0 & 1 & 0 & 1 & 1 & 1 & 1 & 1 & 0 & 0 & 1 & 1 & 1 & 0 & 1 & 0 & 0 & 1 & 0 & 1 & 1 & 1 & 0 & 1 & 0 & 1 & 1 & 0 \\\\\n",
       "0 & 0 & 0 & 0 & 0 & 0 & 0 & 0 & 0 & 0 & 0 & 0 & 0 & 0 & 0 & 1 & 0 & 0 & 0 & 0 & 0 & 0 & 0 & 0 & 1 & 0 & 0 & 1 & 0 & 1 & 0 & 0 & 0 & 1 & 0 & 1 & 0 & 1 & 1 & 0 & 1 & 0 & 1 & 0 & 0 & 0 & 1 & 0 & 1 & 1 & 0 & 0 & 0 & 0 & 0 \\\\\n",
       "0 & 0 & 0 & 0 & 0 & 0 & 0 & 0 & 0 & 0 & 0 & 0 & 0 & 0 & 0 & 0 & 1 & 0 & 0 & 0 & 0 & 0 & 0 & 0 & 1 & 1 & 0 & 0 & 1 & 0 & 0 & 1 & 1 & 0 & 1 & 1 & 0 & 0 & 0 & 0 & 0 & 1 & 1 & 0 & 0 & 1 & 0 & 0 & 0 & 1 & 1 & 0 & 0 & 0 & 0 \\\\\n",
       "0 & 0 & 0 & 0 & 0 & 0 & 0 & 0 & 0 & 0 & 0 & 0 & 0 & 0 & 0 & 0 & 0 & 1 & 0 & 0 & 0 & 0 & 0 & 0 & 0 & 1 & 0 & 0 & 0 & 1 & 0 & 1 & 0 & 1 & 1 & 1 & 1 & 0 & 0 & 1 & 1 & 1 & 1 & 1 & 1 & 0 & 1 & 1 & 0 & 0 & 0 & 0 & 1 & 1 & 0 \\\\\n",
       "0 & 0 & 0 & 0 & 0 & 0 & 0 & 0 & 0 & 0 & 0 & 0 & 0 & 0 & 0 & 0 & 0 & 0 & 1 & 0 & 0 & 0 & 0 & 0 & 1 & 0 & 0 & 1 & 1 & 1 & 1 & 0 & 0 & 1 & 0 & 1 & 0 & 0 & 1 & 1 & 1 & 0 & 0 & 1 & 1 & 1 & 0 & 0 & 0 & 0 & 1 & 0 & 0 & 1 & 1 \\\\\n",
       "0 & 0 & 0 & 0 & 0 & 0 & 0 & 0 & 0 & 0 & 0 & 0 & 0 & 0 & 0 & 0 & 0 & 0 & 0 & 1 & 0 & 0 & 0 & 0 & 0 & 1 & 0 & 0 & 1 & 0 & 0 & 0 & 1 & 0 & 0 & 1 & 1 & 1 & 0 & 0 & 1 & 0 & 1 & 0 & 1 & 1 & 0 & 1 & 1 & 1 & 1 & 0 & 0 & 1 & 1 \\\\\n",
       "0 & 0 & 0 & 0 & 0 & 0 & 0 & 0 & 0 & 0 & 0 & 0 & 0 & 0 & 0 & 0 & 0 & 0 & 0 & 0 & 1 & 0 & 0 & 0 & 0 & 1 & 0 & 0 & 1 & 0 & 0 & 1 & 1 & 1 & 0 & 0 & 0 & 0 & 0 & 0 & 0 & 1 & 0 & 1 & 1 & 0 & 1 & 1 & 1 & 1 & 1 & 1 & 0 & 0 & 0 \\\\\n",
       "0 & 0 & 0 & 0 & 0 & 0 & 0 & 0 & 0 & 0 & 0 & 0 & 0 & 0 & 0 & 0 & 0 & 0 & 0 & 0 & 0 & 1 & 0 & 0 & 1 & 1 & 0 & 1 & 1 & 0 & 0 & 0 & 1 & 0 & 1 & 0 & 0 & 0 & 1 & 1 & 1 & 0 & 0 & 1 & 1 & 1 & 0 & 0 & 0 & 1 & 1 & 1 & 0 & 1 & 0 \\\\\n",
       "0 & 0 & 0 & 0 & 0 & 0 & 0 & 0 & 0 & 0 & 0 & 0 & 0 & 0 & 0 & 0 & 0 & 0 & 0 & 0 & 0 & 0 & 1 & 0 & 1 & 1 & 0 & 1 & 1 & 0 & 0 & 0 & 1 & 0 & 1 & 0 & 0 & 1 & 0 & 1 & 1 & 0 & 0 & 1 & 1 & 0 & 1 & 1 & 0 & 0 & 0 & 1 & 1 & 0 & 1 \\\\\n",
       "0 & 0 & 0 & 0 & 0 & 0 & 0 & 0 & 0 & 0 & 0 & 0 & 0 & 0 & 0 & 0 & 0 & 0 & 0 & 0 & 0 & 0 & 0 & 1 & 1 & 0 & 0 & 1 & 1 & 0 & 1 & 1 & 1 & 1 & 0 & 0 & 1 & 0 & 1 & 0 & 0 & 0 & 0 & 0 & 1 & 1 & 0 & 1 & 1 & 1 & 1 & 0 & 1 & 1 & 1 \\\\\n",
       "0 & 0 & 0 & 0 & 0 & 0 & 0 & 0 & 0 & 0 & 0 & 0 & 0 & 0 & 0 & 0 & 0 & 0 & 0 & 0 & 0 & 0 & 0 & 0 & 0 & 0 & 1 & 1 & 0 & 1 & 0 & 0 & 1 & 0 & 1 & 0 & 1 & 1 & 1 & 0 & 1 & 1 & 0 & 1 & 1 & 0 & 0 & 1 & 1 & 0 & 0 & 0 & 0 & 0 & 0\n",
       "\\end{array}\\right)$$"
      ],
      "text/plain": [
       "25 x 55 dense matrix over Finite Field of size 2 (use the '.str()' method to see the entries)"
      ]
     },
     "metadata": {},
     "output_type": "display_data"
    },
    {
     "name": "stdout",
     "output_type": "stream",
     "text": [
      "\n",
      "Word to encode:\n",
      "(0, 1, 0, 1, 0, 0, 0, 1, 0, 1, 1, 1, 0, 0, 1, 1, 0, 1, 0, 1, 1, 1, 1, 1, 0)\n",
      "\n",
      "Word encoded:\n",
      "x = (0, 1, 0, 1, 0, 0, 0, 1, 0, 1, 1, 1, 0, 0, 1, 1, 0, 1, 0, 1, 1, 1, 1, 1, 0, 0, 0, 1, 0, 0, 1, 0, 1, 0, 0, 0, 1, 0, 1, 0, 0, 1, 0, 0, 0, 1, 0, 0, 1, 0, 1, 0, 1, 1, 0)\n",
      "e = (0, 0, 0, 0, 0, 0, 0, 0, 0, 0, 0, 0, 0, 1, 0, 0, 0, 0, 0, 0, 0, 0, 0, 0, 0, 0, 0, 0, 0, 0, 0, 0, 0, 0, 0, 0, 1, 0, 0, 0, 0, 0, 0, 0, 0, 0, 0, 0, 0, 0, 0, 0, 0, 0, 0)\n",
      "\n",
      "Word encoded with errors (y = x + e):\n",
      "y = (0, 1, 0, 1, 0, 0, 0, 1, 0, 1, 1, 1, 0, 1, 1, 1, 0, 1, 0, 1, 1, 1, 1, 1, 0, 0, 0, 1, 0, 0, 1, 0, 1, 0, 0, 0, 0, 0, 1, 0, 0, 1, 0, 0, 0, 1, 0, 0, 1, 0, 1, 0, 1, 1, 0)\n"
     ]
    }
   ],
   "source": [
    "# Encoder of C\n",
    "E = GoppaEncoder(C)\n",
    "\n",
    "print(\"\\nGoppa encoder:\")\n",
    "print(E)\n",
    "\n",
    "print(\"\\nGenerator matrix:\")\n",
    "G = E.get_generator_matrix()\n",
    "show(G)\n",
    "\n",
    "v = []\n",
    "\n",
    "while len(v) != G.nrows():\n",
    "    v = v + [choice(F.list())]\n",
    "\n",
    "word = vector(F, v)\n",
    "\n",
    "print(\"\\nWord to encode:\")\n",
    "print(word)\n",
    "\n",
    "x = E.encode(word)\n",
    "\n",
    "print(\"\\nWord encoded:\")\n",
    "print(\"x = \" + str(x))\n",
    "\n",
    "# add errors to y\n",
    "v = [0] * len(x)\n",
    "num_errors = floor(g.degree()/2)\n",
    "i = 0\n",
    "while i < num_errors:\n",
    "    m = randint(0, len(v)-1)\n",
    "    v[m] = choice(F.list())\n",
    "    i += 1\n",
    "\n",
    "e = vector(F, v)\n",
    "print(\"e = \" + str(e))\n",
    "\n",
    "y = x + e\n",
    "print(\"\\nWord encoded with errors (y = x + e):\")\n",
    "print(\"y = \" + str(y))"
   ]
  },
  {
   "cell_type": "code",
   "execution_count": 43,
   "metadata": {},
   "outputs": [
    {
     "name": "stdout",
     "output_type": "stream",
     "text": [
      "\n",
      "Decode to code `y`:\n",
      "x = (0, 1, 0, 1, 0, 0, 0, 1, 0, 1, 1, 1, 0, 0, 1, 1, 0, 1, 0, 1, 1, 1, 1, 1, 0, 0, 0, 1, 0, 0, 1, 0, 1, 0, 0, 0, 1, 0, 1, 0, 0, 1, 0, 0, 0, 1, 0, 0, 1, 0, 1, 0, 1, 1, 0)\n"
     ]
    }
   ],
   "source": [
    "# Decoder of C\n",
    "D = GoppaDecoder(C)\n",
    "\n",
    "print(\"\\nDecode to code `y`:\")\n",
    "\n",
    "x2 = D.decode_to_code(y)\n",
    "print(\"x = \" + str(x2))"
   ]
  },
  {
   "cell_type": "code",
   "execution_count": 44,
   "metadata": {},
   "outputs": [
    {
     "data": {
      "text/plain": [
       "True"
      ]
     },
     "execution_count": 44,
     "metadata": {},
     "output_type": "execute_result"
    }
   ],
   "source": [
    "x == x2"
   ]
  },
  {
   "cell_type": "markdown",
   "metadata": {},
   "source": [
    "# **ALGORITMO DE SUGIYAMA**"
   ]
  },
  {
   "cell_type": "markdown",
   "metadata": {},
   "source": [
    "1. Calcular el síndrome $S(x)$.\n",
    "2. Sean $r_{-1}(x) = g(x)$, $r_0(x) = S(x)$, $U_{-1}(x) = 0$ y $U_0(x) = 1$.\n",
    "3. Buscar $q_i(x)$ y $r_i(x)$ aplicando el algoritmo de Euclides para encontrar el máximo común divisor de $r_{i-2}(x)$ y $r_{i-1}(x)$ para $i = 0,..., k$, hasta que $k$ cumpla que $gr(r_{k-1}(x)) \\geq t$ y $gr(r_k(x)) < t$:\n",
    "\n",
    "$$r_{i-2}(x) = r_{i-1}(x) q_i(x) + r_i(x), \\qquad gr(r_i(x)) < gr(r_{i-1})(x)$$\n",
    "    \n",
    "4. Calcular $U_k(x)$, donde\n",
    "    \n",
    "$$U_i(x) = q_i(x) U_{i-1}(x) + U_{i-2}(x)$$\n",
    "\n",
    "5. La solución viene dada por:\n",
    "$$\\eta(x) = (-1)^k \\delta r_k(x)$$\n",
    "$$\\sigma(x) = \\delta U_k(x)$$"
   ]
  }
 ],
 "metadata": {
  "kernelspec": {
   "display_name": "SageMath 9.3",
   "language": "sage",
   "name": "sagemath"
  },
  "language_info": {
   "codemirror_mode": {
    "name": "ipython",
    "version": 3
   },
   "file_extension": ".py",
   "mimetype": "text/x-python",
   "name": "python",
   "nbconvert_exporter": "python",
   "pygments_lexer": "ipython3",
   "version": "3.7.10"
  }
 },
 "nbformat": 4,
 "nbformat_minor": 4
}

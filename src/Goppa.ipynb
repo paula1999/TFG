{
 "cells": [
  {
   "cell_type": "code",
   "execution_count": 1,
   "metadata": {},
   "outputs": [],
   "source": [
    "from sage.rings.finite_rings.hom_finite_field import FiniteFieldHomomorphism_generic"
   ]
  },
  {
   "cell_type": "code",
   "execution_count": 2,
   "metadata": {},
   "outputs": [],
   "source": [
    "def get_defining_set(n, pol, field):\n",
    "    \"\"\"\n",
    "    Return a tuple of ``n`` distinct elements of ``field``\n",
    "    that are not roots of ``pol`` \n",
    "    \n",
    "    INPUT:\n",
    "        - ``n`` -- length\n",
    "        - ``pol`` -- a monic polynomial with coefficients in `field`\n",
    "        - ``field`` -- finite field\n",
    "    \"\"\"\n",
    "    defining_set = []\n",
    "    \n",
    "    while len(defining_set) != n:\n",
    "        aux = field.random_element()\n",
    "        if pol(aux) != 0 and aux not in defining_set:\n",
    "            defining_set = defining_set + [aux]\n",
    "    \n",
    "    return defining_set"
   ]
  },
  {
   "cell_type": "code",
   "execution_count": 3,
   "metadata": {},
   "outputs": [],
   "source": [
    "def random_word(n, field):\n",
    "    \"\"\"\n",
    "    Return a random vector of length ``n`` belonging to the \n",
    "    finite field ``field``\n",
    "    \n",
    "    INPUT:\n",
    "        - ``n`` -- length\n",
    "        - ``field``-- finite field\n",
    "    \"\"\"\n",
    "    v = []\n",
    "\n",
    "    while len(v) != n:\n",
    "        v = v + [choice(field.list())]\n",
    "\n",
    "    word = vector(field, v)\n",
    "    \n",
    "    return word"
   ]
  },
  {
   "cell_type": "code",
   "execution_count": 4,
   "metadata": {},
   "outputs": [],
   "source": [
    "def random_error(n, num_errors, field):\n",
    "    \"\"\"\n",
    "    Return a random vector of length ``n`` with maximum weight \n",
    "    ``num_errors`` belonging to the finite field ``field``\n",
    "    \n",
    "    INPUT:\n",
    "        - ``n`` -- length\n",
    "        - ``num_errors`` -- maximum weight\n",
    "        - ``field`` -- finite field\n",
    "    \"\"\"\n",
    "    v = [0] * n\n",
    "    i = 0\n",
    "    \n",
    "    while i < num_errors:\n",
    "        m = randint(0, len(v)-1)\n",
    "        v[m] = choice(field.list())\n",
    "        i += 1\n",
    "\n",
    "    e = vector(field, v)\n",
    "    \n",
    "    return e"
   ]
  },
  {
   "cell_type": "markdown",
   "metadata": {},
   "source": [
    "# Goppa code"
   ]
  },
  {
   "cell_type": "code",
   "execution_count": 5,
   "metadata": {},
   "outputs": [],
   "source": [
    "from sage.coding.linear_code import AbstractLinearCode\n",
    "from sage.coding.encoder import Encoder\n",
    "from sage.coding.decoder import Decoder\n",
    "\n",
    "class Goppa(AbstractLinearCode):\n",
    "    r\"\"\"\n",
    "    Implementation of Goppa codes.\n",
    "    \n",
    "    INPUT:\n",
    "    - ``field`` -- finite field on which `self` is defined.\n",
    "    - ``generating_pol`` -- a monic polynomial with coefficients in\n",
    "    a finite field `\\GF{p^m}` extending from `field`\n",
    "    - ``defining_set`` -- tuple of `n` distinct elements of `\\GF{p^m}`\n",
    "    that are not roots of `generating_pol`\n",
    "    \"\"\"\n",
    "    def __init__(self, defining_set, generating_pol, field):\n",
    "        \"\"\"\n",
    "        Initialize.\n",
    "        \"\"\"\n",
    "        \n",
    "        if not generating_pol.is_monic():\n",
    "            raise ValueError(\"ERROR. Generating polynomial isn't monic\")\n",
    "        \n",
    "        for gamma in defining_set:\n",
    "            if generating_pol(gamma) == 0:\n",
    "                raise ValueError(\"ERROR. Defining elements are roots of generating polynomial\")\n",
    "        \n",
    "        self._field = field\n",
    "        self._field_L = generating_pol.base_ring()\n",
    "\n",
    "        if not self._field.is_field() or not self._field.is_finite():\n",
    "            raise ValueError(\"ERROR. Generating polynomial isn't definied over a finite field\")\n",
    "        \n",
    "        self._length = len(defining_set)\n",
    "        self._generating_pol = generating_pol\n",
    "        self._defining_set = defining_set\n",
    "        \n",
    "        super(Goppa, self).__init__(self._field, self._length, \"GoppaEncoder\", \"GoppaDecoder\")\n",
    "        \n",
    "        if self.get_dimension() == 0:\n",
    "            raise ValueError(\"ERROR. Code dimension is null\")\n",
    "    \n",
    "    def _repr_(self):\n",
    "        \"\"\"\n",
    "        Representation of a Goppa code.\n",
    "        \"\"\"\n",
    "        return \"[{}, {}] Goppa code\".format(self._length, self.get_dimension())\n",
    "    \n",
    "    def get_generating_pol(self):\n",
    "        \"\"\"\n",
    "        Return the generating polynomial of ``self``.\n",
    "        \"\"\" \n",
    "        return self._generating_pol\n",
    "    \n",
    "    def get_defining_set(self):\n",
    "        \"\"\"\n",
    "        Return the defining set of ``self``.\n",
    "        \"\"\" \n",
    "        return self._defining_set\n",
    "    \n",
    "    def get_parity_pol(self):\n",
    "        \"\"\"\n",
    "        Return the parity polynomial of ``self``.\n",
    "        \"\"\"\n",
    "        parity_pol = list()\n",
    "        \n",
    "        for elem in self._defining_set:\n",
    "            parity_pol.append((self._generating_pol.parent().gen() - elem).inverse_mod(self._generating_pol))\n",
    "        \n",
    "        return parity_pol\n",
    "    \n",
    "    def get_parity_check_matrix(self):\n",
    "        \"\"\"\n",
    "        Return a parity check matrix of ``self``.\n",
    "        \"\"\"\n",
    "        V, from_V, to_V = self._field_L.vector_space(self._field, map = True)\n",
    "\n",
    "        parity = self.get_parity_pol()\n",
    "\n",
    "        vector_L = []\n",
    "        for i in range(len(parity)):\n",
    "            vector_L = vector_L + parity[i].list()\n",
    "\n",
    "        vector_F = []\n",
    "        for i in range(len(vector_L)):\n",
    "            vector_F = vector_F + to_V(vector_L[i]).list()\n",
    "\n",
    "        matriz_F = matrix(self._length, vector_F)\n",
    "        matriz_F = matriz_F.T\n",
    "        \n",
    "        return matriz_F\n",
    "    \n",
    "    def get_generator_matrix(self):\n",
    "        \"\"\"\n",
    "        Return a generador matrix of ``self``.\n",
    "        \"\"\"\n",
    "        H = self.get_parity_check_matrix()\n",
    "        G = transpose(H).left_kernel().basis_matrix()\n",
    "        \n",
    "        return G\n",
    "    \n",
    "    def get_dimension(self):\n",
    "        \"\"\"\n",
    "        Return the dimension of the code.\n",
    "        \"\"\"\n",
    "        \n",
    "        return rank(self.get_generator_matrix())"
   ]
  },
  {
   "cell_type": "markdown",
   "metadata": {},
   "source": [
    "# Goppa encoder"
   ]
  },
  {
   "cell_type": "code",
   "execution_count": 6,
   "metadata": {},
   "outputs": [],
   "source": [
    "class GoppaEncoder(Encoder):\n",
    "    r\"\"\"\n",
    "    Encoder for Goppa codes\n",
    "    \n",
    "    INPUT:\n",
    "    - ``code`` -- code associated with the encoder\n",
    "    \"\"\"\n",
    "    def __init__(self, code):\n",
    "        \"\"\"\n",
    "        Initialize.\n",
    "        \"\"\"\n",
    "        super(GoppaEncoder, self).__init__(code)\n",
    "        self._generator_matrix = self.code().get_generator_matrix()\n",
    "        \n",
    "    def _repr_(self):\n",
    "        \"\"\"\n",
    "        Representation of a encoder for a Goppa code\n",
    "        \"\"\"\n",
    "        return \"Encoder for {}\".format(self.code())\n",
    "    \n",
    "    def get_generator_matrix(self):\n",
    "        \"\"\"\n",
    "        Return a generador matrix of the code\n",
    "        \"\"\"\n",
    "        return self._generator_matrix\n",
    "    \n",
    "    def encode (self, m):\n",
    "        \"\"\"\n",
    "        Return a codeword\n",
    "        \n",
    "        INPUT:\n",
    "        - ``m`` -- a vector to encode\n",
    "        \"\"\"\n",
    "        return m * self.get_generator_matrix()\n",
    "    \n",
    "Goppa._registered_encoders[\"GoppaEncoder\"] = GoppaEncoder"
   ]
  },
  {
   "cell_type": "markdown",
   "metadata": {},
   "source": [
    "# Goppa decoder"
   ]
  },
  {
   "cell_type": "code",
   "execution_count": 7,
   "metadata": {},
   "outputs": [],
   "source": [
    "class GoppaDecoder(Decoder):\n",
    "    r\"\"\"\n",
    "    Decoder for Goppa codes\n",
    "    \n",
    "    INPUT:\n",
    "    - ``code`` -- code associated with the decoder\n",
    "    \"\"\"\n",
    "    \n",
    "    def __init__(self, code):\n",
    "        \"\"\"\n",
    "        Initialize\n",
    "        \"\"\"\n",
    "        super(GoppaDecoder, self).__init__(code, code.ambient_space(), \"GoppaDecoder\")\n",
    "                \n",
    "        self._generating_pol = self.code().get_generating_pol()\n",
    "        self._defining_set = self.code().get_defining_set()\n",
    "    \n",
    "    def _repr_(self):\n",
    "        \"\"\"\n",
    "        Representation of a decoder for a Goppa code\n",
    "        \"\"\"\n",
    "        return \"Decoder for {}\".format(self.code())\n",
    "    \n",
    "    def get_syndrome(self, c):\n",
    "        \"\"\"\n",
    "        Return the syndrome polynomial\n",
    "        \n",
    "        INPUT:\n",
    "        - ``c`` -- a element of the input space of ``self``\n",
    "        \"\"\"   \n",
    "        h = self.code().get_parity_pol()\n",
    "        \n",
    "        syndrome = 0\n",
    "        \n",
    "        for i in range(len(h)):\n",
    "            syndrome = syndrome + c[i]*h[i]\n",
    "            \n",
    "        return syndrome\n",
    "    \n",
    "    def get_generating_pol(self):\n",
    "        \"\"\"\n",
    "        Return the generating polynomial\n",
    "        \"\"\"\n",
    "        return self._generating_pol\n",
    "    \n",
    "    def decode_to_code(self, word):\n",
    "        r\"\"\"\n",
    "        Corrects the errors in ``word`` and returns a codeword\n",
    "        \n",
    "        INPUT:\n",
    "        - ``word`` -- a codeword of ``self``\n",
    "        \"\"\"\n",
    "        i = 0\n",
    "\n",
    "        # Step 1\n",
    "        S = self.get_syndrome(word)\n",
    "        \n",
    "        if S == 0:\n",
    "            return word\n",
    "\n",
    "        # Step 2\n",
    "        r_prev = self.get_generating_pol()\n",
    "        t = floor(self.get_generating_pol().degree()/2)\n",
    "        r_i = S\n",
    "        U_prev = 0\n",
    "        U_i = 1\n",
    "        \n",
    "        # Steps 3 and 4\n",
    "        while r_i.degree() >= t or r_prev.degree() < t:\n",
    "            (q, r) = r_prev.quo_rem(r_i)\n",
    "            aux_r_i = r_i\n",
    "            aux_U_i = U_i\n",
    "            r_i = r\n",
    "            U_i = q * U_i + U_prev\n",
    "            r_prev = aux_r_i\n",
    "            U_prev = aux_U_i  \n",
    "            i += 1\n",
    "        \n",
    "        # Step 5\n",
    "        # make sigma monic     \n",
    "        sigma = U_i / U_i.coefficients()[-1]\n",
    "        \n",
    "        eta = (-1)^i * r_i / U_i.coefficients()[-1]\n",
    "        \n",
    "        # roots of sigma are the locations of the errors\n",
    "        roots_loc = []\n",
    "        for root in sigma.roots():\n",
    "            if g(root[0] != 0):\n",
    "                roots_loc = roots_loc + [self._defining_set.index(root[0])]\n",
    "        \n",
    "        error = [0] * len(self._defining_set)\n",
    "        x = self.get_generating_pol().parent().gen()\n",
    "        sigma_diff = sigma.diff(x)\n",
    "        \n",
    "        for i in range(0, len(roots_loc)):\n",
    "            error[roots_loc[i]] = eta.subs(x = sigma.roots()[i][0]) / (sigma_diff.subs(x = sigma.roots()[i][0]))\n",
    "        \n",
    "        x = word - vector(self.code()._field, error)\n",
    "        \n",
    "        return x\n",
    "\n",
    "    def decode_to_message(self, word):\n",
    "        r\"\"\"\n",
    "        Decode ``word`` to the message space.\n",
    "        \n",
    "        INPUT:\n",
    "        - ``word`` -- a codeword of ``self``\n",
    "        \"\"\"\n",
    "        word = self.decode_to_code(word)\n",
    "        message = self.code().get_generator_matrix().solve_left(word)\n",
    "        return message\n",
    "\n",
    "Goppa._registered_decoders[\"GoppaDecoder\"] = GoppaDecoder"
   ]
  },
  {
   "cell_type": "markdown",
   "metadata": {},
   "source": [
    "# Examples"
   ]
  },
  {
   "cell_type": "markdown",
   "metadata": {},
   "source": [
    "#### Example 1"
   ]
  },
  {
   "cell_type": "code",
   "execution_count": 8,
   "metadata": {},
   "outputs": [],
   "source": [
    "F = GF(2^2)\n",
    "L = GF(2^6)\n",
    "a = L.gen()\n",
    "b = F.gen()\n",
    "R.<x> = L[]\n",
    "g = x^5 + a*x^2 + 1\n",
    "n = 30\n",
    "defining_set = get_defining_set(n, g, L)"
   ]
  },
  {
   "cell_type": "code",
   "execution_count": 9,
   "metadata": {},
   "outputs": [
    {
     "name": "stdout",
     "output_type": "stream",
     "text": [
      "Goppa code:\n",
      "[30, 15] Goppa code\n",
      "\n",
      "Parity matrix:\n"
     ]
    },
    {
     "data": {
      "text/html": [
       "<html><script type=\"math/tex; mode=display\">\\newcommand{\\Bold}[1]{\\mathbf{#1}}\\left(\\begin{array}{rrrrrrrrrrrrrrrrrrrrrrrrrrrrrr}\n",
       "z_{2} & 1 & 1 & 1 & z_{2} + 1 & 1 & 1 & 0 & 1 & z_{2} + 1 & 0 & z_{2} & 0 & 1 & z_{2} + 1 & z_{2} + 1 & 0 & 0 & 1 & 1 & 1 & 0 & z_{2} + 1 & z_{2} & z_{2} & z_{2} + 1 & z_{2} & 1 & z_{2} & 1 \\\\\n",
       "z_{2} + 1 & z_{2} & z_{2} & 1 & 0 & 0 & 0 & 1 & 1 & 1 & 0 & z_{2} & 1 & z_{2} + 1 & z_{2} + 1 & 1 & 0 & 1 & z_{2} + 1 & z_{2} + 1 & z_{2} & 1 & z_{2} + 1 & 0 & 1 & 1 & z_{2} & z_{2} + 1 & z_{2} + 1 & 1 \\\\\n",
       "1 & 1 & z_{2} & z_{2} + 1 & z_{2} + 1 & z_{2} & z_{2} + 1 & z_{2} + 1 & z_{2} + 1 & 1 & 0 & 0 & 1 & 1 & z_{2} & 1 & 1 & z_{2} & z_{2} + 1 & z_{2} & 0 & 1 & 0 & 0 & 0 & 0 & z_{2} + 1 & z_{2} & z_{2} & z_{2} + 1 \\\\\n",
       "0 & 1 & z_{2} + 1 & z_{2} & 0 & 1 & z_{2} & 1 & z_{2} + 1 & z_{2} + 1 & 0 & 0 & 0 & 0 & 0 & z_{2} & z_{2} + 1 & z_{2} + 1 & 1 & 0 & z_{2} + 1 & z_{2} & 0 & z_{2} + 1 & z_{2} & 0 & z_{2} & 0 & 0 & z_{2} \\\\\n",
       "z_{2} + 1 & 1 & 0 & z_{2} + 1 & z_{2} + 1 & z_{2} & 1 & z_{2} & 0 & 0 & 1 & 1 & z_{2} + 1 & z_{2} & z_{2} & z_{2} & z_{2} + 1 & z_{2} & 1 & 0 & z_{2} & z_{2} & z_{2} + 1 & z_{2} + 1 & z_{2} + 1 & z_{2} & 1 & 1 & 1 & z_{2} + 1 \\\\\n",
       "z_{2} & z_{2} & z_{2} + 1 & z_{2} + 1 & 0 & z_{2} + 1 & z_{2} & 1 & 1 & z_{2} & 0 & z_{2} + 1 & z_{2} & z_{2} & z_{2} & 1 & 0 & 0 & z_{2} & 1 & 1 & z_{2} + 1 & 0 & z_{2} & z_{2} + 1 & z_{2} + 1 & 1 & z_{2} + 1 & z_{2} + 1 & 0 \\\\\n",
       "z_{2} & 0 & 1 & z_{2} + 1 & 0 & z_{2} + 1 & 1 & z_{2} & 0 & 0 & 0 & 0 & z_{2} & z_{2} & z_{2} & z_{2} + 1 & z_{2} + 1 & 1 & z_{2} + 1 & z_{2} & z_{2} + 1 & z_{2} & 1 & 0 & z_{2} + 1 & z_{2} + 1 & 0 & z_{2} + 1 & z_{2} & z_{2} \\\\\n",
       "z_{2} + 1 & z_{2} & 0 & 0 & z_{2} + 1 & z_{2} & 0 & 0 & z_{2} + 1 & 1 & 0 & 0 & 0 & z_{2} + 1 & 0 & z_{2} & 1 & 1 & z_{2} + 1 & z_{2} & z_{2} & z_{2} & 1 & 0 & 0 & 1 & z_{2} + 1 & 0 & z_{2} & 0 \\\\\n",
       "1 & 1 & 0 & 0 & z_{2} + 1 & z_{2} & 0 & 1 & 1 & 0 & 0 & 1 & z_{2} + 1 & z_{2} + 1 & 0 & z_{2} + 1 & 0 & z_{2} + 1 & z_{2} & 0 & 0 & z_{2} & 0 & z_{2} & 1 & 1 & z_{2} + 1 & 1 & z_{2} & 1 \\\\\n",
       "0 & 0 & 0 & 0 & z_{2} & 0 & 1 & 0 & 1 & 0 & 0 & 0 & z_{2} & 0 & z_{2} + 1 & 0 & z_{2} & 0 & z_{2} + 1 & z_{2} + 1 & z_{2} & z_{2} & 0 & z_{2} & z_{2} & 1 & 1 & z_{2} & z_{2} & z_{2} \\\\\n",
       "z_{2} + 1 & z_{2} + 1 & 1 & 1 & z_{2} + 1 & z_{2} + 1 & 1 & z_{2} + 1 & z_{2} & z_{2} & 0 & z_{2} + 1 & z_{2} + 1 & 1 & z_{2} & z_{2} + 1 & 1 & 0 & 0 & z_{2} + 1 & z_{2} + 1 & 1 & 1 & z_{2} & 0 & 1 & 1 & z_{2} + 1 & 1 & 0 \\\\\n",
       "z_{2} & 1 & 1 & 0 & 1 & 0 & z_{2} & 0 & 0 & 1 & 0 & 1 & z_{2} + 1 & 0 & z_{2} & 1 & 0 & 1 & z_{2} + 1 & 1 & 1 & 1 & 0 & 0 & 1 & 0 & 1 & z_{2} & z_{2} & 0 \\\\\n",
       "1 & 1 & z_{2} & 0 & z_{2} & z_{2} + 1 & 0 & 0 & z_{2} & z_{2} & 1 & z_{2} & 0 & z_{2} + 1 & z_{2} & z_{2} & z_{2} + 1 & 1 & 0 & z_{2} & 0 & z_{2} + 1 & z_{2} + 1 & 0 & 0 & 0 & z_{2} & z_{2} & z_{2} + 1 & z_{2} \\\\\n",
       "z_{2} & 1 & z_{2} + 1 & 0 & 1 & z_{2} + 1 & z_{2} & z_{2} + 1 & 1 & z_{2} & 0 & 0 & z_{2} & 1 & 1 & z_{2} + 1 & 0 & z_{2} & 0 & 1 & 0 & 0 & 1 & z_{2} & 1 & z_{2} + 1 & z_{2} + 1 & z_{2} + 1 & 1 & z_{2} + 1 \\\\\n",
       "0 & 0 & 1 & z_{2} & 1 & z_{2} + 1 & 1 & z_{2} + 1 & 1 & 1 & 0 & 1 & z_{2} & z_{2} + 1 & z_{2} & 0 & z_{2} + 1 & z_{2} & z_{2} + 1 & 1 & z_{2} & z_{2} + 1 & z_{2} & z_{2} + 1 & z_{2} & z_{2} + 1 & 0 & 1 & 1 & z_{2} + 1\n",
       "\\end{array}\\right)</script></html>"
      ],
      "text/latex": [
       "$$\\newcommand{\\Bold}[1]{\\mathbf{#1}}\\left(\\begin{array}{rrrrrrrrrrrrrrrrrrrrrrrrrrrrrr}\n",
       "z_{2} & 1 & 1 & 1 & z_{2} + 1 & 1 & 1 & 0 & 1 & z_{2} + 1 & 0 & z_{2} & 0 & 1 & z_{2} + 1 & z_{2} + 1 & 0 & 0 & 1 & 1 & 1 & 0 & z_{2} + 1 & z_{2} & z_{2} & z_{2} + 1 & z_{2} & 1 & z_{2} & 1 \\\\\n",
       "z_{2} + 1 & z_{2} & z_{2} & 1 & 0 & 0 & 0 & 1 & 1 & 1 & 0 & z_{2} & 1 & z_{2} + 1 & z_{2} + 1 & 1 & 0 & 1 & z_{2} + 1 & z_{2} + 1 & z_{2} & 1 & z_{2} + 1 & 0 & 1 & 1 & z_{2} & z_{2} + 1 & z_{2} + 1 & 1 \\\\\n",
       "1 & 1 & z_{2} & z_{2} + 1 & z_{2} + 1 & z_{2} & z_{2} + 1 & z_{2} + 1 & z_{2} + 1 & 1 & 0 & 0 & 1 & 1 & z_{2} & 1 & 1 & z_{2} & z_{2} + 1 & z_{2} & 0 & 1 & 0 & 0 & 0 & 0 & z_{2} + 1 & z_{2} & z_{2} & z_{2} + 1 \\\\\n",
       "0 & 1 & z_{2} + 1 & z_{2} & 0 & 1 & z_{2} & 1 & z_{2} + 1 & z_{2} + 1 & 0 & 0 & 0 & 0 & 0 & z_{2} & z_{2} + 1 & z_{2} + 1 & 1 & 0 & z_{2} + 1 & z_{2} & 0 & z_{2} + 1 & z_{2} & 0 & z_{2} & 0 & 0 & z_{2} \\\\\n",
       "z_{2} + 1 & 1 & 0 & z_{2} + 1 & z_{2} + 1 & z_{2} & 1 & z_{2} & 0 & 0 & 1 & 1 & z_{2} + 1 & z_{2} & z_{2} & z_{2} & z_{2} + 1 & z_{2} & 1 & 0 & z_{2} & z_{2} & z_{2} + 1 & z_{2} + 1 & z_{2} + 1 & z_{2} & 1 & 1 & 1 & z_{2} + 1 \\\\\n",
       "z_{2} & z_{2} & z_{2} + 1 & z_{2} + 1 & 0 & z_{2} + 1 & z_{2} & 1 & 1 & z_{2} & 0 & z_{2} + 1 & z_{2} & z_{2} & z_{2} & 1 & 0 & 0 & z_{2} & 1 & 1 & z_{2} + 1 & 0 & z_{2} & z_{2} + 1 & z_{2} + 1 & 1 & z_{2} + 1 & z_{2} + 1 & 0 \\\\\n",
       "z_{2} & 0 & 1 & z_{2} + 1 & 0 & z_{2} + 1 & 1 & z_{2} & 0 & 0 & 0 & 0 & z_{2} & z_{2} & z_{2} & z_{2} + 1 & z_{2} + 1 & 1 & z_{2} + 1 & z_{2} & z_{2} + 1 & z_{2} & 1 & 0 & z_{2} + 1 & z_{2} + 1 & 0 & z_{2} + 1 & z_{2} & z_{2} \\\\\n",
       "z_{2} + 1 & z_{2} & 0 & 0 & z_{2} + 1 & z_{2} & 0 & 0 & z_{2} + 1 & 1 & 0 & 0 & 0 & z_{2} + 1 & 0 & z_{2} & 1 & 1 & z_{2} + 1 & z_{2} & z_{2} & z_{2} & 1 & 0 & 0 & 1 & z_{2} + 1 & 0 & z_{2} & 0 \\\\\n",
       "1 & 1 & 0 & 0 & z_{2} + 1 & z_{2} & 0 & 1 & 1 & 0 & 0 & 1 & z_{2} + 1 & z_{2} + 1 & 0 & z_{2} + 1 & 0 & z_{2} + 1 & z_{2} & 0 & 0 & z_{2} & 0 & z_{2} & 1 & 1 & z_{2} + 1 & 1 & z_{2} & 1 \\\\\n",
       "0 & 0 & 0 & 0 & z_{2} & 0 & 1 & 0 & 1 & 0 & 0 & 0 & z_{2} & 0 & z_{2} + 1 & 0 & z_{2} & 0 & z_{2} + 1 & z_{2} + 1 & z_{2} & z_{2} & 0 & z_{2} & z_{2} & 1 & 1 & z_{2} & z_{2} & z_{2} \\\\\n",
       "z_{2} + 1 & z_{2} + 1 & 1 & 1 & z_{2} + 1 & z_{2} + 1 & 1 & z_{2} + 1 & z_{2} & z_{2} & 0 & z_{2} + 1 & z_{2} + 1 & 1 & z_{2} & z_{2} + 1 & 1 & 0 & 0 & z_{2} + 1 & z_{2} + 1 & 1 & 1 & z_{2} & 0 & 1 & 1 & z_{2} + 1 & 1 & 0 \\\\\n",
       "z_{2} & 1 & 1 & 0 & 1 & 0 & z_{2} & 0 & 0 & 1 & 0 & 1 & z_{2} + 1 & 0 & z_{2} & 1 & 0 & 1 & z_{2} + 1 & 1 & 1 & 1 & 0 & 0 & 1 & 0 & 1 & z_{2} & z_{2} & 0 \\\\\n",
       "1 & 1 & z_{2} & 0 & z_{2} & z_{2} + 1 & 0 & 0 & z_{2} & z_{2} & 1 & z_{2} & 0 & z_{2} + 1 & z_{2} & z_{2} & z_{2} + 1 & 1 & 0 & z_{2} & 0 & z_{2} + 1 & z_{2} + 1 & 0 & 0 & 0 & z_{2} & z_{2} & z_{2} + 1 & z_{2} \\\\\n",
       "z_{2} & 1 & z_{2} + 1 & 0 & 1 & z_{2} + 1 & z_{2} & z_{2} + 1 & 1 & z_{2} & 0 & 0 & z_{2} & 1 & 1 & z_{2} + 1 & 0 & z_{2} & 0 & 1 & 0 & 0 & 1 & z_{2} & 1 & z_{2} + 1 & z_{2} + 1 & z_{2} + 1 & 1 & z_{2} + 1 \\\\\n",
       "0 & 0 & 1 & z_{2} & 1 & z_{2} + 1 & 1 & z_{2} + 1 & 1 & 1 & 0 & 1 & z_{2} & z_{2} + 1 & z_{2} & 0 & z_{2} + 1 & z_{2} & z_{2} + 1 & 1 & z_{2} & z_{2} + 1 & z_{2} & z_{2} + 1 & z_{2} & z_{2} + 1 & 0 & 1 & 1 & z_{2} + 1\n",
       "\\end{array}\\right)$$"
      ],
      "text/plain": [
       "[    z2      1      1      1 z2 + 1      1      1      0      1 z2 + 1      0     z2      0      1 z2 + 1 z2 + 1      0      0      1      1      1      0 z2 + 1     z2     z2 z2 + 1     z2      1     z2      1]\n",
       "[z2 + 1     z2     z2      1      0      0      0      1      1      1      0     z2      1 z2 + 1 z2 + 1      1      0      1 z2 + 1 z2 + 1     z2      1 z2 + 1      0      1      1     z2 z2 + 1 z2 + 1      1]\n",
       "[     1      1     z2 z2 + 1 z2 + 1     z2 z2 + 1 z2 + 1 z2 + 1      1      0      0      1      1     z2      1      1     z2 z2 + 1     z2      0      1      0      0      0      0 z2 + 1     z2     z2 z2 + 1]\n",
       "[     0      1 z2 + 1     z2      0      1     z2      1 z2 + 1 z2 + 1      0      0      0      0      0     z2 z2 + 1 z2 + 1      1      0 z2 + 1     z2      0 z2 + 1     z2      0     z2      0      0     z2]\n",
       "[z2 + 1      1      0 z2 + 1 z2 + 1     z2      1     z2      0      0      1      1 z2 + 1     z2     z2     z2 z2 + 1     z2      1      0     z2     z2 z2 + 1 z2 + 1 z2 + 1     z2      1      1      1 z2 + 1]\n",
       "[    z2     z2 z2 + 1 z2 + 1      0 z2 + 1     z2      1      1     z2      0 z2 + 1     z2     z2     z2      1      0      0     z2      1      1 z2 + 1      0     z2 z2 + 1 z2 + 1      1 z2 + 1 z2 + 1      0]\n",
       "[    z2      0      1 z2 + 1      0 z2 + 1      1     z2      0      0      0      0     z2     z2     z2 z2 + 1 z2 + 1      1 z2 + 1     z2 z2 + 1     z2      1      0 z2 + 1 z2 + 1      0 z2 + 1     z2     z2]\n",
       "[z2 + 1     z2      0      0 z2 + 1     z2      0      0 z2 + 1      1      0      0      0 z2 + 1      0     z2      1      1 z2 + 1     z2     z2     z2      1      0      0      1 z2 + 1      0     z2      0]\n",
       "[     1      1      0      0 z2 + 1     z2      0      1      1      0      0      1 z2 + 1 z2 + 1      0 z2 + 1      0 z2 + 1     z2      0      0     z2      0     z2      1      1 z2 + 1      1     z2      1]\n",
       "[     0      0      0      0     z2      0      1      0      1      0      0      0     z2      0 z2 + 1      0     z2      0 z2 + 1 z2 + 1     z2     z2      0     z2     z2      1      1     z2     z2     z2]\n",
       "[z2 + 1 z2 + 1      1      1 z2 + 1 z2 + 1      1 z2 + 1     z2     z2      0 z2 + 1 z2 + 1      1     z2 z2 + 1      1      0      0 z2 + 1 z2 + 1      1      1     z2      0      1      1 z2 + 1      1      0]\n",
       "[    z2      1      1      0      1      0     z2      0      0      1      0      1 z2 + 1      0     z2      1      0      1 z2 + 1      1      1      1      0      0      1      0      1     z2     z2      0]\n",
       "[     1      1     z2      0     z2 z2 + 1      0      0     z2     z2      1     z2      0 z2 + 1     z2     z2 z2 + 1      1      0     z2      0 z2 + 1 z2 + 1      0      0      0     z2     z2 z2 + 1     z2]\n",
       "[    z2      1 z2 + 1      0      1 z2 + 1     z2 z2 + 1      1     z2      0      0     z2      1      1 z2 + 1      0     z2      0      1      0      0      1     z2      1 z2 + 1 z2 + 1 z2 + 1      1 z2 + 1]\n",
       "[     0      0      1     z2      1 z2 + 1      1 z2 + 1      1      1      0      1     z2 z2 + 1     z2      0 z2 + 1     z2 z2 + 1      1     z2 z2 + 1     z2 z2 + 1     z2 z2 + 1      0      1      1 z2 + 1]"
      ]
     },
     "metadata": {},
     "output_type": "display_data"
    },
    {
     "name": "stdout",
     "output_type": "stream",
     "text": [
      "\n",
      "Generator matrix:\n"
     ]
    },
    {
     "data": {
      "text/html": [
       "<html><script type=\"math/tex; mode=display\">\\newcommand{\\Bold}[1]{\\mathbf{#1}}\\left(\\begin{array}{rrrrrrrrrrrrrrrrrrrrrrrrrrrrrr}\n",
       "1 & 0 & 0 & 0 & 0 & 0 & 0 & 0 & 0 & 0 & 0 & 0 & 0 & 0 & z_{2} & 0 & 0 & z_{2} + 1 & 1 & 1 & 1 & z_{2} + 1 & z_{2} + 1 & 1 & 0 & 0 & 0 & z_{2} & z_{2} + 1 & 1 \\\\\n",
       "0 & 1 & 0 & 0 & 0 & 0 & 0 & 0 & 0 & 0 & 0 & 0 & 0 & 0 & z_{2} & 0 & 0 & 0 & 0 & 1 & 1 & z_{2} + 1 & z_{2} & z_{2} & z_{2} + 1 & z_{2} & 0 & z_{2} + 1 & z_{2} & z_{2} \\\\\n",
       "0 & 0 & 1 & 0 & 0 & 0 & 0 & 0 & 0 & 0 & 0 & 0 & 0 & 0 & z_{2} & 0 & 1 & z_{2} & 1 & 1 & z_{2} + 1 & z_{2} + 1 & z_{2} + 1 & z_{2} & z_{2} & z_{2} + 1 & z_{2} + 1 & z_{2} & 0 & 0 \\\\\n",
       "0 & 0 & 0 & 1 & 0 & 0 & 0 & 0 & 0 & 0 & 0 & 0 & 0 & 0 & 0 & 0 & 1 & z_{2} + 1 & z_{2} + 1 & z_{2} + 1 & z_{2} & z_{2} & z_{2} & z_{2} & 0 & z_{2} & 1 & z_{2} + 1 & 1 & z_{2} + 1 \\\\\n",
       "0 & 0 & 0 & 0 & 1 & 0 & 0 & 0 & 0 & 0 & 0 & 0 & 0 & 0 & 0 & 0 & z_{2} & 1 & 1 & z_{2} & z_{2} & z_{2} + 1 & 1 & z_{2} & z_{2} & z_{2} & 0 & z_{2} & z_{2} + 1 & z_{2} + 1 \\\\\n",
       "0 & 0 & 0 & 0 & 0 & 1 & 0 & 0 & 0 & 0 & 0 & 0 & 0 & 0 & 1 & 0 & z_{2} & z_{2} + 1 & 1 & 0 & z_{2} & 0 & z_{2} + 1 & 1 & z_{2} & z_{2} + 1 & 1 & z_{2} & 0 & 0 \\\\\n",
       "0 & 0 & 0 & 0 & 0 & 0 & 1 & 0 & 0 & 0 & 0 & 0 & 0 & 0 & z_{2} + 1 & 0 & z_{2} & z_{2} & 1 & z_{2} & z_{2} + 1 & z_{2} + 1 & z_{2} + 1 & 1 & 0 & 1 & 1 & 0 & z_{2} + 1 & z_{2} + 1 \\\\\n",
       "0 & 0 & 0 & 0 & 0 & 0 & 0 & 1 & 0 & 0 & 0 & 0 & 0 & 0 & 0 & 0 & z_{2} + 1 & 1 & 0 & z_{2} & 0 & z_{2} + 1 & 1 & 0 & 1 & z_{2} & z_{2} & z_{2} + 1 & 1 & 0 \\\\\n",
       "0 & 0 & 0 & 0 & 0 & 0 & 0 & 0 & 1 & 0 & 0 & 0 & 0 & 0 & 1 & 0 & z_{2} + 1 & z_{2} & 0 & z_{2} & z_{2} + 1 & 0 & 0 & z_{2} + 1 & z_{2} & 1 & 0 & 1 & z_{2} + 1 & z_{2} \\\\\n",
       "0 & 0 & 0 & 0 & 0 & 0 & 0 & 0 & 0 & 1 & 0 & 0 & 0 & 0 & 1 & 0 & 0 & z_{2} + 1 & 1 & 1 & 0 & z_{2} + 1 & 0 & z_{2} & z_{2} & 1 & z_{2} & z_{2} & 1 & 0 \\\\\n",
       "0 & 0 & 0 & 0 & 0 & 0 & 0 & 0 & 0 & 0 & 1 & 0 & 0 & 0 & z_{2} + 1 & 0 & 1 & 1 & 1 & z_{2} + 1 & z_{2} + 1 & 1 & 1 & 0 & z_{2} & 0 & z_{2} & z_{2} & z_{2} + 1 & z_{2} + 1 \\\\\n",
       "0 & 0 & 0 & 0 & 0 & 0 & 0 & 0 & 0 & 0 & 0 & 1 & 0 & 0 & 1 & 0 & z_{2} + 1 & z_{2} + 1 & 1 & 1 & 0 & z_{2} & z_{2} & 1 & z_{2} & z_{2} + 1 & z_{2} & 1 & 1 & z_{2} + 1 \\\\\n",
       "0 & 0 & 0 & 0 & 0 & 0 & 0 & 0 & 0 & 0 & 0 & 0 & 1 & 0 & 1 & 0 & z_{2} + 1 & 0 & z_{2} + 1 & z_{2} + 1 & z_{2} + 1 & 0 & 0 & 0 & 1 & 1 & z_{2} + 1 & z_{2} & 1 & 0 \\\\\n",
       "0 & 0 & 0 & 0 & 0 & 0 & 0 & 0 & 0 & 0 & 0 & 0 & 0 & 1 & 1 & 0 & z_{2} + 1 & z_{2} + 1 & 1 & 0 & 1 & z_{2} & z_{2} & 0 & 1 & z_{2} + 1 & 1 & 1 & z_{2} & z_{2} + 1 \\\\\n",
       "0 & 0 & 0 & 0 & 0 & 0 & 0 & 0 & 0 & 0 & 0 & 0 & 0 & 0 & 0 & 1 & 1 & z_{2} + 1 & z_{2} + 1 & z_{2} + 1 & z_{2} + 1 & z_{2} & z_{2} & z_{2} + 1 & z_{2} & z_{2} & 0 & z_{2} + 1 & z_{2} + 1 & 0\n",
       "\\end{array}\\right)</script></html>"
      ],
      "text/latex": [
       "$$\\newcommand{\\Bold}[1]{\\mathbf{#1}}\\left(\\begin{array}{rrrrrrrrrrrrrrrrrrrrrrrrrrrrrr}\n",
       "1 & 0 & 0 & 0 & 0 & 0 & 0 & 0 & 0 & 0 & 0 & 0 & 0 & 0 & z_{2} & 0 & 0 & z_{2} + 1 & 1 & 1 & 1 & z_{2} + 1 & z_{2} + 1 & 1 & 0 & 0 & 0 & z_{2} & z_{2} + 1 & 1 \\\\\n",
       "0 & 1 & 0 & 0 & 0 & 0 & 0 & 0 & 0 & 0 & 0 & 0 & 0 & 0 & z_{2} & 0 & 0 & 0 & 0 & 1 & 1 & z_{2} + 1 & z_{2} & z_{2} & z_{2} + 1 & z_{2} & 0 & z_{2} + 1 & z_{2} & z_{2} \\\\\n",
       "0 & 0 & 1 & 0 & 0 & 0 & 0 & 0 & 0 & 0 & 0 & 0 & 0 & 0 & z_{2} & 0 & 1 & z_{2} & 1 & 1 & z_{2} + 1 & z_{2} + 1 & z_{2} + 1 & z_{2} & z_{2} & z_{2} + 1 & z_{2} + 1 & z_{2} & 0 & 0 \\\\\n",
       "0 & 0 & 0 & 1 & 0 & 0 & 0 & 0 & 0 & 0 & 0 & 0 & 0 & 0 & 0 & 0 & 1 & z_{2} + 1 & z_{2} + 1 & z_{2} + 1 & z_{2} & z_{2} & z_{2} & z_{2} & 0 & z_{2} & 1 & z_{2} + 1 & 1 & z_{2} + 1 \\\\\n",
       "0 & 0 & 0 & 0 & 1 & 0 & 0 & 0 & 0 & 0 & 0 & 0 & 0 & 0 & 0 & 0 & z_{2} & 1 & 1 & z_{2} & z_{2} & z_{2} + 1 & 1 & z_{2} & z_{2} & z_{2} & 0 & z_{2} & z_{2} + 1 & z_{2} + 1 \\\\\n",
       "0 & 0 & 0 & 0 & 0 & 1 & 0 & 0 & 0 & 0 & 0 & 0 & 0 & 0 & 1 & 0 & z_{2} & z_{2} + 1 & 1 & 0 & z_{2} & 0 & z_{2} + 1 & 1 & z_{2} & z_{2} + 1 & 1 & z_{2} & 0 & 0 \\\\\n",
       "0 & 0 & 0 & 0 & 0 & 0 & 1 & 0 & 0 & 0 & 0 & 0 & 0 & 0 & z_{2} + 1 & 0 & z_{2} & z_{2} & 1 & z_{2} & z_{2} + 1 & z_{2} + 1 & z_{2} + 1 & 1 & 0 & 1 & 1 & 0 & z_{2} + 1 & z_{2} + 1 \\\\\n",
       "0 & 0 & 0 & 0 & 0 & 0 & 0 & 1 & 0 & 0 & 0 & 0 & 0 & 0 & 0 & 0 & z_{2} + 1 & 1 & 0 & z_{2} & 0 & z_{2} + 1 & 1 & 0 & 1 & z_{2} & z_{2} & z_{2} + 1 & 1 & 0 \\\\\n",
       "0 & 0 & 0 & 0 & 0 & 0 & 0 & 0 & 1 & 0 & 0 & 0 & 0 & 0 & 1 & 0 & z_{2} + 1 & z_{2} & 0 & z_{2} & z_{2} + 1 & 0 & 0 & z_{2} + 1 & z_{2} & 1 & 0 & 1 & z_{2} + 1 & z_{2} \\\\\n",
       "0 & 0 & 0 & 0 & 0 & 0 & 0 & 0 & 0 & 1 & 0 & 0 & 0 & 0 & 1 & 0 & 0 & z_{2} + 1 & 1 & 1 & 0 & z_{2} + 1 & 0 & z_{2} & z_{2} & 1 & z_{2} & z_{2} & 1 & 0 \\\\\n",
       "0 & 0 & 0 & 0 & 0 & 0 & 0 & 0 & 0 & 0 & 1 & 0 & 0 & 0 & z_{2} + 1 & 0 & 1 & 1 & 1 & z_{2} + 1 & z_{2} + 1 & 1 & 1 & 0 & z_{2} & 0 & z_{2} & z_{2} & z_{2} + 1 & z_{2} + 1 \\\\\n",
       "0 & 0 & 0 & 0 & 0 & 0 & 0 & 0 & 0 & 0 & 0 & 1 & 0 & 0 & 1 & 0 & z_{2} + 1 & z_{2} + 1 & 1 & 1 & 0 & z_{2} & z_{2} & 1 & z_{2} & z_{2} + 1 & z_{2} & 1 & 1 & z_{2} + 1 \\\\\n",
       "0 & 0 & 0 & 0 & 0 & 0 & 0 & 0 & 0 & 0 & 0 & 0 & 1 & 0 & 1 & 0 & z_{2} + 1 & 0 & z_{2} + 1 & z_{2} + 1 & z_{2} + 1 & 0 & 0 & 0 & 1 & 1 & z_{2} + 1 & z_{2} & 1 & 0 \\\\\n",
       "0 & 0 & 0 & 0 & 0 & 0 & 0 & 0 & 0 & 0 & 0 & 0 & 0 & 1 & 1 & 0 & z_{2} + 1 & z_{2} + 1 & 1 & 0 & 1 & z_{2} & z_{2} & 0 & 1 & z_{2} + 1 & 1 & 1 & z_{2} & z_{2} + 1 \\\\\n",
       "0 & 0 & 0 & 0 & 0 & 0 & 0 & 0 & 0 & 0 & 0 & 0 & 0 & 0 & 0 & 1 & 1 & z_{2} + 1 & z_{2} + 1 & z_{2} + 1 & z_{2} + 1 & z_{2} & z_{2} & z_{2} + 1 & z_{2} & z_{2} & 0 & z_{2} + 1 & z_{2} + 1 & 0\n",
       "\\end{array}\\right)$$"
      ],
      "text/plain": [
       "[     1      0      0      0      0      0      0      0      0      0      0      0      0      0     z2      0      0 z2 + 1      1      1      1 z2 + 1 z2 + 1      1      0      0      0     z2 z2 + 1      1]\n",
       "[     0      1      0      0      0      0      0      0      0      0      0      0      0      0     z2      0      0      0      0      1      1 z2 + 1     z2     z2 z2 + 1     z2      0 z2 + 1     z2     z2]\n",
       "[     0      0      1      0      0      0      0      0      0      0      0      0      0      0     z2      0      1     z2      1      1 z2 + 1 z2 + 1 z2 + 1     z2     z2 z2 + 1 z2 + 1     z2      0      0]\n",
       "[     0      0      0      1      0      0      0      0      0      0      0      0      0      0      0      0      1 z2 + 1 z2 + 1 z2 + 1     z2     z2     z2     z2      0     z2      1 z2 + 1      1 z2 + 1]\n",
       "[     0      0      0      0      1      0      0      0      0      0      0      0      0      0      0      0     z2      1      1     z2     z2 z2 + 1      1     z2     z2     z2      0     z2 z2 + 1 z2 + 1]\n",
       "[     0      0      0      0      0      1      0      0      0      0      0      0      0      0      1      0     z2 z2 + 1      1      0     z2      0 z2 + 1      1     z2 z2 + 1      1     z2      0      0]\n",
       "[     0      0      0      0      0      0      1      0      0      0      0      0      0      0 z2 + 1      0     z2     z2      1     z2 z2 + 1 z2 + 1 z2 + 1      1      0      1      1      0 z2 + 1 z2 + 1]\n",
       "[     0      0      0      0      0      0      0      1      0      0      0      0      0      0      0      0 z2 + 1      1      0     z2      0 z2 + 1      1      0      1     z2     z2 z2 + 1      1      0]\n",
       "[     0      0      0      0      0      0      0      0      1      0      0      0      0      0      1      0 z2 + 1     z2      0     z2 z2 + 1      0      0 z2 + 1     z2      1      0      1 z2 + 1     z2]\n",
       "[     0      0      0      0      0      0      0      0      0      1      0      0      0      0      1      0      0 z2 + 1      1      1      0 z2 + 1      0     z2     z2      1     z2     z2      1      0]\n",
       "[     0      0      0      0      0      0      0      0      0      0      1      0      0      0 z2 + 1      0      1      1      1 z2 + 1 z2 + 1      1      1      0     z2      0     z2     z2 z2 + 1 z2 + 1]\n",
       "[     0      0      0      0      0      0      0      0      0      0      0      1      0      0      1      0 z2 + 1 z2 + 1      1      1      0     z2     z2      1     z2 z2 + 1     z2      1      1 z2 + 1]\n",
       "[     0      0      0      0      0      0      0      0      0      0      0      0      1      0      1      0 z2 + 1      0 z2 + 1 z2 + 1 z2 + 1      0      0      0      1      1 z2 + 1     z2      1      0]\n",
       "[     0      0      0      0      0      0      0      0      0      0      0      0      0      1      1      0 z2 + 1 z2 + 1      1      0      1     z2     z2      0      1 z2 + 1      1      1     z2 z2 + 1]\n",
       "[     0      0      0      0      0      0      0      0      0      0      0      0      0      0      0      1      1 z2 + 1 z2 + 1 z2 + 1 z2 + 1     z2     z2 z2 + 1     z2     z2      0 z2 + 1 z2 + 1      0]"
      ]
     },
     "metadata": {},
     "output_type": "display_data"
    }
   ],
   "source": [
    "# Goppa code\n",
    "C = Goppa(defining_set, g, F)\n",
    "\n",
    "print(\"Goppa code:\")\n",
    "print(C)\n",
    "\n",
    "print(\"\\nParity matrix:\")\n",
    "H = C.get_parity_check_matrix()\n",
    "show(H)\n",
    "#print(latex(H))\n",
    "\n",
    "print(\"\\nGenerator matrix:\")\n",
    "G = C.get_generator_matrix()\n",
    "show(G)"
   ]
  },
  {
   "cell_type": "code",
   "execution_count": 10,
   "metadata": {},
   "outputs": [
    {
     "name": "stdout",
     "output_type": "stream",
     "text": [
      "\n",
      "Goppa encoder:\n",
      "Encoder for [30, 15] Goppa code\n",
      "\n",
      "Word to encode:\n",
      "(z2 + 1, 0, 0, 0, z2, 0, 1, z2 + 1, z2 + 1, z2, 1, z2, 1, z2 + 1, z2 + 1)\n",
      "\n",
      "Word encoded:\n",
      "x = (z2 + 1, 0, 0, 0, z2, 0, 1, z2 + 1, z2 + 1, z2, 1, z2, 1, z2 + 1, 0, z2 + 1, z2 + 1, 1, z2 + 1, 0, 0, 1, z2, 0, 0, 1, z2, z2 + 1, 0, 0)\n",
      "\n",
      "Errors added to x:\n",
      "e = (0, 0, 0, 0, 0, 0, 0, 0, 0, 0, 0, 0, 0, 0, z2 + 1, 0, 0, 0, 0, 0, 0, 0, z2, 0, 0, 0, 0, 0, 0, 0)\n",
      "\n",
      "Word encoded with errors (y = x + e):\n",
      "y = (z2 + 1, 0, 0, 0, z2, 0, 1, z2 + 1, z2 + 1, z2, 1, z2, 1, z2 + 1, z2 + 1, z2 + 1, z2 + 1, 1, z2 + 1, 0, 0, 1, 0, 0, 0, 1, z2, z2 + 1, 0, 0)\n"
     ]
    }
   ],
   "source": [
    "# Encoder of C\n",
    "E = GoppaEncoder(C)\n",
    "\n",
    "print(\"\\nGoppa encoder:\")\n",
    "print(E)\n",
    "\n",
    "print(\"\\nWord to encode:\")\n",
    "word = random_word(G.nrows(), F)\n",
    "print(word)\n",
    "\n",
    "print(\"\\nWord encoded:\")\n",
    "x = E.encode(word)\n",
    "print(\"x = \" + str(x))\n",
    "\n",
    "print(\"\\nErrors added to x:\")\n",
    "num_errors = floor(g.degree()/2)\n",
    "e = random_error(len(x), num_errors, F)\n",
    "print(\"e = \" + str(e))\n",
    "\n",
    "print(\"\\nWord encoded with errors (y = x + e):\")\n",
    "y = x + e\n",
    "print(\"y = \" + str(y))"
   ]
  },
  {
   "cell_type": "code",
   "execution_count": 11,
   "metadata": {},
   "outputs": [
    {
     "name": "stdout",
     "output_type": "stream",
     "text": [
      "\n",
      "Decode to code `y`:\n",
      "x = (z2 + 1, 0, 0, 0, z2, 0, 1, z2 + 1, z2 + 1, z2, 1, z2, 1, z2 + 1, 0, z2 + 1, z2 + 1, 1, z2 + 1, 0, 0, 1, z2, 0, 0, 1, z2, z2 + 1, 0, 0)\n",
      "\n",
      "Decode to message `y`:\n",
      "(z2 + 1, 0, 0, 0, z2, 0, 1, z2 + 1, z2 + 1, z2, 1, z2, 1, z2 + 1, z2 + 1)\n"
     ]
    }
   ],
   "source": [
    "# Decoder of C\n",
    "D = GoppaDecoder(C)\n",
    "\n",
    "print(\"\\nDecode to code `y`:\")\n",
    "x2 = D.decode_to_code(y)\n",
    "print(\"x = \" + str(x2))\n",
    "\n",
    "print(\"\\nDecode to message `y`:\")\n",
    "word2 = D.decode_to_message(y)\n",
    "print(word2)"
   ]
  },
  {
   "cell_type": "code",
   "execution_count": 12,
   "metadata": {
    "scrolled": true
   },
   "outputs": [
    {
     "data": {
      "text/plain": [
       "True"
      ]
     },
     "execution_count": 12,
     "metadata": {},
     "output_type": "execute_result"
    }
   ],
   "source": [
    "x == x2"
   ]
  },
  {
   "cell_type": "code",
   "execution_count": 13,
   "metadata": {},
   "outputs": [
    {
     "data": {
      "text/plain": [
       "True"
      ]
     },
     "execution_count": 13,
     "metadata": {},
     "output_type": "execute_result"
    }
   ],
   "source": [
    "word == word2"
   ]
  },
  {
   "cell_type": "markdown",
   "metadata": {},
   "source": [
    "#### Example 2"
   ]
  },
  {
   "cell_type": "code",
   "execution_count": 14,
   "metadata": {},
   "outputs": [],
   "source": [
    "F = GF(2^2)\n",
    "L = GF(2^8)\n",
    "a = L.gen()\n",
    "b = F.gen()\n",
    "R.<x> = L[]\n",
    "g = x^5 + a*x^2 + x + a^2\n",
    "n = 40\n",
    "defining_set = get_defining_set(n, g, L)"
   ]
  },
  {
   "cell_type": "code",
   "execution_count": 15,
   "metadata": {},
   "outputs": [
    {
     "name": "stdout",
     "output_type": "stream",
     "text": [
      "Goppa code:\n",
      "[40, 20] Goppa code\n",
      "\n",
      "Parity matrix:\n",
      "\n",
      "Generator matrix:\n"
     ]
    }
   ],
   "source": [
    "# Goppa code\n",
    "C = Goppa(defining_set, g, F)\n",
    "\n",
    "print(\"Goppa code:\")\n",
    "print(C)\n",
    "\n",
    "print(\"\\nParity matrix:\")\n",
    "H = C.get_parity_check_matrix()\n",
    "#show(H)\n",
    "#print(latex(H))\n",
    "\n",
    "print(\"\\nGenerator matrix:\")\n",
    "G = C.get_generator_matrix()\n",
    "#show(G)\n",
    "#print(latex(G))"
   ]
  },
  {
   "cell_type": "code",
   "execution_count": 16,
   "metadata": {},
   "outputs": [
    {
     "name": "stdout",
     "output_type": "stream",
     "text": [
      "\n",
      "Goppa encoder:\n",
      "Encoder for [40, 20] Goppa code\n",
      "\n",
      "Word to encode:\n",
      "(z2, 1, z2 + 1, 0, 1, z2 + 1, z2, z2 + 1, 1, 0, 1, 1, z2, z2 + 1, 1, 1, z2 + 1, z2, z2, 0)\n",
      "\n",
      "Word encoded:\n",
      "x = (z2, 1, z2 + 1, 0, 1, z2 + 1, z2, z2 + 1, 1, 0, 1, 1, z2, z2 + 1, 1, 1, z2 + 1, z2, z2, z2 + 1, 0, 1, 0, z2, z2 + 1, 1, z2, 1, z2, 1, 1, z2 + 1, 1, z2, 0, z2 + 1, z2, z2, 1, 1)\n",
      "\n",
      "Errors added to x:\n",
      "e = (0, 0, 0, 0, 0, 0, 0, 0, 0, 0, 0, 0, 0, 0, 0, 0, 0, 0, 0, 0, 0, 0, 0, 0, 0, z2, 0, 0, 0, 0, 0, 0, 0, 0, 0, 0, 0, 0, 0, 0)\n",
      "\n",
      "Word encoded with errors (y = x + e):\n",
      "y = (z2, 1, z2 + 1, 0, 1, z2 + 1, z2, z2 + 1, 1, 0, 1, 1, z2, z2 + 1, 1, 1, z2 + 1, z2, z2, z2 + 1, 0, 1, 0, z2, z2 + 1, z2 + 1, z2, 1, z2, 1, 1, z2 + 1, 1, z2, 0, z2 + 1, z2, z2, 1, 1)\n"
     ]
    }
   ],
   "source": [
    "# Encoder of C\n",
    "E = GoppaEncoder(C)\n",
    "\n",
    "print(\"\\nGoppa encoder:\")\n",
    "print(E)\n",
    "\n",
    "print(\"\\nWord to encode:\")\n",
    "word = random_word(G.nrows(), F)\n",
    "print(word)\n",
    "\n",
    "print(\"\\nWord encoded:\")\n",
    "x = E.encode(word)\n",
    "print(\"x = \" + str(x))\n",
    "\n",
    "print(\"\\nErrors added to x:\")\n",
    "num_errors = floor(g.degree()/2)\n",
    "e = random_error(len(x), num_errors, F)\n",
    "print(\"e = \" + str(e))\n",
    "\n",
    "print(\"\\nWord encoded with errors (y = x + e):\")\n",
    "y = x + e\n",
    "print(\"y = \" + str(y))"
   ]
  },
  {
   "cell_type": "code",
   "execution_count": 17,
   "metadata": {},
   "outputs": [
    {
     "name": "stdout",
     "output_type": "stream",
     "text": [
      "\n",
      "Decode to code `y`:\n",
      "x = (z2, 1, z2 + 1, 0, 1, z2 + 1, z2, z2 + 1, 1, 0, 1, 1, z2, z2 + 1, 1, 1, z2 + 1, z2, z2, z2 + 1, 0, 1, 0, z2, z2 + 1, 1, z2, 1, z2, 1, 1, z2 + 1, 1, z2, 0, z2 + 1, z2, z2, 1, 1)\n",
      "\n",
      "Decode to message `y`:\n",
      "(z2, 1, z2 + 1, 0, 1, z2 + 1, z2, z2 + 1, 1, 0, 1, 1, z2, z2 + 1, 1, 1, z2 + 1, z2, z2, 0)\n"
     ]
    }
   ],
   "source": [
    "# Decoder of C\n",
    "D = GoppaDecoder(C)\n",
    "\n",
    "print(\"\\nDecode to code `y`:\")\n",
    "x2 = D.decode_to_code(y)\n",
    "print(\"x = \" + str(x2))\n",
    "\n",
    "print(\"\\nDecode to message `y`:\")\n",
    "word2 = D.decode_to_message(y)\n",
    "print(word2)"
   ]
  },
  {
   "cell_type": "code",
   "execution_count": 18,
   "metadata": {},
   "outputs": [
    {
     "data": {
      "text/plain": [
       "True"
      ]
     },
     "execution_count": 18,
     "metadata": {},
     "output_type": "execute_result"
    }
   ],
   "source": [
    "x == x2"
   ]
  },
  {
   "cell_type": "code",
   "execution_count": 19,
   "metadata": {},
   "outputs": [
    {
     "data": {
      "text/plain": [
       "True"
      ]
     },
     "execution_count": 19,
     "metadata": {},
     "output_type": "execute_result"
    }
   ],
   "source": [
    "word == word2"
   ]
  },
  {
   "cell_type": "markdown",
   "metadata": {},
   "source": [
    " #### Example 3"
   ]
  },
  {
   "cell_type": "code",
   "execution_count": 20,
   "metadata": {},
   "outputs": [],
   "source": [
    "F = GF(3^3)\n",
    "L = GF(3^6)\n",
    "a = L.gen()\n",
    "b = F.gen()\n",
    "R.<x> = L[]      \n",
    "g = x^2 + a*x + 1 + a^2\n",
    "n = 10\n",
    "defining_set = get_defining_set(n, g, L)"
   ]
  },
  {
   "cell_type": "code",
   "execution_count": 21,
   "metadata": {},
   "outputs": [
    {
     "name": "stdout",
     "output_type": "stream",
     "text": [
      "Goppa code:\n",
      "[10, 6] Goppa code\n",
      "\n",
      "Parity matrix:\n",
      "\n",
      "Generator matrix:\n"
     ]
    }
   ],
   "source": [
    "# Goppa code\n",
    "C = Goppa(defining_set, g, F)\n",
    "\n",
    "print(\"Goppa code:\")\n",
    "print(C)\n",
    "\n",
    "print(\"\\nParity matrix:\")\n",
    "H = C.get_parity_check_matrix()\n",
    "#show(H)\n",
    "#print(latex(H))\n",
    "\n",
    "print(\"\\nGenerator matrix:\")\n",
    "G = C.get_generator_matrix()\n",
    "#show(G)\n",
    "#print(latex(G))"
   ]
  },
  {
   "cell_type": "code",
   "execution_count": 22,
   "metadata": {},
   "outputs": [
    {
     "name": "stdout",
     "output_type": "stream",
     "text": [
      "\n",
      "Goppa encoder:\n",
      "Encoder for [10, 6] Goppa code\n",
      "\n",
      "Word to encode:\n",
      "(2*z3 + 2, z3^2 + 1, z3^2 + z3, 2*z3^2 + z3 + 2, z3^2 + z3 + 2, z3 + 1)\n",
      "\n",
      "Word encoded:\n",
      "x = (2*z3 + 2, z3^2 + 1, z3^2 + z3, 2*z3^2 + z3 + 2, z3^2 + z3 + 2, z3 + 1, z3^2 + 2*z3 + 2, 2*z3^2 + 2*z3 + 2, 0, 2*z3^2 + 2*z3 + 1)\n",
      "\n",
      "Errors added to x:\n",
      "e = (0, 0, 0, 0, 0, 0, 0, 0, 2, 0)\n",
      "\n",
      "Word encoded with errors (y = x + e):\n",
      "y = (2*z3 + 2, z3^2 + 1, z3^2 + z3, 2*z3^2 + z3 + 2, z3^2 + z3 + 2, z3 + 1, z3^2 + 2*z3 + 2, 2*z3^2 + 2*z3 + 2, 2, 2*z3^2 + 2*z3 + 1)\n"
     ]
    }
   ],
   "source": [
    "# Encoder of C\n",
    "E = GoppaEncoder(C)\n",
    "\n",
    "print(\"\\nGoppa encoder:\")\n",
    "print(E)\n",
    "\n",
    "print(\"\\nWord to encode:\")\n",
    "word = random_word(G.nrows(), F)\n",
    "print(word)\n",
    "\n",
    "print(\"\\nWord encoded:\")\n",
    "x = E.encode(word)\n",
    "print(\"x = \" + str(x))\n",
    "\n",
    "print(\"\\nErrors added to x:\")\n",
    "num_errors = floor(g.degree()/2)\n",
    "e = random_error(len(x), num_errors, F)\n",
    "print(\"e = \" + str(e))\n",
    "\n",
    "print(\"\\nWord encoded with errors (y = x + e):\")\n",
    "y = x + e\n",
    "print(\"y = \" + str(y))"
   ]
  },
  {
   "cell_type": "code",
   "execution_count": 23,
   "metadata": {},
   "outputs": [
    {
     "name": "stdout",
     "output_type": "stream",
     "text": [
      "\n",
      "Decode to code `y`:\n",
      "x = (2*z3 + 2, z3^2 + 1, z3^2 + z3, 2*z3^2 + z3 + 2, z3^2 + z3 + 2, z3 + 1, z3^2 + 2*z3 + 2, 2*z3^2 + 2*z3 + 2, 0, 2*z3^2 + 2*z3 + 1)\n",
      "\n",
      "Decode to message `y`:\n",
      "(2*z3 + 2, z3^2 + 1, z3^2 + z3, 2*z3^2 + z3 + 2, z3^2 + z3 + 2, z3 + 1)\n"
     ]
    }
   ],
   "source": [
    "# Decoder of C\n",
    "D = GoppaDecoder(C)\n",
    "\n",
    "print(\"\\nDecode to code `y`:\")\n",
    "x2 = D.decode_to_code(y)\n",
    "print(\"x = \" + str(x2))\n",
    "\n",
    "print(\"\\nDecode to message `y`:\")\n",
    "word2 = D.decode_to_message(y)\n",
    "print(word2)"
   ]
  },
  {
   "cell_type": "code",
   "execution_count": 24,
   "metadata": {},
   "outputs": [
    {
     "data": {
      "text/plain": [
       "True"
      ]
     },
     "execution_count": 24,
     "metadata": {},
     "output_type": "execute_result"
    }
   ],
   "source": [
    "x == x2"
   ]
  },
  {
   "cell_type": "code",
   "execution_count": 25,
   "metadata": {},
   "outputs": [
    {
     "data": {
      "text/plain": [
       "True"
      ]
     },
     "execution_count": 25,
     "metadata": {},
     "output_type": "execute_result"
    }
   ],
   "source": [
    "word == word2"
   ]
  },
  {
   "cell_type": "markdown",
   "metadata": {},
   "source": [
    "#### Example 4"
   ]
  },
  {
   "cell_type": "code",
   "execution_count": 26,
   "metadata": {},
   "outputs": [],
   "source": [
    "F = GF(5^2)\n",
    "L = GF(5^8)\n",
    "a = L.gen()\n",
    "b = F.gen()\n",
    "R.<x> = L[]\n",
    "g = x^7 + a*x^4 + x + a + 1\n",
    "n = 40\n",
    "defining_set = get_defining_set(n, g, L)"
   ]
  },
  {
   "cell_type": "code",
   "execution_count": 27,
   "metadata": {},
   "outputs": [
    {
     "name": "stdout",
     "output_type": "stream",
     "text": [
      "Goppa code:\n",
      "[40, 12] Goppa code\n",
      "\n",
      "Parity matrix:\n",
      "\n",
      "Generator matrix:\n"
     ]
    }
   ],
   "source": [
    "# Goppa code\n",
    "C = Goppa(defining_set, g, F)\n",
    "\n",
    "print(\"Goppa code:\")\n",
    "print(C)\n",
    "\n",
    "print(\"\\nParity matrix:\")\n",
    "H = C.get_parity_check_matrix()\n",
    "#show(H)\n",
    "#print(latex(H))\n",
    "\n",
    "print(\"\\nGenerator matrix:\")\n",
    "G = C.get_generator_matrix()\n",
    "#show(G)\n",
    "#print(latex(G))"
   ]
  },
  {
   "cell_type": "code",
   "execution_count": 28,
   "metadata": {},
   "outputs": [
    {
     "name": "stdout",
     "output_type": "stream",
     "text": [
      "\n",
      "Goppa encoder:\n",
      "Encoder for [40, 12] Goppa code\n",
      "\n",
      "Word to encode:\n",
      "(2*z2 + 4, 4*z2, 2*z2 + 2, z2 + 4, z2 + 2, 2*z2 + 3, 2*z2 + 2, 0, 3*z2 + 2, 3*z2 + 1, 3*z2 + 4, z2)\n",
      "\n",
      "Word encoded:\n",
      "x = (2*z2 + 4, 4*z2, 2*z2 + 2, z2 + 4, z2 + 2, 2*z2 + 3, 2*z2 + 2, 0, 3*z2 + 2, 3*z2 + 1, 3*z2 + 4, z2, 4*z2 + 4, 4, z2 + 4, 2*z2, 3, 2*z2, 2*z2 + 4, 3*z2 + 1, 3*z2 + 4, 4*z2 + 4, z2 + 1, 1, 3*z2, 3, z2 + 1, 3*z2 + 3, 2*z2 + 3, 3*z2 + 2, 2, 3*z2, 4*z2 + 4, 4*z2 + 1, 2*z2 + 3, 4*z2 + 3, z2 + 2, 4*z2 + 4, 3*z2 + 1, 3*z2 + 2)\n",
      "\n",
      "Errors added to x:\n",
      "e = (0, 0, 0, 0, 0, 0, 0, 0, 0, 0, 0, 0, 4*z2, 0, 0, 0, 0, 0, 0, 0, 0, 0, 0, 2*z2 + 1, 0, 0, 0, 0, 0, 0, 0, 0, 0, 0, 0, 0, 0, 3*z2 + 3, 0, 0)\n",
      "\n",
      "Word encoded with errors (y = x + e):\n",
      "y = (2*z2 + 4, 4*z2, 2*z2 + 2, z2 + 4, z2 + 2, 2*z2 + 3, 2*z2 + 2, 0, 3*z2 + 2, 3*z2 + 1, 3*z2 + 4, z2, 3*z2 + 4, 4, z2 + 4, 2*z2, 3, 2*z2, 2*z2 + 4, 3*z2 + 1, 3*z2 + 4, 4*z2 + 4, z2 + 1, 2*z2 + 2, 3*z2, 3, z2 + 1, 3*z2 + 3, 2*z2 + 3, 3*z2 + 2, 2, 3*z2, 4*z2 + 4, 4*z2 + 1, 2*z2 + 3, 4*z2 + 3, z2 + 2, 2*z2 + 2, 3*z2 + 1, 3*z2 + 2)\n"
     ]
    }
   ],
   "source": [
    "# Encoder of C\n",
    "E = GoppaEncoder(C)\n",
    "\n",
    "print(\"\\nGoppa encoder:\")\n",
    "print(E)\n",
    "\n",
    "print(\"\\nWord to encode:\")\n",
    "word = random_word(G.nrows(), F)\n",
    "print(word)\n",
    "\n",
    "print(\"\\nWord encoded:\")\n",
    "x = E.encode(word)\n",
    "print(\"x = \" + str(x))\n",
    "\n",
    "print(\"\\nErrors added to x:\")\n",
    "num_errors = floor(g.degree()/2)\n",
    "e = random_error(len(x), num_errors, F)\n",
    "print(\"e = \" + str(e))\n",
    "\n",
    "print(\"\\nWord encoded with errors (y = x + e):\")\n",
    "y = x + e\n",
    "print(\"y = \" + str(y))"
   ]
  },
  {
   "cell_type": "code",
   "execution_count": 29,
   "metadata": {},
   "outputs": [
    {
     "name": "stdout",
     "output_type": "stream",
     "text": [
      "\n",
      "Decode to code `y`:\n",
      "x = (2*z2 + 4, 4*z2, 2*z2 + 2, z2 + 4, z2 + 2, 2*z2 + 3, 2*z2 + 2, 0, 3*z2 + 2, 3*z2 + 1, 3*z2 + 4, z2, 4*z2 + 4, 4, z2 + 4, 2*z2, 3, 2*z2, 2*z2 + 4, 3*z2 + 1, 3*z2 + 4, 4*z2 + 4, z2 + 1, 1, 3*z2, 3, z2 + 1, 3*z2 + 3, 2*z2 + 3, 3*z2 + 2, 2, 3*z2, 4*z2 + 4, 4*z2 + 1, 2*z2 + 3, 4*z2 + 3, z2 + 2, 4*z2 + 4, 3*z2 + 1, 3*z2 + 2)\n",
      "\n",
      "Decode to message `y`:\n",
      "(2*z2 + 4, 4*z2, 2*z2 + 2, z2 + 4, z2 + 2, 2*z2 + 3, 2*z2 + 2, 0, 3*z2 + 2, 3*z2 + 1, 3*z2 + 4, z2)\n"
     ]
    }
   ],
   "source": [
    "# Decoder of C\n",
    "D = GoppaDecoder(C)\n",
    "\n",
    "print(\"\\nDecode to code `y`:\")\n",
    "x2 = D.decode_to_code(y)\n",
    "print(\"x = \" + str(x2))\n",
    "\n",
    "print(\"\\nDecode to message `y`:\")\n",
    "word2 = D.decode_to_message(y)\n",
    "print(word2)"
   ]
  },
  {
   "cell_type": "code",
   "execution_count": 30,
   "metadata": {},
   "outputs": [
    {
     "data": {
      "text/plain": [
       "True"
      ]
     },
     "execution_count": 30,
     "metadata": {},
     "output_type": "execute_result"
    }
   ],
   "source": [
    "x == x2"
   ]
  },
  {
   "cell_type": "code",
   "execution_count": 31,
   "metadata": {},
   "outputs": [
    {
     "data": {
      "text/plain": [
       "True"
      ]
     },
     "execution_count": 31,
     "metadata": {},
     "output_type": "execute_result"
    }
   ],
   "source": [
    "word == word2"
   ]
  },
  {
   "cell_type": "markdown",
   "metadata": {},
   "source": [
    "# **ALGORITMO DE SUGIYAMA**"
   ]
  },
  {
   "cell_type": "markdown",
   "metadata": {},
   "source": [
    "1. Calcular el síndrome $S(x)$.\n",
    "2. Sean $r_{-1}(x) = g(x)$, $r_0(x) = S(x)$, $U_{-1}(x) = 0$ y $U_0(x) = 1$.\n",
    "3. Buscar $q_i(x)$ y $r_i(x)$ aplicando el algoritmo de Euclides para encontrar el máximo común divisor de $r_{i-2}(x)$ y $r_{i-1}(x)$ para $i = 1,..., k$, hasta que $k$ cumpla que $gr(r_{k-1}(x)) \\geq t$ y $gr(r_k(x)) < t$:\n",
    "\n",
    "$$r_{i-2}(x) = r_{i-1}(x) q_i(x) + r_i(x), \\qquad gr(r_i(x)) < gr(r_{i-1})(x)$$\n",
    "    \n",
    "4. Calcular $U_k(x)$, donde\n",
    "    \n",
    "$$U_i(x) = q_i(x) U_{i-1}(x) + U_{i-2}(x)$$\n",
    "\n",
    "5. La solución viene dada por:\n",
    "$$\\eta(x) = (-1)^k \\delta r_k(x)$$\n",
    "$$\\sigma(x) = \\delta U_k(x)$$"
   ]
  },
  {
   "cell_type": "markdown",
   "metadata": {},
   "source": [
    "### Borrar"
   ]
  },
  {
   "cell_type": "code",
   "execution_count": 32,
   "metadata": {},
   "outputs": [
    {
     "name": "stdout",
     "output_type": "stream",
     "text": [
      "[z4, z4 + 1, z4^2 + z4, z4^3 + z4^2 + z4, z4^2 + 1, z4^3 + 1, z4^3 + z4^2 + z4 + 1, z4^3 + z4 + 1, z4^3 + z4^2 + 1, z4^2 + z4 + 1]\n",
      "[10, 4] Goppa code\n",
      "(0, z2, 0, 1)\n",
      "(0, z2, 0, 1, 0, z2 + 1, z2 + 1, 1, z2, z2 + 1)\n"
     ]
    },
    {
     "data": {
      "text/plain": [
       "(0, z2, 0, 1)"
      ]
     },
     "execution_count": 32,
     "metadata": {},
     "output_type": "execute_result"
    }
   ],
   "source": [
    "F = GF(2^2)\n",
    "L = GF(2^4)\n",
    "a = L.gen()\n",
    "b = F.gen()\n",
    "R.<x> = L[]\n",
    "g = x^3 + a*x^2 + 1\n",
    "n = 10\n",
    "defining_set = get_defining_set(n, g, L)\n",
    "print(defining_set)\n",
    "C = Goppa(defining_set, g, F)\n",
    "print(C)\n",
    "G = C.get_generator_matrix()\n",
    "E = GoppaEncoder(C)\n",
    "D = GoppaDecoder(C)\n",
    "word = random_word(G.nrows(), F)\n",
    "print(word)\n",
    "x = E.encode(word)\n",
    "print(x)\n",
    "num_errors = floor(g.degree()/2)\n",
    "e = random_error(len(x), num_errors, F)\n",
    "y = x + e\n",
    "D.decode_to_message(y)"
   ]
  },
  {
   "cell_type": "code",
   "execution_count": 33,
   "metadata": {},
   "outputs": [],
   "source": [
    "#D.get_syndrome(word)"
   ]
  },
  {
   "cell_type": "code",
   "execution_count": 34,
   "metadata": {},
   "outputs": [
    {
     "data": {
      "text/plain": [
       "(1, 0, z3 + 1, z3, 0, z3 + 1, 2*z3 + 2, 2*z3^2 + 2*z3, 2, 2*z3^2 + 2*z3 + 1)"
      ]
     },
     "execution_count": 34,
     "metadata": {},
     "output_type": "execute_result"
    }
   ],
   "source": [
    "F = GF(3^3)\n",
    "L = GF(3^6)\n",
    "a = L.gen()\n",
    "b = F.gen()\n",
    "R.<x> = L[]\n",
    "g = x^2 + a*x + 1 + a^2\n",
    "n = 10\n",
    "defining_set = get_defining_set(n, g, L)\n",
    "#print(defining_set)\n",
    "C = Goppa(defining_set, g, F)\n",
    "#print(C)\n",
    "#print(latex(C.get_parity_check_matrix()))\n",
    "#print(latex(C.get_generator_matrix()))\n",
    "E = GoppaEncoder(C)\n",
    "word = vector(F, (1, 0, b + 1, b, 0, b + 1))\n",
    "x = E.encode(word)\n",
    "x"
   ]
  },
  {
   "cell_type": "code",
   "execution_count": 35,
   "metadata": {},
   "outputs": [
    {
     "name": "stdout",
     "output_type": "stream",
     "text": [
      "(0, 0, 2*z3^2 + 2*z3 + 1, 0, 0, 0, 0, 0, 0, 0)\n",
      "y:\n",
      "(1, 0, 2*z3^2 + 2, z3, 0, z3 + 1, 2*z3 + 2, 2*z3^2 + 2*z3, 2, 2*z3^2 + 2*z3 + 1)\n",
      "\n",
      "Decode to code `y`:\n",
      "x = (1, 0, z3 + 1, z3, 0, z3 + 1, 2*z3 + 2, 2*z3^2 + 2*z3, 2, 2*z3^2 + 2*z3 + 1)\n",
      "\n",
      "Decode to message `y`:\n",
      "(1, 0, z3 + 1, z3, 0, z3 + 1)\n"
     ]
    }
   ],
   "source": [
    "num_errors = floor(g.degree()/2)\n",
    "e = vector(F, (0, 0, 2*b^2 + 2*b + 1, 0, 0, 0, 0, 0, 0, 0))\n",
    "print(e)\n",
    "y = e + x\n",
    "print(\"y:\")\n",
    "print(y)\n",
    "\n",
    "D = GoppaDecoder(C)\n",
    "\n",
    "print(\"\\nDecode to code `y`:\")\n",
    "x2 = D.decode_to_code(x)\n",
    "print(\"x = \" + str(x2))\n",
    "\n",
    "print(\"\\nDecode to message `y`:\")\n",
    "word2 = D.decode_to_message(y)\n",
    "print(word2)"
   ]
  },
  {
   "cell_type": "code",
   "execution_count": 36,
   "metadata": {},
   "outputs": [
    {
     "data": {
      "text/plain": [
       "[z6^5 + 2*z6^3 + z6 + 2,\n",
       " z6^5 + 2*z6^4 + 2*z6^2 + 2,\n",
       " 2*z6^5 + z6^4 + 2*z6^3 + z6 + 1,\n",
       " z6^5 + 2*z6^2 + z6,\n",
       " z6^3 + 2*z6^2,\n",
       " 2*z6^5 + 2*z6^4 + 2*z6^2,\n",
       " z6^5 + z6^4 + 2*z6^2 + z6 + 2,\n",
       " 2*z6^5 + 2*z6^3 + 2*z6^2 + z6 + 1,\n",
       " z6^5 + 2*z6^4 + z6^3 + z6^2,\n",
       " 2*z6^3 + 2*z6^2 + z6]"
      ]
     },
     "execution_count": 36,
     "metadata": {},
     "output_type": "execute_result"
    }
   ],
   "source": [
    "defining_set"
   ]
  },
  {
   "cell_type": "code",
   "execution_count": null,
   "metadata": {},
   "outputs": [],
   "source": []
  }
 ],
 "metadata": {
  "kernelspec": {
   "display_name": "SageMath 9.3",
   "language": "sage",
   "name": "sagemath"
  },
  "language_info": {
   "codemirror_mode": {
    "name": "ipython",
    "version": 3
   },
   "file_extension": ".py",
   "mimetype": "text/x-python",
   "name": "python",
   "nbconvert_exporter": "python",
   "pygments_lexer": "ipython3",
   "version": "3.7.10"
  }
 },
 "nbformat": 4,
 "nbformat_minor": 4
}

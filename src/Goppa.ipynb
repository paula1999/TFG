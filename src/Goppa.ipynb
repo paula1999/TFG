{
 "cells": [
  {
   "cell_type": "code",
   "execution_count": 1,
   "metadata": {},
   "outputs": [],
   "source": [
    "from sage.coding.linear_code import AbstractLinearCode\n",
    "from sage.coding.encoder import Encoder\n",
    "from sage.coding.decoder import Decoder\n",
    "\n",
    "class Goppa(AbstractLinearCode):\n",
    "    def __init__(self, generating_pol, defining_set):\n",
    "        if not generating_pol.is_monic():\n",
    "            raise ValueError(\"ERROR. Generating polynomial isn't monic\")\n",
    "        \n",
    "        for gamma in defining_set:\n",
    "            if generating_pol(gamma) == 0:\n",
    "                raise ValueError(\"ERROR. Defining elements are roots of generating polynomial\")\n",
    "        \n",
    "        self._field = generating_pol.base_ring().prime_subfield()\n",
    "        \n",
    "        if (not self._field.is_field() or not self._field.is_finite()):\n",
    "            raise ValueError(\"ERROR. Generating polynomial isn't definied over a finite field\")\n",
    "        \n",
    "        self._length = len(defining_set)\n",
    "        self._generating_pol = generating_pol\n",
    "        self._defining_set = defining_set\n",
    "        self._field = generating_pol.base_ring().prime_subfield()\n",
    "        self._dimension = len(defining_set) - generating_pol.degree()\n",
    "        \n",
    "        super(Goppa, self).__init__(self._field, self._length, \"GoppaEncoder\", \"GoppaDecoder\")\n",
    "        \n",
    "    def parity_check_matrix(self):\n",
    "        g = self._generating_pol\n",
    "        L = self._defining_set\n",
    "        n = self._length\n",
    "        d = g.degree()\n",
    "        \n",
    "        aux = vector([0 for i in range(n)])  # auxiliary vector of n columns\n",
    "        H = matrix(aux)\n",
    "\n",
    "        for i in range(0, d):\n",
    "            elem = g(L[0]).inverse_of_unit() * L[0]**i   # first row\n",
    "            c = vector(elem).column()\n",
    "            aux = matrix(c)\n",
    "            \n",
    "            for j in range(1,n):\n",
    "                elem = g(L[j]).inverse_of_unit() * L[j]**i\n",
    "                c = vector(elem).column()\n",
    "                aux = aux.augment(c)\n",
    "            \n",
    "            H = H.stack(aux)\n",
    "\n",
    "        H = H.delete_rows([0])   # delete auxiliary vector\n",
    "        \n",
    "        return H\n",
    "    \n",
    "    def _repr_(self):\n",
    "        return \"[{}, {}] Goppa code\".format(\n",
    "                self.length(), self.dimension())\n",
    "    \n",
    "    #def encode(m):\n",
    "    #    return u * self.G\n",
    "    \n",
    "class GoppaEncoder(Encoder):\n",
    "    def __init__(self, code):\n",
    "        print(\"TODO\")\n",
    "        \n",
    "class GoppaDecoder(Decoder):\n",
    "    def __init__(self, code):\n",
    "        print(\"TODO\")\n",
    "\n",
    "Goppa._registered_encoders[\"GoppaEncoder\"] = GoppaEncoder\n",
    "Goppa._registered_decoders[\"GoppaDecoder\"] = GoppaDecoder"
   ]
  },
  {
   "cell_type": "code",
   "execution_count": 2,
   "metadata": {},
   "outputs": [],
   "source": [
    "F = GF(2^3)\n",
    "R.<x> = F[]\n",
    "g = x^2 + x + 1\n",
    "L = [a for a in F.list() if g(a) != 0]\n",
    "C = Goppa(g, L)"
   ]
  },
  {
   "cell_type": "code",
   "execution_count": 3,
   "metadata": {},
   "outputs": [
    {
     "data": {
      "text/plain": [
       "[8, 6] Goppa code"
      ]
     },
     "execution_count": 3,
     "metadata": {},
     "output_type": "execute_result"
    }
   ],
   "source": [
    "C"
   ]
  },
  {
   "cell_type": "code",
   "execution_count": 4,
   "metadata": {},
   "outputs": [
    {
     "data": {
      "text/plain": [
       "[1 0 0 0 0 0 0 1]\n",
       "[0 0 1 0 1 1 1 0]\n",
       "[0 1 1 1 0 0 1 0]\n",
       "[0 1 1 1 1 1 1 1]\n",
       "[0 1 0 1 1 0 1 0]\n",
       "[0 0 1 1 1 1 0 0]"
      ]
     },
     "execution_count": 4,
     "metadata": {},
     "output_type": "execute_result"
    }
   ],
   "source": [
    "C.parity_check_matrix()"
   ]
  }
 ],
 "metadata": {
  "kernelspec": {
   "display_name": "SageMath 9.3",
   "language": "sage",
   "name": "sagemath"
  },
  "language_info": {
   "codemirror_mode": {
    "name": "ipython",
    "version": 3
   },
   "file_extension": ".py",
   "mimetype": "text/x-python",
   "name": "python",
   "nbconvert_exporter": "python",
   "pygments_lexer": "ipython3",
   "version": "3.7.10"
  }
 },
 "nbformat": 4,
 "nbformat_minor": 4
}

{
 "cells": [
  {
   "cell_type": "code",
   "execution_count": 66,
   "metadata": {},
   "outputs": [],
   "source": [
    "from sage.coding.linear_code import AbstractLinearCode\n",
    "from sage.coding.encoder import Encoder\n",
    "from sage.coding.decoder import Decoder\n",
    "\n",
    "class Goppa(AbstractLinearCode):\n",
    "    def __init__(self, generating_pol, defining_set):\n",
    "        if not generating_pol.is_monic():\n",
    "            raise ValueError(\"ERROR. Generating polynomial isn't monic\")\n",
    "        \n",
    "        for gamma in defining_set:\n",
    "            if generating_pol(gamma) == 0:\n",
    "                raise ValueError(\"ERROR. Defining elements are roots of generating polynomial\")\n",
    "        \n",
    "        self._field = generating_pol.base_ring().prime_subfield()\n",
    "        \n",
    "        if (not self._field.is_field() or not self._field.is_finite()):\n",
    "            raise ValueError(\"ERROR. Generating polynomial isn't definied over a finite field\")\n",
    "        \n",
    "        self._length = len(defining_set)\n",
    "        self._generating_pol = generating_pol\n",
    "        self._defining_set = defining_set\n",
    "        self._field = generating_pol.base_ring().prime_subfield()\n",
    "        self._dimension = len(defining_set) - generating_pol.degree()\n",
    "        \n",
    "        super(Goppa, self).__init__(self._field, self._length, \"GoppaEncoder\", \"GoppaDecoder\")\n",
    "        \n",
    "    def get_generating_pol(self):\n",
    "        return self._generating_pol\n",
    "    \n",
    "    def get_defining_set(self):\n",
    "        return self._defining_set\n",
    "    \n",
    "    def parity_check_matrix(self):\n",
    "        g = self._generating_pol\n",
    "        L = self._defining_set\n",
    "        n = self._length\n",
    "        d = g.degree()\n",
    "        \n",
    "        aux = vector([0 for i in range(n)])  # auxiliary vector of n columns\n",
    "        H = matrix(aux)\n",
    "\n",
    "        for i in range(0, d):\n",
    "            elem = g(L[0]).inverse_of_unit() * L[0]**i   # first row\n",
    "            c = vector(elem).column()\n",
    "            aux = matrix(c)\n",
    "            \n",
    "            for j in range(1,n):\n",
    "                elem = g(L[j]).inverse_of_unit() * L[j]**i\n",
    "                c = vector(elem).column()\n",
    "                aux = aux.augment(c)\n",
    "            \n",
    "            H = H.stack(aux)\n",
    "\n",
    "        H = H.delete_rows([0])   # delete auxiliary vector\n",
    "        \n",
    "        return H\n",
    "    \n",
    "    def _repr_(self):\n",
    "        return \"[{}, {}] Goppa code\".format(self.length(), self.dimension())\n",
    "\n",
    "class GoppaEncoder(Encoder):\n",
    "    def __init__(self, code):\n",
    "        super(GoppaEncoder, self).__init__(code)\n",
    "        \n",
    "    def _repr_(self):\n",
    "        return \"Encoder for {}\".format(self.code())\n",
    "    \n",
    "    def generator_matrix(self):\n",
    "        H = self.code().parity_check_matrix()\n",
    "        G = transpose(H).left_kernel().basis_matrix()\n",
    "        return G\n",
    "    \n",
    "    def encode (self, m):\n",
    "        return m * generator_matrix()\n",
    "\n",
    "class GoppaDecoder(Decoder):\n",
    "    def __init__(self, code):\n",
    "        super(GoppaDecoder, self).__init__(code, code.ambient_space(), \"GoppaDecoder\")\n",
    "        \n",
    "        print(\"TODO\")\n",
    "        \n",
    "        g = self.code().get_generating_pol()\n",
    "        L = self.code().get_defining_set()\n",
    "        \n",
    "        syndrome = list()\n",
    "        \n",
    "        for i in range(len(L)):\n",
    "            syndrome.append((g.parent().gen() - L[i]).inverse_mod(g))\n",
    "            \n",
    "        self._syndrome = syndrome\n",
    "    \n",
    "    def get_syndrome(self):\n",
    "        return self._syndrome\n",
    "\n",
    "Goppa._registered_encoders[\"GoppaEncoder\"] = GoppaEncoder\n",
    "Goppa._registered_decoders[\"GoppaDecoder\"] = GoppaDecoder"
   ]
  },
  {
   "cell_type": "code",
   "execution_count": 31,
   "metadata": {},
   "outputs": [
    {
     "data": {
      "text/plain": [
       "[8, 6] Goppa code"
      ]
     },
     "execution_count": 31,
     "metadata": {},
     "output_type": "execute_result"
    }
   ],
   "source": [
    "F = GF(2^3)\n",
    "R.<x> = F[]\n",
    "g = x^2 + x + 1\n",
    "L = [a for a in F.list() if g(a) != 0]\n",
    "C = Goppa(g, L)\n",
    "C"
   ]
  },
  {
   "cell_type": "code",
   "execution_count": null,
   "metadata": {},
   "outputs": [],
   "source": [
    "H = C.parity_check_matrix()"
   ]
  },
  {
   "cell_type": "code",
   "execution_count": 39,
   "metadata": {},
   "outputs": [
    {
     "data": {
      "text/plain": [
       "z3"
      ]
     },
     "execution_count": 39,
     "metadata": {},
     "output_type": "execute_result"
    }
   ],
   "source": [
    "g.base_ring().gen()"
   ]
  },
  {
   "cell_type": "code",
   "execution_count": 25,
   "metadata": {},
   "outputs": [
    {
     "data": {
      "text/plain": [
       "[8, 6] Goppa code"
      ]
     },
     "execution_count": 25,
     "metadata": {},
     "output_type": "execute_result"
    }
   ],
   "source": [
    "C"
   ]
  },
  {
   "cell_type": "code",
   "execution_count": 42,
   "metadata": {},
   "outputs": [
    {
     "data": {
      "text/plain": [
       "Finite Field in z3 of size 2^3"
      ]
     },
     "execution_count": 42,
     "metadata": {},
     "output_type": "execute_result"
    }
   ],
   "source": [
    "g.base_ring()"
   ]
  },
  {
   "cell_type": "code",
   "execution_count": null,
   "metadata": {},
   "outputs": [],
   "source": [
    "F = GF(2^3)\n",
    "R.<x> = F[]\n",
    "g = (x^2 + x + 1)^2\n",
    "L = [a for a in F.list() if g(a) != 0]\n",
    "E = GoppaEncoder(C)\n",
    "E"
   ]
  },
  {
   "cell_type": "code",
   "execution_count": null,
   "metadata": {},
   "outputs": [],
   "source": [
    "G = E.generator_matrix()"
   ]
  },
  {
   "cell_type": "code",
   "execution_count": null,
   "metadata": {},
   "outputs": [],
   "source": [
    "H * transpose(G)"
   ]
  },
  {
   "cell_type": "code",
   "execution_count": null,
   "metadata": {},
   "outputs": [],
   "source": [
    "G * transpose(H)"
   ]
  },
  {
   "cell_type": "markdown",
   "metadata": {},
   "source": [
    "# ALGORITMO DE EUCLIDES"
   ]
  },
  {
   "cell_type": "code",
   "execution_count": null,
   "metadata": {},
   "outputs": [],
   "source": [
    "def euclides (a, b):\n",
    "    # TODO"
   ]
  },
  {
   "cell_type": "markdown",
   "metadata": {},
   "source": [
    "# **ALGORITMO DE SUGIYAMA**"
   ]
  },
  {
   "cell_type": "markdown",
   "metadata": {},
   "source": [
    "1. Calcular el síndrome $S(x)$.\n",
    "2. Sean $r_{-1}(x) = g(x)$, $r_0(x) = S(x)$, $U_{-1}(x) = 0$ y $U_0(x) = 1$.\n",
    "3. Buscar $q_i(x)$ y $r_i(x)$ aplicando el algoritmo de Euclides para encontrar el máximo común divisor de $r_{-1}(x)$ y $r_0(x)$ para $i = 1,..., k$, hasta que $k$ cumpla que $gr(r_{k-1}(x)) \\geq t$ y $gr(r_k(x)) < t$:\n",
    "\n",
    "$$r_{i-2}(x) = r_{i-1}(x) q_i(x) + r_i(x), \\qquad gr(r_i(x)) < gr(r_{i-1})(x)$$\n",
    "    \n",
    "4. Calcular $U_k(x)$, donde\n",
    "    \n",
    "$$U_i(x) = q_i(x) U_{i-1}(x) + U_{i-2}(x)$$\n",
    "\n",
    "5. La solución viene dada por:\n",
    "$$\\eta(x) = (-1)^k \\delta r_k(x)$$\n",
    "$$\\sigma(x) = \\delta U_k(x)$$"
   ]
  },
  {
   "cell_type": "code",
   "execution_count": null,
   "metadata": {},
   "outputs": [],
   "source": [
    "def sugiyama(code):\n",
    "    i = 1\n",
    "    \n",
    "    # Paso 1\n",
    "    S = code.get_syndrome()\n",
    "    \n",
    "    # Paso 2\n",
    "    r_prev = code.get_generating_pol()\n",
    "    r_i = S\n",
    "    U_prev = 0\n",
    "    U_i = 1\n",
    "    \n",
    "    # Paso 3 y 4\n",
    "    while r_prev.degree() < t and r_i.degree() >= t:\n",
    "        (q_i, r_i) = euclides(r_prev, r_i)\n",
    "        U_i = q_i * U_i + U_prev\n",
    "        r_prev = r_i\n",
    "        U_prev = U_i\n",
    "        i += 1\n",
    "        \n",
    "    # Paso 5\n",
    "    eta = (-1)^i * r_i\n",
    "    sigma = U_i\n",
    "    \n",
    "    return eta, sigma"
   ]
  }
 ],
 "metadata": {
  "kernelspec": {
   "display_name": "SageMath 9.3",
   "language": "sage",
   "name": "sagemath"
  },
  "language_info": {
   "codemirror_mode": {
    "name": "ipython",
    "version": 3
   },
   "file_extension": ".py",
   "mimetype": "text/x-python",
   "name": "python",
   "nbconvert_exporter": "python",
   "pygments_lexer": "ipython3",
   "version": "3.7.10"
  }
 },
 "nbformat": 4,
 "nbformat_minor": 4
}

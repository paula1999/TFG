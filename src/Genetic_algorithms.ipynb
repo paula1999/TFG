{
 "cells": [
  {
   "cell_type": "markdown",
   "metadata": {},
   "source": [
    "# Imports"
   ]
  },
  {
   "cell_type": "code",
   "execution_count": 1,
   "metadata": {},
   "outputs": [],
   "source": [
    "from sage.rings.finite_rings.hom_finite_field import FiniteFieldHomomorphism_generic"
   ]
  },
  {
   "cell_type": "code",
   "execution_count": 2,
   "metadata": {},
   "outputs": [],
   "source": [
    "def get_defining_set(n, pol, field):\n",
    "    \"\"\"\n",
    "    Return a tuple of ``n`` distinct elements of ``field``\n",
    "    that are not roots of ``pol`` \n",
    "    \n",
    "    INPUT:\n",
    "        - ``n`` -- length\n",
    "        - ``pol`` -- a monic polynomial with coefficients in `field`\n",
    "        - ``field`` -- finite field\n",
    "    \"\"\"\n",
    "    defining_set = []\n",
    "    \n",
    "    while len(defining_set) != n:\n",
    "        aux = field.random_element()\n",
    "        if pol(aux) != 0 and aux not in defining_set:\n",
    "            defining_set = defining_set + [aux]\n",
    "    \n",
    "    return defining_set"
   ]
  },
  {
   "cell_type": "code",
   "execution_count": 3,
   "metadata": {},
   "outputs": [],
   "source": [
    "from sage.coding.linear_code import AbstractLinearCode\n",
    "from sage.coding.encoder import Encoder\n",
    "from sage.coding.decoder import Decoder\n",
    "\n",
    "class Goppa(AbstractLinearCode):\n",
    "    r\"\"\"\n",
    "    Implementation of Goppa codes.\n",
    "    \n",
    "    INPUT:\n",
    "    - ``field`` -- finite field on which `self` is defined.\n",
    "    - ``generating_pol`` -- a monic polynomial with coefficients in\n",
    "    a finite field `\\GF{p^m}` extending from `field`\n",
    "    - ``defining_set`` -- tuple of `n` distinct elements of `\\GF{p^m}`\n",
    "    that are not roots of `generating_pol`\n",
    "    \"\"\"\n",
    "    def __init__(self, defining_set, generating_pol, field):\n",
    "        \"\"\"\n",
    "        Initialize.\n",
    "        \"\"\"\n",
    "        \n",
    "        if not generating_pol.is_monic():\n",
    "            raise ValueError(\"ERROR. Generating polynomial isn't monic\")\n",
    "        \n",
    "        for gamma in defining_set:\n",
    "            if generating_pol(gamma) == 0:\n",
    "                raise ValueError(\"ERROR. Defining elements are roots of generating polynomial\")\n",
    "        \n",
    "        self._field = field\n",
    "        self._field_L = generating_pol.base_ring()\n",
    "\n",
    "        if not self._field.is_field() or not self._field.is_finite():\n",
    "            raise ValueError(\"ERROR. Generating polynomial isn't definied over a finite field\")\n",
    "        \n",
    "        self._length = len(defining_set)\n",
    "        self._generating_pol = generating_pol\n",
    "        self._defining_set = defining_set\n",
    "        \n",
    "        super(Goppa, self).__init__(self._field, self._length, \"GoppaEncoder\", \"GoppaDecoder\")\n",
    "        \n",
    "        if self.get_dimension() == 0:\n",
    "            raise ValueError(\"ERROR. Code dimension is null\")\n",
    "    \n",
    "    def _repr_(self):\n",
    "        \"\"\"\n",
    "        Representation of a Goppa code.\n",
    "        \"\"\"\n",
    "        return \"[{}, {}] Goppa code\".format(self._length, self.get_dimension())\n",
    "    \n",
    "    def get_generating_pol(self):\n",
    "        \"\"\"\n",
    "        Return the generating polynomial of ``self``.\n",
    "        \"\"\" \n",
    "        return self._generating_pol\n",
    "    \n",
    "    def get_defining_set(self):\n",
    "        \"\"\"\n",
    "        Return the defining set of ``self``.\n",
    "        \"\"\" \n",
    "        return self._defining_set\n",
    "    \n",
    "    def get_parity_pol(self):\n",
    "        \"\"\"\n",
    "        Return the parity polynomial of ``self``.\n",
    "        \"\"\"\n",
    "        parity_pol = list()\n",
    "        \n",
    "        for elem in self._defining_set:\n",
    "            parity_pol.append((self._generating_pol.parent().gen() - elem).inverse_mod(self._generating_pol))\n",
    "        \n",
    "        return parity_pol\n",
    "    \n",
    "    def get_parity_check_matrix(self):\n",
    "        \"\"\"\n",
    "        Return a parity check matrix of ``self``.\n",
    "        \"\"\"\n",
    "        V, from_V, to_V = self._field_L.vector_space(self._field, map = True)\n",
    "\n",
    "        parity = self.get_parity_pol()\n",
    "\n",
    "        vector_L = []\n",
    "        for i in range(len(parity)):\n",
    "            vector_L = vector_L + parity[i].list()\n",
    "\n",
    "        vector_F = []\n",
    "        for i in range(len(vector_L)):\n",
    "            vector_F = vector_F + to_V(vector_L[i]).list()\n",
    "\n",
    "        matriz_F = matrix(self._length, vector_F)\n",
    "        matriz_F = matriz_F.T\n",
    "        \n",
    "        return matriz_F\n",
    "    \n",
    "    def get_generator_matrix(self):\n",
    "        \"\"\"\n",
    "        Return a generador matrix of ``self``.\n",
    "        \"\"\"\n",
    "        H = self.get_parity_check_matrix()\n",
    "        G = transpose(H).left_kernel().basis_matrix()\n",
    "        \n",
    "        return G\n",
    "    \n",
    "    def get_dimension(self):\n",
    "        \"\"\"\n",
    "        Return the dimension of the code.\n",
    "        \"\"\"\n",
    "        \n",
    "        return rank(self.get_generator_matrix())\n",
    "    \n",
    "class GoppaEncoder(Encoder):\n",
    "    r\"\"\"\n",
    "    Encoder for Goppa codes\n",
    "    \n",
    "    INPUT:\n",
    "    - ``code`` -- code associated with the encoder\n",
    "    \"\"\"\n",
    "    def __init__(self, code):\n",
    "        \"\"\"\n",
    "        Initialize.\n",
    "        \"\"\"\n",
    "        super(GoppaEncoder, self).__init__(code)\n",
    "        self._generator_matrix = self.code().get_generator_matrix()\n",
    "        \n",
    "    def _repr_(self):\n",
    "        \"\"\"\n",
    "        Representation of a encoder for a Goppa code\n",
    "        \"\"\"\n",
    "        return \"Encoder for {}\".format(self.code())\n",
    "    \n",
    "    def get_generator_matrix(self):\n",
    "        \"\"\"\n",
    "        Return a generador matrix of the code\n",
    "        \"\"\"\n",
    "        return self._generator_matrix\n",
    "    \n",
    "    def encode (self, m):\n",
    "        \"\"\"\n",
    "        Return a codeword\n",
    "        \n",
    "        INPUT:\n",
    "        - ``m`` -- a vector to encode\n",
    "        \"\"\"\n",
    "        return m * self.get_generator_matrix()\n",
    "    \n",
    "Goppa._registered_encoders[\"GoppaEncoder\"] = GoppaEncoder\n",
    "\n",
    "class GoppaDecoder(Decoder):\n",
    "    r\"\"\"\n",
    "    Decoder for Goppa codes\n",
    "    \n",
    "    INPUT:\n",
    "    - ``code`` -- code associated with the decoder\n",
    "    \"\"\"\n",
    "    \n",
    "    def __init__(self, code):\n",
    "        \"\"\"\n",
    "        Initialize\n",
    "        \"\"\"\n",
    "        super(GoppaDecoder, self).__init__(code, code.ambient_space(), \"GoppaDecoder\")\n",
    "                \n",
    "        self._generating_pol = self.code().get_generating_pol()\n",
    "        self._defining_set = self.code().get_defining_set()\n",
    "    \n",
    "    def _repr_(self):\n",
    "        \"\"\"\n",
    "        Representation of a decoder for a Goppa code\n",
    "        \"\"\"\n",
    "        return \"Decoder for {}\".format(self.code())\n",
    "    \n",
    "    def get_syndrome(self, c):\n",
    "        \"\"\"\n",
    "        Return the syndrome polynomial\n",
    "        \n",
    "        INPUT:\n",
    "        - ``c`` -- a element of the input space of ``self``\n",
    "        \"\"\"   \n",
    "        h = self.code().get_parity_pol()\n",
    "        \n",
    "        syndrome = 0\n",
    "        \n",
    "        for i in range(len(h)):\n",
    "            syndrome = syndrome + c[i]*h[i]\n",
    "            \n",
    "        return syndrome\n",
    "    \n",
    "    def get_generating_pol(self):\n",
    "        \"\"\"\n",
    "        Return the generating polynomial\n",
    "        \"\"\"\n",
    "        return self._generating_pol\n",
    "    \n",
    "    def decode_to_code(self, word):\n",
    "        r\"\"\"\n",
    "        Corrects the errors in ``word`` and returns a codeword\n",
    "        \n",
    "        INPUT:\n",
    "        - ``word`` -- a codeword of ``self``\n",
    "        \"\"\"\n",
    "        i = 0\n",
    "\n",
    "        # Step 1\n",
    "        S = self.get_syndrome(word)\n",
    "        \n",
    "        if S == 0:\n",
    "            return word\n",
    "\n",
    "        # Step 2\n",
    "        r_prev = self.get_generating_pol()\n",
    "        t = floor(self.get_generating_pol().degree()/2)\n",
    "        r_i = S\n",
    "        U_prev = 0\n",
    "        U_i = 1\n",
    "        \n",
    "        # Steps 3 and 4\n",
    "        while r_i.degree() >= t or r_prev.degree() < t:\n",
    "            (q, r) = r_prev.quo_rem(r_i)\n",
    "            aux_r_i = r_i\n",
    "            aux_U_i = U_i\n",
    "            r_i = r\n",
    "            U_i = q * U_i + U_prev\n",
    "            r_prev = aux_r_i\n",
    "            U_prev = aux_U_i  \n",
    "            i += 1\n",
    "        \n",
    "        # Step 5\n",
    "        # make sigma monic     \n",
    "        sigma = U_i / U_i.coefficients()[-1]\n",
    "        \n",
    "        eta = (-1)^i * r_i / U_i.coefficients()[-1]\n",
    "        \n",
    "        # roots of sigma are the locations of the errors\n",
    "        roots_loc = []\n",
    "        for root in sigma.roots():\n",
    "            if g(root[0] != 0):\n",
    "                roots_loc = roots_loc + [self._defining_set.index(root[0])]\n",
    "        \n",
    "        error = [0] * len(self._defining_set)\n",
    "        x = self.get_generating_pol().parent().gen()\n",
    "        sigma_diff = sigma.diff(x)\n",
    "        \n",
    "        for i in range(0, len(roots_loc)):\n",
    "            error[roots_loc[i]] = eta.subs(x = sigma.roots()[i][0]) / (sigma_diff.subs(x = sigma.roots()[i][0]))\n",
    "        \n",
    "        x = word - vector(self.code()._field, error)\n",
    "        \n",
    "        return x\n",
    "\n",
    "    def decode_to_message(self, word):\n",
    "        r\"\"\"\n",
    "        Decode ``word`` to the message space.\n",
    "        \n",
    "        INPUT:\n",
    "        - ``word`` -- a codeword of ``self``\n",
    "        \"\"\"\n",
    "        word = self.decode_to_code(word)\n",
    "        message = self.code().get_generator_matrix().solve_left(word)\n",
    "        return message\n",
    "\n",
    "Goppa._registered_decoders[\"GoppaDecoder\"] = GoppaDecoder"
   ]
  },
  {
   "cell_type": "code",
   "execution_count": 4,
   "metadata": {},
   "outputs": [],
   "source": [
    "def get_weight(c):\n",
    "    \"\"\"\n",
    "    Return the weight of ``c``\n",
    "    \n",
    "    INPUT:\n",
    "        - ``c`` -- a vector\n",
    "    \"\"\"\n",
    "    w = 0\n",
    "    \n",
    "    for elem in c:\n",
    "        if elem != 0:\n",
    "            w += 1\n",
    "    \n",
    "    return w"
   ]
  },
  {
   "cell_type": "code",
   "execution_count": 5,
   "metadata": {},
   "outputs": [],
   "source": [
    "class McEliece:\n",
    "    r\"\"\"\n",
    "    Implementation of McEliece cryptosystem.\n",
    "    \n",
    "    INPUT:\n",
    "    - ``n`` -- length\n",
    "    - ``q`` -- Dimension of the finite field `GF(2^q)`\n",
    "    - ``g``-- a monic polynomial with coefficients in\n",
    "    a finite field `\\GF{2^q}`\n",
    "    \"\"\"\n",
    "    def __init__(self, n, q, g):\n",
    "        \"\"\"\n",
    "        Initialize.\n",
    "        \"\"\"\n",
    "        # Goppa code\n",
    "        F = GF(2)\n",
    "        L = GF(2^q)\n",
    "        defining_set = get_defining_set(n, g, L)\n",
    "        C = Goppa(defining_set, g, F)\n",
    "        G = C.get_generator_matrix()\n",
    "        k = G.nrows()\n",
    "        n = G.ncols()\n",
    "    \n",
    "        # random binary nonsingular matrix\n",
    "        S = matrix(F, k, [choice(F.list()) for i in range(k^2)])\n",
    "        \n",
    "        while rank(S) < k:\n",
    "            i = randint(0, k-1)\n",
    "            j = randint(0, k-1)\n",
    "            S[i,j] = choice(F.list())\n",
    "        \n",
    "        # random permutation matrix\n",
    "        columns = list(range(n))\n",
    "        P = matrix(F, n)\n",
    "        \n",
    "        for i in range(n):\n",
    "            l = randint(0, len(columns)-1)\n",
    "            j = columns[l]\n",
    "            P[i,j] = 1\n",
    "            columns.remove(j)\n",
    "        \n",
    "        self._goppa = C\n",
    "        self._G = G\n",
    "        self._t = floor(g.degree()/2)\n",
    "        self._k = k\n",
    "        self._n = n\n",
    "        self._S = S\n",
    "        self._P = P\n",
    "        self._public_key = S * self._G * P\n",
    "        \n",
    "    def __repr__(self):\n",
    "        \"\"\"\n",
    "        Representation of a McEliece cryptosystem.\n",
    "        \"\"\"\n",
    "        return \"McEliece cryptosystem over {}\".format(self._goppa)\n",
    "        \n",
    "    def get_S(self):\n",
    "        \"\"\"\n",
    "        Return the random binary nonsingular matrix that is part of the private key\n",
    "        \"\"\"\n",
    "        return self._S\n",
    "    \n",
    "    def get_G(self):\n",
    "        \"\"\"\n",
    "        Return the generating matrix associated with the Goppa code that is part of the private key\n",
    "        \"\"\"\n",
    "        return self._G\n",
    "    \n",
    "    def get_P(self):\n",
    "        \"\"\"\n",
    "        Return the random permutation matrix that is part of the private key\n",
    "        \"\"\"\n",
    "        return self._P\n",
    "    \n",
    "    def get_public_key(self):\n",
    "        \"\"\"\n",
    "        Return the public key\n",
    "        \"\"\"\n",
    "        return self._public_key\n",
    "\n",
    "    def encrypt(self, m):\n",
    "        \"\"\"\n",
    "        Return a chipertext\n",
    "        \n",
    "        INPUT:\n",
    "        - ``m`` -- a plaintext to encrypt\n",
    "        \"\"\"\n",
    "        # random errors\n",
    "        e = vector([F(0) for i in range(self._n)])\n",
    "        \n",
    "        while get_weight(e) != self._t:\n",
    "            i = randint(0, len(e) - 1)\n",
    "            e[i] = choice(F.list())\n",
    "        \n",
    "        # chipertext\n",
    "        c = m * self._public_key + e\n",
    "        \n",
    "        return c\n",
    "    \n",
    "    def decrypt(self, c):\n",
    "        \"\"\"\n",
    "        Return the plain text associated with the cryptogram ``c``\n",
    "        \n",
    "        INPUT:\n",
    "        - ``c`` -- a chiphertext\n",
    "        \"\"\"\n",
    "        word = c * self._P^(-1)\n",
    "        D = GoppaDecoder(self._goppa)\n",
    "        word = D.decode_to_message(word)\n",
    "        message = word * (self._S)^(-1)\n",
    "        \n",
    "        return message"
   ]
  },
  {
   "cell_type": "markdown",
   "metadata": {},
   "source": [
    "# GGA"
   ]
  },
  {
   "cell_type": "code",
   "execution_count": 6,
   "metadata": {},
   "outputs": [],
   "source": [
    "def fitness_vector(v):\n",
    "    \"\"\"\n",
    "    Return the fitness of the vector ``v``\n",
    "    \n",
    "    INPUT:\n",
    "        - ``v`` -- a binary vector\n",
    "    \"\"\"\n",
    "    f = 0\n",
    "    \n",
    "    for i in v:\n",
    "        if i != 0:\n",
    "            f += 1\n",
    "    \n",
    "    return f"
   ]
  },
  {
   "cell_type": "code",
   "execution_count": 7,
   "metadata": {},
   "outputs": [],
   "source": [
    "def fitness_matrix(M):\n",
    "    \"\"\"\n",
    "    Return the minimum fitness of the rows of ``M``\n",
    "    \n",
    "    INPUT:\n",
    "        - ``M`` -- a binary matrix\n",
    "    \"\"\"\n",
    "    min_f = Infinity\n",
    "    \n",
    "    for row in M:\n",
    "        f = fitness_vector(row)\n",
    "        \n",
    "        if f < min_f:\n",
    "            min_f = f\n",
    "    \n",
    "    return min_f"
   ]
  },
  {
   "cell_type": "code",
   "execution_count": 8,
   "metadata": {},
   "outputs": [],
   "source": [
    "def permutation_matrix(x):\n",
    "    \"\"\"\n",
    "    Return the matrix of permutations associated with ``x``\n",
    "    \n",
    "    INPUT:\n",
    "        - ``x`` -- a permutation\n",
    "    \"\"\"\n",
    "    M = matrix(GF(2), len(x), len(x))\n",
    "    \n",
    "    for j in range(len(x)):\n",
    "        i = x[j] - 1\n",
    "        M[i,j] = 1\n",
    "    \n",
    "    return M"
   ]
  },
  {
   "cell_type": "code",
   "execution_count": 9,
   "metadata": {},
   "outputs": [],
   "source": [
    "def fitness_permutation(M, x):\n",
    "    \"\"\"\n",
    "    Return the the minimum fitness of the rows of the \n",
    "    reduced row echelon form of the matrix ``M`` \n",
    "    permuted by ``x``\n",
    "    \n",
    "    INPUT:\n",
    "        - ``M`` -- a binary matrix\n",
    "        - ``x`` -- a permutation applied to ``M``\n",
    "    \"\"\"\n",
    "    P = permutation_matrix(x)\n",
    "    \n",
    "    return fitness_matrix((M * P).rref())"
   ]
  },
  {
   "cell_type": "code",
   "execution_count": 10,
   "metadata": {},
   "outputs": [],
   "source": [
    "def random_sol(n):\n",
    "    \"\"\"\n",
    "    Return a random vector of length ``n``\n",
    "    \n",
    "    INPUT:\n",
    "        - ``n`` -- length\n",
    "    \"\"\"\n",
    "    sol = []\n",
    "    \n",
    "    while len(sol) != n:\n",
    "        r = randint(1, n)\n",
    "        \n",
    "        if r not in sol:\n",
    "            sol = sol + [r]\n",
    "            \n",
    "    return sol"
   ]
  },
  {
   "cell_type": "code",
   "execution_count": 11,
   "metadata": {},
   "outputs": [],
   "source": [
    "def crossover(p1, p2):\n",
    "    \"\"\"\n",
    "    Return the descendant of the cross of ``p1`` and ``p2``\n",
    "    \n",
    "    INPUT:\n",
    "        - ``p1`` -- a vector of length ``n``\n",
    "        - ``p2`` -- a vector of length ``n``\n",
    "    \"\"\"\n",
    "    return Permutation(p1) * Permutation(p2), Permutation(p2) * Permutation(p1)"
   ]
  },
  {
   "cell_type": "code",
   "execution_count": 12,
   "metadata": {},
   "outputs": [],
   "source": [
    "def mutation(p):\n",
    "    \"\"\"\n",
    "    Return a mutated vector\n",
    "    \n",
    "    INPUT:\n",
    "        - ``p`` -- a vector\n",
    "    \"\"\"\n",
    "    n = len(p)\n",
    "    k = randint(1, n - 1)\n",
    "    k1 = randint(0, k - 1)\n",
    "    k2 = randint(k, n - 1)\n",
    "    \n",
    "    p[k1], p[k2] = p[k2], p[k1]\n",
    "\n",
    "    return p"
   ]
  },
  {
   "cell_type": "code",
   "execution_count": 13,
   "metadata": {},
   "outputs": [],
   "source": [
    "def GGA(G, N, pc, max_reinit, min_fitness):\n",
    "    \"\"\"\n",
    "    Return a permutation of the ``G`` whose reduced row echelon form\n",
    "    has a row with weight ``min_fitness``\n",
    "    \n",
    "    INPUT:\n",
    "        - ``G`` -- a matrix made up of the public key of a McEliece \n",
    "          cryptosystem and a row with the encrypted message\n",
    "        - ``N`` -- population size\n",
    "        - ``pc`` -- crossover probability\n",
    "        - ``max_reinit`` -- maximum number of evaluations of the \n",
    "          solutions that do not produce improvement in the fitness \n",
    "          of the best solution found.\n",
    "        - ``min_fitness`` -- minimun fitness\n",
    "    \"\"\"\n",
    "    t = 0\n",
    "    max_t = 500000\n",
    "    Pt = []\n",
    "    reinit = 0\n",
    "    n = G.ncols()\n",
    "    \n",
    "    \n",
    "    # Initialize the Population P(t)\n",
    "    for i in range(0, N):\n",
    "        sol = random_sol(n)\n",
    "        Pt = Pt + [sol]\n",
    "    \n",
    "    Pt = Matrix(Pt)\n",
    "    \n",
    "    # Evaluate\n",
    "    fitness_Pt = []\n",
    "    for Pti in Pt:\n",
    "        fitness_Pt = fitness_Pt + [fitness_permutation(G, Pti)]\n",
    "        \n",
    "    while(t < max_t and min(fitness_Pt) > min_fitness):\n",
    "        Pt_sig = []\n",
    "        fitness_Pt_sig = []\n",
    "        \n",
    "        # Binary tournament selection\n",
    "        parents = []\n",
    "        for i in range(0, N):            \n",
    "            ind1 = Pt[randint(0, N-1)]\n",
    "            ind2 = Pt[randint(0, N-1)]\n",
    "            \n",
    "            if (fitness_permutation(G, ind1) >= fitness_permutation(G, ind2)):\n",
    "                parents = parents + [ind2]\n",
    "            else:\n",
    "                parents = parents + [ind1]\n",
    "        \n",
    "        parents = Matrix(parents)\n",
    "        \n",
    "        # Generation\n",
    "        n_crossovers = pc * N/2 # number of crossovers\n",
    "\n",
    "        for i in range(0, N/2):            \n",
    "            if n_crossovers > 0:\n",
    "                c1, c2 = crossover(parents[2*i], parents[2*i + 1])\n",
    "                n_crossovers -= 1\n",
    "            else:\n",
    "                c1 = mutation(copy(parents[2*i]))\n",
    "                c2 = mutation(copy(parents[2*i + 1]))\n",
    "            \n",
    "            # Update\n",
    "            Pt_sig = Pt_sig + [c1]\n",
    "            Pt_sig = Pt_sig + [c2]\n",
    "        \n",
    "        Pt_sig = Matrix(Pt_sig)\n",
    "        \n",
    "        # Evaluate\n",
    "        for Pt_sigi in Pt_sig:\n",
    "            fitness_Pt_sig = fitness_Pt_sig + [fitness_permutation(G, Pt_sigi)]\n",
    "        \n",
    "        # No improvement\n",
    "        if min(fitness_Pt_sig) > min(fitness_Pt):\n",
    "            worst = fitness_Pt_sig.index(max(fitness_Pt_sig))\n",
    "            best = fitness_Pt.index(min(fitness_Pt))\n",
    "            Pt_sig[worst] = Pt[best]\n",
    "            fitness_Pt_sig[worst] = fitness_Pt[best]\n",
    "            reinit += 1\n",
    "        else:\n",
    "            reinit = 0\n",
    "        \n",
    "        # Restart\n",
    "        if reinit >= max_reinit:\n",
    "            Pt_sig = []\n",
    "            for i in range(0, N-1):\n",
    "                Pt_sig = Pt_sig + [random_sol(n)]\n",
    "            \n",
    "            best = fitness_Pt.index(min(fitness_Pt))\n",
    "            Pt_sig = Pt_sig + [Pt[best]]\n",
    "            Pt_sig = Matrix(Pt_sig)\n",
    "            \n",
    "            # Evaluate\n",
    "            fitness_Pt_sig = []\n",
    "            for Pt_sigi in Pt_sig:\n",
    "                fitness_Pt_sig = fitness_Pt_sig + [fitness_permutation(G, Pt_sigi)]\n",
    "        \n",
    "        fitness_Pt = fitness_Pt_sig\n",
    "        Pt = Pt_sig\n",
    "        t += 1\n",
    "    \n",
    "    best = fitness_Pt.index(min(fitness_Pt))\n",
    "    \n",
    "    return Pt[best], fitness_permutation(G, Pt[best])"
   ]
  },
  {
   "cell_type": "markdown",
   "metadata": {},
   "source": [
    "# CHC"
   ]
  },
  {
   "cell_type": "code",
   "execution_count": 14,
   "metadata": {},
   "outputs": [],
   "source": [
    "def distance(x, y):\n",
    "    \"\"\"\n",
    "    Return de Hamming distance between ``x`` and ``y``\n",
    "    \n",
    "    INPUT:\n",
    "        - ``x`` -- a vector of length ``n``\n",
    "        - ``y`` -- a vector of length ``n``\n",
    "    \"\"\"\n",
    "    assert(len(x) == len(y))\n",
    "    \n",
    "    n = len(x)\n",
    "    count = 0\n",
    "    for i in range(0, n):\n",
    "        if x[i] != y[i]:\n",
    "            count += 1\n",
    "            \n",
    "    return count"
   ]
  },
  {
   "cell_type": "code",
   "execution_count": 15,
   "metadata": {},
   "outputs": [],
   "source": [
    "def actualizar(P, tau):\n",
    "    \"\"\"\n",
    "    Update the crossover decrement\n",
    "    \n",
    "    INPUT:\n",
    "        - ``P`` -- population\n",
    "        - ``tau`` -- crossover rate\n",
    "    \"\"\"\n",
    "    d = 0\n",
    "    max_dist = 0\n",
    "    count = 0\n",
    "    \n",
    "    for i in range(0, P.nrows()):\n",
    "        for j in range(i, P.nrows()):\n",
    "            dist = distance(P[i], P[j])\n",
    "            \n",
    "            if dist > max_dist:\n",
    "                max_dist = dist\n",
    "            \n",
    "            d += dist\n",
    "            count += 1\n",
    "    \n",
    "    d = d * 1.0/count\n",
    "    dec = tau * max_dist\n",
    "    \n",
    "    return d, dec"
   ]
  },
  {
   "cell_type": "code",
   "execution_count": 16,
   "metadata": {},
   "outputs": [],
   "source": [
    "def CHC(G, N, tau, min_fitness):\n",
    "    \"\"\"\n",
    "    Return a permutation of the ``G`` whose reduced row echelon form\n",
    "    has a row with weight ``min_fitness``\n",
    "    \n",
    "    INPUT:\n",
    "        - ``G`` -- a matrix made up of the public key of a McEliece \n",
    "          cryptosystem and a row with the encrypted message\n",
    "        - ``N`` -- population size\n",
    "        - ``tau`` -- crossover rating\n",
    "        - ``min_fitness`` -- minimun fitness\n",
    "    \"\"\"\n",
    "    t = 0\n",
    "    max_t = 10000\n",
    "    Pt = []\n",
    "    reinit = 0\n",
    "    n = G.ncols()\n",
    "    \n",
    "    # Initialize the Population P(t)\n",
    "    for i in range(0, N):\n",
    "        sol = random_sol(n)    \n",
    "        Pt = Pt + [sol]\n",
    "    \n",
    "    Pt = Matrix(Pt)\n",
    "    \n",
    "    # Evaluate\n",
    "    fitness_Pt = []   \n",
    "    for Pti in Pt:\n",
    "        fitness_Pt = fitness_Pt + [fitness_permutation(G, Pti)]\n",
    "    \n",
    "    # Distance\n",
    "    d, dec = actualizar(Pt, tau)\n",
    "        \n",
    "    while(t < max_t and min(fitness_Pt) > min_fitness):\n",
    "        Ct = []\n",
    "        Pt_sig = []\n",
    "        fitness_Ct = []\n",
    "        fitness_Pt_sig = []\n",
    "        improvement = False\n",
    "        \n",
    "        # Parent selection\n",
    "        parents = []\n",
    "        for i in range(0, N):            \n",
    "            p = randint(0, N-1)\n",
    "            parents = parents + [Pt[p]]\n",
    "        \n",
    "        parents = Matrix(parents)\n",
    "        \n",
    "        # Generation\n",
    "        for i in range(0, N/2):            \n",
    "            if distance(parents[2*i], parents[2*i + 1]) < d:\n",
    "                c1, c2 = crossover(parents[2*i], parents[2*i + 1])\n",
    "                Ct = Ct + [c1]\n",
    "                Ct = Ct + [c2]\n",
    "        \n",
    "        Ct = Matrix(Ct)\n",
    "        \n",
    "        # Evaluate\n",
    "        for Cti in Ct:\n",
    "            fitness_Ct = fitness_Ct + [fitness_permutation(G, Cti)]\n",
    "        \n",
    "        if Ct.nrows() == 0:\n",
    "            Pt_sig = Pt\n",
    "            fitness_Pt_sig = fitness_Pt\n",
    "        else:\n",
    "            fitness_Pt_aux = fitness_Pt\n",
    "            fitness_Ct_aux = fitness_Ct\n",
    "            \n",
    "            for i in range(0, N):\n",
    "                best_Pt = min(fitness_Pt_aux)\n",
    "                best_Ct = min(fitness_Ct_aux)\n",
    "\n",
    "                if best_Pt < best_Ct:\n",
    "                    index = fitness_Pt_aux.index(best_Pt)\n",
    "                    Pt_sig = Pt_sig + [Pt[index]]\n",
    "                    fitness_Pt_sig = fitness_Pt_sig + [best_Pt]\n",
    "                    fitness_Pt_aux[index] = Infinity\n",
    "                else:\n",
    "                    index = fitness_Ct_aux.index(best_Ct)\n",
    "                    Pt_sig = Pt_sig + [Ct[index]]\n",
    "                    fitness_Pt_sig = fitness_Pt_sig + [best_Ct]\n",
    "                    fitness_Ct_aux[index] = Infinity\n",
    "                    improvement = True\n",
    "        \n",
    "            Pt_sig = Matrix(Pt_sig)\n",
    "        \n",
    "        # No improvement\n",
    "        if not improvement:\n",
    "            d = d - dec\n",
    "            \n",
    "            if d <= 0:\n",
    "                Pt_sig = []\n",
    "                for i in range(0, N-1):\n",
    "                    Pt_sig = Pt_sig + [random_sol(n)]\n",
    "\n",
    "                best = fitness_Pt.index(min(fitness_Pt))\n",
    "                Pt_sig = Pt_sig + [Pt[best]]\n",
    "                Pt_sig = Matrix(Pt_sig)\n",
    "                \n",
    "                # Distance\n",
    "                d, dec = actualizar(Pt, tau)\n",
    "        \n",
    "        fitness_Pt = fitness_Pt_sig\n",
    "        Pt = Pt_sig\n",
    "        t += 1\n",
    "    \n",
    "    best = fitness_Pt.index(min(fitness_Pt))\n",
    "    \n",
    "    return Pt[best], fitness_permutation(G, Pt[best])"
   ]
  },
  {
   "cell_type": "markdown",
   "metadata": {},
   "source": [
    "# EJEMPLOS"
   ]
  },
  {
   "cell_type": "markdown",
   "metadata": {},
   "source": [
    "### Ejecutar un bloque de los siguientes para elegir el tamaño $n$."
   ]
  },
  {
   "cell_type": "markdown",
   "metadata": {},
   "source": [
    "### n = 64"
   ]
  },
  {
   "cell_type": "code",
   "execution_count": 17,
   "metadata": {
    "scrolled": true
   },
   "outputs": [],
   "source": [
    "q = 8\n",
    "n = 64\n",
    "F = GF(2)\n",
    "L = GF(2^q)\n",
    "a = L.gen()\n",
    "R.<x> = L[]\n",
    "g = x^4 + (a + 1)*x^3 + (a^6 + a^2 + a)*x^2 + (a^6 + a)*x + a^2 + a + 1\n",
    "t = floor(g.degree()/2)"
   ]
  },
  {
   "cell_type": "markdown",
   "metadata": {},
   "source": [
    "### n = 128"
   ]
  },
  {
   "cell_type": "code",
   "execution_count": 18,
   "metadata": {
    "scrolled": true
   },
   "outputs": [],
   "source": [
    "q = 8\n",
    "n = 128\n",
    "F = GF(2)\n",
    "L = GF(2^q)\n",
    "a = L.gen()\n",
    "R.<x> = L[]\n",
    "g = x^8 + a*x^7 + (a^2 + a + 1)*x^4 + x + 1\n",
    "t = floor(g.degree()/2)"
   ]
  },
  {
   "cell_type": "markdown",
   "metadata": {},
   "source": [
    "### n = 256"
   ]
  },
  {
   "cell_type": "code",
   "execution_count": 19,
   "metadata": {},
   "outputs": [],
   "source": [
    "q = 9\n",
    "n = 256\n",
    "F = GF(2)\n",
    "L = GF(2^q)\n",
    "a = L.gen()\n",
    "R.<x> = L[]\n",
    "g = x^14 + (a^8 + a^5 + a^3)*x^10 + x^2 + a + 1\n",
    "t = floor(g.degree()/2)"
   ]
  },
  {
   "cell_type": "markdown",
   "metadata": {},
   "source": [
    "### n = 512"
   ]
  },
  {
   "cell_type": "code",
   "execution_count": 20,
   "metadata": {},
   "outputs": [],
   "source": [
    "q = 10\n",
    "n = 512\n",
    "F = GF(2)\n",
    "L = GF(2^q)\n",
    "a = L.gen()\n",
    "R.<x> = L[]\n",
    "g = x^25 + a*x^15 + (a^2 + 1)*a*x^10 + a\n",
    "t = floor(g.degree()/2)"
   ]
  },
  {
   "cell_type": "markdown",
   "metadata": {},
   "source": [
    "### McEliece"
   ]
  },
  {
   "cell_type": "code",
   "execution_count": 21,
   "metadata": {},
   "outputs": [
    {
     "data": {
      "text/plain": [
       "McEliece cryptosystem over [512, 262] Goppa code"
      ]
     },
     "execution_count": 21,
     "metadata": {},
     "output_type": "execute_result"
    }
   ],
   "source": [
    "ME = McEliece(n, q, g)\n",
    "ME"
   ]
  },
  {
   "cell_type": "code",
   "execution_count": 22,
   "metadata": {},
   "outputs": [
    {
     "name": "stdout",
     "output_type": "stream",
     "text": [
      "\n",
      "Message to encrypt:\n",
      "(0, 0, 1, 1, 1, 1, 1, 1, 0, 0, 0, 1, 1, 1, 1, 0, 0, 1, 0, 0, 0, 1, 0, 1, 0, 1, 1, 1, 0, 1, 0, 1, 0, 1, 0, 1, 1, 0, 1, 1, 1, 0, 0, 0, 1, 1, 1, 1, 1, 1, 1, 0, 1, 0, 1, 0, 1, 0, 1, 1, 1, 0, 1, 1, 0, 0, 0, 0, 0, 0, 1, 1, 0, 0, 0, 0, 0, 0, 0, 1, 0, 0, 0, 0, 0, 1, 1, 0, 0, 1, 1, 1, 0, 0, 0, 0, 1, 1, 1, 0, 0, 0, 1, 1, 1, 1, 0, 1, 0, 0, 0, 0, 0, 0, 1, 0, 0, 0, 0, 1, 0, 0, 1, 1, 1, 0, 1, 0, 1, 0, 0, 1, 1, 1, 1, 0, 0, 1, 0, 1, 1, 0, 1, 1, 1, 1, 1, 1, 0, 1, 1, 1, 0, 0, 0, 0, 0, 1, 1, 1, 0, 1, 1, 1, 1, 0, 1, 0, 0, 0, 0, 0, 0, 0, 0, 1, 1, 0, 1, 1, 0, 1, 0, 1, 0, 1, 1, 0, 1, 0, 1, 0, 1, 0, 0, 0, 1, 0, 0, 1, 1, 1, 0, 1, 1, 1, 1, 0, 1, 1, 1, 0, 1, 1, 1, 1, 0, 1, 0, 1, 1, 0, 1, 1, 0, 1, 0, 1, 0, 0, 1, 1, 1, 0, 1, 1, 1, 0, 0, 1, 0, 1, 1, 0, 1, 0, 1, 1, 1, 0, 0, 1, 0, 1, 1, 0, 0, 0, 1, 1, 0, 1)\n",
      "\n",
      "Encrypted message:\n",
      "(0, 0, 0, 1, 1, 1, 0, 0, 0, 1, 1, 1, 1, 0, 0, 0, 1, 0, 0, 1, 0, 1, 0, 0, 0, 1, 1, 1, 1, 0, 0, 0, 1, 0, 0, 0, 0, 0, 1, 0, 1, 0, 0, 0, 1, 0, 0, 0, 0, 1, 1, 1, 0, 1, 0, 0, 1, 0, 1, 1, 0, 0, 1, 0, 1, 1, 0, 1, 0, 1, 1, 0, 1, 0, 0, 0, 1, 0, 1, 0, 1, 0, 0, 0, 1, 0, 1, 0, 1, 0, 1, 0, 0, 0, 1, 0, 0, 1, 0, 1, 0, 0, 0, 1, 0, 0, 0, 0, 0, 0, 1, 0, 0, 0, 0, 0, 1, 0, 1, 0, 0, 0, 0, 0, 1, 0, 0, 1, 1, 0, 0, 0, 1, 0, 1, 1, 0, 1, 0, 0, 1, 0, 1, 1, 0, 0, 0, 1, 1, 1, 0, 0, 0, 1, 0, 1, 1, 1, 1, 1, 0, 0, 1, 0, 0, 0, 1, 0, 1, 0, 0, 0, 0, 1, 0, 1, 0, 0, 0, 0, 1, 0, 1, 0, 0, 0, 1, 0, 1, 1, 0, 0, 1, 1, 1, 0, 0, 0, 0, 0, 1, 1, 1, 0, 0, 0, 0, 1, 1, 1, 1, 1, 1, 1, 1, 0, 0, 0, 0, 0, 0, 0, 1, 1, 0, 1, 1, 0, 0, 0, 1, 1, 0, 1, 0, 0, 0, 0, 1, 1, 0, 0, 0, 1, 1, 0, 0, 0, 1, 1, 1, 1, 0, 0, 0, 1, 1, 1, 0, 0, 1, 0, 1, 0, 1, 0, 0, 0, 1, 0, 1, 0, 1, 1, 1, 0, 0, 0, 1, 0, 1, 0, 1, 1, 0, 1, 1, 1, 0, 1, 1, 0, 1, 0, 0, 0, 1, 1, 1, 0, 1, 1, 1, 0, 1, 1, 1, 1, 0, 0, 1, 1, 1, 1, 0, 0, 1, 0, 0, 0, 0, 0, 0, 0, 0, 0, 1, 1, 1, 1, 1, 1, 0, 0, 1, 0, 1, 0, 1, 0, 1, 0, 1, 0, 0, 1, 1, 0, 0, 0, 0, 0, 0, 1, 1, 1, 1, 0, 0, 1, 1, 0, 1, 0, 0, 1, 0, 1, 1, 0, 1, 1, 0, 0, 1, 0, 0, 1, 0, 1, 1, 0, 0, 1, 0, 1, 0, 0, 0, 1, 0, 0, 1, 0, 0, 0, 1, 0, 1, 0, 1, 0, 1, 1, 1, 0, 1, 1, 1, 1, 0, 0, 1, 0, 1, 1, 1, 1, 1, 0, 0, 0, 0, 0, 1, 1, 1, 0, 1, 1, 1, 0, 1, 1, 1, 1, 0, 1, 1, 0, 1, 1, 0, 0, 0, 1, 1, 1, 1, 1, 1, 1, 1, 1, 0, 1, 0, 1, 1, 1, 0, 0, 0, 0, 0, 0, 0, 0, 0, 0, 0, 0, 0, 0, 1, 0, 1, 0, 1, 0, 0, 1, 1, 0, 1, 1, 0, 0, 0, 1, 1, 1, 1, 1, 0, 0, 0, 0, 1, 1, 1, 1, 0, 1, 1, 0, 0, 0, 0, 1, 0, 0)\n"
     ]
    }
   ],
   "source": [
    "PK = ME.get_public_key()\n",
    "message = []\n",
    "while len(message) != PK.nrows():\n",
    "    message = message + [choice(F.list())]\n",
    "\n",
    "message = vector(F, message)\n",
    "\n",
    "print(\"\\nMessage to encrypt:\")\n",
    "print(message)\n",
    "\n",
    "encrypted_message = ME.encrypt(message)\n",
    "\n",
    "print(\"\\nEncrypted message:\")\n",
    "print(encrypted_message)"
   ]
  },
  {
   "cell_type": "code",
   "execution_count": 23,
   "metadata": {},
   "outputs": [],
   "source": [
    "G = PK.stack(encrypted_message)"
   ]
  },
  {
   "cell_type": "markdown",
   "metadata": {},
   "source": [
    "### GGA"
   ]
  },
  {
   "cell_type": "code",
   "execution_count": 24,
   "metadata": {},
   "outputs": [
    {
     "name": "stdout",
     "output_type": "stream",
     "text": [
      "Mensaje obtenido:\n",
      "(0, 0, 1, 1, 1, 1, 1, 1, 0, 0, 0, 1, 1, 1, 1, 0, 0, 1, 0, 0, 0, 1, 0, 1, 0, 1, 1, 1, 0, 1, 0, 1, 0, 1, 0, 1, 1, 0, 1, 1, 1, 0, 0, 0, 1, 1, 1, 1, 1, 1, 1, 0, 1, 0, 1, 0, 1, 0, 1, 1, 1, 0, 1, 1, 0, 0, 0, 0, 0, 0, 1, 1, 0, 0, 0, 0, 0, 0, 0, 1, 0, 0, 0, 0, 0, 1, 1, 0, 0, 1, 1, 1, 0, 0, 0, 0, 1, 1, 1, 0, 0, 0, 1, 1, 1, 1, 0, 1, 0, 0, 0, 0, 0, 0, 1, 0, 0, 0, 0, 1, 0, 0, 1, 1, 1, 0, 1, 0, 1, 0, 0, 1, 1, 1, 1, 0, 0, 1, 0, 1, 1, 0, 1, 1, 1, 1, 1, 1, 0, 1, 1, 1, 0, 0, 0, 0, 0, 1, 1, 1, 0, 1, 1, 1, 1, 0, 1, 0, 0, 0, 0, 0, 0, 0, 0, 1, 1, 0, 1, 1, 0, 1, 0, 1, 0, 1, 1, 0, 1, 0, 1, 0, 1, 0, 0, 0, 1, 0, 0, 1, 1, 1, 0, 1, 1, 1, 1, 0, 1, 1, 1, 0, 1, 1, 1, 1, 0, 1, 0, 1, 1, 0, 1, 1, 0, 1, 0, 1, 0, 0, 1, 1, 1, 0, 1, 1, 1, 0, 0, 1, 0, 1, 1, 0, 1, 0, 1, 1, 1, 0, 0, 1, 0, 1, 1, 0, 0, 0, 1, 1, 0, 1)\n",
      "\n",
      "Mensaje original:\n",
      "(0, 0, 1, 1, 1, 1, 1, 1, 0, 0, 0, 1, 1, 1, 1, 0, 0, 1, 0, 0, 0, 1, 0, 1, 0, 1, 1, 1, 0, 1, 0, 1, 0, 1, 0, 1, 1, 0, 1, 1, 1, 0, 0, 0, 1, 1, 1, 1, 1, 1, 1, 0, 1, 0, 1, 0, 1, 0, 1, 1, 1, 0, 1, 1, 0, 0, 0, 0, 0, 0, 1, 1, 0, 0, 0, 0, 0, 0, 0, 1, 0, 0, 0, 0, 0, 1, 1, 0, 0, 1, 1, 1, 0, 0, 0, 0, 1, 1, 1, 0, 0, 0, 1, 1, 1, 1, 0, 1, 0, 0, 0, 0, 0, 0, 1, 0, 0, 0, 0, 1, 0, 0, 1, 1, 1, 0, 1, 0, 1, 0, 0, 1, 1, 1, 1, 0, 0, 1, 0, 1, 1, 0, 1, 1, 1, 1, 1, 1, 0, 1, 1, 1, 0, 0, 0, 0, 0, 1, 1, 1, 0, 1, 1, 1, 1, 0, 1, 0, 0, 0, 0, 0, 0, 0, 0, 1, 1, 0, 1, 1, 0, 1, 0, 1, 0, 1, 1, 0, 1, 0, 1, 0, 1, 0, 0, 0, 1, 0, 0, 1, 1, 1, 0, 1, 1, 1, 1, 0, 1, 1, 1, 0, 1, 1, 1, 1, 0, 1, 0, 1, 1, 0, 1, 1, 0, 1, 0, 1, 0, 0, 1, 1, 1, 0, 1, 1, 1, 0, 0, 1, 0, 1, 1, 0, 1, 0, 1, 1, 1, 0, 0, 1, 0, 1, 1, 0, 0, 0, 1, 1, 0, 1)\n",
      "\n",
      "Son iguales:\n",
      "True\n"
     ]
    }
   ],
   "source": [
    "p, f = GGA(G, 300, 0.7, 100000, t)\n",
    "P = permutation_matrix(p)\n",
    "M = (G*P).rref()\n",
    "\n",
    "# row with min fitness\n",
    "for row in M:\n",
    "    if fitness_vector(row) == f:\n",
    "        v = vector(GF(2), row)\n",
    "        break\n",
    "\n",
    "\n",
    "e = v*P^(-1) # error\n",
    "z = encrypted_message - e # y - e\n",
    "m = PK.solve_left(z) # z = mPK\n",
    "\n",
    "print(\"Mensaje obtenido:\")\n",
    "print(m)\n",
    "print(\"\\nMensaje original:\")\n",
    "print(message)\n",
    "print(\"\\nSon iguales:\")\n",
    "print(message == m)"
   ]
  },
  {
   "cell_type": "markdown",
   "metadata": {},
   "source": [
    "### CHC"
   ]
  },
  {
   "cell_type": "code",
   "execution_count": 25,
   "metadata": {},
   "outputs": [
    {
     "name": "stdout",
     "output_type": "stream",
     "text": [
      "Mensaje obtenido:\n",
      "(0, 0, 1, 1, 1, 1, 1, 1, 0, 0, 0, 1, 1, 1, 1, 0, 0, 1, 0, 0, 0, 1, 0, 1, 0, 1, 1, 1, 0, 1, 0, 1, 0, 1, 0, 1, 1, 0, 1, 1, 1, 0, 0, 0, 1, 1, 1, 1, 1, 1, 1, 0, 1, 0, 1, 0, 1, 0, 1, 1, 1, 0, 1, 1, 0, 0, 0, 0, 0, 0, 1, 1, 0, 0, 0, 0, 0, 0, 0, 1, 0, 0, 0, 0, 0, 1, 1, 0, 0, 1, 1, 1, 0, 0, 0, 0, 1, 1, 1, 0, 0, 0, 1, 1, 1, 1, 0, 1, 0, 0, 0, 0, 0, 0, 1, 0, 0, 0, 0, 1, 0, 0, 1, 1, 1, 0, 1, 0, 1, 0, 0, 1, 1, 1, 1, 0, 0, 1, 0, 1, 1, 0, 1, 1, 1, 1, 1, 1, 0, 1, 1, 1, 0, 0, 0, 0, 0, 1, 1, 1, 0, 1, 1, 1, 1, 0, 1, 0, 0, 0, 0, 0, 0, 0, 0, 1, 1, 0, 1, 1, 0, 1, 0, 1, 0, 1, 1, 0, 1, 0, 1, 0, 1, 0, 0, 0, 1, 0, 0, 1, 1, 1, 0, 1, 1, 1, 1, 0, 1, 1, 1, 0, 1, 1, 1, 1, 0, 1, 0, 1, 1, 0, 1, 1, 0, 1, 0, 1, 0, 0, 1, 1, 1, 0, 1, 1, 1, 0, 0, 1, 0, 1, 1, 0, 1, 0, 1, 1, 1, 0, 0, 1, 0, 1, 1, 0, 0, 0, 1, 1, 0, 1)\n",
      "\n",
      "Mensaje original:\n",
      "(0, 0, 1, 1, 1, 1, 1, 1, 0, 0, 0, 1, 1, 1, 1, 0, 0, 1, 0, 0, 0, 1, 0, 1, 0, 1, 1, 1, 0, 1, 0, 1, 0, 1, 0, 1, 1, 0, 1, 1, 1, 0, 0, 0, 1, 1, 1, 1, 1, 1, 1, 0, 1, 0, 1, 0, 1, 0, 1, 1, 1, 0, 1, 1, 0, 0, 0, 0, 0, 0, 1, 1, 0, 0, 0, 0, 0, 0, 0, 1, 0, 0, 0, 0, 0, 1, 1, 0, 0, 1, 1, 1, 0, 0, 0, 0, 1, 1, 1, 0, 0, 0, 1, 1, 1, 1, 0, 1, 0, 0, 0, 0, 0, 0, 1, 0, 0, 0, 0, 1, 0, 0, 1, 1, 1, 0, 1, 0, 1, 0, 0, 1, 1, 1, 1, 0, 0, 1, 0, 1, 1, 0, 1, 1, 1, 1, 1, 1, 0, 1, 1, 1, 0, 0, 0, 0, 0, 1, 1, 1, 0, 1, 1, 1, 1, 0, 1, 0, 0, 0, 0, 0, 0, 0, 0, 1, 1, 0, 1, 1, 0, 1, 0, 1, 0, 1, 1, 0, 1, 0, 1, 0, 1, 0, 0, 0, 1, 0, 0, 1, 1, 1, 0, 1, 1, 1, 1, 0, 1, 1, 1, 0, 1, 1, 1, 1, 0, 1, 0, 1, 1, 0, 1, 1, 0, 1, 0, 1, 0, 0, 1, 1, 1, 0, 1, 1, 1, 0, 0, 1, 0, 1, 1, 0, 1, 0, 1, 1, 1, 0, 0, 1, 0, 1, 1, 0, 0, 0, 1, 1, 0, 1)\n",
      "\n",
      "Son iguales:\n",
      "True\n"
     ]
    }
   ],
   "source": [
    "p, f = CHC(G, 350, 0.8, t)\n",
    "P = permutation_matrix(p)\n",
    "M = (G*P).rref()\n",
    "\n",
    "# row with min fitness\n",
    "for row in M:\n",
    "    if fitness_vector(row) == f:\n",
    "        v = vector(GF(2), row)\n",
    "        break\n",
    "\n",
    "\n",
    "e = v*P^(-1) # error\n",
    "z = encrypted_message - e # y - e\n",
    "m = PK.solve_left(z) # z = mPK\n",
    "\n",
    "print(\"Mensaje obtenido:\")\n",
    "print(m)\n",
    "print(\"\\nMensaje original:\")\n",
    "print(message)\n",
    "print(\"\\nSon iguales:\")\n",
    "print(message == m)"
   ]
  },
  {
   "cell_type": "markdown",
   "metadata": {},
   "source": [
    "# Temporal"
   ]
  },
  {
   "cell_type": "code",
   "execution_count": 26,
   "metadata": {},
   "outputs": [
    {
     "data": {
      "text/plain": [
       "((5, 8, 9, 2, 6, 3, 12, 10, 1, 13, 7, 14, 4, 11), 1)"
      ]
     },
     "execution_count": 26,
     "metadata": {},
     "output_type": "execute_result"
    }
   ],
   "source": [
    "q = 4\n",
    "n = 14\n",
    "t = 2\n",
    "F = GF(2)\n",
    "L = GF(2^q)\n",
    "a = L.gen()\n",
    "R.<x> = L[]\n",
    "g = x^2 + (a^3 + a^2 + a)*x + a^2 + a + 1\n",
    "min_fitness = floor(t/2)\n",
    "ME = McEliece(n, q, g)\n",
    "G = ME.get_public_key()\n",
    "message = vector(F, (0, 0, 1, 1, 1, 0))\n",
    "encrypted_message = ME.encrypt(message)\n",
    "G = G.stack(encrypted_message)\n",
    "CHC(G, 400, 0.8, min_fitness)"
   ]
  },
  {
   "cell_type": "code",
   "execution_count": 27,
   "metadata": {},
   "outputs": [
    {
     "data": {
      "text/plain": [
       "3"
      ]
     },
     "execution_count": 27,
     "metadata": {},
     "output_type": "execute_result"
    }
   ],
   "source": [
    "fitness_vector([0, 1, 1, 0, 0, 0, 1])"
   ]
  },
  {
   "cell_type": "code",
   "execution_count": 28,
   "metadata": {},
   "outputs": [
    {
     "data": {
      "text/plain": [
       "1"
      ]
     },
     "execution_count": 28,
     "metadata": {},
     "output_type": "execute_result"
    }
   ],
   "source": [
    "fitness_matrix(matrix(GF(2), [[0,1], [1, 1]]))"
   ]
  },
  {
   "cell_type": "code",
   "execution_count": 29,
   "metadata": {},
   "outputs": [
    {
     "data": {
      "text/plain": [
       "1"
      ]
     },
     "execution_count": 29,
     "metadata": {},
     "output_type": "execute_result"
    }
   ],
   "source": [
    "M = matrix(GF(2), [[1, 0, 0], [0, 1, 1], [1, 0, 1]]);\n",
    "x = Permutation([3,2,1])\n",
    "permutation_matrix(x)\n",
    "fitness_permutation(M, x)"
   ]
  },
  {
   "cell_type": "code",
   "execution_count": 30,
   "metadata": {},
   "outputs": [
    {
     "data": {
      "text/plain": [
       "[3, 4, 5, 2, 1]"
      ]
     },
     "execution_count": 30,
     "metadata": {},
     "output_type": "execute_result"
    }
   ],
   "source": [
    "random_sol(5)"
   ]
  },
  {
   "cell_type": "code",
   "execution_count": 31,
   "metadata": {},
   "outputs": [
    {
     "data": {
      "text/plain": [
       "([3, 2, 1], [2, 1, 3])"
      ]
     },
     "execution_count": 31,
     "metadata": {},
     "output_type": "execute_result"
    }
   ],
   "source": [
    "crossover([1, 3, 2], [3, 1, 2])"
   ]
  },
  {
   "cell_type": "code",
   "execution_count": 32,
   "metadata": {},
   "outputs": [
    {
     "data": {
      "text/plain": [
       "[1, 2]"
      ]
     },
     "execution_count": 32,
     "metadata": {},
     "output_type": "execute_result"
    }
   ],
   "source": [
    "Permutation([1,2], [2,1])"
   ]
  },
  {
   "cell_type": "code",
   "execution_count": 33,
   "metadata": {},
   "outputs": [
    {
     "data": {
      "text/plain": [
       "2"
      ]
     },
     "execution_count": 33,
     "metadata": {},
     "output_type": "execute_result"
    }
   ],
   "source": [
    "distance([1, 3, 2], [3, 1, 2])"
   ]
  },
  {
   "cell_type": "code",
   "execution_count": 34,
   "metadata": {},
   "outputs": [
    {
     "data": {
      "text/plain": [
       "(1.33333333333333, 3.20000000000000)"
      ]
     },
     "execution_count": 34,
     "metadata": {},
     "output_type": "execute_result"
    }
   ],
   "source": [
    "P = matrix([[1, 4, 2, 3], [2, 1, 3, 4]])\n",
    "tau = 0.8\n",
    "actualizar(P, tau)"
   ]
  },
  {
   "cell_type": "code",
   "execution_count": null,
   "metadata": {},
   "outputs": [],
   "source": []
  }
 ],
 "metadata": {
  "kernelspec": {
   "display_name": "SageMath 9.3",
   "language": "sage",
   "name": "sagemath"
  },
  "language_info": {
   "codemirror_mode": {
    "name": "ipython",
    "version": 3
   },
   "file_extension": ".py",
   "mimetype": "text/x-python",
   "name": "python",
   "nbconvert_exporter": "python",
   "pygments_lexer": "ipython3",
   "version": "3.7.10"
  }
 },
 "nbformat": 4,
 "nbformat_minor": 4
}
